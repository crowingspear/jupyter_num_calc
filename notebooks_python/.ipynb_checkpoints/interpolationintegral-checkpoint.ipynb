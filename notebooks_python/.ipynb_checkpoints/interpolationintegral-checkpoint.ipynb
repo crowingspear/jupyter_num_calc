{
 "cells": [
  {
   "cell_type": "markdown",
   "metadata": {
    "toc": "true"
   },
   "source": [
    "# Table of Contents\n",
    " <p><div class=\"lev1 toc-item\"><a href=\"#概要:補間と近似\" data-toc-modified-id=\"概要:補間と近似-1\"><span class=\"toc-item-num\">1&nbsp;&nbsp;</span>概要:補間と近似</a></div><div class=\"lev1 toc-item\"><a href=\"#多項式補間(polynomial-interpolation)\" data-toc-modified-id=\"多項式補間(polynomial-interpolation)-2\"><span class=\"toc-item-num\">2&nbsp;&nbsp;</span>多項式補間(polynomial interpolation)</a></div><div class=\"lev2 toc-item\"><a href=\"#Mapleによる多項式補間の実例\" data-toc-modified-id=\"Mapleによる多項式補間の実例-21\"><span class=\"toc-item-num\">2.1&nbsp;&nbsp;</span>Mapleによる多項式補間の実例</a></div><div class=\"lev3 toc-item\"><a href=\"#python-code\" data-toc-modified-id=\"python-code-211\"><span class=\"toc-item-num\">2.1.1&nbsp;&nbsp;</span>python code</a></div><div class=\"lev1 toc-item\"><a href=\"#Lagrange(ラグランジュ)-の内挿公式\" data-toc-modified-id=\"Lagrange(ラグランジュ)-の内挿公式-3\"><span class=\"toc-item-num\">3&nbsp;&nbsp;</span>Lagrange(ラグランジュ) の内挿公式</a></div><div class=\"lev1 toc-item\"><a href=\"#Newton(ニュートン)-の差分商公式\" data-toc-modified-id=\"Newton(ニュートン)-の差分商公式-4\"><span class=\"toc-item-num\">4&nbsp;&nbsp;</span>Newton(ニュートン) の差分商公式</a></div><div class=\"lev2 toc-item\"><a href=\"#Newton補間と多項式補間の一致の検証\" data-toc-modified-id=\"Newton補間と多項式補間の一致の検証-41\"><span class=\"toc-item-num\">4.1&nbsp;&nbsp;</span>Newton補間と多項式補間の一致の検証</a></div><div class=\"lev1 toc-item\"><a href=\"#数値積分-(Numerical-integration)\" data-toc-modified-id=\"数値積分-(Numerical-integration)-5\"><span class=\"toc-item-num\">5&nbsp;&nbsp;</span>数値積分 (Numerical integration)</a></div><div class=\"lev2 toc-item\"><a href=\"#中点則-(midpoint-rule)\" data-toc-modified-id=\"中点則-(midpoint-rule)-51\"><span class=\"toc-item-num\">5.1&nbsp;&nbsp;</span>中点則 (midpoint rule)</a></div><div class=\"lev2 toc-item\"><a href=\"#台形則-(trapezoidal-rule)\" data-toc-modified-id=\"台形則-(trapezoidal-rule)-52\"><span class=\"toc-item-num\">5.2&nbsp;&nbsp;</span>台形則 (trapezoidal rule)</a></div><div class=\"lev2 toc-item\"><a href=\"#Simpson(シンプソン)則\" data-toc-modified-id=\"Simpson(シンプソン)則-53\"><span class=\"toc-item-num\">5.3&nbsp;&nbsp;</span>Simpson(シンプソン)則</a></div><div class=\"lev1 toc-item\"><a href=\"#数値積分のコード\" data-toc-modified-id=\"数値積分のコード-6\"><span class=\"toc-item-num\">6&nbsp;&nbsp;</span>数値積分のコード</a></div><div class=\"lev4 toc-item\"><a href=\"#Midpoint-rule(中点法)\" data-toc-modified-id=\"Midpoint-rule(中点法)-6001\"><span class=\"toc-item-num\">6.0.0.1&nbsp;&nbsp;</span>Midpoint rule(中点法)</a></div><div class=\"lev4 toc-item\"><a href=\"#Trapezoidal-rule(台形公式)\" data-toc-modified-id=\"Trapezoidal-rule(台形公式)-6002\"><span class=\"toc-item-num\">6.0.0.2&nbsp;&nbsp;</span>Trapezoidal rule(台形公式)</a></div><div class=\"lev4 toc-item\"><a href=\"#Simpson's-rule(シンプソンの公式)\" data-toc-modified-id=\"Simpson's-rule(シンプソンの公式)-6003\"><span class=\"toc-item-num\">6.0.0.3&nbsp;&nbsp;</span>Simpson's rule(シンプソンの公式)</a></div><div class=\"lev1 toc-item\"><a href=\"#課題\" data-toc-modified-id=\"課題-7\"><span class=\"toc-item-num\">7&nbsp;&nbsp;</span>課題</a></div><div class=\"lev2 toc-item\"><a href=\"#補間と近似の違い\" data-toc-modified-id=\"補間と近似の違い-71\"><span class=\"toc-item-num\">7.1&nbsp;&nbsp;</span>補間と近似の違い</a></div><div class=\"lev2 toc-item\"><a href=\"#補間法\" data-toc-modified-id=\"補間法-72\"><span class=\"toc-item-num\">7.2&nbsp;&nbsp;</span>補間法</a></div><div class=\"lev2 toc-item\"><a href=\"#ラグランジュ補間\" data-toc-modified-id=\"ラグランジュ補間-73\"><span class=\"toc-item-num\">7.3&nbsp;&nbsp;</span>ラグランジュ補間</a></div><div class=\"lev2 toc-item\"><a href=\"#対数関数のニュートンの差分商補間(2014期末試験，25点)\" data-toc-modified-id=\"対数関数のニュートンの差分商補間(2014期末試験，25点)-74\"><span class=\"toc-item-num\">7.4&nbsp;&nbsp;</span>対数関数のニュートンの差分商補間(2014期末試験，25点)</a></div><div class=\"lev3 toc-item\"><a href=\"#差分商補間の表中の開いている箇所[-XXX-]を埋めよ．\" data-toc-modified-id=\"差分商補間の表中の開いている箇所[-XXX-]を埋めよ．-741\"><span class=\"toc-item-num\">7.4.1&nbsp;&nbsp;</span>差分商補間の表中の開いている箇所[ XXX ]を埋めよ．</a></div><div class=\"lev3 toc-item\"><a href=\"#ニュートンの二次多項式\" data-toc-modified-id=\"ニュートンの二次多項式-742\"><span class=\"toc-item-num\">7.4.2&nbsp;&nbsp;</span>ニュートンの二次多項式</a></div><div class=\"lev3 toc-item\"><a href=\"#ニュートンの三次多項式の値を求めよ．\" data-toc-modified-id=\"ニュートンの三次多項式の値を求めよ．-743\"><span class=\"toc-item-num\">7.4.3&nbsp;&nbsp;</span>ニュートンの三次多項式の値を求めよ．</a></div><div class=\"lev2 toc-item\"><a href=\"#ラグランジュ補間\" data-toc-modified-id=\"ラグランジュ補間-75\"><span class=\"toc-item-num\">7.5&nbsp;&nbsp;</span>ラグランジュ補間</a></div><div class=\"lev2 toc-item\"><a href=\"#数値積分(I)\" data-toc-modified-id=\"数値積分(I)-76\"><span class=\"toc-item-num\">7.6&nbsp;&nbsp;</span>数値積分(I)</a></div><div class=\"lev2 toc-item\"><a href=\"#数値積分(II)\" data-toc-modified-id=\"数値積分(II)-77\"><span class=\"toc-item-num\">7.7&nbsp;&nbsp;</span>数値積分(II)</a></div><div class=\"lev1 toc-item\"><a href=\"#解答例\" data-toc-modified-id=\"解答例-8\"><span class=\"toc-item-num\">8&nbsp;&nbsp;</span>解答例</a></div><div class=\"lev2 toc-item\"><a href=\"#解答例[2.]\" data-toc-modified-id=\"解答例[2.]-81\"><span class=\"toc-item-num\">8.1&nbsp;&nbsp;</span>解答例[2.]</a></div><div class=\"lev2 toc-item\"><a href=\"#解答例[6.]\" data-toc-modified-id=\"解答例[6.]-82\"><span class=\"toc-item-num\">8.2&nbsp;&nbsp;</span>解答例[6.]</a></div>"
   ]
  },
  {
   "cell_type": "markdown",
   "metadata": {},
   "source": [
    "<br />\n",
    "\n",
    "<div style=\"text-align: center;\">\n",
    "<font size=\"7\">補間(interpolation)と数値積分(Integral)</font>\n",
    "</div>\n",
    "<br />\n",
    "<div style=\"text-align: right;\">\n",
    "<font size=\"4\">file:/Users/bob/Github/TeamNishitani/jupyter_num_calc/interpolationintegral</font>\n",
    "<br />\n",
    "<font size=\"4\">https://github.com/daddygongon/jupyter_num_calc/tree/master/notebooks_python</font>\n",
    "<br />\n",
    "<font size=\"4\">cc by Shigeto R. Nishitani 2017 </font>\n",
    "</div>\n",
    "\n",
    "\n",
    "\n",
    "\n"
   ]
  },
  {
   "cell_type": "markdown",
   "metadata": {},
   "source": [
    "# 概要:補間と近似\n"
   ]
  },
  {
   "cell_type": "markdown",
   "metadata": {},
   "source": [
    "\n",
    "単純な2次元データについて補間と近似を考える．補間はたんに点をつなぐことを，近似はある関数にできるだけ近くなるようにフィットすることを言う．補間はIllustratorなどのドロー系ツールで曲線を引くときの，ベジエやスプライン補間の基本となる．本章では補間とそれに密接に関連した積分について述べる．\n",
    "\n"
   ]
  },
  {
   "cell_type": "markdown",
   "metadata": {},
   "source": [
    "# 多項式補間(polynomial interpolation)\n"
   ]
  },
  {
   "cell_type": "markdown",
   "metadata": {},
   "source": [
    "\n",
    "データを単純に多項式で補間する方法を先ず示そう．$N+1$点をN次の多項式でつなぐ．この場合の補間関数は，\n",
    "\n",
    "$$\n",
    "F \\left(x \\right)={\\sum_{i=0}^{N} } a _{i }x ^{i }=a_{0}+a_{1}x +a_{2}x^{2}+\\cdots +a_{N}x^{N}\n",
    "$$\n",
    "である．データの点を$(x_{i},\\,y_{i}),i=0..N$とすると\n",
    "\n",
    "$$\n",
    "\\begin{array}{cl}\n",
    "a _{0}+a _{1}x _{0}+a _{2}x _{0}^{2}+\\cdots +a _{N }x _{0}^{N }& =y _{0}\\\\\n",
    "a _{0}+a _{1}x _{1}+a _{2}x _{1}^{2}+\\cdots +a _{N }x _{1}^{N }& =y _{1}\\\\\n",
    "\\vdots& \\\\\n",
    "a _{0}+a _{1}x _{N}+a _{2}x _{N}^{2}+\\cdots +a _{N }x _{N}^{N }& =y _{N}\n",
    "\\end{array}\n",
    "$$\n",
    "が，係数 $a_i$を未知数と見なした線形の連立方程式となっている．係数行列は\n",
    "\n",
    "$$\n",
    "A=\\left[\n",
    "\\begin{array}{ccccc}\n",
    "1&x_0&x_0^2&\\cdots&x_0^N \\\\\n",
    "1&x_1&x_1^2&\\cdots&x_1^N \\\\\n",
    "\\vdots& & & & \\vdots \\\\\n",
    "1&x_N&x_N^2&\\cdots&x_N^N \n",
    "\\end{array} \\right]\n",
    "$$\n",
    "となる．$a_i$と$y_i$をそれぞれベクトルとみなすと\n",
    "\n",
    "|　　　　　　　　　　　　　　　|\n",
    "\n",
    "により未知数ベクトル$a_i$が求まる．これは単純に，前に紹介した Gauss の消去法や LU 分解で解ける．\n",
    "\n",
    "\n"
   ]
  },
  {
   "cell_type": "markdown",
   "metadata": {},
   "source": [
    "## Mapleによる多項式補間の実例 \n"
   ]
  },
  {
   "cell_type": "markdown",
   "metadata": {},
   "source": [
    "```maple\n",
    "> restart; X:=[0,1,2,3]: Y:=[1,2,3,-2]:\n",
    "> with(LinearAlgebra):\n",
    "> list1:=[X,Y];\n",
    "```\n",
    "$$\n",
    "{\\it list1}\\, := \\,[[0,1,2,3],[1,2,3,-2]]\n",
    "$$\n",
    "```maple\n",
    "> with(plots):\n",
    "  l1p:=listplot(Transpose(Matrix(list1))):\n",
    "  display(l1p);\n",
    "```\n",
    "\n",
    "![C7_InterpolationIntegralplot2d1.png](figs/C7_InterpolationIntegralplot2d1.png)\n",
    "\n",
    "\n",
    "```maple\n",
    "> A:=Matrix(4,4): \n",
    "  for i from 1 to 4 do \n",
    "    for j from 1 to 4 do \n",
    "      A[i,j]:=X[i]^(j-1);\n",
    "    end do; \n",
    "  end do:\n",
    "  A;\n",
    "```\n",
    "$$\n",
    "\\left[ \\begin {array}{cccc} 1&0&0&0\\\\ 1&1&1&1\\\\ 1&2&4&8\\\\ 1&3&9&27\\end {array} \\right]\n",
    "$$\n",
    "\n",
    "```maple\n",
    "> a1:=MatrixInverse(A).Vector(Y);\n",
    "```\n",
    "$$\n",
    "{\\it a1}\\, := \\, \\left[ \\begin {array}{c} 1\\\\ -1\\\\ 3\\\\ -1\\end {array} \\right]\n",
    "$$\n",
    "```maple\n",
    "> f1:=unapply(add(a1[ii]*x^(ii-1),ii=1..4),x);\n",
    "```\n",
    "$$\n",
    "{\\it f1}\\, := \\,x\\mapsto 1-x+3\\,{x}^{2}-{x}^{3}\n",
    "$$\n",
    "```maple\n",
    "> f1p:=plot(f1(x),x=0..3): \n",
    "  l1p:=listplot(Transpose(Matrix(list1))):\n",
    "  display(f1p,l1p);\n",
    "```\n",
    "\n",
    "![C7_InterpolationIntegralplot2d2.png](figs/C7_InterpolationIntegralplot2d2.png)\n",
    "\n",
    "\n",
    "\n"
   ]
  },
  {
   "cell_type": "markdown",
   "metadata": {},
   "source": [
    "# Lagrange(ラグランジュ) の内挿公式\n"
   ]
  },
  {
   "cell_type": "markdown",
   "metadata": {},
   "source": [
    "\n",
    "多項式補間は手続きが簡単であるため，計算間違いが少なく，プログラムとして組むのに適している．しかし，あまり\"みとうし\"のよい方法とはいえない．その点，Lagrange(ラグランジュ)の内挿公式は見通しがよい．これは\n",
    "\n",
    "$$\n",
    "F(x)= \\sum_{k=0}^N \\frac{ \\prod_{j \\ne k} (x-x_j)}\n",
    "{ \\prod_{j \\ne k} (x_k-x_j)} y_k\n",
    "=\\sum_{k=0}^N \\frac{ \\frac{ (x-x_0)(x-x_1)\\cdots(x-x_N)}{ (x-x_k)}}\n",
    "{\\frac{ (x_k-x_0)(x_k-x_1)\\cdots(x_k-x_N)}{ (x_k-x_k)}} y_k\n",
    "$$\n",
    "と表わされる．数学的に 2つ目の表記は間違っているが，先に割り算を実行すると読み取って欲しい．これは一見複雑に見えるが，単純な発想から出発している．求めたい関数$F(x)$を\n",
    "\n",
    "$$\n",
    "F(x) = y_0 L_0(x)+y_1 L_1(x)+y_2 L_2(x)\n",
    "$$\n",
    "とすると\n",
    "\n",
    "$$\n",
    "\\begin{array}{ccc}\n",
    "L_0(x_0) = 1 &L_0(x_1) = 0 &L_0(x_2) = 0 \\\\\n",
    "L_1(x_0) = 0 &L_1(x_1) = 1 &L_1(x_2) = 0 \\\\\n",
    "L_2(x_0) = 0 &L_2(x_1) = 0 &L_2(x_2) = 1 \n",
    "\\end{array}\n",
    "$$\n",
    "となるように関数$L_i(x)$を決めればよい．これを以下のようにとればLagrangeの内挿公式となる．\n",
    "```\n",
    "\n",
    "```\n",
    "\n",
    "|　　　　　　　　　　　　　　　|\n",
    "\n",
    "\n",
    "\n"
   ]
  },
  {
   "cell_type": "markdown",
   "metadata": {},
   "source": [
    "### python code\n",
    "pythonではLagrange補間はinterpolate.lagrangeで用意されている．"
   ]
  },
  {
   "cell_type": "code",
   "execution_count": 9,
   "metadata": {},
   "outputs": [
    {
     "name": "stdout",
     "output_type": "stream",
     "text": [
      "    3     2\n",
      "-1 x + 3 x - 1 x + 1\n"
     ]
    },
    {
     "data": {
      "image/png": "[encoded data removed]",
      "text/plain": [
       "<matplotlib.figure.Figure at 0x1133fca90>"
      ]
     },
     "metadata": {},
     "output_type": "display_data"
    }
   ],
   "source": [
    "import numpy as np\n",
    "from scipy import interpolate\n",
    "import matplotlib.pyplot as plt\n",
    "\n",
    "# もとの点\n",
    "x = np.array([0,1,2,3])\n",
    "y = np.array([1,2,3,-2])\n",
    "plt.plot(x,y,color='r')\n",
    "\n",
    "# Lagrange補間\n",
    "f = interpolate.lagrange(x,y)\n",
    "print(f)\n",
    "x = np.linspace(0,3, 100)\n",
    "y = f(x)\n",
    "plt.plot(x, y, color = 'b')\n",
    "\n",
    "plt.grid()\n",
    "plt.show()"
   ]
  },
  {
   "cell_type": "markdown",
   "metadata": {},
   "source": [
    "# Newton(ニュートン) の差分商公式\n"
   ]
  },
  {
   "cell_type": "markdown",
   "metadata": {},
   "source": [
    "\n",
    "もう一つ有名なNewton(ニュートン) の内挿公式は，\n",
    "\n",
    "$$\n",
    "\\begin{array}{rc}\n",
    "F (x )&=F (x _{0})+\n",
    "(x -x _{0})f _{1}\\lfloor x_0,x_1\\rfloor+\n",
    "(x -x _{0})(x -x _{1})\n",
    "f _{2}\\lfloor x_0,x_1,x_2\\rfloor + \\\\\n",
    "& \\cdots +  \\prod_{i=0}^{n-1} (x-x_i) \\, \n",
    "f_n \\lfloor x_0,x_1,\\cdots,x_n \\rfloor\n",
    "\\end{array}\n",
    "$$\n",
    "となる．ここで$f_i \\lfloor\\, \\rfloor$ は次のような関数を意味していて，\n",
    "\n",
    "$$\n",
    "\\begin{array}{rl}\n",
    "f _{1}\\lfloor x_0,x_1\\rfloor &=  \\frac{y_1-y_0}{x_1-x_0} \\\\\n",
    "f _{2}\\lfloor x_0,x_1,x_2\\rfloor &=  \\frac{f _{1}\\lfloor x_1,x_2\\rfloor-\n",
    "f _{1}\\lfloor x_0,x_1\\rfloor}{x_2-x_0} \\\\\n",
    "\\vdots & \\\\\n",
    "f _{n}\\lfloor x_0,x_1,\\cdots,x_n\\rfloor &=  \\frac{f_{n-1}\\lfloor x_1,x_2\\cdots,x_{n}\\rfloor-\n",
    "f _{n-1}\\lfloor x_0,x_1,\\cdots,x_{n-1}\\rfloor}{x_n-x_0} \\\\\n",
    "\\end{array}\n",
    "$$\n",
    "差分商と呼ばれる．得られた多項式は，Lagrange の内挿公式で得られたものと当然一致する．Newtonの内挿公式の利点は，新たなデータ点が増えたときに，新たな項を加えるだけで，内挿式が得られる点である．\n",
    "\n",
    "\n"
   ]
  },
  {
   "cell_type": "markdown",
   "metadata": {},
   "source": [
    "## Newton補間と多項式補間の一致の検証 \n"
   ]
  },
  {
   "cell_type": "markdown",
   "metadata": {},
   "source": [
    "関数$F(x)$を$x$の多項式として展開．その時の，係数の取るべき値と，差分商で得られる値が一致．\n",
    "```maple\n",
    "> restart: F:=x->f0+(x-x0)*f1p+(x-x0)*(x-x1)*f2p;\n",
    "```\n",
    "$$\n",
    "F\\, := \\,x\\mapsto f0+ ( x-x0 ) f1p+ ( x-x0 )  ( x-x1 ) f2p\n",
    "$$\n",
    "```maple\n",
    "> F(x1); \n",
    "  sf1p:=solve(F(x1)=f1,f1p);\n",
    "```\n",
    "$$\n",
    "f0+ ( x1-x0 ) f1p \\notag \\\\\n",
    "sf1p\\, := \\,{\\frac {f0-f1}{-x1+x0}} \\notag\n",
    "$$\n",
    "f20の取るべき値の導出\n",
    "```maple\n",
    "> sf2p:=solve(F(x2)=f2,f2p); \n",
    "  fac_f2p:=factor(subs(f1p=sf1p,sf2p));\n",
    "```\n",
    "$$\n",
    "sf2p\\, :=  -{\\frac {f0+f1p\\,x2-f1p\\,x0-f2}{ ( -x2+x0 ) \n",
    "( -x2+x1 ) }} \\notag \\\\\n",
    "{\\it fac\\_f2p}\\, :=  {\\frac {f0\\,x1-x2\\,f0+x2\\,f1-x0\\,f1-f2\\,x1+f2\\,x0}{ ( -x1+x0 )  ( -x2+x0 )  ( -x2+x1 ) }} \\notag\n",
    "$$\n",
    "ニュートンの差分商公式を変形\n",
    "```maple\n",
    "> ff11:=(f0-f1)/(x0-x1); \n",
    "  ff12:=(f1-f2)/(x1-x2); \n",
    "  ff2:=(ff11-ff12)/(x0-x2);\n",
    "  fac_newton:=factor(ff2);\n",
    "```\n",
    "$$\n",
    "ff11:= { \\frac {f0-f1}{-x1+x0}} \\notag \\\\\n",
    "ff12 := { \\frac {f1-f2}{-x2+x1}} \\notag \\\\\n",
    "ff2 :=  \\frac{ { \\frac {f0-f1}{-x1+x0}}-{ \\frac {f1-f2}{-x2+x1}} }{-x2+x0 }\\notag \\\\\n",
    "{\\it fac\\_newton} := { \\frac {f0\\,x1-x2\\,f0+x2\\,f1-x0\\,f1-f2\\,x1+f2\\,x0}{ ( -x1+x0 )  ( -x2+x0 )  ( -x2+x1 ) }} \\notag \n",
    "$$\n",
    "\n",
    "二式が等しいかどうかをevalbで判定\n",
    "```maple\n",
    "> evalb(fac_f2p=fac_newton);\n",
    "```\n",
    "$$\n",
    "true\n",
    "$$\n",
    "\n",
    "\n"
   ]
  },
  {
   "cell_type": "markdown",
   "metadata": {},
   "source": [
    "# 数値積分 (Numerical integration)\n"
   ]
  },
  {
   "cell_type": "markdown",
   "metadata": {},
   "source": [
    "\n",
    "積分，\n",
    "\n",
    "$$\n",
    "I = \\int_a^b f(x) dx\n",
    "$$\n",
    "を求めよう．1次元の数値積分法では連続した領域を細かい短冊に分けて，それぞれの面積を寄せ集めることに相当する．分点の数を N とすると，\n",
    "\n",
    "$$\n",
    "\\begin{array}{c}\n",
    "x_i = a+ \\frac{b-a}{N} i = a + h \\times i \\\\\n",
    "h = \\frac{b-a}{N}\n",
    "\\end{array}\n",
    "$$\n",
    "ととれる．そうすると，もっとも単純には，\n",
    "\n",
    "$$\n",
    "I_N = \\left\\{\\sum_{i=0}^{N-1} f(x_i)\\right\\}h =\n",
    "\\left\\{\\sum_{i=0}^{N-1} f(a+i \\times h)\\right\\}h\n",
    "$$\n",
    "となる．\n",
    "\n",
    "\n",
    "|数値積分の模式図．|\n",
    "|\n",
    "\n",
    "\n",
    "\n"
   ]
  },
  {
   "cell_type": "markdown",
   "metadata": {},
   "source": [
    "## 中点則 (midpoint rule) \n"
   ]
  },
  {
   "cell_type": "markdown",
   "metadata": {},
   "source": [
    "中点法 (midpoint rule) は，短冊を左端から書くのではなく，真ん中から書くことに対応し，\n",
    "\n",
    "$$\n",
    "I_N = \\left\\{\\sum_{i=0}^{N-1}f\\left(a+\\left(i+\\frac{1}{2}\\right) \\times h\\right)\\right\\}h\n",
    "$$\n",
    "となる．\n",
    "\n"
   ]
  },
  {
   "cell_type": "markdown",
   "metadata": {},
   "source": [
    "## 台形則 (trapezoidal rule) \n"
   ]
  },
  {
   "cell_type": "markdown",
   "metadata": {},
   "source": [
    "さらに短冊の上側を斜めにして，短冊を台形にすれば精度が上がりそうに思う．\n",
    "その場合は，短冊一枚の面積$S_i$は，\n",
    "\n",
    "$$\n",
    "S_i = \\frac{f(x_i)+f(x_{i+1})}{2}h\n",
    "$$\n",
    "で求まる．これを端から端まで加えあわせると，\n",
    "\n",
    "$$\n",
    "i_N =\\sum _{i=0}^{N-1}S_i =h \\left\\{ \\frac{1}{2} f ( x_0 ) +\\sum _{i=1}^{N-1}f ( x_i ) +\\frac{1}{2} f \\left( x_N \\right)  \\right\\} \n",
    "$$\n",
    "が得られる．\n",
    "\n"
   ]
  },
  {
   "cell_type": "markdown",
   "metadata": {},
   "source": [
    "## Simpson(シンプソン)則 \n"
   ]
  },
  {
   "cell_type": "markdown",
   "metadata": {},
   "source": [
    "Simpson(シンプソン) 則では，短冊を2次関数，\n",
    "\n",
    "$$\n",
    "f(x) = ax^2+bx+c\n",
    "$$\n",
    "で近似することに対応する．こうすると，\n",
    "\n",
    "$$\n",
    "S_i=\\int _{x_i}^{x_{i+1}}f ( x )\\, {dx}=\\int _{x_i}^{x_{i+1}}(ax^2+bx+c)\\,{dx}\n",
    "$$\n",
    "\n",
    "|Simpson則の導出（数式変形）．|\n",
    "|\n",
    "\n",
    "\n",
    "\n",
    "$$\n",
    "\\frac{h}{6} \\left\\{f(x_i)+4f\\left(x_i+\\frac{h}{2}\\right)+f(x_i+h)\\right\\}\n",
    "$$\n",
    "となる．これより，\n",
    "\n",
    "$$\n",
    "I_N=\\frac{h}{6} \\left\\{ f \\left( x_0 \\right) +4\\,\\sum _{i=0}^{N-1}f \\left( x_i+\\frac{h}{2} \\right) +2\\,\\sum_{i=1}^{N-1}f \\left( x_i \\right) +f \\left( x_N \\right)  \\right\\}\n",
    "$$\n",
    "として計算できる．ただし，関数値を計算する点の数は台形則などの倍となっている．\n",
    "\n",
    "教科書によっては，分割数$N$を偶数にして，点を偶数番目 (even) と奇数番目 (odd) に分けて，\n",
    "\n",
    "$$\n",
    "I_{{N}}=\\frac{h}{3} \\left\\{ f \\left( x_{{0}} \\right) +4\\,\\sum _{i={\\it even}}^{N-2}f \\left( x_{{i}}+\\frac{h}{2} \\right) +2\\,\\sum _{i={\\it odd}}^{N-1}f \\left( x_{{i}} \\right) +f \\left( x_{{N}} \\right) \\right\\}\n",
    "$$\n",
    "としている記述があるが，同じ計算になるので誤解せぬよう．\n",
    "\n",
    "\n"
   ]
  },
  {
   "cell_type": "markdown",
   "metadata": {},
   "source": [
    "# 数値積分のコード\n"
   ]
  },
  {
   "cell_type": "code",
   "execution_count": 18,
   "metadata": {},
   "outputs": [
    {
     "data": {
      "image/png": "[encoded data removed]",
      "text/plain": [
       "<matplotlib.figure.Figure at 0x1133dbd30>"
      ]
     },
     "metadata": {},
     "output_type": "display_data"
    },
    {
     "name": "stdout",
     "output_type": "stream",
     "text": [
      "(3.1415926535897936, 3.4878684980086326e-14)\n"
     ]
    }
   ],
   "source": [
    "import matplotlib.pyplot as plt\n",
    "from scipy import integrate\n",
    "\n",
    "def func(x):\n",
    "    return 4.0/(1.0+x**2)\n",
    "\n",
    "x = np.linspace(0,3, 100)\n",
    "y = func(x)\n",
    "\n",
    "plt.plot(x, y, color = 'r')\n",
    "\n",
    "plt.grid()\n",
    "plt.show()\n",
    "\n",
    "print(integrate.quad(func, 0, 1))"
   ]
  },
  {
   "cell_type": "markdown",
   "metadata": {},
   "source": [
    "\n",
    "次の積分を例に，Mapleのコードを示す．\n",
    "\n",
    "$$\n",
    "\\int_0^1 \\frac{4}{1+x^2} \\, dx\n",
    "$$\n",
    "先ずは問題が与えられたらできるだけMapleで解いてしまう．答えをあらかじめ知っておくと間違いを見つけるのが容易．プロットしてみる．\n",
    "```maple\n",
    "> restart; \n",
    "  f1:=x->4/(1+x^2); \n",
    "  plot(f1(x),x=0..5);\n",
    "```\n",
    "$$\n",
    "{\\it f1}\\, := \\,x\\mapsto \\frac{4}{1+{x}^{2}}\n",
    "$$\n",
    "\n",
    "![C7_InterpolationIntegralplot2d3.png](figs/C7_InterpolationIntegralplot2d3.png)\n",
    "\n",
    "Mapleで解いてみる．\n",
    "```maple\n",
    ">int(f1(x),x=0..1);\n",
    "```\n",
    "$$\n",
    "\\pi\n",
    "$$\n",
    "えっと思うかも知れないが，\n",
    "```maple\n",
    ">int(1/(1+x^2),x);\n",
    "```\n",
    "$$\n",
    "arctan(x)\n",
    "$$\n",
    "となるので，納得できるでしょう．\n",
    "\n",
    "具体的にMapleでコードを示す．先ずは初期設定．\n",
    "```maple\n",
    ">N:=8: x0:=0: xn:=1: Digits:=20:\n",
    "```\n",
    "\n",
    "\n"
   ]
  },
  {
   "cell_type": "markdown",
   "metadata": {},
   "source": [
    "#### Midpoint rule(中点法) \n"
   ]
  },
  {
   "cell_type": "markdown",
   "metadata": {},
   "source": [
    "```maple\n",
    "> h:=(xn-x0)/N: S:=0: \n",
    "  for i from 0 to N-1 do \n",
    "    xi:=x0+(i+1/2)*h; \n",
    "    dS:=h*f1(xi);\n",
    "    S:=S+dS; \n",
    "  end do: \n",
    "  evalf(S);\n",
    "```\n",
    "$$\n",
    "3.1428947295916887799\n",
    "$$\n",
    "\n",
    "\n"
   ]
  },
  {
   "cell_type": "code",
   "execution_count": 26,
   "metadata": {},
   "outputs": [
    {
     "name": "stdout",
     "output_type": "stream",
     "text": [
      "3.142894729591689\n"
     ]
    }
   ],
   "source": [
    "def func(x):\n",
    "    return 4.0/(1.0+x**2)\n",
    "\n",
    "N, x0, xn = 8, 0.0, 1.0\n",
    "\n",
    "h = (xn-x0)/N\n",
    "S = 0.0\n",
    "for i in range(0, N):\n",
    "    xi = x0 + (i+0.5)*h\n",
    "    dS = h * func(xi)\n",
    "    S = S + dS\n",
    "\n",
    "print(S)"
   ]
  },
  {
   "cell_type": "markdown",
   "metadata": {},
   "source": [
    "#### Trapezoidal rule(台形公式) \n"
   ]
  },
  {
   "cell_type": "markdown",
   "metadata": {},
   "source": [
    "```maple\n",
    "> h:=(xn-x0)/N: S:=f1(x0)/2: \n",
    "  for i from 1 to N-1 do \n",
    "    xi:=x0+i*h; \n",
    "    dS:=f1(xi);\n",
    "    S:=S+dS; \n",
    "  end do: \n",
    "  S:=S+f1(xn)/2: \n",
    "  evalf(h*S);\n",
    "```\n",
    "$$\n",
    "3.1389884944910890093\n",
    "$$\n",
    "\n",
    "\n"
   ]
  },
  {
   "cell_type": "code",
   "execution_count": 39,
   "metadata": {},
   "outputs": [
    {
     "name": "stdout",
     "output_type": "stream",
     "text": [
      "1\n",
      "2\n",
      "3\n",
      "4\n",
      "5\n",
      "6\n",
      "7\n",
      "3.138988494491089\n"
     ]
    }
   ],
   "source": [
    "def func(x):\n",
    "    return 4.0/(1.0+x**2)\n",
    "\n",
    "N, x0, xn = 8, 0.0, 1.0\n",
    "\n",
    "h = (xn-x0)/N\n",
    "S = func(x0)/2.0\n",
    "for i in range(1, N):\n",
    "    xi = x0 + i*h\n",
    "    dS = func(xi)\n",
    "    S = S + dS\n",
    "    print(\"{0}\".format(i))\n",
    "\n",
    "S = S + func(xn)/2.0\n",
    "print(h*S)"
   ]
  },
  {
   "cell_type": "markdown",
   "metadata": {},
   "source": [
    "#### Simpson's rule(シンプソンの公式) \n"
   ]
  },
  {
   "cell_type": "markdown",
   "metadata": {},
   "source": [
    "```maple\n",
    "> M:=N/2: h:=(xn-x0)/(2*M): Seven:=0: Sodd:=0: \n",
    "  for i from 1 to 2*M-1 by 2 do\n",
    "    xi:=x0+i*h; \n",
    "    Sodd:=Sodd+f1(xi); \n",
    "  end do: \n",
    "  for i from 2 to 2*M-1 by 2 do\n",
    "    xi:=x0+i*h; \n",
    "    Seven:=Seven+f1(xi); \n",
    "  end do:\n",
    "  evalf(h*(f1(x0)+4*Sodd+2*Seven+f1(xn))/3);\n",
    "```\n",
    "$$\n",
    "3.1415925024587069144\n",
    "$$\n",
    "\n",
    "\n",
    "\n"
   ]
  },
  {
   "cell_type": "code",
   "execution_count": 40,
   "metadata": {},
   "outputs": [
    {
     "name": "stdout",
     "output_type": "stream",
     "text": [
      "1\n",
      "3\n",
      "5\n",
      "7\n",
      "2\n",
      "4\n",
      "6\n",
      "3.141592502458707\n"
     ]
    }
   ],
   "source": [
    "def func(x):\n",
    "    return 4.0/(1.0+x**2)\n",
    "\n",
    "N, x0, xn = 8, 0.0, 1.0\n",
    "\n",
    "M = int(N/2)\n",
    "h = (xn-x0)/N\n",
    "Seven, Sodd = 0.0, 0.0\n",
    "for i in range(1, 2*M, 2): #rangeの終わりに注意\n",
    "    xi = x0 + i*h\n",
    "    Sodd += func(xi)\n",
    "    print(\"{0}\".format(i))\n",
    "for i in range(2, 2*M, 2):\n",
    "    xi = x0 + i*h\n",
    "    Seven += func(xi)\n",
    "    print(\"{0}\".format(i))\n",
    "\n",
    "print(h*(func(x0)+4*Sodd+2*Seven+func(xn))/3)"
   ]
  },
  {
   "cell_type": "markdown",
   "metadata": {},
   "source": [
    "# 課題\n"
   ]
  },
  {
   "cell_type": "markdown",
   "metadata": {},
   "source": [
    "##  補間と近似の違い\n",
    "補間と近似の違いについて，適切な図を描いて説明せよ．"
   ]
  },
  {
   "cell_type": "markdown",
   "metadata": {},
   "source": [
    "##  補間法\n",
    "次の4点\n",
    "```maple\n",
    "x y \n",
    "0 1 \n",
    "1 2\n",
    "2 3\n",
    "3 -2\n",
    "```\n",
    "を通る多項式を以下のそれぞれの手法で求めよ．(a) 逆行列, (b)ラグランジュ補間, (c)ニュートンの差分商公式　"
   ]
  },
  {
   "cell_type": "markdown",
   "metadata": {},
   "source": [
    "## ラグランジュ補間\n",
    "次の値\n",
    "$$\n",
    "\\begin{array}{rl}\n",
    "\\tan(5^\\circ) &=0.08748866355, \\\\\n",
    "\\tan(10^\\circ) &=0.1763269807, \\\\\n",
    "\\tan(15^\\circ) &=0.2679491924\n",
    "\\end{array}\n",
    "$$\n",
    "を用いて，ラグランジュ補間法により，$\\tan(17^\\circ)$の値を推定せよ．(2008年度期末試験）"
   ]
  },
  {
   "cell_type": "markdown",
   "metadata": {},
   "source": [
    "## 対数関数のニュートンの差分商補間(2014期末試験，25点) \n",
    "\n",
    "2を底とする対数関数(Mapleでは$\\log[2](x)$)の$F(9.2)=2.219203$をニュートンの差分商補間を用いて求める．ニュートンの内挿公式は，\n",
    "\n",
    "$$\n",
    "\\begin{array}{rc}\n",
    "F (x )&=F (x _{0})+\n",
    "(x -x _{0})f _{1}\\lfloor x_0,x_1\\rfloor+\n",
    "(x -x _{0})(x -x _{1})\n",
    "f _{2}\\lfloor x_0,x_1,x_2\\rfloor + \\\\\n",
    "& \\cdots +  \\prod_{i=0}^{n-1} (x-x_i) \\, \n",
    "f_n \\lfloor x_0,x_1,\\cdots,x_n \\rfloor\n",
    "\\end{array}\n",
    "$$\n",
    "である．ここで$f_i \\lfloor\\, \\rfloor$ は次のような関数を意味していて，\n",
    "$$\n",
    "\\begin{array}{rc}\n",
    "f _{1}\\lfloor x_0,x_1\\rfloor &=&  \\frac{y_1-y_0}{x_1-x_0} \\\\\n",
    "f _{2}\\lfloor x_0,x_1,x_2\\rfloor &=&  \\frac{f _{1}\\lfloor x_1,x_2\\rfloor-\n",
    "f _{1}\\lfloor x_0,x_1\\rfloor}{x_2-x_0} \\\\\n",
    "\\vdots & \\\\\n",
    "f _{n}\\lfloor x_0,x_1,\\cdots,x_n\\rfloor &=&  \\frac{f_{n-1}\\lfloor x_1,x_2\\cdots,x_{n}\\rfloor-\n",
    "f _{n-1}\\lfloor x_0,x_1,\\cdots,x_{n-1}\\rfloor}{x_n-x_0} \n",
    "\\end{array}\n",
    "$$\n",
    "差分商と呼ばれる．$x_k=8.0,9.0,10.0,11.0$をそれぞれ選ぶと，差分商補間のそれぞれの項は以下の通りとなる．\n",
    "\n",
    "$$\n",
    "\\begin{array}{ccl|lll}\n",
    "\\hline\n",
    "k  &  x_k & y_k=F_0( x_k) &f_1\\lfloor x_k,x_{k+1}\\rfloor & f_2\\lfloor x_k,x_{k+1},x_{k+2}\\rfloor &  f_3\\lfloor x_k,x_{k+1},x_{k+2},x_{k+3}\\rfloor \\\\\n",
    "\\hline\n",
    "0  &   8.0  &  2.079442  &          &              &\\\\\n",
    "&      &     &     0.117783     &              &\\\\ \n",
    "1  &   9.0  &  2.197225  &           &       [ XXX ]      &\\\\\n",
    "&      &     &     0.105360     &              & 0.0003955000 \\\\\n",
    "2  &  10.0  &  2.302585  &           &       -0.0050250      &\\\\ \n",
    "&      &     &     0.095310    &              &\\\\ \n",
    "3  &  11.0  &  2.397895 &           &              &\\\\ \n",
    "\\hline\n",
    "\\end{array}\n",
    "$$\n",
    "それぞれの項は，例えば，\n",
    "\n",
    "$$\n",
    "f_2\\lfloor x_1,x_2,x_3 \\rfloor =\\frac{0.095310-0.105360}{11.0-9.0}=-0.0050250\n",
    "$$\n",
    "で求められる．ニュートンの差分商の一次多項式は\n",
    "\n",
    "$$\n",
    "F(x)=F_0(8.0)+(x-x_0)f_1\\lfloor x_1,x_0\\rfloor =2.079442+0.117783(9.2-8.0)=2.220782\n",
    "$$\n",
    "となる．\n",
    "\n",
    "###  差分商補間の表中の開いている箇所[ XXX ]を埋めよ．\n",
    "###  ニュートンの二次多項式\n",
    "\n",
    "$$\n",
    "F (x )=F (x _{0})+(x -x _{0})f _{1}\\lfloor x_0,x_1\\rfloor+(x -x _{0})(x -x _{1})\n",
    "f _{2}\\lfloor x_0,x_1,x_2\\rfloor\n",
    "$$\n",
    "の値を求めよ．\n",
    "###  ニュートンの三次多項式の値を求めよ．\n",
    "ただし，ここでは有効数字7桁程度はとるように．(E.クライツィグ著「数値解析」(培風館,2003), p.31, 例4改)"
   ]
  },
  {
   "cell_type": "markdown",
   "metadata": {},
   "source": [
    "##  ラグランジュ補間\n",
    "exp(0)=1.0, exp(0.1)=1.1052, exp(0.3)=1.3499の値を用いて，ラグランジュ補間法により，exp(0.2)の値を推定せよ．(2009年度期末試験）"
   ]
  },
  {
   "cell_type": "markdown",
   "metadata": {},
   "source": [
    "## 数値積分(I)\n",
    "次の関数\n",
    "\n",
    "$$\n",
    "f(x) = \\frac{4}{1+x^2}\n",
    "$$\n",
    "を$x = 0..1$で数値積分する．\n",
    "1.  $N$を2,4,8,…256ととり，$N$個の等間隔な区間にわけて中点法で求めよ．(15)\n",
    "1.  小数点以下10桁まで求めた値3.141592654との差をdXとする．dXと分割数Nとを両対数プロット(loglogplot)して比較せよ(10)\n",
    "(2008年度期末試験）"
   ]
  },
  {
   "cell_type": "markdown",
   "metadata": {},
   "source": [
    "## 数値積分(II)\n",
    "次の関数\n",
    "\n",
    "$$\n",
    "y = \\frac{1}{1+x^2}\n",
    "$$\n",
    "を$x = 0..1$で等間隔に$N+1$点とり，$N$個の区間にわけて数値積分で求める．$N$を2, 4, 8, 16, 32, 64, 128, 256と取ったときの(a)中点法, (b)台形公式, (c)シンプソン公式それぞれの収束性を比較せよ．\n",
    "\n",
    "ヒント：Maple script にあるそれぞれの数値積分法を関数 (procedure) に直して，for-loop\n",
    "で回せば楽．出来なければ，一つ一つ手で変えても OK. 両対数プロット (loglogplot) すると見やすい．"
   ]
  },
  {
   "cell_type": "markdown",
   "metadata": {},
   "source": [
    "# 解答例\n"
   ]
  },
  {
   "cell_type": "markdown",
   "metadata": {},
   "source": [
    "## 解答例[2.]\n",
    "\n",
    "少し違うデータの場合の結果を以下に示す．データの組は以下のとおり．\n",
    "```maple\n",
    "> restart;\n",
    "X:=[0,1,3,2];\n",
    "Y:=[1,2,-2,3];\n",
    "with(LinearAlgebra):\n",
    "list1:=[X,Y];\n",
    "```\n",
    "\n",
    "$$\n",
    "X\\, := \\,[0,1,3,2] \\notag \\\\\n",
    "Y\\, := \\,[1,2,-2,3] \\notag \\\\\n",
    "{\\it list1}\\, := \\,[[0,1,3,2],[1,2,-2,3]] \\notag\n",
    "$$\n",
    "グラフにすると次の通り．\n",
    "```maple\n",
    "> with(plots):\n",
    "l1p:=pointplot(Transpose(Matrix(list1))):\n",
    "display(l1p);\n",
    "```\n",
    "\n",
    "![C6_NewtonsDividedDifferenceplot2d1.png](figs/C6_NewtonsDividedDifferenceplot2d1.png)\n",
    "\n",
    "2次,3次までの関数をそれぞれF2,F3として，Newtonの差分商公式を使った関数を定義する．\n",
    "```maple\n",
    "> F2:=y0+(x-x0)*f1_01+(x-x0)*(x-x1)*f2_012;\n",
    "F3:=y0+(x-x0)*f1_01+(x-x0)*(x-x1)*f2_012+(x-x0)*(x-x1)*(x-x2)*f3_0123;\n",
    "```\n",
    "\n",
    "$$\n",
    "F2 := y0+ \\left( x-x0 \\right) f1\\_01+ \\left( x- x0 \\right)  \\left( x- x1 \\right)f2\\_012 \\notag \\\\\n",
    "F3 := y0+ \\left( x- x0 \\right)f1\\_01+ \\left( x- x0\\right)  \\left( x- x1 \\right)f2\\_012\\notag \\\\\n",
    "+ \\left( x- x0 \\right)  \\left( x-x1 \\right)  \\left( x- x2 \\right)f3\\_0123 \\notag\n",
    "$$\n",
    "差分商$f_1, f_2, f_3$の公式をそのまま書き下す．\n",
    "```maple\n",
    "> f1_01:=(y1-y0)/(x1-x0);\n",
    "f1_12:=(y2-y1)/(x2-x1);\n",
    "f1_23:=(y3-y2)/(x3-x2);\n",
    "```\n",
    "\n",
    "$$\n",
    "{\\it f1\\_01}\\, := \\,{\\frac {{\\it y1}-{\\it y0}}{{\\it x1}-{\\it x0}}} \\notag \\\\\n",
    "{\\it f1\\_12}\\, := \\,{\\frac {{\\it y2}-{\\it y1}}{{\\it x2}-{\\it x1}}}\\notag \\\\\n",
    "{\\it f1\\_23}\\, := \\,{\\frac {{\\it y3}-{\\it y2}}{{\\it x3}-{\\it x2}}}\\notag \n",
    "$$\n",
    "\n",
    "```maple\n",
    "> f2_012:=(f1_12-f1_01)/(x2-x0);\n",
    "f2_123:=(f1_23-f1_12)/(x3-x1);\n",
    "```\n",
    "\n",
    "$$\n",
    "{\\it f2\\_012}\\, := \\frac {1}{{\\it x2}-{\\it x0}} \\left( {\\frac {{\\it y2}-{\\it y1}}{{\\it x2}-{\\it x1}}}-{\\frac {{\\it y1}-{\\it y0}}{{\\it x1}-{\\it x0}}} \\right)  \\notag \\\\\n",
    "{\\it f2\\_123}\\, := \\frac {1}{{\\it x3}-{\\it x1}} \\left( {\\frac {{\\it y3}-{\\it y2}}{{\\it x3}-{\\it x2}}}-{\\frac {{\\it y2}-{\\it y1}}{{\\it x2}-{\\it x1}}} \\right)  \\notag \n",
    "$$\n",
    "\n",
    "```maple\n",
    "> f3_0123:=(f2_123-f2_012)/(x3-x0); \n",
    "```\n",
    "$$\n",
    "{\\it f3\\_0123}\\, := \\,{\\frac {1}{{\\it x3}-{\\it x0}} \\left( {\\frac {1}{{\\it x3}-{\\it x1}} \\left( {\\frac {{\\it y3}-{\\it y2}}{{\\it x3}-{\\it x2}}}-{\\frac {{\\it y2}-{\\it y1}}{{\\it x2}-{\\it x1}}} \n",
    "\\right) }-{\\frac {1}{{\\it x2}-{\\it x0}} \\left( {\\frac {{\\it y2}-{\\it y1}}{{\\it x2}-{\\it x1}}}-{\\frac {{\\it y1}-{\\it y0}}{{\\it x1}-{\\it x0}}} \\right) } \\right) } \\notag\n",
    "$$\n",
    "こうすると$F_2$は\n",
    "```maple\n",
    "F2;\n",
    "```\n",
    "\n",
    "$$\n",
    "{\\it y0}+{\\frac { \\left( x-{\\it x0} \\right)  \\left( {\\it y1}-{\\it y0} \\right) }{{\\it x1}-{\\it x0}}}+{\\frac { \\left( x-{\\it x0} \\right)  \\left( x-{\\it x1} \\right) }{{\\it x2}-{\\it x0}} \\left( {\\frac {{\\it y2}-{\\it y1}}{{\\it x2}-{\\it x1}}}-{\\frac {{\\it y1}-{\\it y0}}{{\\it x1}-{\\it x0}}} \\right) } \\notag\n",
    "$$\n",
    "となる．さて，データを追加．次の||はx0,x1,x2,x3を作る．\n",
    "```maple\n",
    "> for i from 1 to 4 do\n",
    "  x||(i-1):=X[i];\n",
    "  y||(i-1):=Y[i];\n",
    "end:\n",
    "```\n",
    "\n",
    "値を入れるとF2,F3は簡単な数式となる．\n",
    "\n",
    "```maple\n",
    "F2;\n",
    "F3;\n",
    "```\n",
    "\n",
    "$$\n",
    "1+x-x \\left( x-1 \\right) \\notag \\\\\n",
    "1+x-x \\left( x-1 \\right) -x \\left( x-1 \\right)  \\left( x-3 \\right) \\notag\n",
    "$$\n",
    "\n",
    "```maple\n",
    "> eq2:=expand(F2);\n",
    "eq3:=expand(F3);\n",
    "```\n",
    "\n",
    "$$\n",
    "{\\it eq2}\\, := \\,-{x}^{2}+2\\,x+1 \\notag \\\\\n",
    "{\\it eq3}\\, := \\,-{x}^{3}+3\\,{x}^{2}-x+1 \\notag\n",
    "$$\n",
    "これでNewtonの差分商公式による内挿関数が求まっている．プロットすると\n",
    "```maple\n",
    "> with(plots):\n",
    "l1p:=pointplot(Transpose(Matrix(list1))):\n",
    "pf2:=plot(eq2,x=0..3,color=blue):\n",
    "pf3:=plot(eq3,x=0..3):\n",
    "display(l1p,pf2,pf3);\n",
    "```\n",
    "\n",
    "![C6_NewtonsDividedDifferenceplot2d2.png](figs/C6_NewtonsDividedDifferenceplot2d2.png)\n",
    "\n",
    "となる．"
   ]
  },
  {
   "cell_type": "markdown",
   "metadata": {},
   "source": [
    "## 解答例[6.]\n",
    "\n",
    "関数を定義．\n",
    "```maple\n",
    "> restart;\n",
    "f1:=unapply(4/(1+x^2),x);\n",
    "```\n",
    "\n",
    "$$\n",
    "x \\rightarrow \\frac{4}{x^2+1}\n",
    "$$\n",
    "plotしてみる．\n",
    "```maple\n",
    "> plot(f1(x),x);\n",
    "```\n",
    "\n",
    "![C6_IntegralAppendixplot2d1.png](figs/C6_IntegralAppendixplot2d1.png)\n",
    "\n",
    "Mapleで答えを確認．\n",
    "```maple\n",
    "> int(f1(x),x=0..1);\n",
    "```\n",
    "$$\n",
    "\\pi\n",
    "$$\n",
    "\n",
    "中点公式をcopyする．幾つかの初期値を設定．\n",
    "```maple\n",
    "> N:=8: x0:=0: xn:=1: Digits:=20:\n",
    "> mid:=proc(N)\n",
    "  global x0,xn;\n",
    "  local S,i,dS,h,xi;\n",
    "  h:=(xn-x0)/N: \n",
    "  S:=0:\n",
    "  for i from 0 to N-1 do\n",
    "    xi:=x0+(i+1/2)*h;\n",
    "    dS:=h*f1(xi);\n",
    "    S:=S+dS;\n",
    "  end do:\n",
    "  evalf(S);\n",
    "end;\n",
    "```\n",
    "resultsという配列を用意して，分割点の数と中点公式で得られた結果をためていく．正しい答え($\\pi$)との差をとるが，あとでloglogplotするので，誤差の絶対値をためておく．\n",
    "```maple\n",
    "> results:=[];\n",
    "for i from 1 to 8 do\n",
    " results:=[op(results),[2^i,evalf(abs(mid(2^i)-Pi))]];\n",
    "end:\n",
    "```\n",
    "loglogplotの結果．\n",
    "```maple\n",
    "with(plots):\n",
    "loglogplot([results]);\n",
    "```\n",
    "\n",
    "![C6_IntegralAppendixplot2d2.png](figs/C6_IntegralAppendixplot2d2.png)\n",
    "\n",
    "正しい解への収束の様子が表示される．"
   ]
  },
  {
   "cell_type": "code",
   "execution_count": 69,
   "metadata": {},
   "outputs": [],
   "source": [
    "import numpy as np\n",
    "\n",
    "def func(x):\n",
    "    return 4.0/(1.0+x**2)\n",
    "\n",
    "def mid(N):\n",
    "    x0, xn = 0.0, 1.0\n",
    "\n",
    "    h = (xn-x0)/N\n",
    "    S = 0.0\n",
    "    for i in range(0, N):\n",
    "        xi = x0 + (i+0.5)*h\n",
    "        dS = h * func(xi)\n",
    "        S = S + dS\n",
    "    return S\n",
    "\n",
    "x, y = [], []\n",
    "for i in range(1,8):\n",
    "    x.append(2**i)\n",
    "    y.append(abs(mid(2**i)-np.pi))\n"
   ]
  },
  {
   "cell_type": "code",
   "execution_count": 70,
   "metadata": {},
   "outputs": [
    {
     "data": {
      "image/png": "[encoded data removed]",
      "text/plain": [
       "<matplotlib.figure.Figure at 0x11382a5f8>"
      ]
     },
     "metadata": {},
     "output_type": "display_data"
    }
   ],
   "source": [
    "plt.plot(x, y, color = 'r')\n",
    "plt.yscale('log')\n",
    "plt.grid()\n",
    "plt.show()"
   ]
  },
  {
   "cell_type": "code",
   "execution_count": 71,
   "metadata": {},
   "outputs": [
    {
     "data": {
      "image/png": "[encoded data removed]",
      "text/plain": [
       "<matplotlib.figure.Figure at 0x113660d68>"
      ]
     },
     "metadata": {},
     "output_type": "display_data"
    }
   ],
   "source": [
    "plt.plot(x, y, color = 'r')\n",
    "plt.yscale('log')\n",
    "plt.xscale('log')\n",
    "plt.grid()\n",
    "plt.show()"
   ]
  },
  {
   "cell_type": "code",
   "execution_count": null,
   "metadata": {
    "collapsed": true
   },
   "outputs": [],
   "source": []
  }
 ],
 "metadata": {
  "kernelspec": {
   "display_name": "Python 3",
   "language": "python",
   "name": "python3"
  },
  "language_info": {
   "codemirror_mode": {
    "name": "ipython",
    "version": 3
   },
   "file_extension": ".py",
   "mimetype": "text/x-python",
   "name": "python",
   "nbconvert_exporter": "python",
   "pygments_lexer": "ipython3",
   "version": "3.6.1"
  },
  "latex_envs": {
   "LaTeX_envs_menu_present": true,
   "autocomplete": true,
   "bibliofile": "biblio.bib",
   "cite_by": "apalike",
   "current_citInitial": 1,
   "eqLabelWithNumbers": true,
   "eqNumInitial": 1,
   "hotkeys": {
    "equation": "Ctrl-E",
    "itemize": "Ctrl-I"
   },
   "labels_anchors": false,
   "latex_user_defs": false,
   "report_style_numbering": false,
   "user_envs_cfg": false
  },
  "toc": {
   "colors": {
    "hover_highlight": "#DAA520",
    "navigate_num": "#000000",
    "navigate_text": "#333333",
    "running_highlight": "#FF0000",
    "selected_highlight": "#FFD700",
    "sidebar_border": "#EEEEEE",
    "wrapper_background": "#FFFFFF"
   },
   "moveMenuLeft": true,
   "nav_menu": {
    "height": "12px",
    "width": "252px"
   },
   "navigate_menu": true,
   "number_sections": true,
   "sideBar": true,
   "threshold": 4,
   "toc_cell": true,
   "toc_section_display": "block",
   "toc_window_display": true,
   "widenNotebook": false
  }
 },
 "nbformat": 4,
 "nbformat_minor": 2
}
