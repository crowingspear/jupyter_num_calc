{
 "cells": [
  {
   "cell_type": "markdown",
   "metadata": {
    "toc": "true"
   },
   "source": [
    "# Table of Contents\n",
    " <p><div class=\"lev1 toc-item\"><a href=\"#非線形最小2乗法の原理\" data-toc-modified-id=\"非線形最小2乗法の原理-1\"><span class=\"toc-item-num\">1&nbsp;&nbsp;</span>非線形最小2乗法の原理</a></div><div class=\"lev1 toc-item\"><a href=\"#具体的な手順\" data-toc-modified-id=\"具体的な手順-2\"><span class=\"toc-item-num\">2&nbsp;&nbsp;</span>具体的な手順</a></div><div class=\"lev1 toc-item\"><a href=\"#Mapleによる解法の指針\" data-toc-modified-id=\"Mapleによる解法の指針-3\"><span class=\"toc-item-num\">3&nbsp;&nbsp;</span>Mapleによる解法の指針</a></div><div class=\"lev1 toc-item\"><a href=\"#python-code\" data-toc-modified-id=\"python-code-4\"><span class=\"toc-item-num\">4&nbsp;&nbsp;</span>python code</a></div><div class=\"lev1 toc-item\"><a href=\"#Gauss-Newton法に関するメモ\" data-toc-modified-id=\"Gauss-Newton法に関するメモ-5\"><span class=\"toc-item-num\">5&nbsp;&nbsp;</span>Gauss-Newton法に関するメモ</a></div><div class=\"lev1 toc-item\"><a href=\"#課題\" data-toc-modified-id=\"課題-6\"><span class=\"toc-item-num\">6&nbsp;&nbsp;</span>課題</a></div><div class=\"lev1 toc-item\"><a href=\"#解答例\" data-toc-modified-id=\"解答例-7\"><span class=\"toc-item-num\">7&nbsp;&nbsp;</span>解答例</a></div>"
   ]
  },
  {
   "cell_type": "markdown",
   "metadata": {},
   "source": [
    "<br />\n",
    "\n",
    "<div style=\"text-align: center;\">\n",
    "<font size=\"7\">非線形最小2乗法(NonLinearFit)</font>\n",
    "</div>\n",
    "<br />\n",
    "<div style=\"text-align: right;\">\n",
    "<font size=\"4\">file:/Users/bob/Github/TeamNishitani/jupyter_num_calc/nonlinearfit</font>\n",
    "<br />\n",
    "<font size=\"4\">https://github.com/daddygongon/jupyter_num_calc/tree/master/notebooks_python</font>\n",
    "<br />\n",
    "<font size=\"4\">cc by Shigeto R. Nishitani 2017 </font>\n",
    "</div>\n"
   ]
  },
  {
   "cell_type": "markdown",
   "metadata": {},
   "source": [
    "# 非線形最小2乗法の原理\n"
   ]
  },
  {
   "cell_type": "markdown",
   "metadata": {},
   "source": [
    "\n",
    "前章では，データに近似的にフィットする最小二乗法を紹介した．ここでは，フィット式が多項式のような線形関係にない関数の最小二乗法を紹介する．図のようなデータにフィットする場合を考えよう．\n",
    "\n",
    "![C9_NonLinearFitplot2d1.png](figs/C9_NonLinearFitplot2d1.png)\n",
    "\n",
    "このデータにあてはめるのはローレンツ関数，\n",
    "\n",
    "$$\n",
    "F \\left(x;\\mathbf{a} \\right)=a _{1}+ \\frac{a _{2}}{a _{3}+\\left(x -a _{4}\\right)^{2}}\n",
    "$$\n",
    "である．この関数の特徴は，今まで見てきた関数と違いパラメータが線形関係になっていない．誤差関数は，いままでと同様に\n",
    "\n",
    "$$\n",
    "\\chi ^{2}\\left(\\mathbf{a} \\right)={\\sum_i^N }d _{i }^{2}=\\sum_i^N \\left(F \\left(x _{i };a \\right)-y _{i }\\right)^{2}\n",
    "$$\n",
    "で，$a={a_0, a_1,..}$をパラメータとして変えた時に最小となる値を求める点もかわらない．しかし，線形の最小二乗法のように微分しても一元の方程式にならず，連立方程式を単に解くだけでは求まらない．\n",
    "\n",
    "そこで図のような2次関数の最小値を求める場合を考える．最小値の点$a_0$のまわりで，Taylor展開すると，$\\mathbf{d,D}$をそれぞれの係数とすると，\n",
    "\n",
    "$$\n",
    "\\chi^2 \\left( \\mathbf{a} \\right)= \\chi^2 \\left( \\mathbf{a_0}  \\right) - \\mathbf{d} \\left(\\mathbf{a}-\\mathbf{a_0} \\right) +\\frac{1}{2} \\mathbf{D} \\left(\\mathbf{a}-\\mathbf{a_0} \\right)^{2}\n",
    "$$\n",
    "である．最小の点$a_0$は，微分が$0$になるので，\n",
    "\n",
    "$$\n",
    "\\mathbf{a _{0}}=\\mathbf{a} + \\mathbf{D} ^{-1} \\times (-\\mathbf{d})\n",
    "$$\n",
    "と予測される．図を参照して上の式を導け．またその意味を考察せよ．\n",
    "\n",
    "![C9_NonLinearFitplot2d2.png](figs/C9_NonLinearFitplot2d2.png)\n",
    "![C9_NonLinearFitplot2d3.png](figs/C9_NonLinearFitplot2d3.png)\n",
    "\n",
    "\n",
    "現実には高次項の影響で計算通りにはいかず，単に最小値の近似値を求めるだけである．これは，$ \\chi \\left(\\mathbf{a} \\right)  ^{2}$の微分関数の解をNewton法で求める操作に対応する．つまり，この操作を何度も繰り返せばいずれ解がある精度で求まるはず．\n",
    "\n",
    "\n",
    "\n"
   ]
  },
  {
   "cell_type": "markdown",
   "metadata": {},
   "source": [
    "# 具体的な手順\n"
   ]
  },
  {
   "cell_type": "markdown",
   "metadata": {},
   "source": [
    "\n",
    "\n",
    "パラメータの初期値を\n",
    "\n",
    "$$\n",
    "a_{{0}}+\\Delta\\,a,\\,b_{{0}}+\\Delta\\,b,\\,c_{{0}}+\\Delta\\,c,\\,d_{{0}}+\\Delta\\,d\n",
    "$$\n",
    "とする．このとき関数$f$を真値$a_0, b_0, c_0, d_0$のまわりでテイラー展開し，高次項を無視すると\n",
    "\n",
    "$$\n",
    "\\Delta\\,f=f \\left( a_{{0}}+\\Delta\\,a_{{1}},b_{{0}}+\\Delta\\,b_{{1}},c_{{0}}+\\Delta\\,c_{{1}},d_{{0}}+\\Delta\\,d_{{1}} \\right) -f \\left( a_{{0}},b_{{0}},c_{{0}},d_{{0}} \\right)\n",
    "$$\n",
    "\n",
    "\n",
    "$$\n",
    "=\\left(\\frac{\\partial }{\\partial a }f \\right)_{0}\\Delta a _{1}+\\left(\\frac{\\partial }{\\partial b }f \\right)_{0}\\Delta b _{1}+\\left(\\frac{\\partial }{\\partial c }f \\right)_{0}\\Delta c _{1}+\\left(\\frac{\\partial }{\\partial d }f \\right)_{0}\\Delta d _{1}\n",
    "$$\n",
    "となる．\n",
    "\n",
    "課題でつくったデータはt = 1からt = 256までの時刻に対応したデータ点$f_{1},\\,f_{2},\\,\\cdots  f_{256}$とする．各測定値とモデル関数から予想される値との差$\\Delta f_1,\\Delta f_2,\\cdots,\\Delta f_{256}$は，\n",
    "$$\n",
    "\\left(\\begin{array}{c}\\Delta f _{1} \\\\\\Delta f _{2} \\\\ \\vdots \\\\\\Delta f _{256} \\\\\\end{array}\\right)=J \\left(\\begin{array}{c}\\Delta a _{1} \\\\\\Delta b _{1} \\\\\\Delta c _{1} \\\\\\Delta d _{1} \\\\\\end{array}\\right)\n",
    "$$\n",
    "となる．ここで$J$はヤコビ行列と呼ばれる行列で，4列256行\n",
    "$$\n",
    "J =\\left(\\begin{array}{cccc}\\left(\\frac{\\partial }{\\partial a }f \\right)_{1} & \\left(\\frac{\\partial }{\\partial b }f \\right)_{1} & \\left(\\frac{\\partial }{\\partial c }f \\right)_{1} & \\left(\\frac{\\partial }{\\partial d }f \\right)_{1} \\\\ \\vdots & \\vdots  &  \\vdots & \\vdots  \\\\\\left(\\frac{\\partial }{\\partial a }f \\right)_{256} & \\left(\\frac{\\partial }{\\partial b }f \\right)_{256} & \\left(\\frac{\\partial }{\\partial c }f \\right)_{256} & \\left(\\frac{\\partial }{\\partial d }f \\right)_{256} \\\\\\end{array}\\right)\n",
    "$$\n",
    "である．このような矩形行列の逆行列は転置行列$J^T$を用いて，`\n",
    "$$\n",
    "J ^{-1}=\\left(J ^{T }J \\right)^{-1}J ^{T }\n",
    "$$\n",
    "と表わされる．したがって，真値からのずれは\n",
    "$$\n",
    "\\left(\\begin{array}{c}\\Delta a_2 \\\\\\Delta b_2 \\\\\\Delta c_2 \\\\\\Delta d_2 \\\\\\end{array}\\right)\n",
    "=\\left(J ^{T }J \\right)^{-1}J ^{T }\n",
    "\\left(\\begin{array}{c}\\Delta f _{1} \\\\\\Delta f _{2} \\\\ \\vdots \\\\\\Delta f _{256} \\\\\\end{array}\\right)\n",
    "$$\n",
    "で求められる．理想的には$(\\Delta a_2,\\,\\Delta b_2,\\,\\Delta c_2,\\,\\Delta d_2)$は$(\\Delta a,\\,\\Delta b,\\,\\Delta c,\\,\\Delta d)$に一致するはずだが，測定誤差と高次項のために一致しない．初期値に比べ，より真値に近づくだけ．そこで，新たに得られたパラメータの組を新たな初期値に用いて，より良いパラメータに近付けていくという操作を繰り返す．新たに得られたパラメータと前のパラメータとの差がある誤差以下になったところで計算を打ち切り，フィッティングの終了となる．\n",
    "\n",
    "\n"
   ]
  },
  {
   "cell_type": "markdown",
   "metadata": {},
   "source": [
    "# Mapleによる解法の指針\n"
   ]
  },
  {
   "cell_type": "markdown",
   "metadata": {},
   "source": [
    "\n",
    "線形代数計算のためにサブパッケージとしてLinearAlgebraを呼びだしておく．\n",
    "```maple\n",
    "> restart; \n",
    "  with(plots): \n",
    "  with(LinearAlgebra):\n",
    "```\n",
    "\n",
    "\n",
    "データを読み込む．\n",
    "```maple\n",
    "> ndata:=8: \n",
    "  f1:=t->subs({a1=1,a2=10,a3=1,a4=4},a1+a2/(a3+(t-a4)^2) );\n",
    "```\n",
    "$$\n",
    "{\\it f1}\\, := \\,t\\mapsto 1+10\\, \\left( 1+ \\left( t-4 \\right) ^{2} \\right) ^{-1}\n",
    "$$\n",
    "データの表示\n",
    "```maple\n",
    "> T:=[seq(f1(i),i=1..ndata)]:\n",
    "  listplot(T); \n",
    "  l1:=listplot(T):\n",
    "```\n",
    "\n",
    "![C9_NonLinearFitplot2d4.png](figs/C9_NonLinearFitplot2d4.png)\n",
    "\n",
    "\n",
    "\n",
    "ローレンツ型の関数を仮定し，関数として定義．\n",
    "```maple\n",
    "> f:=t->a1+a2/(a3+(t-a4)^2); nparam:=4:\n",
    "```\n",
    "$$\n",
    "$$\n",
    "ヤコビアンの中の微分を新たな関数として定義．\n",
    "```maple\n",
    "> for i from 1 to nparam do \n",
    "    dfda||i:=unapply(diff(f(x),a||i),x); \n",
    "  end do;\n",
    "```\n",
    "$$\n",
    "{\\it dfda1}\\, := \\,x\\mapsto 1 \\notag \\\\\n",
    "{\\it dfda2}\\, := \\,x\\mapsto  \\left( {\\it a3}+ \\left( x-{\\it a4} \\right) ^{2} \\right) ^{-1}\n",
    "\\notag \\\\\n",
    "{\\it dfda3}\\, := \\,x\\mapsto -{\\frac {{\\it a2}}{ \\left( {\\it a3}+ \\left( x-{\\it a4} \\right) ^{2} \\right) ^{2}}} \\notag \\\\\n",
    "{\\it dfda4}\\, := \\,x\\mapsto -{\\frac {{\\it a2}\\, \\left( -2\\,x+2\\,{\\it a4} \\right) }{ \\left( {\\it a3}+ \\left( x-{\\it a4} \\right) ^{2} \\right) ^{2}}}  \\notag\n",
    "$$\n",
    "ここで，\"$||$\"は連結作用素とよばれるMapleのコマンドで，$dfda||1 \\mapsto dfda1$と連結する．\n",
    "初期値を仮定して，データとともに関数を表示．\n",
    "```maple\n",
    "> g1:=Vector([1,8,1,4.5]): \n",
    "  guess1:={}: \n",
    "  for i from 1 to nparam do\n",
    "    guess1:={op(guess1),a||i=g1[i]}; \n",
    "  end do: \n",
    "  guess1;\n",
    "```\n",
    "$$\n",
    "\\left\\{ {\\it a1}=1,{\\it a2}=8,{\\it a3}=1,{\\it a4}= 4.5\\right\\}\n",
    "$$\n",
    "\n",
    "```maple\n",
    "> p1:=plot(subs(guess1,f(x)),x=1..ndata): \n",
    "  display(l1,p1);  \n",
    "```\n",
    "\n",
    "![C9_NonLinearFitplot2d5.png](figs/C9_NonLinearFitplot2d5.png)\n",
    "\n",
    "見やすいように，小数点以下を3桁表示に制限する．\n",
    "```maple\n",
    "> interface(displayprecision=3):\n",
    "> df:=Vector([seq(subs(guess1,T[i]-f(i)),i=1..ndata)]);\n",
    "```\n",
    "$$\n",
    "{\\it df}\\, := \\, \\left[ \\begin {array}{c}  0.396\\\\  0.897\\\\  2.538\\\\  3.600\\\\ - 1.400\\\\ - 0.462\\\\ - 0.103\\\\ - 0.016\\end {array} \\right]\n",
    "$$\n",
    "\n",
    "```maple\n",
    "> Jac:=Matrix(ndata,nparam): \n",
    "  for i from 1 to ndata do \n",
    "    for j from 1 to nparam do\n",
    "      Jac[i,j]:=evalf(subs(guess1,dfda||j(i))); \n",
    "    end do: \n",
    "  end do:\n",
    "  Jac;\n",
    "```\n",
    "$$\n",
    "\\left[ \\begin {array}{cccc}  1.0& 0.075&- 0.046&- 0.319\\\\  1.0& 0.138&- 0.152&- 0.761\\\\  1.0& 0.308&- 0.757&- 2.272\\\\  1.0& 0.800&- 5.120&- 5.120\\\\  1.0& 0.800&- 5.120& 5.120\\\\  1.0& 0.308&- 0.757& 2.272\\\\  1.0& 0.138&- 0.152& 0.761\\\\  1.0& 0.075&- 0.046& 0.319\\end {array} \\right]\n",
    "$$\n",
    "\n",
    "```maple\n",
    "> tJac:=(MatrixInverse(Transpose(Jac).Jac)).Transpose(Jac);\n",
    "```\n",
    "$$\n",
    "{\\it tJac}\\, := \\, \\left[ \\begin {array}{cccccccc}  0.565& 0.249&- 0.354& 0.040& 0.040&- 0.354& 0.249& 0.565\\\\ - 2.954&- 0.506& 4.012&- 0.552&- 0.552& 4.012&- 0.506&- 2.954\\\\ - 0.352&- 0.029& 0.557&- 0.176&- 0.176& 0.557&- 0.029&- 0.352\\\\ - 0.005&- 0.012&- 0.035&- 0.080& 0.080& 0.035& 0.012& 0.005\\end {array} \\right] \n",
    "$$\n",
    "\n",
    "```maple\n",
    "> g2:=tJac.df; \n",
    "  g1:=g1+g2;\n",
    "```\n",
    "$$\n",
    "{\\it g2}\\, := \\, \\left[ \\begin {array}{c} - 0.235\\\\  5.592\\\\  0.613\\\\ - 0.520\\end {array} \\right]  \\notag \\\\\n",
    "{\\it g1}\\, := \\, \\left[ \\begin {array}{c}  0.765\\\\  13.592\\\\  1.613\\\\  3.980\\end {array} \\right] \\notag\n",
    "$$\n",
    "これをまたもとの近似値(guess)に入れ直して表示させると以下のようになる．カーブがデータに近づいているのが確認できよう．この操作をずれが十分小さくなるまで繰\n",
    "り返す．\n",
    "```maple\n",
    "> guess1:={seq(a||i=g1[i],i=1..nparam)};\n",
    "  p1:=plot(subs(guess1,f(x)),x=1..ndata):\n",
    "  display(l1,p1);\n",
    "```\n",
    "$$\n",
    "guess1:=\\{a1=0.765, a2=13.592, a3=1.613, a4=3.980\\}\n",
    "$$\n",
    "\n",
    "![C9_NonLinearFitplot2d6.png](figs/C9_NonLinearFitplot2d6.png)\n",
    "\n",
    "\n",
    "4回ほど繰り返すと以下の通り，いい値に収束している．\n",
    "$$\n",
    "guess1:=\\{a1 = 1.006, a2 = 9.926, a3 = .989, a4 = 4.000\\}\n",
    "$$\n",
    "\n",
    "\n",
    "\n"
   ]
  },
  {
   "cell_type": "markdown",
   "metadata": {},
   "source": [
    "# python code"
   ]
  },
  {
   "cell_type": "code",
   "execution_count": 14,
   "metadata": {},
   "outputs": [
    {
     "data": {
      "image/png": "[encoded data removed]",
      "text/plain": [
       "<matplotlib.figure.Figure at 0x1163eb828>"
      ]
     },
     "metadata": {},
     "output_type": "display_data"
    }
   ],
   "source": [
    "import numpy as np\n",
    "import matplotlib.pyplot as plt\n",
    "from scipy.optimize import curve_fit\n",
    "\n",
    "def func(t, a1, a2, a3, a4):\n",
    "    return a1+a2/(a3+(t-a4)**2)\n",
    "\n",
    "xdata = np.linspace(0, 10, 20)\n",
    "y = func(xdata, 1, 10, 1, 4)\n",
    "y_noise = 0.2 * np.random.normal(size=xdata.size)\n",
    "ydata = y + y_noise\n",
    "plt.plot(xdata, ydata, 'b-', label='data')\n",
    "\n",
    "popt, pcov = curve_fit(func, xdata, ydata)\n",
    "plt.plot(xdata, func(xdata, *popt), 'r-', label='fit')\n",
    "plt.show()"
   ]
  },
  {
   "cell_type": "code",
   "execution_count": 25,
   "metadata": {},
   "outputs": [
    {
     "name": "stdout",
     "output_type": "stream",
     "text": [
      "[   9.82906528   40.58064292  400.           89.5944552   127.03742912]\n"
     ]
    },
    {
     "data": {
      "image/png": "[encoded data removed]",
      "text/plain": [
       "<matplotlib.figure.Figure at 0x1174dfda0>"
      ]
     },
     "metadata": {},
     "output_type": "display_data"
    }
   ],
   "source": [
    "import numpy as np\n",
    "import matplotlib.pyplot as plt\n",
    "from scipy.optimize import curve_fit\n",
    "\n",
    "# ndata:=256; \n",
    "# f1:=t->subs({a=10,b=40000,c=380,d=128},a+b/(c+(t-d)^2) );\n",
    "# f2:=t->subs({a=10,b=40000,c=380,e=90},a+b/(c+(t-e)^2) );\n",
    "\n",
    "def func(t, a1, a2, a3, a4, a5):\n",
    "    return a1+a2*1000/(a3+(t-a4)**2)+a2*1000/(a3+(t-a5)**2)\n",
    "\n",
    "xdata = np.linspace(0, 256, 256)\n",
    "y = func(xdata, 10, 40, 380, 90, 128)\n",
    "y_noise = 10 * np.random.normal(size=xdata.size)\n",
    "ydata = y + y_noise\n",
    "plt.plot(xdata, ydata, 'b-', label='data')\n",
    "\n",
    "popt, pcov = curve_fit(func, xdata, ydata, bounds=(0, [15,50,400,100,150]))\n",
    "plt.plot(xdata, func(xdata, *popt), 'r-', label='fit')\n",
    "\n",
    "print(popt)\n",
    "plt.show()\n",
    "\n"
   ]
  },
  {
   "cell_type": "code",
   "execution_count": 16,
   "metadata": {
    "collapsed": true
   },
   "outputs": [],
   "source": [
    "?curve_fit"
   ]
  },
  {
   "cell_type": "markdown",
   "metadata": {},
   "source": [
    "# Gauss-Newton法に関するメモ\n"
   ]
  },
  {
   "cell_type": "markdown",
   "metadata": {},
   "source": [
    "\n",
    "このGauss-Newton法と呼ばれる非線形最小二乗法は線形問題から拡張した方法として論理的に簡明であり，広く使われている．しかし，収束性は高くなく，むしろ発散しやすいので注意が必要．2次の項を無視するのでなく，うまく見積もる方法を用いたのがLevenberg-Marquardt法である．明快な解説がNumerical Recipes in C(Ｃ 言語による数値計算のレシピ）WilliamH.Press 他著，技術評論社1993にある．\n",
    "\n",
    "\n"
   ]
  },
  {
   "cell_type": "markdown",
   "metadata": {},
   "source": [
    "# 課題\n"
   ]
  },
  {
   "cell_type": "markdown",
   "metadata": {},
   "source": [
    "\n",
    "1.  一山ピークへのフィット\n",
    "\n",
    "以下の256個のデータ\n",
    "```maple\n",
    "> ndata:=256; f1:=t->subs({a1=10,a2=40000,a3=380,a4=128},a1+a2/(a3+(t-a4)^2) );\n",
    "> T:=[seq(f1(i)*(0.6+0.8*evalf(rand()/10^12)),i=1..ndata)]:\n",
    "> f:=t->a1+a2/(a3+(t-a4)^2);\n",
    "```\n",
    "で近似したときのパラメータa1,a2,a3,a4を求めよ．ただし，パラメータの初期値は，ある程度近い値にしないと収束しない．\n",
    "1.  二山ピークのフィット\n",
    "以下のように作成したデータ\n",
    "```maple\n",
    "> ndata:=256; f1:=t->subs({a=10,b=40000,c=380,d=128},a+b/(c+(t-d)^2) );\n",
    "> f2:=t->subs({a=10,b=40000,c=380,e=90},a+b/(c+(t-e)^2) );\n",
    "> T:=[seq((f1(i)+f2(i))*(0.6+0.2*evalf(rand()/10^12)),i=1..ndata)]:\n",
    "```\n",
    "を\n",
    "```maple\n",
    "> f:=t->a1+a2/(a3+(t-a4)^2)+a2/(a3+(t-a5)^2);\n",
    "```\n",
    "$$\n",
    "f\\, := \\,t\\mapsto {\\it a1}+{\\frac {{\\it a2}}{{\\it a3}+ \\left( t-{\\it a4} \\right) ^{2}}}+{\\frac {{\\it a2}}{{\\it a3}+ \\left( t-{\\it a5} \\right) ^{2}}}\n",
    "$$\n",
    "で近似したときのパラメータを求めよ．\n",
    "```maple\n",
    "> l1:=listplot(T): display(l1);\n",
    "```\n",
    "\n",
    "![C9_NonLinearFitplot2d8.png](figs/C9_NonLinearFitplot2d8.png)\n",
    "\n",
    "\n",
    "\n",
    "\n"
   ]
  },
  {
   "cell_type": "markdown",
   "metadata": {},
   "source": [
    "# 解答例\n"
   ]
  },
  {
   "cell_type": "markdown",
   "metadata": {},
   "source": [
    "\n",
    "2. ふた山ピークへのフィット．\n",
    "```maple\n",
    "> restart; with(plots): with(LinearAlgebra):\n",
    "> f1:=t->subs({a=10,b=40000,c=380,d=128},a+b/(c+(t-d)^2) );\n",
    "> f2:=t->subs({a=10,b=40000,c=380,e=90},a+b/(c+(t-e)^2) );\n",
    "> T:=[seq((f1(i)+f2(i))*(0.6+0.2*evalf(rand()/10^12)),i=1..256)]:\n",
    "```\n",
    "$$\n",
    "{\\it f1}\\, := \\,t\\mapsto 10+40000\\, \\left( 380+ \\left( t-128 \\right) ^{2} \\right) ^{-1} \\notag \\\\\n",
    "{\\it f2}\\, := \\,t\\mapsto 10+40000\\, \\left( 380+ \\left( t-90 \\right) ^{2} \\right) ^{-1} \\notag\n",
    "$$\n",
    "```maple\n",
    "> l1:=listplot(T):\n",
    "> f:=t->a1+a2/(a3+(t-a4)^2)+a2/(a3+(t-a5)^2); \n",
    "  nparam:=5:\n",
    "```\n",
    "$$\n",
    "f\\, := \\,t\\mapsto {\\it a1}+{\\frac {{\\it a2}}{{\\it a3}+ \\left( t-{\\it a4} \\right) ^{2}}}+{\\frac {{\\it a2}}{{\\it a3}+ \\left( t-{\\it a5} \\right) ^{2}}}\n",
    "$$\n",
    "```maple\n",
    "> for i from 1 to nparam do \n",
    "    dfda||i:=unapply(diff(f(x),a||i),x); \n",
    "  end do;\n",
    "```\n",
    "$$\n",
    "{\\it dfda1}\\, := \\,x\\mapsto 1 \\notag \\\\\n",
    "{\\it dfda2}\\, := \\,x\\mapsto  \\left( {\\it a3}+ \\left( x-{\\it a4} \\right) ^{2} \\right) ^{-1}+ \\left( {\\it a3}+ \\left( x-{\\it a5} \\right) ^{2} \\right) ^{-1} \\notag \\\\\n",
    "{\\it dfda3}\\, := \\,x\\mapsto -{\\frac {{\\it a2}}{ \\left( {\\it a3}+ \\left( x-{\\it a4} \\right) ^{2} \\right) ^{2}}}-{\\frac {{\\it a2}}{ \\left( {\\it a3}+ \\left( x-{\\it a5} \\right) ^{2} \\right) ^{2}}} \\notag \\\\\n",
    "{\\it dfda4}\\, := \\,x\\mapsto -{\\frac {{\\it a2}\\, \\left( -2\\,x+2\\,{\\it a4} \\right) }{ \\left( {\\it a3}+ \\left( x-{\\it a4} \\right) ^{2} \\right) ^{2}}} \\notag \\\\\n",
    "{\\it dfda5}\\, := \\,x\\mapsto -{\\frac {{\\it a2}\\, \\left( -2\\,x+2\\,{\\it a5} \\right) }{ \\left( {\\it a3}+ \\left( x-{\\it a5} \\right) ^{2} \\right) ^{2}}} \\notag\n",
    "$$\n",
    "\n",
    "```maple\n",
    "> g1:=Vector([10,1200,10,125,90]);\n",
    "```\n",
    "$$\n",
    "{\\it g1}\\, := \\, \\left[ \\begin {array}{c} 10\\\\ 1200\\\\ 10\\\\ 125\\\\ 90\\end {array} \\right] \n",
    "$$\n",
    "```maple\n",
    "> guess1:={seq(a||i=g1[i],i=1..nparam)};\n",
    "```\n",
    "$$\n",
    "guess1 := \\{a1 = 10, a2 = 1200, a3 = 10, a4 = 125, a5 = 90\\}\n",
    "$$\n",
    "\n",
    "```maple\n",
    "> p1:=plot(subs(guess1,f(x)),x=1..256): \n",
    "  display(l1);\n",
    "```\n",
    "\n",
    "![C9_NonLinearFitplot2d9.png](figs/C9_NonLinearFitplot2d9.png)\n",
    "\n",
    "\n",
    "```maple\n",
    "> df:=Vector([seq(subs(guess1,T[i]-f(i)),i=1..256)]):\n",
    "  Jac:=Matrix(1..256,1..nparam,sparse):\n",
    "  for i from 1 to 256 do \n",
    "    for j from 1 to nparam do\n",
    "      Jac[i,j]:=evalf(subs(guess1,dfda||j(i))); \n",
    "    end do:\n",
    "  end do:\n",
    "  tJac:=(MatrixInverse(Transpose(Jac).Jac)).Transpose(Jac):\n",
    "  g2:=tJac.df; g1:=g1+g2;\n",
    "```\n",
    "$$\n",
    "{\\it g2}\\, := \\, \\left[ \\begin {array}{c} - 0.390553882992161205\\\\  1584.55290636967129\\\\  24.9577909601538366\\\\ - 0.0472041829705451138\\\\ - 0.00719532042503852940\\end {array} \\right]  \\notag \\\\\n",
    "{\\it g1}\\, := \\, \\left[ \\begin {array}{c}  13.6348019182603064\\\\  29567.3667677707381\\\\  410.545681677467769\\\\  128.512734548828887\\\\  90.9223109918718678\\end {array} \\right] \\notag\n",
    "$$\n",
    "\n",
    "```maple\n",
    "> guess1:={seq(a||i=g1[i],i=1..nparam)};\n",
    "  p1:=plot(subs(guess1,f(x)),x=1..256):\n",
    "  display(l1,p1);\n",
    "```\n",
    "$$\n",
    "guess1 := \\{a1 = 30.251, a2 = 3854.136, a3 = 39.571, a4 = 124.800, a5 = 89.960\\}\n",
    "$$\n",
    "\n",
    "![C9_NonLinearFitplot2d10.png](figs/C9_NonLinearFitplot2d10.png)\n",
    "\n",
    "何回か繰り返せば，データ点に近づいてくるはず．\n"
   ]
  }
 ],
 "metadata": {
  "kernelspec": {
   "display_name": "Python 3",
   "language": "python",
   "name": "python3"
  },
  "language_info": {
   "codemirror_mode": {
    "name": "ipython",
    "version": 3
   },
   "file_extension": ".py",
   "mimetype": "text/x-python",
   "name": "python",
   "nbconvert_exporter": "python",
   "pygments_lexer": "ipython3",
   "version": "3.6.1"
  },
  "latex_envs": {
   "LaTeX_envs_menu_present": true,
   "autocomplete": true,
   "bibliofile": "biblio.bib",
   "cite_by": "apalike",
   "current_citInitial": 1,
   "eqLabelWithNumbers": true,
   "eqNumInitial": 1,
   "hotkeys": {
    "equation": "Ctrl-E",
    "itemize": "Ctrl-I"
   },
   "labels_anchors": false,
   "latex_user_defs": false,
   "report_style_numbering": false,
   "user_envs_cfg": false
  },
  "toc": {
   "colors": {
    "hover_highlight": "#DAA520",
    "navigate_num": "#000000",
    "navigate_text": "#333333",
    "running_highlight": "#FF0000",
    "selected_highlight": "#FFD700",
    "sidebar_border": "#EEEEEE",
    "wrapper_background": "#FFFFFF"
   },
   "moveMenuLeft": true,
   "nav_menu": {
    "height": "12px",
    "width": "252px"
   },
   "navigate_menu": true,
   "number_sections": true,
   "sideBar": true,
   "threshold": 4,
   "toc_cell": true,
   "toc_section_display": "block",
   "toc_window_display": true,
   "widenNotebook": false
  }
 },
 "nbformat": 4,
 "nbformat_minor": 2
}
