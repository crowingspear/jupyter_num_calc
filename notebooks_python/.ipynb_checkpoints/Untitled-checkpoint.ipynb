{
 "cells": [
  {
   "cell_type": "markdown",
   "metadata": {
    "toc": "true"
   },
   "source": [
    "# Table of Contents\n",
    " <p><div class=\"lev1 toc-item\"><a href=\"#pythonにおける精度制御演算\" data-toc-modified-id=\"pythonにおける精度制御演算-1\"><span class=\"toc-item-num\">1&nbsp;&nbsp;</span>pythonにおける精度制御演算</a></div>"
   ]
  },
  {
   "cell_type": "markdown",
   "metadata": {},
   "source": [
    "# pythonにおける精度制御演算\n",
    "\n",
    "pythonにはdeimcalという，10進固定及び浮動小数点数演算用のライブラリがあります．\n",
    "これを使うと，Mapleの'Digits'と同じような動きをしてくれます．"
   ]
  },
  {
   "cell_type": "code",
   "execution_count": 64,
   "metadata": {
    "collapsed": true
   },
   "outputs": [],
   "source": [
    "from decimal import *\n",
    "\n",
    "def pretty_p(result,a,b,operator):\n",
    "    print('context.prec:{}'.format(getcontext().prec))\n",
    "    print(' %20.14f' % (a))\n",
    "    print( '%1s%20.14f' % (operator, b))\n",
    "    print('-----------')\n",
    "    print( ' %20.14f' % (result))"
   ]
  },
  {
   "cell_type": "code",
   "execution_count": 62,
   "metadata": {},
   "outputs": [
    {
     "name": "stdout",
     "output_type": "stream",
     "text": [
      "context.prec:10\n",
      "     0.72365700000000\n",
      "-    0.72364900000000\n",
      "-----------\n",
      "     0.00000800000000\n",
      "context.prec:10\n",
      " 72365.69999999999709\n",
      "+    1.23659000000000\n",
      "-----------\n",
      " 72366.93658999999752\n",
      "context.prec:10\n",
      " 72365.69999999999709\n",
      "+    0.00100000000000\n",
      "-----------\n",
      " 72365.70100000000093\n"
     ]
    }
   ],
   "source": [
    "getcontext().prec = 10\n",
    "\n",
    "a=Decimal('0.723657')\n",
    "b=Decimal('0.723649')\n",
    "pretty_p(a-b,a,b,'-')\n",
    "\n",
    "a=Decimal('72365.7')\n",
    "b=Decimal('1.23659')\n",
    "pretty_p(a+b,a,b,'+')\n",
    "\n",
    "a=Decimal('72365.7')\n",
    "b=Decimal('0.001')\n",
    "pretty_p(a+b,a,b,'+')\n",
    "\n"
   ]
  },
  {
   "cell_type": "code",
   "execution_count": 65,
   "metadata": {},
   "outputs": [
    {
     "name": "stdout",
     "output_type": "stream",
     "text": [
      "context.prec:6\n",
      "     0.72365700000000\n",
      "-    0.72364900000000\n",
      "-----------\n",
      "     0.00000800000000\n",
      "context.prec:6\n",
      " 72365.69999999999709\n",
      "+    1.23659000000000\n",
      "-----------\n",
      " 72366.89999999999418\n",
      "context.prec:6\n",
      " 72365.69999999999709\n",
      "+    0.00100000000000\n",
      "-----------\n",
      " 72365.69999999999709\n"
     ]
    }
   ],
   "source": [
    "getcontext().prec = 6\n",
    "\n",
    "a=Decimal('0.723657')\n",
    "b=Decimal('0.723649')\n",
    "pretty_p(a-b,a,b,'-')\n",
    "\n",
    "a=Decimal('72365.7')\n",
    "b=Decimal('1.23659')\n",
    "pretty_p(a+b,a,b,'+')\n",
    "\n",
    "a=Decimal('72365.7')\n",
    "b=Decimal('0.001')\n",
    "pretty_p(a+b,a,b,'+')\n"
   ]
  },
  {
   "cell_type": "code",
   "execution_count": 84,
   "metadata": {},
   "outputs": [
    {
     "name": "stdout",
     "output_type": "stream",
     "text": [
      "(-100000000.0, -7.4505805969238281e-09)\n",
      "(-100000000.0, -1e-08)\n"
     ]
    }
   ],
   "source": [
    "from numpy import sqrt\n",
    "def solve_normal_formula(a,b,c):\n",
    "    x0=(-b-sqrt(b**2-4*a*c))/(2*a)\n",
    "    x1=(-b+sqrt(b**2-4*a*c))/(2*a)\n",
    "    return (x0,x1)\n",
    "\n",
    "def solve_precise_formula(a,b,c):\n",
    "    x0=(-b-sqrt(b**2-4*a*c))/(2*a)\n",
    "    x1=c/(a*x0)\n",
    "    return (x0,x1)\n",
    "\n",
    "print(solve_normal_formula(1,100000000,1))\n",
    "print(solve_precise_formula(1,100000000,1))\n"
   ]
  },
  {
   "cell_type": "code",
   "execution_count": 87,
   "metadata": {},
   "outputs": [
    {
     "name": "stdout",
     "output_type": "stream",
     "text": [
      "(Decimal('-99999999.99999999000'), Decimal('-1.0000E-8'))\n",
      "(Decimal('-99999999.99999999000'), Decimal('-1.0000000000000001000E-8'))\n",
      "(Decimal('-1.0E+8'), Decimal('0E+7'))\n",
      "(Decimal('-1.0E+8'), Decimal('-1E-8'))\n"
     ]
    }
   ],
   "source": [
    "from numpy import sqrt\n",
    "def solve_normal_formula(a,b,c):\n",
    "    x0=(-b-sqrt(b**2-4*a*c))/(2*a)\n",
    "    x1=(-b+sqrt(b**2-4*a*c))/(2*a)\n",
    "    return (x0,x1)\n",
    "\n",
    "def solve_precise_formula(a,b,c):\n",
    "    x0=(-b-sqrt(b**2-4*a*c))/(2*a)\n",
    "    x1=c/(a*x0)\n",
    "    return (x0,x1)\n",
    "\n",
    "getcontext().prec = 20\n",
    "\n",
    "print(solve_normal_formula(Decimal('1'),\n",
    "                           Decimal('100000000'),\n",
    "                           Decimal('1')))\n",
    "print(solve_precise_formula(Decimal('1'),\n",
    "                            Decimal('100000000'),\n",
    "                            Decimal('1')))\n",
    "\n",
    "getcontext().prec = 2\n",
    "\n",
    "print(solve_normal_formula(Decimal('1'),\n",
    "                           Decimal('100000000'),\n",
    "                           Decimal('1')))\n",
    "print(solve_precise_formula(Decimal('1'),\n",
    "                            Decimal('100000000'),\n",
    "                            Decimal('1')))\n",
    "\n",
    "\n"
   ]
  },
  {
   "cell_type": "code",
   "execution_count": null,
   "metadata": {
    "collapsed": true
   },
   "outputs": [],
   "source": []
  }
 ],
 "metadata": {
  "kernelspec": {
   "display_name": "Python 3",
   "language": "python",
   "name": "python3"
  },
  "language_info": {
   "codemirror_mode": {
    "name": "ipython",
    "version": 3
   },
   "file_extension": ".py",
   "mimetype": "text/x-python",
   "name": "python",
   "nbconvert_exporter": "python",
   "pygments_lexer": "ipython3",
   "version": "3.6.1"
  },
  "latex_envs": {
   "LaTeX_envs_menu_present": true,
   "autocomplete": true,
   "bibliofile": "biblio.bib",
   "cite_by": "apalike",
   "current_citInitial": 1,
   "eqLabelWithNumbers": true,
   "eqNumInitial": 1,
   "hotkeys": {
    "equation": "Ctrl-E",
    "itemize": "Ctrl-I"
   },
   "labels_anchors": false,
   "latex_user_defs": false,
   "report_style_numbering": false,
   "user_envs_cfg": false
  },
  "toc": {
   "colors": {
    "hover_highlight": "#DAA520",
    "navigate_num": "#000000",
    "navigate_text": "#333333",
    "running_highlight": "#FF0000",
    "selected_highlight": "#FFD700",
    "sidebar_border": "#EEEEEE",
    "wrapper_background": "#FFFFFF"
   },
   "moveMenuLeft": true,
   "nav_menu": {
    "height": "30px",
    "width": "252px"
   },
   "navigate_menu": true,
   "number_sections": true,
   "sideBar": true,
   "threshold": 4,
   "toc_cell": true,
   "toc_section_display": "block",
   "toc_window_display": true,
   "widenNotebook": false
  }
 },
 "nbformat": 4,
 "nbformat_minor": 2
}
