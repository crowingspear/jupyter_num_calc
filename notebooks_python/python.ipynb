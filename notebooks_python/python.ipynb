{
 "cells": [
  {
   "cell_type": "markdown",
   "metadata": {
    "toc": "true"
   },
   "source": [
    "# Table of Contents\n",
    " <p><div class=\"lev1 toc-item\"><a href=\"#libraryのimport\" data-toc-modified-id=\"libraryのimport-1\"><span class=\"toc-item-num\">1&nbsp;&nbsp;</span>libraryのimport</a></div><div class=\"lev1 toc-item\"><a href=\"#import-moduleに含まれるattributeの表示\" data-toc-modified-id=\"import-moduleに含まれるattributeの表示-2\"><span class=\"toc-item-num\">2&nbsp;&nbsp;</span>import moduleに含まれるattributeの表示</a></div>"
   ]
  },
  {
   "cell_type": "markdown",
   "metadata": {},
   "source": [
    "<br />\n",
    "\n",
    "<div style=\"text-align: center;\">\n",
    "<font size=\"7\">pythonの基本的な使い方</font>\n",
    "</div>\n",
    "<br />\n",
    "<div style=\"text-align: right;\">\n",
    "<font size=\"4\">cc 2017 by Shigeto R. Nishitani</font>\n",
    "</div>\n",
    "\n",
    "<br />"
   ]
  },
  {
   "cell_type": "markdown",
   "metadata": {
    "heading_collapsed": true
   },
   "source": [
    "# libraryのimport"
   ]
  },
  {
   "cell_type": "markdown",
   "metadata": {
    "hidden": true
   },
   "source": [
    "```python\n",
    "# エンコード指定\n",
    "# -*- coding: utf-8 -*-\n",
    "\n",
    "# モジュールのインポート\n",
    "import numpy as np\n",
    "from numpy import eigen\n",
    "from math import *  # import all functions\n",
    "\n",
    "from math import e\n",
    "from math import e as newName\n",
    "from math import (e, pi) # 複数インポートするなら括弧で囲む\n",
    "\n",
    "## from文を使うとモジュール名省略可能になる\n",
    "import math\n",
    "math.sin(60)\n",
    "\n",
    "from math import sin\n",
    "sin(60)\n",
    "```"
   ]
  },
  {
   "cell_type": "markdown",
   "metadata": {
    "heading_collapsed": true
   },
   "source": [
    "# import moduleに含まれるattributeの表示"
   ]
  },
  {
   "cell_type": "markdown",
   "metadata": {
    "hidden": true
   },
   "source": [
    "> python -c \"help('modules')\"  \n",
    "\n",
    "で表示されるが，もう少し下のattributeを見たいんですが．．．"
   ]
  },
  {
   "cell_type": "code",
   "execution_count": 18,
   "metadata": {
    "hidden": true
   },
   "outputs": [
    {
     "name": "stdout",
     "output_type": "stream",
     "text": [
      "12668\n"
     ]
    }
   ],
   "source": [
    "# -*- coding: utf-8 -*\n",
    "\n",
    "from pydoc import ModuleScanner\n",
    "\n",
    "modules = []\n",
    "\n",
    "def callback(path, modname, desc, modules=modules):\n",
    "    if modname and modname[-9:] == '.__init__':\n",
    "        modname = modname[:-9]\n",
    "    if modname not in modules:\n",
    "        modules.append(modname)\n",
    "def onerror(modname): \n",
    "    callback(None, modname, None)\n",
    "\n",
    "ModuleScanner().run(callback, onerror=onerror)\n",
    "\n",
    "print(len(modules))"
   ]
  },
  {
   "cell_type": "code",
   "execution_count": 27,
   "metadata": {
    "hidden": true
   },
   "outputs": [
    {
     "name": "stdout",
     "output_type": "stream",
     "text": [
      "mpmath.matrices.eigen\n",
      "mpmath.matrices.eigen_symmetric\n",
      "mpmath.tests.test_eigen\n",
      "mpmath.tests.test_eigen_symmetric\n",
      "networkx.algorithms.centrality.eigenvector\n",
      "scipy.sparse.linalg.eigen\n",
      "scipy.sparse.linalg.eigen.arpack\n",
      "scipy.sparse.linalg.eigen.arpack._arpack\n",
      "scipy.sparse.linalg.eigen.arpack.arpack\n",
      "scipy.sparse.linalg.eigen.arpack.setup\n",
      "scipy.sparse.linalg.eigen.lobpcg\n",
      "scipy.sparse.linalg.eigen.lobpcg.lobpcg\n",
      "scipy.sparse.linalg.eigen.lobpcg.setup\n",
      "scipy.sparse.linalg.eigen.setup\n"
     ]
    }
   ],
   "source": [
    "for mod in modules:\n",
    "    if 'eigen' in mod:\n",
    "        print(mod)"
   ]
  },
  {
   "cell_type": "code",
   "execution_count": null,
   "metadata": {
    "hidden": true
   },
   "outputs": [
    {
     "name": "stdout",
     "output_type": "stream",
     "text": [
      "\n",
      "Welcome to Python 3.6's help utility!\n",
      "\n",
      "If this is your first time using Python, you should definitely check out\n",
      "the tutorial on the Internet at http://docs.python.org/3.6/tutorial/.\n",
      "\n",
      "Enter the name of any module, keyword, or topic to get help on writing\n",
      "Python programs and using Python modules.  To quit this help utility and\n",
      "return to the interpreter, just type \"quit\".\n",
      "\n",
      "To get a list of available modules, keywords, symbols, or topics, type\n",
      "\"modules\", \"keywords\", \"symbols\", or \"topics\".  Each module also comes\n",
      "with a one-line summary of what it does; to list the modules whose name\n",
      "or summary contain a given string such as \"spam\", type \"modules spam\".\n",
      "\n",
      "help> numpy\n"
     ]
    },
    {
     "name": "stderr",
     "output_type": "stream",
     "text": [
      "IOPub data rate exceeded.\n",
      "The notebook server will temporarily stop sending output\n",
      "to the client in order to avoid crashing it.\n",
      "To change this limit, set the config variable\n",
      "`--NotebookApp.iopub_data_rate_limit`.\n"
     ]
    },
    {
     "name": "stdout",
     "output_type": "stream",
     "text": [
      "help> numpy.core\n",
      "help> numpy.vector\n",
      "No Python documentation found for 'numpy.vector'.\n",
      "Use help() to get the interactive help utility.\n",
      "Use help(str) for help on the str class.\n",
      "\n",
      "help> topics\n",
      "\n",
      "Here is a list of available topics.  Enter any topic name to get more help.\n",
      "\n",
      "ASSERTION           DELETION            LOOPING             SHIFTING\n",
      "ASSIGNMENT          DICTIONARIES        MAPPINGMETHODS      SLICINGS\n",
      "ATTRIBUTEMETHODS    DICTIONARYLITERALS  MAPPINGS            SPECIALATTRIBUTES\n",
      "ATTRIBUTES          DYNAMICFEATURES     METHODS             SPECIALIDENTIFIERS\n",
      "AUGMENTEDASSIGNMENT ELLIPSIS            MODULES             SPECIALMETHODS\n",
      "BASICMETHODS        EXCEPTIONS          NAMESPACES          STRINGMETHODS\n",
      "BINARY              EXECUTION           NONE                STRINGS\n",
      "BITWISE             EXPRESSIONS         NUMBERMETHODS       SUBSCRIPTS\n",
      "BOOLEAN             FLOAT               NUMBERS             TRACEBACKS\n",
      "CALLABLEMETHODS     FORMATTING          OBJECTS             TRUTHVALUE\n",
      "CALLS               FRAMEOBJECTS        OPERATORS           TUPLELITERALS\n",
      "CLASSES             FRAMES              PACKAGES            TUPLES\n",
      "CODEOBJECTS         FUNCTIONS           POWER               TYPEOBJECTS\n",
      "COMPARISON          IDENTIFIERS         PRECEDENCE          TYPES\n",
      "COMPLEX             IMPORTING           PRIVATENAMES        UNARY\n",
      "CONDITIONAL         INTEGER             RETURNING           UNICODE\n",
      "CONTEXTMANAGERS     LISTLITERALS        SCOPING             \n",
      "CONVERSIONS         LISTS               SEQUENCEMETHODS     \n",
      "DEBUGGING           LITERALS            SEQUENCES           \n",
      "\n",
      "help> strings\n",
      "No Python documentation found for 'strings'.\n",
      "Use help() to get the interactive help utility.\n",
      "Use help(str) for help on the str class.\n",
      "\n",
      "help> STRINGS\n",
      "String and Bytes literals\n",
      "*************************\n",
      "\n",
      "String literals are described by the following lexical definitions:\n",
      "\n",
      "   stringliteral   ::= [stringprefix](shortstring | longstring)\n",
      "   stringprefix    ::= \"r\" | \"u\" | \"R\" | \"U\" | \"f\" | \"F\"\n",
      "                    | \"fr\" | \"Fr\" | \"fR\" | \"FR\" | \"rf\" | \"rF\" | \"Rf\" | \"RF\"\n",
      "   shortstring     ::= \"'\" shortstringitem* \"'\" | '\"' shortstringitem* '\"'\n",
      "   longstring      ::= \"'''\" longstringitem* \"'''\" | '\"\"\"' longstringitem* '\"\"\"'\n",
      "   shortstringitem ::= shortstringchar | stringescapeseq\n",
      "   longstringitem  ::= longstringchar | stringescapeseq\n",
      "   shortstringchar ::= <any source character except \"\\\" or newline or the quote>\n",
      "   longstringchar  ::= <any source character except \"\\\">\n",
      "   stringescapeseq ::= \"\\\" <any source character>\n",
      "\n",
      "   bytesliteral   ::= bytesprefix(shortbytes | longbytes)\n",
      "   bytesprefix    ::= \"b\" | \"B\" | \"br\" | \"Br\" | \"bR\" | \"BR\" | \"rb\" | \"rB\" | \"Rb\" | \"RB\"\n",
      "   shortbytes     ::= \"'\" shortbytesitem* \"'\" | '\"' shortbytesitem* '\"'\n",
      "   longbytes      ::= \"'''\" longbytesitem* \"'''\" | '\"\"\"' longbytesitem* '\"\"\"'\n",
      "   shortbytesitem ::= shortbyteschar | bytesescapeseq\n",
      "   longbytesitem  ::= longbyteschar | bytesescapeseq\n",
      "   shortbyteschar ::= <any ASCII character except \"\\\" or newline or the quote>\n",
      "   longbyteschar  ::= <any ASCII character except \"\\\">\n",
      "   bytesescapeseq ::= \"\\\" <any ASCII character>\n",
      "\n",
      "One syntactic restriction not indicated by these productions is that\n",
      "whitespace is not allowed between the \"stringprefix\" or \"bytesprefix\"\n",
      "and the rest of the literal. The source character set is defined by\n",
      "the encoding declaration; it is UTF-8 if no encoding declaration is\n",
      "given in the source file; see section Encoding declarations.\n",
      "\n",
      "In plain English: Both types of literals can be enclosed in matching\n",
      "single quotes (\"'\") or double quotes (\"\"\").  They can also be enclosed\n",
      "in matching groups of three single or double quotes (these are\n",
      "generally referred to as *triple-quoted strings*).  The backslash\n",
      "(\"\\\") character is used to escape characters that otherwise have a\n",
      "special meaning, such as newline, backslash itself, or the quote\n",
      "character.\n",
      "\n",
      "Bytes literals are always prefixed with \"'b'\" or \"'B'\"; they produce\n",
      "an instance of the \"bytes\" type instead of the \"str\" type.  They may\n",
      "only contain ASCII characters; bytes with a numeric value of 128 or\n",
      "greater must be expressed with escapes.\n",
      "\n",
      "As of Python 3.3 it is possible again to prefix string literals with a\n",
      "\"u\" prefix to simplify maintenance of dual 2.x and 3.x codebases.\n",
      "\n",
      "Both string and bytes literals may optionally be prefixed with a\n",
      "letter \"'r'\" or \"'R'\"; such strings are called *raw strings* and treat\n",
      "backslashes as literal characters.  As a result, in string literals,\n",
      "\"'\\U'\" and \"'\\u'\" escapes in raw strings are not treated specially.\n",
      "Given that Python 2.x's raw unicode literals behave differently than\n",
      "Python 3.x's the \"'ur'\" syntax is not supported.\n",
      "\n",
      "New in version 3.3: The \"'rb'\" prefix of raw bytes literals has been\n",
      "added as a synonym of \"'br'\".\n",
      "\n",
      "New in version 3.3: Support for the unicode legacy literal\n",
      "(\"u'value'\") was reintroduced to simplify the maintenance of dual\n",
      "Python 2.x and 3.x codebases. See **PEP 414** for more information.\n",
      "\n",
      "A string literal with \"'f'\" or \"'F'\" in its prefix is a *formatted\n",
      "string literal*; see Formatted string literals.  The \"'f'\" may be\n",
      "combined with \"'r'\", but not with \"'b'\" or \"'u'\", therefore raw\n",
      "formatted strings are possible, but formatted bytes literals are not.\n",
      "\n",
      "In triple-quoted literals, unescaped newlines and quotes are allowed\n",
      "(and are retained), except that three unescaped quotes in a row\n",
      "terminate the literal.  (A \"quote\" is the character used to open the\n",
      "literal, i.e. either \"'\" or \"\"\".)\n",
      "\n",
      "Unless an \"'r'\" or \"'R'\" prefix is present, escape sequences in string\n",
      "and bytes literals are interpreted according to rules similar to those\n",
      "used by Standard C.  The recognized escape sequences are:\n",
      "\n",
      "+-------------------+-----------------------------------+---------+\n",
      "| Escape Sequence   | Meaning                           | Notes   |\n",
      "+===================+===================================+=========+\n",
      "| \"\\newline\"        | Backslash and newline ignored     |         |\n",
      "+-------------------+-----------------------------------+---------+\n",
      "| \"\\\\\"              | Backslash (\"\\\")                   |         |\n",
      "+-------------------+-----------------------------------+---------+\n",
      "| \"\\'\"              | Single quote (\"'\")                |         |\n",
      "+-------------------+-----------------------------------+---------+\n",
      "| \"\\\"\"              | Double quote (\"\"\")                |         |\n",
      "+-------------------+-----------------------------------+---------+\n",
      "| \"\\a\"              | ASCII Bell (BEL)                  |         |\n",
      "+-------------------+-----------------------------------+---------+\n",
      "| \"\\b\"              | ASCII Backspace (BS)              |         |\n",
      "+-------------------+-----------------------------------+---------+\n",
      "| \"\\f\"              | ASCII Formfeed (FF)               |         |\n",
      "+-------------------+-----------------------------------+---------+\n",
      "| \"\\n\"              | ASCII Linefeed (LF)               |         |\n",
      "+-------------------+-----------------------------------+---------+\n",
      "| \"\\r\"              | ASCII Carriage Return (CR)        |         |\n",
      "+-------------------+-----------------------------------+---------+\n",
      "| \"\\t\"              | ASCII Horizontal Tab (TAB)        |         |\n",
      "+-------------------+-----------------------------------+---------+\n",
      "| \"\\v\"              | ASCII Vertical Tab (VT)           |         |\n",
      "+-------------------+-----------------------------------+---------+\n",
      "| \"\\ooo\"            | Character with octal value *ooo*  | (1,3)   |\n",
      "+-------------------+-----------------------------------+---------+\n",
      "| \"\\xhh\"            | Character with hex value *hh*     | (2,3)   |\n",
      "+-------------------+-----------------------------------+---------+\n",
      "\n",
      "Escape sequences only recognized in string literals are:\n",
      "\n",
      "+-------------------+-----------------------------------+---------+\n",
      "| Escape Sequence   | Meaning                           | Notes   |\n",
      "+===================+===================================+=========+\n",
      "| \"\\N{name}\"        | Character named *name* in the     | (4)     |\n",
      "|                   | Unicode database                  |         |\n",
      "+-------------------+-----------------------------------+---------+\n",
      "| \"\\uxxxx\"          | Character with 16-bit hex value   | (5)     |\n",
      "|                   | *xxxx*                            |         |\n",
      "+-------------------+-----------------------------------+---------+\n",
      "| \"\\Uxxxxxxxx\"      | Character with 32-bit hex value   | (6)     |\n",
      "|                   | *xxxxxxxx*                        |         |\n",
      "+-------------------+-----------------------------------+---------+\n",
      "\n",
      "Notes:\n",
      "\n",
      "1. As in Standard C, up to three octal digits are accepted.\n",
      "\n",
      "2. Unlike in Standard C, exactly two hex digits are required.\n",
      "\n",
      "3. In a bytes literal, hexadecimal and octal escapes denote the\n",
      "   byte with the given value. In a string literal, these escapes\n",
      "   denote a Unicode character with the given value.\n",
      "\n",
      "4. Changed in version 3.3: Support for name aliases [1] has been\n",
      "   added.\n",
      "\n",
      "5. Exactly four hex digits are required.\n",
      "\n",
      "6. Any Unicode character can be encoded this way.  Exactly eight\n",
      "   hex digits are required.\n",
      "\n",
      "Unlike Standard C, all unrecognized escape sequences are left in the\n",
      "string unchanged, i.e., *the backslash is left in the result*.  (This\n",
      "behavior is useful when debugging: if an escape sequence is mistyped,\n",
      "the resulting output is more easily recognized as broken.)  It is also\n",
      "important to note that the escape sequences only recognized in string\n",
      "literals fall into the category of unrecognized escapes for bytes\n",
      "literals.\n",
      "\n",
      "   Changed in version 3.6: Unrecognized escape sequences produce a\n",
      "   DeprecationWarning.  In some future version of Python they will be\n",
      "   a SyntaxError.\n",
      "\n",
      "Even in a raw literal, quotes can be escaped with a backslash, but the\n",
      "backslash remains in the result; for example, \"r\"\\\"\"\" is a valid\n",
      "string literal consisting of two characters: a backslash and a double\n",
      "quote; \"r\"\\\"\" is not a valid string literal (even a raw string cannot\n",
      "end in an odd number of backslashes).  Specifically, *a raw literal\n",
      "cannot end in a single backslash* (since the backslash would escape\n",
      "the following quote character).  Note also that a single backslash\n",
      "followed by a newline is interpreted as those two characters as part\n",
      "of the literal, *not* as a line continuation.\n",
      "\n",
      "Related help topics: str, UNICODE, SEQUENCES, STRINGMETHODS, FORMATTING,TYPES\n",
      "\n"
     ]
    }
   ],
   "source": [
    "help()"
   ]
  },
  {
   "cell_type": "code",
   "execution_count": null,
   "metadata": {
    "collapsed": true,
    "hidden": true
   },
   "outputs": [],
   "source": []
  }
 ],
 "metadata": {
  "kernelspec": {
   "display_name": "Python 3",
   "language": "python",
   "name": "python3"
  },
  "language_info": {
   "codemirror_mode": {
    "name": "ipython",
    "version": 3
   },
   "file_extension": ".py",
   "mimetype": "text/x-python",
   "name": "python",
   "nbconvert_exporter": "python",
   "pygments_lexer": "ipython3",
   "version": "3.6.1"
  },
  "latex_envs": {
   "LaTeX_envs_menu_present": true,
   "autocomplete": true,
   "bibliofile": "biblio.bib",
   "cite_by": "apalike",
   "current_citInitial": 1,
   "eqLabelWithNumbers": true,
   "eqNumInitial": 1,
   "hotkeys": {
    "equation": "Ctrl-E",
    "itemize": "Ctrl-I"
   },
   "labels_anchors": false,
   "latex_user_defs": false,
   "report_style_numbering": false,
   "user_envs_cfg": false
  },
  "toc": {
   "colors": {
    "hover_highlight": "#DAA520",
    "navigate_num": "#000000",
    "navigate_text": "#333333",
    "running_highlight": "#FF0000",
    "selected_highlight": "#FFD700",
    "sidebar_border": "#EEEEEE",
    "wrapper_background": "#FFFFFF"
   },
   "moveMenuLeft": true,
   "nav_menu": {
    "height": "30px",
    "width": "252px"
   },
   "navigate_menu": true,
   "number_sections": true,
   "sideBar": true,
   "threshold": 4,
   "toc_cell": true,
   "toc_section_display": "block",
   "toc_window_display": true,
   "widenNotebook": false
  }
 },
 "nbformat": 4,
 "nbformat_minor": 2
}
