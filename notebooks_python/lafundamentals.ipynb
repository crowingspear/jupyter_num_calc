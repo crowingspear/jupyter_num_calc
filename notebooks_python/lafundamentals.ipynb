{
 "cells": [
  {
   "cell_type": "markdown",
   "metadata": {
    "toc": "true"
   },
   "source": [
    "# Table of Contents\n",
    " <p><div class=\"lev1 toc-item\"><a href=\"#行列と連立方程式\" data-toc-modified-id=\"行列と連立方程式-1\"><span class=\"toc-item-num\">1&nbsp;&nbsp;</span>行列と連立方程式</a></div><div class=\"lev2 toc-item\"><a href=\"#python注\" data-toc-modified-id=\"python注-11\"><span class=\"toc-item-num\">1.1&nbsp;&nbsp;</span>python注</a></div><div class=\"lev1 toc-item\"><a href=\"#掃き出し\" data-toc-modified-id=\"掃き出し-2\"><span class=\"toc-item-num\">2&nbsp;&nbsp;</span>掃き出し</a></div><div class=\"lev2 toc-item\"><a href=\"#python注\" data-toc-modified-id=\"python注-21\"><span class=\"toc-item-num\">2.1&nbsp;&nbsp;</span>python注</a></div><div class=\"lev1 toc-item\"><a href=\"#写像\" data-toc-modified-id=\"写像-3\"><span class=\"toc-item-num\">3&nbsp;&nbsp;</span>写像</a></div><div class=\"lev1 toc-item\"><a href=\"#固有ベクトルの幾何学的意味\" data-toc-modified-id=\"固有ベクトルの幾何学的意味-4\"><span class=\"toc-item-num\">4&nbsp;&nbsp;</span>固有ベクトルの幾何学的意味</a></div><div class=\"lev2 toc-item\"><a href=\"#python注\" data-toc-modified-id=\"python注-41\"><span class=\"toc-item-num\">4.1&nbsp;&nbsp;</span>python注</a></div><div class=\"lev2 toc-item\"><a href=\"#解答\" data-toc-modified-id=\"解答-42\"><span class=\"toc-item-num\">4.2&nbsp;&nbsp;</span>解答</a></div><div class=\"lev1 toc-item\"><a href=\"#行列式の幾何学的意味\" data-toc-modified-id=\"行列式の幾何学的意味-5\"><span class=\"toc-item-num\">5&nbsp;&nbsp;</span>行列式の幾何学的意味</a></div><div class=\"lev1 toc-item\"><a href=\"#行列式が0の写像\" data-toc-modified-id=\"行列式が0の写像-6\"><span class=\"toc-item-num\">6&nbsp;&nbsp;</span>行列式が0の写像</a></div><div class=\"lev1 toc-item\"><a href=\"#全単射\" data-toc-modified-id=\"全単射-7\"><span class=\"toc-item-num\">7&nbsp;&nbsp;</span>全単射</a></div><div class=\"lev2 toc-item\"><a href=\"#代数方程式a-x-=bの解の存在性．\" data-toc-modified-id=\"代数方程式a-x-=bの解の存在性．-71\"><span class=\"toc-item-num\">7.1&nbsp;&nbsp;</span>代数方程式$a x =b$の解の存在性．</a></div><div class=\"lev1 toc-item\"><a href=\"#課題\" data-toc-modified-id=\"課題-8\"><span class=\"toc-item-num\">8&nbsp;&nbsp;</span>課題</a></div>"
   ]
  },
  {
   "cell_type": "markdown",
   "metadata": {},
   "source": [
    "<br />\n",
    "\n",
    "<div style=\"text-align: center;\">\n",
    "<font size=\"7\">線形代数-写像</font>\n",
    "</div>\n",
    "<br />\n",
    "<div style=\"text-align: right;\">\n",
    "<font size=\"4\">file:/Users/bob/Github/TeamNishitani/jupyter_num_calc/lafundamentals</font>\n",
    "<br />\n",
    "<font size=\"4\">https://github.com/daddygongon/jupyter_num_calc/tree/master/notebooks_python</font>\n",
    "<br />\n",
    "<font size=\"4\">cc by Shigeto R. Nishitani 2017 </font>\n",
    "</div>\n"
   ]
  },
  {
   "cell_type": "markdown",
   "metadata": {},
   "source": [
    "# 行列と連立方程式\n"
   ]
  },
  {
   "cell_type": "markdown",
   "metadata": {},
   "source": [
    "\n",
    "大学の理系で必修なのは微積分と線形代数です．線形代数というと逆行列と固有値の計算がすぐに思い浮かぶでしょう．計算がややこしくてそれだけでいやになります．でも，行列の計算法は一連の手順で記述できるので，Mapleでは微積分とおなじように一個のコマンドで片が付きます．それが3x3以上でも同じです．問題はその意味です．ここでは，線形代数の計算がMapleを使えばどれほど簡単にできるかを示すと共に，線形代数の基本となる概念についてスクリプトと描画を使って，直観的に理解することを目的とします．\n",
    "\n",
    "先ずは連立方程式から入っていきます．中学の時に\n",
    "\n",
    "$$\n",
    "4x = 2\n",
    "$$\n",
    "というのを解きますよね．一般的には\n",
    "\n",
    "$$\n",
    "\\begin {array}{rl}\n",
    "ax &= b \\\\\n",
    "x &= b/a\n",
    "\\end {array}\n",
    "$$\n",
    "と書けるというのは皆さんご存知のはず．これと同じようにして連立方程式を書こうというのが逆行列の基本．つまり\n",
    "\n",
    "$$\n",
    "\\begin {array}{rrl}\n",
    "2x\\, + &5y &=7 \\\\\n",
    "4x\\, + &y &=5\n",
    "\\end {array}\n",
    "$$\n",
    "という連立方程式は，係数から作られる2x2行列を係数行列$A$，左辺の値で作るベクトルを$b$として，\n",
    "\n",
    "$$\n",
    "\\begin {array}{rll}\n",
    "Ax &= b & \\\\\n",
    "x &= b/A &= A^{-1}b\n",
    "\\end {array}\n",
    "$$\n",
    "としたいわけです．\n",
    "\n",
    "実際にMapleでやってみましょう．行列は英語でMatrixです．\n",
    "```maple\n",
    "> restart: A:=Matrix([[2,5],[4,1]]); \n",
    "```\n",
    "$$\n",
    "A\\, := \\, \\left[ \\begin {array}{cc} 2&5\\\\ 4&1\\end {array} \\right]\n",
    "$$\n",
    "こうして行列を作ります．\n",
    "\n",
    "```maple\n",
    "> b:=Vector([7,5]); #(2)ベクトルは英語でVectorです．これで縦ベクトルができます．\n",
    "```\n",
    "$$\n",
    "b\\, := \\, \\left[ \\begin {array}{c} 7\\\\ 5\\end {array} \\right]\n",
    "$$\n",
    "線形代数はlinear algebraと言います．withでLinearAlgebraというライブラリーパッケージを読み込んでおきます．\n",
    "```maple\n",
    "> with(LinearAlgebra): \n",
    "```\n",
    "逆行列はmatrix inverseと言います．\n",
    "```maple\n",
    "> x0:=MatrixInverse(A).b;\n",
    "```\n",
    "行列AのMatrixInverseを求めて，ベクトルbに掛けています．\n",
    "$$\n",
    "{\\it x0}\\, := \\, \\left[ \\begin {array}{c} 1\\\\ 1\\end {array} \\right] \n",
    "$$\n",
    "と簡単に求めることができます．\n",
    "\n",
    "\n"
   ]
  },
  {
   "cell_type": "markdown",
   "metadata": {},
   "source": [
    "## python注\n",
    "\n",
    "線形代数の問題をpythonで扱うには，scipyに用意されているlinalgパッケージを使うのが現在主流．numpyにある線形代数関数をすべてカバーしているから．以下にmapleとの相違点を列挙する．\n",
    "\n",
    "* 係数行列と定数項をよせるのにはhstack(横重ね)を利用．ただし，bは縦ベクトルにしておく．横ベクトルを縦ベクトルに帰るのは少し難しい．\n",
    "* dot計算は明示的に\n",
    "* pprintはきれいかな．\n",
    "``` python\n",
    "import pprint\n",
    "import scipy.linalg as linalg   # SciPy Linear Algebra Library\n",
    "import numpy as np\n",
    "```\n",
    "を忘れずに．"
   ]
  },
  {
   "cell_type": "code",
   "execution_count": 12,
   "metadata": {},
   "outputs": [
    {
     "name": "stdout",
     "output_type": "stream",
     "text": [
      "array([[2, 5],\n",
      "       [4, 1]])\n",
      "array([7, 5])\n",
      "array([ 1.,  1.])\n",
      "array([[-0.05555556,  0.27777778],\n",
      "       [ 0.22222222, -0.11111111]])\n",
      "array([ 1.,  1.])\n"
     ]
    }
   ],
   "source": [
    "import pprint\n",
    "import numpy as np\n",
    "import scipy.linalg as linalg\n",
    "\n",
    "a = np.array([[2,5], [4,1]])\n",
    "b = np.array([7,5])\n",
    "\n",
    "pprint.pprint(a)\n",
    "pprint.pprint(b)\n",
    "\n",
    "# 連立方程式の解(Solve a linear matrix equation, or system of linear scalar equations)\n",
    "pprint.pprint(linalg.solve(a,b))\n",
    "\n",
    "# 逆行列(matrix inverse)\n",
    "inv_a = linalg.inv(a)\n",
    "pprint.pprint(inv_a)\n",
    "\n",
    "# 逆行列と，定数項(ordinate)の転置(transpose)との\n",
    "t_b = np.transpose(b)\n",
    "pprint.pprint(np.dot(inv_a,t_b))"
   ]
  },
  {
   "cell_type": "markdown",
   "metadata": {},
   "source": [
    "# 掃き出し\n"
   ]
  },
  {
   "cell_type": "markdown",
   "metadata": {},
   "source": [
    "\n",
    "係数行列$A$とベクトル$b$を足して作られる行列は拡大係数行列と呼ばれます．Mapleでは，これは\n",
    "```maple\n",
    "> <A|b>;\n",
    "```\n",
    "$$\n",
    "\\left[ \\begin {array}{ccc} 2&5&7\\\\ 4&1&5\\end {array} \\right]\n",
    "$$\n",
    "として作られます．ここから行列の掃き出し操作をおこなうには，LUDecompositionというコマンドを使います．\n",
    "```maple\n",
    "> P,L,U:=LUDecomposition(<A|b>);\n",
    "```\n",
    "$$\n",
    "P,\\,L,\\,U\\, := \\, \\left[ \\begin {array}{cc} 1&0\\\\ 0&1\\end {array} \\right] ,\\, \\left[ \\begin {array}{cc} 1&0\\\\ 2&1\\end {array} \\right] ,\\, \\left[ \\begin {array}{ccc} 2&5&7\\\\ 0&-9&-9\\end {array} \\right]\n",
    "$$\n",
    "これは，下三角行列(Lower Triangle Matrix)と上三角行列(Upper Triangle Matrix)に分解(decompose)するコマンドです．$P$行列は置換(permutation)行列を意味します．LUDecompositionだけでは，前進消去が終わっただけの状態です．そこで，後退代入までおこなうには，optionにoutput='R'をつけます．そうすると出力は，\n",
    "```maple\n",
    "> LUDecomposition(<A|b>,output='R');\n",
    "```\n",
    "$$\n",
    "\\left[ \\begin {array}{ccc} 1&0&1\\\\ 0&1&1\\end {array} \\right]\n",
    "$$\n",
    "で，$b$ベクトルの部分が解になっています．\n",
    "\n",
    "\n"
   ]
  },
  {
   "cell_type": "code",
   "execution_count": 15,
   "metadata": {},
   "outputs": [
    {
     "name": "stdout",
     "output_type": "stream",
     "text": [
      "array([[ 0.,  1.],\n",
      "       [ 1.,  0.]])\n",
      "array([[ 1. ,  0. ],\n",
      "       [ 0.5,  1. ]])\n",
      "array([[ 4. ,  1. ],\n",
      "       [ 0. ,  4.5]])\n"
     ]
    }
   ],
   "source": [
    "import scipy.linalg as linalg\n",
    "\n",
    "P, L, U = linalg.lu(a)\n",
    "\n",
    "pprint.pprint(P)\n",
    "pprint.pprint(L)\n",
    "pprint.pprint(U)"
   ]
  },
  {
   "cell_type": "markdown",
   "metadata": {},
   "source": [
    "## python注\n",
    "\n",
    "拡大係数行列はあまり使わないみたい．作れるよ．\n",
    "ここで作ろうか．．．"
   ]
  },
  {
   "cell_type": "markdown",
   "metadata": {},
   "source": [
    "# 写像\n"
   ]
  },
  {
   "cell_type": "markdown",
   "metadata": {},
   "source": [
    "\n",
    "次に，これを2次元上のグラフで見てみましょう．先ず描画に必要なライブラリーパッケージ(plotsおよびplottools)をwithで読み込んでおきます．\n",
    "```maple\n",
    "> with(plots):with(plottools): \n",
    "```\n",
    "ベクトルは，位置座標を意味するようにlistへ変換(convert)しておきます．\n",
    "```maple\n",
    "> p0:=convert(x0,list); p1:=convert(b,list); \n",
    "```\n",
    "位置p0に円(disk)を半径0.2,赤色で描きます．同じように位置p1に半径0.2，青色でdiskを描きます．もう一つ，p0からp1に向かう矢印(arrow)\n",
    "を適当な大きさで描きます．後ろの数字をいじると線の幅や矢印の大きさが変わります．\n",
    "```maple\n",
    "> point1:=[disk(p0,0.2,color=red), disk(p1,0.2,color=blue)]:\n",
    "> line1:=arrow(p0,p1,.05,.3,.1 ):\n",
    "```\n",
    "\n",
    "これらをまとめて表示(display)します．このとき，表示範囲を-8..8,-8..8とします．\n",
    "```maple\n",
    "> display(point1,line1,view=[-2..8,-2..8],gridlines=true);\n",
    "```\n",
    "\n",
    "![LAFundamentalsplot2d1.png](figs/LAFundamentalsplot2d1.png)\n",
    "\n",
    "\n",
    "逆行列は\n",
    "```maple\n",
    "> MatrixInverse(A);\n",
    "```\n",
    "$$\n",
    "\\left[ \\begin {array}{cc} -1/18&5/18\\\\ 2/9&-1/9\\end {array} \\right]\n",
    "%\\left[  \\begin {array}{cc}  -\\frac{1}{18}&   \\frac{5}{18}\\\\\n",
    "%   \\frac{2}{9}&   -\\frac{1}{9}\\end {array} \\right]\n",
    "$$\n",
    "で求まります．先ほどの矢印を逆に青から赤へたどる変換になっています．これが，連立方程式を解く様子をグラフで示しています．つまり，行列Aで示される変換によって求まる青点で示したベクトルb(7,5)を指す元の赤点を捜すというものです．答えは(1,1)となります．\n",
    "\n",
    "では，元の赤点をもう少しいろいろ取って，行列Aでどのような点へ写されるかを見てみましょう．\n",
    "```maple\n",
    "> N:=30:point2:=[]:line2:=[]: \n",
    "  for k from 0 to N-1 do\n",
    "    x0:=Vector([sin(2*Pi*k/N),cos(2*Pi*k/N)]); \n",
    "    x1:=A.x0; \n",
    "    p0:=convert(x0,list);\n",
    "    p1:=convert(x1,list); \n",
    "    point2:=[op(point2),disk(p0,0.05,color=red)];\n",
    "    point2:=[op(point2),disk(p1,0.05,color=blue)]; \n",
    "    line2:=[op(line2),line(p0,p1)];\n",
    "  end do:\n",
    "```\n",
    "N:=30で分割した円周上の点をx0で求めて，point2にその円とそれのＡ.x0を，line2にはその2点を結ぶline(線)を足しています．\n",
    "使っているコマンドは，先ほどの描画とほぼ同じです．ただし，Mapleスクリプトに特有のidiom(熟語)を使っています．この基本形をとり出すと，\n",
    "```maple\n",
    "> list1:=[]; \n",
    "  for k from 0 to 2 do \n",
    "    list1:=[op(list1),k]; \n",
    "  end do; \n",
    "  list1;\n",
    "```\n",
    "$$\n",
    "[] \\notag \\\\\n",
    "[0] \\notag \\\\\n",
    "[0, 1] \\notag \\\\\n",
    "[0, 1, 2] \\notag \\\\\n",
    "[0, 1, 2] \\notag\n",
    "$$\n",
    "となります．for-loopでkを0から4まで回し，list1に次々と値を追加していくというテクです．\n",
    "\n",
    "できあがりの次の図を見てください．\n",
    "```maple\n",
    "> d:=6: display(point2,line2,view=[-d..d,-d..d]);\n",
    "```\n",
    "\n",
    "何やっているか分かります? 中心の赤点で示される円が，青点で示される楕円へ写されていることが分かるでしょうか．\n",
    "\n",
    "線形代数の講義で，写像を示すときによく使われるポンチ絵を現実の空間で示すとこのようになります．ポンチ絵では，赤で示した$V$空間が青で示した$W$空間へ行列$A$によって写像され，それぞれの要素$v$が$w$へ移されると意図しています．\n",
    "\n",
    "![Projection3-4.png](figs/Projection3-4.png)\n",
    "\n",
    "\n",
    "\n"
   ]
  },
  {
   "cell_type": "markdown",
   "metadata": {},
   "source": [
    "# 固有ベクトルの幾何学的意味\n"
   ]
  },
  {
   "cell_type": "markdown",
   "metadata": {},
   "source": [
    "\n",
    "では，ここでクイズです．固有ベクトルは上のグラフの何処に対応するか?　ヒントは，\n",
    "行列Aの固有値，固有ベクトルを$\\lambda, x_0$とすると，\n",
    "\n",
    "$$\n",
    "A \\,x_0 = \\lambda \\, x_0\n",
    "$$\n",
    "が成立する\n",
    "です．固有値と固有ベクトルはMapleでは以下のコマンドで求まります．\n",
    "```maple\n",
    "> lambda,P:=Eigenvectors(A);\n",
    "```\n",
    "$$\n",
    "\\lambda,\\,P\\, := \\, \\left[ \\begin {array}{c} -3\\\\6\\end {array} \\right] ,\\, \\left[ \\begin {array}{cc} -1&5/4\\\\1&1\\end {array} \\right]\n",
    "$$\n",
    "ここではMapleコマンドのEigenvectorsで戻り値を$\\lambda$(lambdaと書きます)，$P$に代入しています．この後ろ側にある行列$P$の1列目で構成されるベクトルが固有値-3に対応する固有ベクトル，2列目のベクトルが固有値6に対応する固有ベクトルです．\n",
    "\n",
    "\n"
   ]
  },
  {
   "cell_type": "markdown",
   "metadata": {},
   "source": [
    "## python注\n",
    "\n",
    "幾何学的意味も表示できました．ただ，たぶんloopの回し方が，pythonぽくなさそう．pythonではarrayを作っておいて，そいつを全部に適用する感じ．"
   ]
  },
  {
   "cell_type": "code",
   "execution_count": 20,
   "metadata": {},
   "outputs": [
    {
     "name": "stdout",
     "output_type": "stream",
     "text": [
      "array([ 6., -3.])\n",
      "array([[ 0.781, -0.707],\n",
      "       [ 0.625,  0.707]])\n",
      "array([ 0.781,  0.625])\n",
      "array([-0.707,  0.707])\n"
     ]
    }
   ],
   "source": [
    "import numpy as np\n",
    "from pprint import pprint\n",
    "np.set_printoptions(precision=3, suppress=True)\n",
    "\n",
    "l,P = np.linalg.eig(a)\n",
    "pprint(l)\n",
    "pprint(P)\n",
    "\n",
    "v0 = P[:,0]\n",
    "v1 = P[:,1]\n",
    "pprint(v0)\n",
    "pprint(v1)"
   ]
  },
  {
   "cell_type": "code",
   "execution_count": 17,
   "metadata": {},
   "outputs": [
    {
     "data": {
      "image/png": "[encoded data removed]",
      "text/plain": [
       "<matplotlib.figure.Figure at 0x11ac9ad68>"
      ]
     },
     "metadata": {},
     "output_type": "display_data"
    }
   ],
   "source": [
    "import numpy as np\n",
    "import matplotlib.pyplot as plt\n",
    "\n",
    "a = np.array([[2,5], [4,1]])\n",
    "\n",
    "div = 32\n",
    "for i in range(0,div):\n",
    "    theta = 2*np.pi/div*i\n",
    "    x = np.sin(theta)\n",
    "    y = np.cos(theta)\n",
    "    # print('%10.5f-%10.5f' % (x,y))\n",
    "    plt.plot(x,y,'o',color='r')\n",
    "    x0 = np.array([x,y])\n",
    "    x1 = np.dot(a,x0)\n",
    "    plt.plot(x1[0],x1[1],'o',color='b')\n",
    "    plt.plot(x1[0],x1[1],'o',color='b')\n",
    "    plt.plot([x, x1[0]], [y,x1[1]], color='k', linestyle='-', linewidth=1)\n",
    "\n",
    "plt.hlines(0, -6, 6, color='k', linestyle='-', linewidth=1)\n",
    "plt.vlines(0, -4, 4, color='k', linestyle='-', linewidth=1)\n",
    "\n",
    "t=7\n",
    "plt.plot([-t*v0[0],t*v0[0]], [-t*v0[1],t*v0[1]], color='g', linestyle='-', linewidth=2)\n",
    "t=5\n",
    "plt.plot([-t*v1[0],t*v1[0]], [-t*v1[1],t*v1[1]], color='g', linestyle='-', linewidth=2)\n",
    "\n",
    "\n",
    "plt.axes().set_aspect('equal', 'datalim')\n",
    "plt.show()\n",
    "\n"
   ]
  },
  {
   "cell_type": "markdown",
   "metadata": {},
   "source": [
    "## 解答 \n"
   ]
  },
  {
   "cell_type": "markdown",
   "metadata": {},
   "source": [
    "固有値$\\lambda$，固有ベクトル$x_0$の関係式\n",
    "\n",
    "$$\n",
    "A \\,x_0 = \\lambda \\, x_0\n",
    "$$\n",
    "を言葉で言い直すと，\n",
    ">固有ベクトル$x_0$は変換行列$A$によって，自分の固有値倍のベクトル$\\lambda x_0$に写されるベクトル\n",
    "となります．つまり変換の図で言うと，\n",
    ">変換しても方向が変わらない赤点（の方向）\n",
    "となります．これは図で書くと\n",
    "```maple\n",
    "> vv1:=Column(P,1): vv2:=Column(P,2): \n",
    "  a1:=vv1[2]/vv1[1]: a2:=vv2[2]/vv2[1]:\n",
    "  pp1:=plot({a2*x,a1*x},x=-d..d):\n",
    "```\n",
    "Columnによって行列の第i列目をとりだし，その比によって直線の傾きを求めています．そうして引いた2本の直線をpp1としてため込んで，先ほど描いた変換の図に加えて表示(display)させます．\n",
    "```maple\n",
    "> display(point2,line2,pp1,view=[-d..d,-d..d]);\n",
    "```\n",
    "\n",
    "![LAFundamentalsplot2d3.png](figs/LAFundamentalsplot2d3.png)\n",
    "\n",
    "pp1を入れて描いた直線が引かれた方向ではたしかに変換によっても方向が変わらなさそうに見えるでしょう．\n",
    "\n",
    "おまけですが，行列の対角化は次のようにしてできます．\n",
    "```maple\n",
    "> MatrixInverse(P).A.P;\n",
    "```\n",
    "$$\n",
    "\\left[ \\begin {array}{cc} -3&0\\\\ 0&6\\end {array} \\right]\n",
    "$$\n",
    "\n",
    "\n"
   ]
  },
  {
   "cell_type": "markdown",
   "metadata": {},
   "source": [
    "# 行列式の幾何学的意味\n"
   ]
  },
  {
   "cell_type": "markdown",
   "metadata": {},
   "source": [
    "\n",
    "行列Aの行列式($\\left|A\\right|$あるいはdet$A$と表記)はDeterminantで求まります．\n",
    "```maple\n",
    "> Determinant(A);\n",
    "```\n",
    "$$\n",
    "-18\n",
    "$$\n",
    "では次のクイズ．先ほど求めた，行列Aの行列式は，どこに対応するでしょう?\n",
    "以下の(1,0),(0,1)の点を変換した点に原点からベクトルを結んでその意味を説明してください．さらに，そのマイナスの意味は？．\n",
    "```maple\n",
    "> point3:=[]:line3:=[]: XX:=Matrix([[1,0],[0,1]]): \n",
    "  for i from 1 to 2 do\n",
    "    x0:=Column(XX,i); x1:=A.x0; \n",
    "    p0:=convert(x0,list): \n",
    "    p1:=convert(x1,list):\n",
    "    point3:=[op(point3),disk(p0,0.2,color=red),disk(p1,0.2,color=blue)]:\n",
    "    line3:=[op(line3),arrow([0,0],p0,.05,.3,.1 ),arrow([0,0],p1,.05,.3,.1 )]:\n",
    "  end do:\n",
    "  display(point3,line3,view=[-1..8,-1..8],gridlines=true);\n",
    "```\n",
    "\n",
    "![LAFundamentalsplot2d4.png](figs/LAFundamentalsplot2d4.png)\n",
    "\n",
    "\n",
    "\n"
   ]
  },
  {
   "cell_type": "markdown",
   "metadata": {},
   "source": [
    "# 行列式が0の写像\n"
   ]
  },
  {
   "cell_type": "markdown",
   "metadata": {},
   "source": [
    "\n",
    "では，行列式が０になるというのはどういう状態でしょう? 次のような行列を考えてみましょう．\n",
    "```maple\n",
    "> A:=Matrix([[2,1],[4,2]]);\n",
    "```\n",
    "$$\n",
    "$$\n",
    "この行列式は\n",
    "```maple\n",
    "> Determinant(A);\n",
    "```\n",
    "$$\n",
    "0\n",
    "$$\n",
    "です．この変換行列で，上と同じように写像の様子を表示させてみましょう．\n",
    "```maple\n",
    "> N:=30:point2:=[]:line2:=[]: \n",
    "  for k from 0 to N-1 do\n",
    "    x0:=Vector([sin(2*Pi*k/N),cos(2*Pi*k/N)]); x1:=A.x0; p0:=convert(x0,list);\n",
    "    p1:=convert(x1,list);\n",
    "    point2:=[op(point2),disk(p0,0.05,color=red),disk(p1,0.05,color=blue)];\n",
    "    line2:=[op(line2),line(p0,p1)]; \n",
    "  end:\n",
    "> d:=6: display(point2,line2,view=[-d..d,-d..d]);\n",
    "```\n",
    "\n",
    "![LAFundamentalsplot2d5.png](figs/LAFundamentalsplot2d5.png)\n",
    "\n",
    "\n",
    "わかります？\n",
    "\n",
    "今回の移動先の青点は直線となっています．つまり，determinantが0ということは，変換すると面積がつぶれるという事を意味しています．平面がひとつ次元を落として線になるということです．\n",
    "\n",
    "次に，この行列の表わす写像によって原点(0,0)に写される元の座標を求めてみます．連立方程式に戻してみると\n",
    "```maple\n",
    "> A.Vector([x,y])=Vector([0,0]);\n",
    "```\n",
    "$$\n",
    "\\left[ \\begin {array}{c} 2\\,x+y\\\\ 4\\,x+2\\,y\\end {array} \\right] = \\left[ \\begin {array}{c} 0\\\\ 0\\end {array} \\right]\n",
    "$$\n",
    "となります．とよく見ると，1行目も2行目もおなじ式になっています．2次元正方行列で，行列式が0の時には必ずこういう形になり，直線の式となります．これを表示すると\n",
    "```maple\n",
    "> plot([-2*x,-2*x+1,-2*x-1],x=-4..4,y=-4..4);\n",
    "> plot([2*x],x=-4..4,y=-4..4,color=blue);\n",
    "```\n",
    "\n",
    "![LAFundamentalsKernelImage.png](figs/LAFundamentalsKernelImage.png)\n",
    "\n",
    "左図の赤線となります．この直線上の全ての点が[0,0]へ写されることを確認してください．また，緑の線上の点は全て[1,2]へ写されることが確認できます．\n",
    "```maple\n",
    "> A.Vector([-1,2]);\n",
    "```\n",
    "$$\n",
    "\\left[ \\begin {array}{c} 0\\\\ 0\\end {array} \\right]\n",
    "$$\n",
    "\n",
    "こうしてすべて調べていけば，左の平面上のすべて点は右の青の直線上へ写されることが分かります．今まで見てきた円と楕円とはまったく違った写像が，行列式が0の行列では起こっていることが分かると思います．右の青線を行列Aによる像(Image, Im$A$と表記)，左の赤線，つまり写像によって[0,0]へ写される集合を核(Kernel, Ker$A$と表記)と呼びます．\n",
    "\n",
    "これをポンチ絵で描くと，次の通りです．\n",
    "\n",
    "\n",
    "|像(Image) | 核(Kernel) |\n",
    "|:----|:----|\n",
    "![Projection1.png](figs/Projection1.png)\n",
    "\n",
    "\n",
    "\n",
    "\n"
   ]
  },
  {
   "cell_type": "markdown",
   "metadata": {},
   "source": [
    "# 全単射\n"
   ]
  },
  {
   "cell_type": "markdown",
   "metadata": {},
   "source": [
    "\n",
    "行列$A$による写像を$f$として，赤点に限らず元の点の集合を$V$, 移った先の点の集合を$W$とすると，\n",
    "\n",
    "$$\n",
    "f: V \\rightarrow W\n",
    "$$\n",
    "と表記されます．$v,w$を$V,W$の要素としたとき，異なる$v$が異なる$w$に写されることを単射，全ての$w$に対応する$v$がある写像を全射と言います．全単射，つまり全射でかつ単射，だと要素は一対一に対応します．先ほどのAは全射でもなく，単射でもない例です．\n",
    "\n",
    "行列式が0の場合の写像は単射ではありません．このとき，逆写像が作れそうにありません．これを連立方程式に戻して考えましょう．もともと，\n",
    "\n",
    "$$\n",
    "v = A^{-1} w\n",
    "$$\n",
    "の解$v$は点$w$が写像$A$によってどこから写されてきたかという意味を持ちます．逆写像が作れない場合は，連立方程式の解はパラメータをひとつ持った複数の解(直線)となります．これが係数行列の行列式が0の場合に，連立方程式の解が不定となる，あるいは像がつぶれるという関係です．\n",
    "\n",
    "行列の次元が高い場合には，いろいろなつぶれかたをします．行列の階数と次元は\n",
    "```maple\n",
    "> Rank(A); \n",
    "  Dimension(A);\n",
    "```\n",
    "$$\n",
    "1 \\notag \\\\\n",
    "2, 2 \\notag\n",
    "$$\n",
    "で求まります．\n",
    "\n",
    "Aをm行n列の行列とするとき，\n",
    ">Rank(*A'') = Dimension (Im ''A*)\n",
    "\n",
    ">Dimension (Ker *A'') = ''n'' - Rank(''A*) \n",
    "\n",
    "が成立し，これを次元定理といいます．\n",
    "全射と単射の関係は，下の表のような一変数の方程式での解の性質の拡張と捉えることができます．\n",
    "\n"
   ]
  },
  {
   "cell_type": "markdown",
   "metadata": {},
   "source": [
    "## 代数方程式$a x =b$の解の存在性．\n"
   ]
  },
  {
   "cell_type": "markdown",
   "metadata": {},
   "source": [
    "\n",
    "|呼び名|条件|意味|\n",
    "|:----|:----|:----|\n",
    "|一意|$a<>0$ |解は$x=b/a$のみ|\n",
    "|不定|$a=0, b=0$ |解は無数 |\n",
    "|不能|$a=0, b<>0$ |解は存在しない|\n",
    "\n",
    "\n",
    "\n",
    "|m x n行列A|全射でない(Im $A < m$), 値域上にあるときのみ解が存在|全射(Im $A =m$), 解は必ず存在|\n",
    "|:----|:----|:----|\n",
    "|単射でない(Ker $A <> 0$), 解は複数 |![test](figs/Projection3-1.png)|![test](figs/Projection3-2.png)\n",
    "|単射(Ker $A = 0$), 解はひとつ|![test](figs/Projection3-3.png)|![test](figs/Projection3-4.png)\n",
    "\n",
    "\n",
    "\n"
   ]
  },
  {
   "cell_type": "markdown",
   "metadata": {},
   "source": [
    "# 課題\n"
   ]
  },
  {
   "cell_type": "markdown",
   "metadata": {},
   "source": [
    "\n",
    "1.  下の図は\n",
    "$A\\, := \\, \\left[ \\begin {array}{cc} 3&2/3\\\\ 2/3&2\\end {array} \\right]$を用いて変換される像を表わしている．この行列の固有値，行列式が何処に対応するか説明せよ．また，固有ベクトルの方向を記せ．(2007年度期末試験)\n",
    "\n",
    "![LAFundamentalsplot2d8.png](figs/LAFundamentalsplot2d8.png)\n"
   ]
  }
 ],
 "metadata": {
  "kernelspec": {
   "display_name": "Python 3",
   "language": "python",
   "name": "python3"
  },
  "language_info": {
   "codemirror_mode": {
    "name": "ipython",
    "version": 3
   },
   "file_extension": ".py",
   "mimetype": "text/x-python",
   "name": "python",
   "nbconvert_exporter": "python",
   "pygments_lexer": "ipython3",
   "version": "3.6.1"
  },
  "latex_envs": {
   "LaTeX_envs_menu_present": true,
   "autocomplete": true,
   "bibliofile": "biblio.bib",
   "cite_by": "apalike",
   "current_citInitial": 1,
   "eqLabelWithNumbers": true,
   "eqNumInitial": 1,
   "hotkeys": {
    "equation": "Ctrl-E",
    "itemize": "Ctrl-I"
   },
   "labels_anchors": false,
   "latex_user_defs": false,
   "report_style_numbering": false,
   "user_envs_cfg": false
  },
  "toc": {
   "colors": {
    "hover_highlight": "#DAA520",
    "navigate_num": "#000000",
    "navigate_text": "#333333",
    "running_highlight": "#FF0000",
    "selected_highlight": "#FFD700",
    "sidebar_border": "#EEEEEE",
    "wrapper_background": "#FFFFFF"
   },
   "moveMenuLeft": true,
   "nav_menu": {
    "height": "12px",
    "width": "252px"
   },
   "navigate_menu": true,
   "number_sections": true,
   "sideBar": true,
   "threshold": 4,
   "toc_cell": true,
   "toc_position": {
    "height": "581px",
    "left": "0px",
    "right": "auto",
    "top": "105px",
    "width": "212px"
   },
   "toc_section_display": "block",
   "toc_window_display": true,
   "widenNotebook": false
  }
 },
 "nbformat": 4,
 "nbformat_minor": 2
}
