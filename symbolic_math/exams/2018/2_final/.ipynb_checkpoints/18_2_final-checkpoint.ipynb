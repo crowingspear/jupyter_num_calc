{
 "cells": [
  {
   "cell_type": "markdown",
   "metadata": {
    "toc": "true"
   },
   "source": [
    "# Table of Contents\n",
    " <p><div class=\"lev1 toc-item\"><a href=\"#線形代数\" data-toc-modified-id=\"線形代数-1\"><span class=\"toc-item-num\">1&nbsp;&nbsp;</span>線形代数</a></div><div class=\"lev2 toc-item\"><a href=\"#グラムシュミットの直交化\" data-toc-modified-id=\"グラムシュミットの直交化-11\"><span class=\"toc-item-num\">1.1&nbsp;&nbsp;</span>グラムシュミットの直交化</a></div><div class=\"lev2 toc-item\"><a href=\"#直交補空間\" data-toc-modified-id=\"直交補空間-12\"><span class=\"toc-item-num\">1.2&nbsp;&nbsp;</span>直交補空間</a></div><div class=\"lev1 toc-item\"><a href=\"#微積分\" data-toc-modified-id=\"微積分-2\"><span class=\"toc-item-num\">2&nbsp;&nbsp;</span>微積分</a></div><div class=\"lev2 toc-item\"><a href=\"#Taylor展開\" data-toc-modified-id=\"Taylor展開-21\"><span class=\"toc-item-num\">2.1&nbsp;&nbsp;</span>Taylor展開</a></div><div class=\"lev2 toc-item\"><a href=\"#積分の比較\" data-toc-modified-id=\"積分の比較-22\"><span class=\"toc-item-num\">2.2&nbsp;&nbsp;</span>積分の比較</a></div><div class=\"lev3 toc-item\"><a href=\"#積分の誤差\" data-toc-modified-id=\"積分の誤差-221\"><span class=\"toc-item-num\">2.2.1&nbsp;&nbsp;</span>積分の誤差</a></div><div class=\"lev1 toc-item\"><a href=\"#1-(2)-図形の面積\" data-toc-modified-id=\"1-(2)-図形の面積-3\"><span class=\"toc-item-num\">3&nbsp;&nbsp;</span>1-(2) 図形の面積</a></div><div class=\"lev1 toc-item\"><a href=\"#1-(2)改\" data-toc-modified-id=\"1-(2)改-4\"><span class=\"toc-item-num\">4&nbsp;&nbsp;</span>1-(2)改</a></div><div class=\"lev1 toc-item\"><a href=\"#1-(1)-放物線の接線の距離\" data-toc-modified-id=\"1-(1)-放物線の接線の距離-5\"><span class=\"toc-item-num\">5&nbsp;&nbsp;</span>1-(1) 放物線の接線の距離</a></div>"
   ]
  },
  {
   "cell_type": "markdown",
   "metadata": {},
   "source": [
    "# 線形代数\n",
    "\n",
    "## グラムシュミットの直交化\n"
   ]
  },
  {
   "cell_type": "code",
   "execution_count": 134,
   "metadata": {
    "collapsed": true
   },
   "outputs": [],
   "source": [
    "from sympy import *\n",
    "init_printing()\n",
    "x1 = Matrix([1,1,1])\n",
    "x2 = Matrix([0,1,0])\n",
    "x3 = Matrix([-1,1,0])"
   ]
  },
  {
   "cell_type": "code",
   "execution_count": 135,
   "metadata": {
    "scrolled": true
   },
   "outputs": [
    {
     "data": {
      "image/png": "[encoded data removed]",
      "text/latex": [
       "$$\\left [ \\left[\\begin{matrix}1\\\\1\\\\1\\end{matrix}\\right], \\quad \\left[\\begin{matrix}- \\frac{1}{3}\\\\\\frac{2}{3}\\\\- \\frac{1}{3}\\end{matrix}\\right], \\quad \\left[\\begin{matrix}- \\frac{1}{2}\\\\0\\\\\\frac{1}{2}\\end{matrix}\\right]\\right ]$$"
      ],
      "text/plain": [
       "⎡⎡1⎤, ⎡-1/3⎤, ⎡-1/2⎤⎤\n",
       "⎢⎢ ⎥  ⎢    ⎥  ⎢    ⎥⎥\n",
       "⎢⎢1⎥  ⎢2/3 ⎥  ⎢ 0  ⎥⎥\n",
       "⎢⎢ ⎥  ⎢    ⎥  ⎢    ⎥⎥\n",
       "⎣⎣1⎦  ⎣-1/3⎦  ⎣1/2 ⎦⎦"
      ]
     },
     "execution_count": 135,
     "metadata": {},
     "output_type": "execute_result"
    }
   ],
   "source": [
    "GramSchmidt([x1,x2,x3])"
   ]
  },
  {
   "cell_type": "code",
   "execution_count": 141,
   "metadata": {},
   "outputs": [
    {
     "data": {
      "image/png": "[encoded data removed]",
      "text/latex": [
       "$$\\left[\\begin{matrix}\\frac{\\sqrt{3}}{3}\\\\\\frac{\\sqrt{3}}{3}\\\\\\frac{\\sqrt{3}}{3}\\end{matrix}\\right]$$"
      ],
      "text/plain": [
       "⎡√3⎤\n",
       "⎢──⎥\n",
       "⎢3 ⎥\n",
       "⎢  ⎥\n",
       "⎢√3⎥\n",
       "⎢──⎥\n",
       "⎢3 ⎥\n",
       "⎢  ⎥\n",
       "⎢√3⎥\n",
       "⎢──⎥\n",
       "⎣3 ⎦"
      ]
     },
     "execution_count": 141,
     "metadata": {},
     "output_type": "execute_result"
    }
   ],
   "source": [
    "a1 = x1/x1.norm()\n",
    "a1"
   ]
  },
  {
   "cell_type": "code",
   "execution_count": 149,
   "metadata": {},
   "outputs": [],
   "source": [
    "y2 = x2-x2.dot(a1)*a1"
   ]
  },
  {
   "cell_type": "code",
   "execution_count": 150,
   "metadata": {},
   "outputs": [
    {
     "data": {
      "image/png": "[encoded data removed]",
      "text/latex": [
       "$$\\left[\\begin{matrix}- \\frac{\\sqrt{6}}{6}\\\\\\frac{\\sqrt{6}}{3}\\\\- \\frac{\\sqrt{6}}{6}\\end{matrix}\\right]$$"
      ],
      "text/plain": [
       "⎡-√6 ⎤\n",
       "⎢────⎥\n",
       "⎢ 6  ⎥\n",
       "⎢    ⎥\n",
       "⎢ √6 ⎥\n",
       "⎢ ── ⎥\n",
       "⎢ 3  ⎥\n",
       "⎢    ⎥\n",
       "⎢-√6 ⎥\n",
       "⎢────⎥\n",
       "⎣ 6  ⎦"
      ]
     },
     "execution_count": 150,
     "metadata": {},
     "output_type": "execute_result"
    }
   ],
   "source": [
    "a2 = y2/y2.norm()\n",
    "a2"
   ]
  },
  {
   "cell_type": "code",
   "execution_count": 154,
   "metadata": {},
   "outputs": [
    {
     "data": {
      "image/png": "[encoded data removed]",
      "text/latex": [
       "$$\\left[\\begin{matrix}- \\frac{1}{2}\\\\0\\\\\\frac{1}{2}\\end{matrix}\\right]$$"
      ],
      "text/plain": [
       "⎡-1/2⎤\n",
       "⎢    ⎥\n",
       "⎢ 0  ⎥\n",
       "⎢    ⎥\n",
       "⎣1/2 ⎦"
      ]
     },
     "execution_count": 154,
     "metadata": {},
     "output_type": "execute_result"
    }
   ],
   "source": [
    "y3 = x3 - x3.dot(a1)*a1-x3.dot(a2)*a2\n",
    "y3"
   ]
  },
  {
   "cell_type": "code",
   "execution_count": 155,
   "metadata": {},
   "outputs": [
    {
     "data": {
      "image/png": "[encoded data removed]",
      "text/latex": [
       "$$\\left[\\begin{matrix}- \\frac{\\sqrt{2}}{2}\\\\0\\\\\\frac{\\sqrt{2}}{2}\\end{matrix}\\right]$$"
      ],
      "text/plain": [
       "⎡-√2 ⎤\n",
       "⎢────⎥\n",
       "⎢ 2  ⎥\n",
       "⎢    ⎥\n",
       "⎢ 0  ⎥\n",
       "⎢    ⎥\n",
       "⎢ √2 ⎥\n",
       "⎢ ── ⎥\n",
       "⎣ 2  ⎦"
      ]
     },
     "execution_count": 155,
     "metadata": {},
     "output_type": "execute_result"
    }
   ],
   "source": [
    "a3 = y3/y3.norm()\n",
    "a3"
   ]
  },
  {
   "cell_type": "markdown",
   "metadata": {},
   "source": [
    "## 直交補空間"
   ]
  },
  {
   "cell_type": "code",
   "execution_count": 32,
   "metadata": {},
   "outputs": [
    {
     "data": {
      "image/png": "[encoded data removed]",
      "text/latex": [
       "$$\\left \\{ x_{1} : - \\frac{2 x_{3}}{5}, \\quad x_{2} : \\frac{x_{3}}{5}\\right \\}$$"
      ],
      "text/plain": [
       "⎧    -2⋅x₃       x₃⎫\n",
       "⎨x₁: ──────, x₂: ──⎬\n",
       "⎩      5         5 ⎭"
      ]
     },
     "execution_count": 32,
     "metadata": {},
     "output_type": "execute_result"
    }
   ],
   "source": [
    "x1,x2,x3,a,b=symbols('x1,x2,x3,a,b')\n",
    "eq1=2*x1-x2+x3\n",
    "eq2=x1-3*x2+x3\n",
    "\n",
    "solve({eq1,eq2},{x1,x2,x3})"
   ]
  },
  {
   "cell_type": "code",
   "execution_count": 33,
   "metadata": {},
   "outputs": [],
   "source": [
    "eq3 = expand(5/a*(-Rational(2,5)*a*x1+Rational(1,5)*a*x2+a*x3))"
   ]
  },
  {
   "cell_type": "code",
   "execution_count": 34,
   "metadata": {},
   "outputs": [
    {
     "data": {
      "image/png": "[encoded data removed]",
      "text/latex": [
       "$$\\left [ \\frac{a}{2} + \\frac{5 b}{2}\\right ]$$"
      ],
      "text/plain": [
       "⎡a   5⋅b⎤\n",
       "⎢─ + ───⎥\n",
       "⎣2    2 ⎦"
      ]
     },
     "execution_count": 34,
     "metadata": {},
     "output_type": "execute_result"
    }
   ],
   "source": [
    "solve(eq3.subs({x2:a,x3:b}),x1)"
   ]
  },
  {
   "cell_type": "code",
   "execution_count": 35,
   "metadata": {},
   "outputs": [
    {
     "data": {
      "image/png": "[encoded data removed]",
      "text/latex": [
       "$$\\left[\\begin{matrix}\\frac{a}{2} + \\frac{5 b}{2}\\\\a\\\\b\\end{matrix}\\right]$$"
      ],
      "text/plain": [
       "⎡a   5⋅b⎤\n",
       "⎢─ + ───⎥\n",
       "⎢2    2 ⎥\n",
       "⎢       ⎥\n",
       "⎢   a   ⎥\n",
       "⎢       ⎥\n",
       "⎣   b   ⎦"
      ]
     },
     "execution_count": 35,
     "metadata": {},
     "output_type": "execute_result"
    }
   ],
   "source": [
    "a*Matrix([Rational(1,2),1,0]) + b*Matrix([Rational(5,2),0,1])"
   ]
  },
  {
   "cell_type": "markdown",
   "metadata": {},
   "source": [
    "# 微積分\n",
    "\n",
    "## Taylor展開"
   ]
  },
  {
   "cell_type": "code",
   "execution_count": 37,
   "metadata": {},
   "outputs": [],
   "source": [
    "t = symbols('t')\n",
    "v = exp(-t)+1.0"
   ]
  },
  {
   "cell_type": "code",
   "execution_count": 44,
   "metadata": {},
   "outputs": [
    {
     "data": {
      "image/png": "[encoded data removed]",
      "text/latex": [
       "$$2.0 - t + \\frac{t^{2}}{2} - \\frac{t^{3}}{6} + \\frac{t^{4}}{24} - \\frac{t^{5}}{120} + \\mathcal{O}\\left(t^{6}\\right)$$"
      ],
      "text/plain": [
       "           2    3    4     5        \n",
       "          t    t    t     t     ⎛ 6⎞\n",
       "2.0 - t + ── - ── + ── - ─── + O⎝t ⎠\n",
       "          2    6    24   120        "
      ]
     },
     "execution_count": 44,
     "metadata": {},
     "output_type": "execute_result"
    }
   ],
   "source": [
    "vs = v.series(t,0,6)\n",
    "vs"
   ]
  },
  {
   "cell_type": "code",
   "execution_count": 53,
   "metadata": {},
   "outputs": [
    {
     "data": {
      "image/png": "[encoded data removed]",
      "text/plain": [
       "<matplotlib.figure.Figure at 0x119bd1e80>"
      ]
     },
     "metadata": {},
     "output_type": "display_data"
    }
   ],
   "source": [
    "vsO = vs.removeO()\n",
    "p = plot(v, vsO, (t,0,2), ylim=[1,2], show=False)\n",
    "p[0].line_color = 'b'\n",
    "p[1].line_color = 'r'\n",
    "p.show()"
   ]
  },
  {
   "cell_type": "markdown",
   "metadata": {},
   "source": [
    "## 積分の比較\n"
   ]
  },
  {
   "cell_type": "code",
   "execution_count": 61,
   "metadata": {},
   "outputs": [
    {
     "name": "stdout",
     "output_type": "stream",
     "text": [
      "       -2      \n",
      "- 1.0⋅ℯ   + 3.0\n"
     ]
    },
    {
     "data": {
      "image/png": "[encoded data removed]",
      "text/latex": [
       "$$2.86466471676339$$"
      ],
      "text/plain": [
       "2.86466471676339"
      ]
     },
     "execution_count": 61,
     "metadata": {},
     "output_type": "execute_result"
    }
   ],
   "source": [
    "i_v = integrate(v,(t,0,2))\n",
    "pprint(i_v)\n",
    "i_v.evalf()"
   ]
  },
  {
   "cell_type": "code",
   "execution_count": 62,
   "metadata": {
    "scrolled": true
   },
   "outputs": [
    {
     "name": "stdout",
     "output_type": "stream",
     "text": [
      "2.84444444444444\n"
     ]
    },
    {
     "data": {
      "image/png": "[encoded data removed]",
      "text/latex": [
       "$$2.84444444444444$$"
      ],
      "text/plain": [
       "2.84444444444444"
      ]
     },
     "execution_count": 62,
     "metadata": {},
     "output_type": "execute_result"
    }
   ],
   "source": [
    "i_vs = integrate(vsO,(t,0,2))\n",
    "pprint(i_vs)\n",
    "i_vs.evalf()"
   ]
  },
  {
   "cell_type": "markdown",
   "metadata": {},
   "source": [
    "### 積分の誤差\n",
    "\n",
    "誤差をわかりやすくするには，下のようにまとめれば良い．そうすると必要な次数は7(8)次であることがわかる．"
   ]
  },
  {
   "cell_type": "code",
   "execution_count": 71,
   "metadata": {},
   "outputs": [
    {
     "name": "stdout",
     "output_type": "stream",
     "text": [
      "           2    3    4     5     6     7         \n",
      "          t    t    t     t     t     t      ⎛ 8⎞\n",
      "2.0 - t + ── - ── + ── - ─── + ─── - ──── + O⎝t ⎠\n",
      "          2    6    24   120   720   5040        \n",
      "2.86349206349206\n"
     ]
    },
    {
     "data": {
      "image/png": "[encoded data removed]",
      "text/latex": [
       "$$-0.0011726532713241$$"
      ],
      "text/plain": [
       "-0.00117265327132410"
      ]
     },
     "execution_count": 71,
     "metadata": {},
     "output_type": "execute_result"
    }
   ],
   "source": [
    "vs = v.series(t,0,8)\n",
    "pprint(vs)\n",
    "vsO = vs.removeO()\n",
    "i_vs = integrate(vsO,(t,0,2))\n",
    "pprint(i_vs)\n",
    "i_vs.evalf()-i_v.evalf()\n"
   ]
  },
  {
   "cell_type": "markdown",
   "metadata": {},
   "source": [
    "# 1-(2) 図形の面積\n",
    "\n",
    "2点Q($x_1,y_1$)とR($x_2,y_2$)を通る直線の方程式は\n",
    "$$\n",
    "y-y_1 = \\frac{y_1-y_2}{x_1-x_2}(x-x_1)\n",
    "$$\n",
    "で求められる．"
   ]
  },
  {
   "cell_type": "code",
   "execution_count": 72,
   "metadata": {},
   "outputs": [
    {
     "data": {
      "image/png": "[encoded data removed]",
      "text/plain": [
       "<matplotlib.figure.Figure at 0x119ac61d0>"
      ]
     },
     "metadata": {},
     "output_type": "display_data"
    },
    {
     "data": {
      "text/plain": [
       "<sympy.plotting.plot.Plot at 0x112dec438>"
      ]
     },
     "execution_count": 72,
     "metadata": {},
     "output_type": "execute_result"
    }
   ],
   "source": [
    "from sympy import *\n",
    "init_printing()\n",
    "b, x, t = symbols('b,x,t')\n",
    "y_c = 1-x**2\n",
    "plot(y_c,(x,-2,2))"
   ]
  },
  {
   "cell_type": "code",
   "execution_count": 73,
   "metadata": {},
   "outputs": [
    {
     "data": {
      "image/png": "[encoded data removed]",
      "text/latex": [
       "$$\\left [ -1, \\quad 1\\right ]$$"
      ],
      "text/plain": [
       "[-1, 1]"
      ]
     },
     "execution_count": 73,
     "metadata": {},
     "output_type": "execute_result"
    }
   ],
   "source": [
    "s_c = solve(y_c,x)\n",
    "s_c"
   ]
  },
  {
   "cell_type": "code",
   "execution_count": 74,
   "metadata": {
    "collapsed": true
   },
   "outputs": [],
   "source": [
    "x1=s_c[0]\n",
    "y1=0\n",
    "x2=s_c[1]-b\n",
    "y2=y_c.subs({x:x2})"
   ]
  },
  {
   "cell_type": "code",
   "execution_count": 75,
   "metadata": {},
   "outputs": [
    {
     "data": {
      "image/png": "[encoded data removed]",
      "text/latex": [
       "$$b$$"
      ],
      "text/plain": [
       "b"
      ]
     },
     "execution_count": 75,
     "metadata": {},
     "output_type": "execute_result"
    }
   ],
   "source": [
    "m = (y1-y2)/(x1-x2)\n",
    "simplify(m)"
   ]
  },
  {
   "cell_type": "code",
   "execution_count": 76,
   "metadata": {},
   "outputs": [
    {
     "data": {
      "image/png": "[encoded data removed]",
      "text/latex": [
       "$$b x + b$$"
      ],
      "text/plain": [
       "b⋅x + b"
      ]
     },
     "execution_count": 76,
     "metadata": {},
     "output_type": "execute_result"
    }
   ],
   "source": [
    "y_m = expand(simplify(m)*(x+1))\n",
    "y_m"
   ]
  },
  {
   "cell_type": "code",
   "execution_count": 77,
   "metadata": {},
   "outputs": [
    {
     "data": {
      "image/png": "[encoded data removed]",
      "text/plain": [
       "<matplotlib.figure.Figure at 0x1198b2160>"
      ]
     },
     "metadata": {},
     "output_type": "display_data"
    },
    {
     "data": {
      "text/plain": [
       "<sympy.plotting.plot.Plot at 0x11cee22e8>"
      ]
     },
     "execution_count": 77,
     "metadata": {},
     "output_type": "execute_result"
    }
   ],
   "source": [
    "plot(y_c,y_m.subs({b:0.7}),(x,-2,2))"
   ]
  },
  {
   "cell_type": "code",
   "execution_count": 78,
   "metadata": {},
   "outputs": [
    {
     "data": {
      "image/png": "[encoded data removed]",
      "text/latex": [
       "$$- \\frac{b^{3}}{6} + b^{2} - 2 b + \\frac{4}{3}$$"
      ],
      "text/plain": [
       "   3               \n",
       "  b     2         4\n",
       "- ── + b  - 2⋅b + ─\n",
       "  6               3"
      ]
     },
     "execution_count": 78,
     "metadata": {},
     "output_type": "execute_result"
    }
   ],
   "source": [
    "s1=expand(integrate(y_c-y_m,(x,-1,1-b)))\n",
    "s1"
   ]
  },
  {
   "cell_type": "code",
   "execution_count": 79,
   "metadata": {},
   "outputs": [
    {
     "data": {
      "image/png": "[encoded data removed]",
      "text/latex": [
       "$$\\frac{2 b^{3}}{3} + 2 b^{2} - \\frac{5 b}{2} + \\frac{2}{3}$$"
      ],
      "text/plain": [
       "   3                 \n",
       "2⋅b       2   5⋅b   2\n",
       "──── + 2⋅b  - ─── + ─\n",
       " 3             2    3"
      ]
     },
     "execution_count": 79,
     "metadata": {},
     "output_type": "execute_result"
    }
   ],
   "source": [
    "s2=expand(integrate(y_m-y_c,(x,1-b,b)))\n",
    "s2"
   ]
  },
  {
   "cell_type": "code",
   "execution_count": 80,
   "metadata": {},
   "outputs": [
    {
     "data": {
      "image/png": "[encoded data removed]",
      "text/latex": [
       "$$\\frac{b^{3}}{2} + 3 b^{2} - \\frac{9 b}{2} + 2$$"
      ],
      "text/plain": [
       " 3                 \n",
       "b       2   9⋅b    \n",
       "── + 3⋅b  - ─── + 2\n",
       "2            2     "
      ]
     },
     "execution_count": 80,
     "metadata": {},
     "output_type": "execute_result"
    }
   ],
   "source": [
    "expand(s1+s2)"
   ]
  },
  {
   "cell_type": "code",
   "execution_count": 81,
   "metadata": {},
   "outputs": [
    {
     "data": {
      "image/png": "[encoded data removed]",
      "text/plain": [
       "<matplotlib.figure.Figure at 0x11ce3bc50>"
      ]
     },
     "metadata": {},
     "output_type": "display_data"
    },
    {
     "data": {
      "text/plain": [
       "<sympy.plotting.plot.Plot at 0x119885438>"
      ]
     },
     "execution_count": 81,
     "metadata": {},
     "output_type": "execute_result"
    }
   ],
   "source": [
    "plot(s1+s2,(b,0.5,1))"
   ]
  },
  {
   "cell_type": "code",
   "execution_count": 82,
   "metadata": {},
   "outputs": [
    {
     "data": {
      "image/png": "[encoded data removed]",
      "text/latex": [
       "$$\\left [ -2 + \\sqrt{7}, \\quad - \\sqrt{7} - 2\\right ]$$"
      ],
      "text/plain": [
       "[-2 + √7, -√7 - 2]"
      ]
     },
     "execution_count": 82,
     "metadata": {},
     "output_type": "execute_result"
    }
   ],
   "source": [
    "solve(diff(s1+s2,b),b)"
   ]
  },
  {
   "cell_type": "markdown",
   "metadata": {},
   "source": [
    "# 1-(2)改\n",
    "\n",
    "放物線$C$の方程式を$y=1-0.5x^2$として問題を解く．\n",
    "放物線$C$上の2点Q($-\\sqrt{2},0$)とR($\\sqrt{2}-b,1-(\\sqrt{2}-b)^2$)と読み替える．また，$S_2$を求めるときの範囲は$\\sqrt{2}-b \\leq x \\leq b$と読み替える．"
   ]
  },
  {
   "cell_type": "code",
   "execution_count": 121,
   "metadata": {},
   "outputs": [
    {
     "data": {
      "image/png": "[encoded data removed]",
      "text/plain": [
       "<matplotlib.figure.Figure at 0x11de8dc18>"
      ]
     },
     "metadata": {},
     "output_type": "display_data"
    },
    {
     "data": {
      "text/plain": [
       "<sympy.plotting.plot.Plot at 0x11de8deb8>"
      ]
     },
     "execution_count": 121,
     "metadata": {},
     "output_type": "execute_result"
    }
   ],
   "source": [
    "from sympy import *\n",
    "init_printing()\n",
    "b, x, t = symbols('b,x,t')\n",
    "y_c = 1-0.5*x**2\n",
    "# y_c = 1-Rational(1,2)*x**2\n",
    "plot(y_c,(x,-2,2))"
   ]
  },
  {
   "cell_type": "code",
   "execution_count": 122,
   "metadata": {},
   "outputs": [
    {
     "data": {
      "image/png": "[encoded data removed]",
      "text/latex": [
       "$$\\left [ -1.4142135623731, \\quad 1.4142135623731\\right ]$$"
      ],
      "text/plain": [
       "[-1.4142135623731, 1.4142135623731]"
      ]
     },
     "execution_count": 122,
     "metadata": {},
     "output_type": "execute_result"
    }
   ],
   "source": [
    "s_c = solve(y_c,x)\n",
    "s_c"
   ]
  },
  {
   "cell_type": "code",
   "execution_count": 123,
   "metadata": {
    "collapsed": true
   },
   "outputs": [],
   "source": [
    "x1=s_c[0]\n",
    "y1=0\n",
    "x2=s_c[1]-b\n",
    "y2=y_c.subs({x:x2})"
   ]
  },
  {
   "cell_type": "code",
   "execution_count": 124,
   "metadata": {},
   "outputs": [
    {
     "data": {
      "image/png": "[encoded data removed]",
      "text/latex": [
       "$$\\frac{1}{b - 2.82842712474619} \\left(x + 1.4142135623731\\right) \\left(0.5 \\left(b - 1.4142135623731\\right)^{2} - 1\\right)$$"
      ],
      "text/plain": [
       "                      ⎛                         2    ⎞\n",
       "(x + 1.4142135623731)⋅⎝0.5⋅(b - 1.4142135623731)  - 1⎠\n",
       "──────────────────────────────────────────────────────\n",
       "                 b - 2.82842712474619                 "
      ]
     },
     "execution_count": 124,
     "metadata": {},
     "output_type": "execute_result"
    }
   ],
   "source": [
    "y_m = simplify((y1-y2)/(x1-x2)*(x-x1)+y1)\n",
    "y_m"
   ]
  },
  {
   "cell_type": "code",
   "execution_count": 125,
   "metadata": {},
   "outputs": [
    {
     "data": {
      "image/png": "[encoded data removed]",
      "text/latex": [
       "$$\\frac{1}{2.0 b^{2} - 11.3137084989848 b + 16.0} \\left(- 0.166666666666667 b^{5} + 2.35702260395516 b^{4} - 13.3333333333333 b^{3} + 37.7123616632825 b^{2} - 53.3333333333333 b + 30.169889330626\\right)$$"
      ],
      "text/plain": [
       "                     5                     4                     3            \n",
       "- 0.166666666666667⋅b  + 2.35702260395516⋅b  - 13.3333333333333⋅b  + 37.712361\n",
       "──────────────────────────────────────────────────────────────────────────────\n",
       "                                                    2                         \n",
       "                                               2.0⋅b  - 11.3137084989848⋅b + 1\n",
       "\n",
       "         2                                       \n",
       "6632825⋅b  - 53.3333333333333⋅b + 30.169889330626\n",
       "─────────────────────────────────────────────────\n",
       "                                                 \n",
       "6.0                                              "
      ]
     },
     "execution_count": 125,
     "metadata": {},
     "output_type": "execute_result"
    }
   ],
   "source": [
    "s1= expand(integrate(y_c-y_m,(x,x1,x2)))\n",
    "simplify(s1)"
   ]
  },
  {
   "cell_type": "code",
   "execution_count": 126,
   "metadata": {},
   "outputs": [
    {
     "data": {
      "image/png": "[encoded data removed]",
      "text/latex": [
       "$$0.333333333333333 b^{3} + \\frac{1.4142135623731 b^{3}}{2.0 b - 5.65685424949238} + \\frac{1.4142135623731 b^{3}}{1.0 b - 2.82842712474619} - 0.707106781186548 b^{2} - \\frac{5.0 b^{2}}{2.0 b - 5.65685424949238} - \\frac{7.0 b^{2}}{1.0 b - 2.82842712474619} + 1.0 b + \\frac{2.82842712474619 b}{2.0 b - 5.65685424949238} + \\frac{9.89949493661167 b}{1.0 b - 2.82842712474619} - 0.471404520791032 - \\frac{4.44089209850063 \\cdot 10^{-16}}{2.0 b - 5.65685424949238} - \\frac{4.0}{1.0 b - 2.82842712474619}$$"
      ],
      "text/plain": [
       "                                           3                          3       \n",
       "                   3      1.4142135623731⋅b          1.4142135623731⋅b        \n",
       "0.333333333333333⋅b  + ──────────────────────── + ──────────────────────── - 0\n",
       "                       2.0⋅b - 5.65685424949238   1.0⋅b - 2.82842712474619    \n",
       "\n",
       "                                    2                          2              \n",
       "                  2            5.0⋅b                      7.0⋅b               \n",
       ".707106781186548⋅b  - ──────────────────────── - ──────────────────────── + 1.\n",
       "                      2.0⋅b - 5.65685424949238   1.0⋅b - 2.82842712474619     \n",
       "\n",
       "                                                                              \n",
       "         2.82842712474619⋅b         9.89949493661167⋅b                        \n",
       "0⋅b + ──────────────────────── + ──────────────────────── - 0.471404520791032 \n",
       "      2.0⋅b - 5.65685424949238   1.0⋅b - 2.82842712474619                     \n",
       "\n",
       "                                                     \n",
       "    4.44089209850063e-16               4.0           \n",
       "- ──────────────────────── - ────────────────────────\n",
       "  2.0⋅b - 5.65685424949238   1.0⋅b - 2.82842712474619"
      ]
     },
     "execution_count": 126,
     "metadata": {},
     "output_type": "execute_result"
    }
   ],
   "source": [
    "s2=expand(integrate(y_m-y_c,(x,x2,b)))\n",
    "s2"
   ]
  },
  {
   "cell_type": "code",
   "execution_count": 132,
   "metadata": {},
   "outputs": [
    {
     "data": {
      "image/png": "[encoded data removed]",
      "text/plain": [
       "<matplotlib.figure.Figure at 0x11e261b70>"
      ]
     },
     "metadata": {},
     "output_type": "display_data"
    },
    {
     "data": {
      "text/plain": [
       "<sympy.plotting.plot.Plot at 0x11e218c50>"
      ]
     },
     "execution_count": 132,
     "metadata": {},
     "output_type": "execute_result"
    }
   ],
   "source": [
    "plot(s1+s2,(b,1/2,s_c[1]))"
   ]
  },
  {
   "cell_type": "code",
   "execution_count": 128,
   "metadata": {},
   "outputs": [
    {
     "data": {
      "image/png": "[encoded data removed]",
      "text/latex": [
       "$$\\left [ -6.57008451152015, \\quad 0.913230262027749, \\quad 2.82842712474618 - 9.95734376837174 \\cdot 10^{-8} i, \\quad 2.82842712474618 + 9.95734376837174 \\cdot 10^{-8} i\\right ]$$"
      ],
      "text/plain": [
       "[-6.57008451152015, 0.913230262027749, 2.82842712474618 - 9.95734376837174e-8⋅\n",
       "ⅈ, 2.82842712474618 + 9.95734376837174e-8⋅ⅈ]"
      ]
     },
     "execution_count": 128,
     "metadata": {},
     "output_type": "execute_result"
    }
   ],
   "source": [
    "solve(diff(s1+s2,b),b)"
   ]
  },
  {
   "cell_type": "code",
   "execution_count": 129,
   "metadata": {},
   "outputs": [
    {
     "data": {
      "image/png": "[encoded data removed]",
      "text/latex": [
       "$$0.913230262027749$$"
      ],
      "text/plain": [
       "0.913230262027749"
      ]
     },
     "execution_count": 129,
     "metadata": {},
     "output_type": "execute_result"
    }
   ],
   "source": [
    "solve(diff(s1+s2,b),b)[1].evalf()"
   ]
  },
  {
   "cell_type": "code",
   "execution_count": 119,
   "metadata": {},
   "outputs": [
    {
     "data": {
      "image/png": "[encoded data removed]",
      "text/latex": [
       "$$\\left [ - \\sqrt{14} - 2 \\sqrt{2}, \\quad - 2 \\sqrt{2} + \\sqrt{14}\\right ]$$"
      ],
      "text/plain": [
       "[-√14 - 2⋅√2, -2⋅√2 + √14]"
      ]
     },
     "execution_count": 119,
     "metadata": {},
     "output_type": "execute_result"
    }
   ],
   "source": [
    "solve(simplify(diff(s1+s2,b)),b)"
   ]
  },
  {
   "cell_type": "code",
   "execution_count": 120,
   "metadata": {},
   "outputs": [
    {
     "data": {
      "image/png": "[encoded data removed]",
      "text/latex": [
       "$$0.913230262027751$$"
      ],
      "text/plain": [
       "0.913230262027751"
      ]
     },
     "execution_count": 120,
     "metadata": {},
     "output_type": "execute_result"
    }
   ],
   "source": [
    "solve(simplify(diff(s1+s2,b)),b)[1].evalf()"
   ]
  },
  {
   "cell_type": "markdown",
   "metadata": {},
   "source": [
    "与関数を\n",
    "$$y=1-\\frac{1}{2}x^2$$\n",
    "つまり\n",
    "``` python\n",
    "y=1-Rational(1,2)*x**2\n",
    "```\n",
    "\n",
    "とRationalを明示的に使えば．答えは，\n",
    "$$\n",
    "\\left [ - \\sqrt{14} - 2 \\sqrt{2}, \\quad - 2 \\sqrt{2} + \\sqrt{14}\\right ]\n",
    "$$\n",
    "と解析的に求められる．後ろ側が求めた数値解と一致する．\n",
    "その場合，\n",
    "``` python\n",
    "solve(simplify(diff(s1+s2,b)),b)\n",
    "```\n",
    "としないと求められない．"
   ]
  },
  {
   "cell_type": "markdown",
   "metadata": {},
   "source": [
    "# 1-(1) 放物線の接線の距離\n",
    "\n",
    "2015 年度大学入試センター試験 追試 数学 II・B 第 2 問 (1)の解答例を参考に示しておく(苦労して解いたんで)．"
   ]
  },
  {
   "cell_type": "code",
   "execution_count": 47,
   "metadata": {},
   "outputs": [
    {
     "data": {
      "image/png": "[encoded data removed]",
      "text/plain": [
       "<matplotlib.figure.Figure at 0x10a508b70>"
      ]
     },
     "metadata": {},
     "output_type": "display_data"
    },
    {
     "data": {
      "text/plain": [
       "<sympy.plotting.plot.Plot at 0x10a3d8748>"
      ]
     },
     "execution_count": 47,
     "metadata": {},
     "output_type": "execute_result"
    }
   ],
   "source": [
    "from sympy import *\n",
    "init_printing()\n",
    "a, x, t = symbols('a,x,t')\n",
    "y_c = 1-x**2\n",
    "plot(y_c,(x,-2,2))"
   ]
  },
  {
   "cell_type": "code",
   "execution_count": 48,
   "metadata": {},
   "outputs": [
    {
     "data": {
      "image/png": "[encoded data removed]",
      "text/latex": [
       "$$- 2 x$$"
      ],
      "text/plain": [
       "-2⋅x"
      ]
     },
     "execution_count": 48,
     "metadata": {},
     "output_type": "execute_result"
    }
   ],
   "source": [
    "m = diff(y_c,x)\n",
    "m"
   ]
  },
  {
   "cell_type": "code",
   "execution_count": 49,
   "metadata": {},
   "outputs": [
    {
     "data": {
      "image/png": "[encoded data removed]",
      "text/latex": [
       "$$a^{2} - 2 a x + 1$$"
      ],
      "text/plain": [
       " 2            \n",
       "a  - 2⋅a⋅x + 1"
      ]
     },
     "execution_count": 49,
     "metadata": {},
     "output_type": "execute_result"
    }
   ],
   "source": [
    "y_l=collect(expand(m.subs({x: a})*(x-a)+y_c.subs({x: a})),x)\n",
    "y_l"
   ]
  },
  {
   "cell_type": "code",
   "execution_count": 50,
   "metadata": {},
   "outputs": [
    {
     "data": {
      "image/png": "[encoded data removed]",
      "text/plain": [
       "<matplotlib.figure.Figure at 0x114b0ff60>"
      ]
     },
     "metadata": {},
     "output_type": "display_data"
    },
    {
     "data": {
      "text/plain": [
       "<sympy.plotting.plot.Plot at 0x114b0f0b8>"
      ]
     },
     "execution_count": 50,
     "metadata": {},
     "output_type": "execute_result"
    }
   ],
   "source": [
    "plot(y_l.subs({a:1}),y_c,(x,-2,2))"
   ]
  },
  {
   "cell_type": "markdown",
   "metadata": {},
   "source": [
    "点($x_0,y_0$)と直線($c_ax+c_by+c_c=0$)の距離($h$)の公式\n",
    "$$\n",
    "h = \\frac{|c_ax_0+c_by_0+c_c|}{\\sqrt{c_a^2+c_b^2}}\n",
    "$$"
   ]
  },
  {
   "cell_type": "code",
   "execution_count": 51,
   "metadata": {
    "collapsed": true
   },
   "outputs": [],
   "source": [
    "c_a=y_l.coeff(x)\n",
    "c_c=y_l.coeff(x,0)\n",
    "c_b=-1"
   ]
  },
  {
   "cell_type": "code",
   "execution_count": 52,
   "metadata": {},
   "outputs": [
    {
     "data": {
      "image/png": "[encoded data removed]",
      "text/latex": [
       "$$\\frac{a^{2} + 1}{\\sqrt{4 a^{2} + 1}}$$"
      ],
      "text/plain": [
       "     2       \n",
       "    a  + 1   \n",
       "─────────────\n",
       "   __________\n",
       "  ╱    2     \n",
       "╲╱  4⋅a  + 1 "
      ]
     },
     "execution_count": 52,
     "metadata": {},
     "output_type": "execute_result"
    }
   ],
   "source": [
    "h = (c_a*0+c_b*0+c_c)/sqrt(c_a**2+c_b**2)\n",
    "h"
   ]
  },
  {
   "cell_type": "code",
   "execution_count": 53,
   "metadata": {
    "collapsed": true
   },
   "outputs": [],
   "source": [
    "a_2 = solve(sqrt(4*a**2+1)**2-t**2,a**2)[0]"
   ]
  },
  {
   "cell_type": "code",
   "execution_count": 54,
   "metadata": {},
   "outputs": [
    {
     "data": {
      "image/png": "[encoded data removed]",
      "text/latex": [
       "$$\\frac{t^{2} + 3}{4 t}$$"
      ],
      "text/plain": [
       " 2    \n",
       "t  + 3\n",
       "──────\n",
       " 4⋅t  "
      ]
     },
     "execution_count": 54,
     "metadata": {},
     "output_type": "execute_result"
    }
   ],
   "source": [
    "simplify((a_2+1)/t)"
   ]
  },
  {
   "cell_type": "code",
   "execution_count": 55,
   "metadata": {},
   "outputs": [
    {
     "data": {
      "image/png": "[encoded data removed]",
      "text/plain": [
       "<matplotlib.figure.Figure at 0x114b64898>"
      ]
     },
     "metadata": {},
     "output_type": "display_data"
    },
    {
     "data": {
      "text/plain": [
       "<sympy.plotting.plot.Plot at 0x114b64160>"
      ]
     },
     "execution_count": 55,
     "metadata": {},
     "output_type": "execute_result"
    }
   ],
   "source": [
    "plot(h,(a,-1,1))"
   ]
  },
  {
   "cell_type": "code",
   "execution_count": 56,
   "metadata": {},
   "outputs": [
    {
     "data": {
      "image/png": "[encoded data removed]",
      "text/latex": [
       "$$\\left [ 0, \\quad - \\frac{\\sqrt{2}}{2}, \\quad \\frac{\\sqrt{2}}{2}\\right ]$$"
      ],
      "text/plain": [
       "⎡   -√2   √2⎤\n",
       "⎢0, ────, ──⎥\n",
       "⎣    2    2 ⎦"
      ]
     },
     "execution_count": 56,
     "metadata": {},
     "output_type": "execute_result"
    }
   ],
   "source": [
    "s1 = solve(diff(h,a),a)\n",
    "s1"
   ]
  },
  {
   "cell_type": "code",
   "execution_count": 57,
   "metadata": {
    "scrolled": true
   },
   "outputs": [
    {
     "data": {
      "image/png": "[encoded data removed]",
      "text/latex": [
       "$$\\frac{\\sqrt{3}}{2}$$"
      ],
      "text/plain": [
       "√3\n",
       "──\n",
       "2 "
      ]
     },
     "execution_count": 57,
     "metadata": {},
     "output_type": "execute_result"
    }
   ],
   "source": [
    "h.subs({a:s1[1]})"
   ]
  }
 ],
 "metadata": {
  "kernelspec": {
   "display_name": "Python 3",
   "language": "python",
   "name": "python3"
  },
  "language_info": {
   "codemirror_mode": {
    "name": "ipython",
    "version": 3
   },
   "file_extension": ".py",
   "mimetype": "text/x-python",
   "name": "python",
   "nbconvert_exporter": "python",
   "pygments_lexer": "ipython3",
   "version": "3.6.1"
  },
  "latex_envs": {
   "LaTeX_envs_menu_present": true,
   "autocomplete": true,
   "bibliofile": "biblio.bib",
   "cite_by": "apalike",
   "current_citInitial": 1,
   "eqLabelWithNumbers": true,
   "eqNumInitial": 1,
   "hotkeys": {
    "equation": "Ctrl-E",
    "itemize": "Ctrl-I"
   },
   "labels_anchors": false,
   "latex_user_defs": false,
   "report_style_numbering": false,
   "user_envs_cfg": false
  },
  "toc": {
   "colors": {
    "hover_highlight": "#DAA520",
    "navigate_num": "#000000",
    "navigate_text": "#333333",
    "running_highlight": "#FF0000",
    "selected_highlight": "#FFD700",
    "sidebar_border": "#EEEEEE",
    "wrapper_background": "#FFFFFF"
   },
   "moveMenuLeft": true,
   "nav_menu": {
    "height": "12px",
    "width": "252px"
   },
   "navigate_menu": true,
   "number_sections": true,
   "sideBar": true,
   "threshold": 4,
   "toc_cell": true,
   "toc_section_display": "block",
   "toc_window_display": true,
   "widenNotebook": false
  }
 },
 "nbformat": 4,
 "nbformat_minor": 2
}
