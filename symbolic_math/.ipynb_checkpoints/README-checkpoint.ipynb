{
 "cells": [
  {
   "cell_type": "markdown",
   "metadata": {
    "toc": "true"
   },
   "source": [
    "# Table of Contents\n",
    " <p>"
   ]
  },
  {
   "cell_type": "markdown",
   "metadata": {},
   "source": [
    "   <div style=\"text-align: center;\">\n",
    "      <font size=\"5\"> Pythonで数式処理 </font>\n",
    "    </div>\n",
    "      <div style=\"text-align: right;\">\n",
    "      <font size=\"3\"> cc by Shigeto R. Nishitani, 2017-10-31 </font>\n",
    "    </div>\n",
    "* file: /Users/bob/python/doing_math_with_python/symbolic_math/README.ipynb"
   ]
  },
  {
   "cell_type": "markdown",
   "metadata": {},
   "source": [
    "1. 基礎\n",
    "数式処理の基本的な操作をsympyでどう記述するかを紹介しています．\n",
    "とにかく，importだらけで何が効いているのか分かりにくくなります．まだ未熟なんではっきりしたことは言えませんが，restartとおなじimportコメンドでも忘れず書いておくことがコツのようです．\n",
    "  1. [基本操作(first_leaf)](./first_leaf.ipynb)\n",
    "  1. [初等関数とそのほかの関数(functions)](./functions.ipynb)\n",
    "  1. [等号(equals)](./equals.ipynb)\n",
    "1. 応用\n",
    "\n",
    "  1. [線形代数(linear algebra), sympy](./linear_algebra_sympy.ipynb)\n",
    "  1. [線形代数(linear algebra), scipy](./linear_algebra_scipy.ipynb)\n",
    "  1. [微分(differential)](./differential.ipynb)(2/9記述完了チェック)\n",
    "  1. [積分(integral)](./integral.ipynb)\n",
    "1. 発展\n",
    "  1. [式変形(equation manipulation)](./equation_manipulation.ipynb)\n",
    "  1. [描画(CG)](./cg.ipynb)\n",
    "  1. [その他(miscellaneous)](./miscellaneous.ipynb)"
   ]
  },
  {
   "cell_type": "code",
   "execution_count": null,
   "metadata": {
    "collapsed": true
   },
   "outputs": [],
   "source": []
  }
 ],
 "metadata": {
  "kernelspec": {
   "display_name": "Python 3",
   "language": "python",
   "name": "python3"
  },
  "language_info": {
   "codemirror_mode": {
    "name": "ipython",
    "version": 3
   },
   "file_extension": ".py",
   "mimetype": "text/x-python",
   "name": "python",
   "nbconvert_exporter": "python",
   "pygments_lexer": "ipython3",
   "version": "3.6.1"
  },
  "latex_envs": {
   "LaTeX_envs_menu_present": true,
   "autocomplete": true,
   "bibliofile": "biblio.bib",
   "cite_by": "apalike",
   "current_citInitial": 1,
   "eqLabelWithNumbers": true,
   "eqNumInitial": 1,
   "hotkeys": {
    "equation": "Ctrl-E",
    "itemize": "Ctrl-I"
   },
   "labels_anchors": false,
   "latex_user_defs": false,
   "report_style_numbering": false,
   "user_envs_cfg": false
  },
  "toc": {
   "colors": {
    "hover_highlight": "#DAA520",
    "navigate_num": "#000000",
    "navigate_text": "#333333",
    "running_highlight": "#FF0000",
    "selected_highlight": "#FFD700",
    "sidebar_border": "#EEEEEE",
    "wrapper_background": "#FFFFFF"
   },
   "moveMenuLeft": true,
   "nav_menu": {
    "height": "12px",
    "width": "252px"
   },
   "navigate_menu": true,
   "number_sections": true,
   "sideBar": true,
   "threshold": 4,
   "toc_cell": true,
   "toc_section_display": "block",
   "toc_window_display": true,
   "widenNotebook": false
  }
 },
 "nbformat": 4,
 "nbformat_minor": 2
}
