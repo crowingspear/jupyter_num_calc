{
 "cells": [
  {
   "cell_type": "markdown",
   "metadata": {
    "toc": "true"
   },
   "source": [
    "# Table of Contents\n",
    " <p><div class=\"lev1 toc-item\"><a href=\"#files-and-dir\" data-toc-modified-id=\"files-and-dir-1\"><span class=\"toc-item-num\">1&nbsp;&nbsp;</span>files and dir</a></div><div class=\"lev1 toc-item\"><a href=\"#dirでのやり取り\" data-toc-modified-id=\"dirでのやり取り-2\"><span class=\"toc-item-num\">2&nbsp;&nbsp;</span>dirでのやり取り</a></div><div class=\"lev2 toc-item\"><a href=\"#getcwd\" data-toc-modified-id=\"getcwd-21\"><span class=\"toc-item-num\">2.1&nbsp;&nbsp;</span>getcwd</a></div><div class=\"lev2 toc-item\"><a href=\"#mk,-cd,-ls\" data-toc-modified-id=\"mk,-cd,-ls-22\"><span class=\"toc-item-num\">2.2&nbsp;&nbsp;</span>mk, cd, ls</a></div><div class=\"lev2 toc-item\"><a href=\"#globでfull_pathで表示\" data-toc-modified-id=\"globでfull_pathで表示-23\"><span class=\"toc-item-num\">2.3&nbsp;&nbsp;</span>globでfull_pathで表示</a></div><div class=\"lev1 toc-item\"><a href=\"#fileの読み書き\" data-toc-modified-id=\"fileの読み書き-3\"><span class=\"toc-item-num\">3&nbsp;&nbsp;</span>fileの読み書き</a></div><div class=\"lev2 toc-item\"><a href=\"#単純な読み書き\" data-toc-modified-id=\"単純な読み書き-31\"><span class=\"toc-item-num\">3.1&nbsp;&nbsp;</span>単純な読み書き</a></div><div class=\"lev2 toc-item\"><a href=\"#sprintfからの出力\" data-toc-modified-id=\"sprintfからの出力-32\"><span class=\"toc-item-num\">3.2&nbsp;&nbsp;</span>sprintfからの出力</a></div>"
   ]
  },
  {
   "cell_type": "markdown",
   "metadata": {},
   "source": [
    "# files and dir\n",
    "dataなどのfileとのやり取りに関するまとめです．"
   ]
  },
  {
   "cell_type": "markdown",
   "metadata": {},
   "source": [
    "# dirでのやり取り"
   ]
  },
  {
   "cell_type": "markdown",
   "metadata": {},
   "source": [
    "## cwd"
   ]
  },
  {
   "cell_type": "code",
   "execution_count": 3,
   "metadata": {},
   "outputs": [
    {
     "data": {
      "text/plain": [
       "'/Users/bob/python/doing_math_with_python/symbolic_math'"
      ]
     },
     "execution_count": 3,
     "metadata": {},
     "output_type": "execute_result"
    }
   ],
   "source": [
    "import os\n",
    " \n",
    "cwd = os.getcwd()\n",
    "cwd"
   ]
  },
  {
   "cell_type": "markdown",
   "metadata": {},
   "source": [
    "## mk, cd, ls"
   ]
  },
  {
   "cell_type": "code",
   "execution_count": 21,
   "metadata": {},
   "outputs": [
    {
     "data": {
      "text/plain": [
       "['dir2']"
      ]
     },
     "execution_count": 21,
     "metadata": {},
     "output_type": "execute_result"
    }
   ],
   "source": [
    "os.listdir()"
   ]
  },
  {
   "cell_type": "code",
   "execution_count": 26,
   "metadata": {},
   "outputs": [
    {
     "data": {
      "text/plain": [
       "[]"
      ]
     },
     "execution_count": 26,
     "metadata": {},
     "output_type": "execute_result"
    }
   ],
   "source": [
    "new_dir = 'dir4'\n",
    "os.mkdir(new_dir)\n",
    "os.chdir(new_dir)\n",
    "os.getcwd()\n",
    "os.listdir()"
   ]
  },
  {
   "cell_type": "code",
   "execution_count": 27,
   "metadata": {},
   "outputs": [
    {
     "name": "stdout",
     "output_type": "stream",
     "text": [
      "/Users/bob/python/doing_math_with_python/symbolic_math/dir2\n"
     ]
    },
    {
     "data": {
      "text/plain": [
       "['dir2', 'dir4', 'dir3']"
      ]
     },
     "execution_count": 27,
     "metadata": {},
     "output_type": "execute_result"
    }
   ],
   "source": [
    "os.chdir('..')\n",
    "print(os.getcwd())\n",
    "os.listdir()"
   ]
  },
  {
   "cell_type": "markdown",
   "metadata": {},
   "source": [
    "## globでfull_pathで表示"
   ]
  },
  {
   "cell_type": "code",
   "execution_count": 144,
   "metadata": {},
   "outputs": [
    {
     "name": "stdout",
     "output_type": "stream",
     "text": [
      "/Users/bob/python/doing_math_with_python/symbolic_math/dir2/tmp.txt\n",
      "/Users/bob/python/doing_math_with_python/symbolic_math/dir2/dir2\n",
      "/Users/bob/python/doing_math_with_python/symbolic_math/dir2/dir4\n",
      "/Users/bob/python/doing_math_with_python/symbolic_math/dir2/dir3\n",
      "/Users/bob/python/doing_math_with_python/symbolic_math/dir2/test.txt\n"
     ]
    }
   ],
   "source": [
    "import glob\n",
    "\n",
    "files = glob.glob(cwd+'/dir2'+'/*')\n",
    "for file in files:\n",
    "    print(file)"
   ]
  },
  {
   "cell_type": "markdown",
   "metadata": {},
   "source": [
    "# fileの読み書き"
   ]
  },
  {
   "cell_type": "code",
   "execution_count": 145,
   "metadata": {},
   "outputs": [
    {
     "data": {
      "text/plain": [
       "'/Users/bob/python/doing_math_with_python/symbolic_math/dir2'"
      ]
     },
     "execution_count": 145,
     "metadata": {},
     "output_type": "execute_result"
    }
   ],
   "source": [
    "os.getcwd()"
   ]
  },
  {
   "cell_type": "markdown",
   "metadata": {},
   "source": [
    "## 単純な読み書き"
   ]
  },
  {
   "cell_type": "code",
   "execution_count": 86,
   "metadata": {},
   "outputs": [],
   "source": [
    "data = ['x', 'y']\n",
    "text = \"\\n\".join(data)\n",
    "with open(\"tmp.txt\", \"w\") as f:\n",
    "    f.write(text)"
   ]
  },
  {
   "cell_type": "code",
   "execution_count": 87,
   "metadata": {},
   "outputs": [
    {
     "name": "stdout",
     "output_type": "stream",
     "text": [
      "['x\\n', 'y']\n"
     ]
    }
   ],
   "source": [
    "with open(\"tmp.txt\", \"r\") as f:\n",
    "    lines = f.readlines()\n",
    "    print(lines)"
   ]
  },
  {
   "cell_type": "code",
   "execution_count": 88,
   "metadata": {},
   "outputs": [
    {
     "name": "stdout",
     "output_type": "stream",
     "text": [
      "x\n",
      "y\n"
     ]
    }
   ],
   "source": [
    "for line in lines:\n",
    "    print(line.rstrip())"
   ]
  },
  {
   "cell_type": "markdown",
   "metadata": {
    "heading_collapsed": true
   },
   "source": [
    "## sprintfからの出力"
   ]
  },
  {
   "cell_type": "code",
   "execution_count": 140,
   "metadata": {
    "hidden": true
   },
   "outputs": [
    {
     "name": "stdout",
     "output_type": "stream",
     "text": [
      "['x', 0, 'y', 0]\n",
      "   x:  0,    y:  0\n",
      "\n",
      "['x', 1, 'y', 1]\n",
      "   x:  1,    y:  1\n",
      "\n"
     ]
    }
   ],
   "source": [
    "data = [['x', 0, 'y', 0],\n",
    "        ['x', 1, 'y', 1]]\n",
    "\n",
    "with open(\"tmp.txt\", \"w\") as f:\n",
    "    for dd in data:\n",
    "        print(dd)\n",
    "        string = '%4s:%3d, %4s:%3d\\n' % tuple(dd)\n",
    "        print(string)\n",
    "        f.writelines(string)"
   ]
  },
  {
   "cell_type": "code",
   "execution_count": 142,
   "metadata": {
    "hidden": true
   },
   "outputs": [
    {
     "name": "stdout",
     "output_type": "stream",
     "text": [
      "['x', 0, 'y', 0]\n",
      "   x:  0,    y:  0\n",
      "\n",
      "['x', 1, 'y', 1]\n",
      "   x:  1,    y:  1\n",
      "\n"
     ]
    }
   ],
   "source": [
    "data = [['x', 0, 'y', 0],\n",
    "        ['x', 1, 'y', 1]]\n",
    "\n",
    "f = open(\"tmp.txt\", \"w\")\n",
    "for dd in data:\n",
    "    print(dd)\n",
    "    string = '%4s:%3d, %4s:%3d\\n' % tuple(dd)\n",
    "    print(string)\n",
    "    f.writelines(string)\n",
    "\n",
    "f.close()"
   ]
  },
  {
   "cell_type": "code",
   "execution_count": 143,
   "metadata": {
    "hidden": true
   },
   "outputs": [
    {
     "name": "stdout",
     "output_type": "stream",
     "text": [
      "   x:  0,    y:  0\n",
      "   x:  1,    y:  1\n"
     ]
    }
   ],
   "source": [
    "file = open(\"tmp.txt\", \"r\")\n",
    "lines = file.readlines()\n",
    "for line in lines:\n",
    "    print(line.rstrip())"
   ]
  },
  {
   "cell_type": "code",
   "execution_count": null,
   "metadata": {
    "collapsed": true,
    "hidden": true
   },
   "outputs": [],
   "source": []
  }
 ],
 "metadata": {
  "kernelspec": {
   "display_name": "Python 3",
   "language": "python",
   "name": "python3"
  },
  "language_info": {
   "codemirror_mode": {
    "name": "ipython",
    "version": 3
   },
   "file_extension": ".py",
   "mimetype": "text/x-python",
   "name": "python",
   "nbconvert_exporter": "python",
   "pygments_lexer": "ipython3",
   "version": "3.6.1"
  },
  "latex_envs": {
   "LaTeX_envs_menu_present": true,
   "autocomplete": true,
   "bibliofile": "biblio.bib",
   "cite_by": "apalike",
   "current_citInitial": 1,
   "eqLabelWithNumbers": true,
   "eqNumInitial": 1,
   "hotkeys": {
    "equation": "Ctrl-E",
    "itemize": "Ctrl-I"
   },
   "labels_anchors": false,
   "latex_user_defs": false,
   "report_style_numbering": false,
   "user_envs_cfg": false
  },
  "toc": {
   "colors": {
    "hover_highlight": "#DAA520",
    "navigate_num": "#000000",
    "navigate_text": "#333333",
    "running_highlight": "#FF0000",
    "selected_highlight": "#FFD700",
    "sidebar_border": "#EEEEEE",
    "wrapper_background": "#FFFFFF"
   },
   "moveMenuLeft": true,
   "nav_menu": {
    "height": "12px",
    "width": "252px"
   },
   "navigate_menu": true,
   "number_sections": true,
   "sideBar": true,
   "threshold": 4,
   "toc_cell": true,
   "toc_section_display": "block",
   "toc_window_display": true,
   "widenNotebook": false
  }
 },
 "nbformat": 4,
 "nbformat_minor": 2
}
