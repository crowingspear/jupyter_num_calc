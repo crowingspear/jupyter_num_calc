{
 "cells": [
  {
   "cell_type": "markdown",
   "metadata": {
    "toc": "true"
   },
   "source": [
    "# Table of Contents\n",
    " <p><div class=\"lev1 toc-item\"><a href=\"#積分(int)\" data-toc-modified-id=\"積分(int)-1\"><span class=\"toc-item-num\">1&nbsp;&nbsp;</span>積分(int)</a></div><div class=\"lev2 toc-item\"><a href=\"#単純な積分(int)\" data-toc-modified-id=\"単純な積分(int)-11\"><span class=\"toc-item-num\">1.1&nbsp;&nbsp;</span>単純な積分(int)</a></div><div class=\"lev2 toc-item\"><a href=\"#Integralいろいろ\" data-toc-modified-id=\"Integralいろいろ-12\"><span class=\"toc-item-num\">1.2&nbsp;&nbsp;</span>Integralいろいろ</a></div><div class=\"lev3 toc-item\"><a href=\"#部分積分(integration-by-parts)\" data-toc-modified-id=\"部分積分(integration-by-parts)-121\"><span class=\"toc-item-num\">1.2.1&nbsp;&nbsp;</span>部分積分(integration by parts)</a></div><div class=\"lev2 toc-item\"><a href=\"#置換(change-of-variables)による積分\" data-toc-modified-id=\"置換(change-of-variables)による積分-13\"><span class=\"toc-item-num\">1.3&nbsp;&nbsp;</span>置換(change of variables)による積分</a></div><div class=\"lev4 toc-item\"><a href=\"#部分分数(partial-fraction)展開による積分\" data-toc-modified-id=\"部分分数(partial-fraction)展開による積分-1301\"><span class=\"toc-item-num\">1.3.0.1&nbsp;&nbsp;</span>部分分数(partial fraction)展開による積分</a></div><div class=\"lev2 toc-item\"><a href=\"#課題\" data-toc-modified-id=\"課題-14\"><span class=\"toc-item-num\">1.4&nbsp;&nbsp;</span>課題</a></div><div class=\"lev3 toc-item\"><a href=\"#不定積分\" data-toc-modified-id=\"不定積分-141\"><span class=\"toc-item-num\">1.4.1&nbsp;&nbsp;</span>不定積分</a></div><div class=\"lev3 toc-item\"><a href=\"#定積分:次の定積分を求めよ．\" data-toc-modified-id=\"定積分:次の定積分を求めよ．-142\"><span class=\"toc-item-num\">1.4.2&nbsp;&nbsp;</span>定積分:次の定積分を求めよ．</a></div><div class=\"lev3 toc-item\"><a href=\"#(発展課題，重積分）次の2重積分を求めよ．\" data-toc-modified-id=\"(発展課題，重積分）次の2重積分を求めよ．-143\"><span class=\"toc-item-num\">1.4.3&nbsp;&nbsp;</span>(発展課題，重積分）次の2重積分を求めよ．</a></div><div class=\"lev3 toc-item\"><a href=\"#解答例\" data-toc-modified-id=\"解答例-144\"><span class=\"toc-item-num\">1.4.4&nbsp;&nbsp;</span>解答例</a></div>"
   ]
  },
  {
   "cell_type": "markdown",
   "metadata": {},
   "source": [
    "<br />\n",
    "\n",
    "<div style=\"text-align: center;\">\n",
    "<font size=\"7\">積分(integral)</font>\n",
    "</div>\n",
    "<br />\n",
    "<div style=\"text-align: right;\">\n",
    "<font size=\"4\">file:/~/python/doing_math_with_python/differential.ipynb</font>\n",
    "<br />\n",
    "<font size=\"4\">cc by Shigeto R. Nishitani 2017 </font>\n",
    "</div>\n"
   ]
  },
  {
   "cell_type": "markdown",
   "metadata": {},
   "source": [
    "# 積分(int)\n"
   ]
  },
  {
   "cell_type": "markdown",
   "metadata": {},
   "source": [
    "## 単純な積分(int) \n"
   ]
  },
  {
   "cell_type": "markdown",
   "metadata": {},
   "source": [
    "単純な不定積分．\n",
    "```maple\n",
    "> int(ln(x),x);\t#res: x ln(x) - x\n",
    "```"
   ]
  },
  {
   "cell_type": "code",
   "execution_count": 13,
   "metadata": {},
   "outputs": [
    {
     "data": {
      "text/plain": [
       "x*log(x) - x"
      ]
     },
     "execution_count": 13,
     "metadata": {},
     "output_type": "execute_result"
    }
   ],
   "source": [
    "from sympy import *\n",
    "x,y = symbols('x y')\n",
    "\n",
    "integrate(ln(x),x)"
   ]
  },
  {
   "cell_type": "markdown",
   "metadata": {},
   "source": [
    "定積分を実行するには，積分変数の範囲を指定する．\n",
    "```maple\n",
    "> int(sin(x),x=-Pi..0);\t#res: -2\n",
    "```"
   ]
  },
  {
   "cell_type": "code",
   "execution_count": 14,
   "metadata": {},
   "outputs": [
    {
     "data": {
      "text/plain": [
       "-2"
      ]
     },
     "execution_count": 14,
     "metadata": {},
     "output_type": "execute_result"
    }
   ],
   "source": [
    "integrate(sin(x),(x,-pi,0))"
   ]
  },
  {
   "cell_type": "markdown",
   "metadata": {},
   "source": [
    "特異点をもつ場合にも適切に積分結果を求めてくれる．\n",
    "```maple\n",
    "> int(1/sqrt(x*(2-x)),x=0..2); #res: pi\n",
    "```\n"
   ]
  },
  {
   "cell_type": "code",
   "execution_count": 15,
   "metadata": {},
   "outputs": [
    {
     "data": {
      "text/plain": [
       "Integral(1/sqrt(x*(-x + 2)), (x, 0, 2))"
      ]
     },
     "execution_count": 15,
     "metadata": {},
     "output_type": "execute_result"
    }
   ],
   "source": [
    "integrate(1/sqrt(x*(2-x)),(x, 0, 2))"
   ]
  },
  {
   "cell_type": "markdown",
   "metadata": {},
   "source": [
    "だめみたいですね．どこで引っかかっているかは不明．\n"
   ]
  },
  {
   "cell_type": "markdown",
   "metadata": {},
   "source": [
    "無限区間(infinity)における定積分も同様に計算してくれる．\n",
    "```maple\n",
    "> int(1/(x^2+4),x=-infinity..infinity); #res: 1/2 pi\n",
    "```"
   ]
  },
  {
   "cell_type": "code",
   "execution_count": 24,
   "metadata": {},
   "outputs": [
    {
     "data": {
      "text/plain": [
       "pi/2"
      ]
     },
     "execution_count": 24,
     "metadata": {},
     "output_type": "execute_result"
    }
   ],
   "source": [
    "integrate(1/(x**2+4),(x, -oo, oo))"
   ]
  },
  {
   "cell_type": "markdown",
   "metadata": {},
   "source": [
    "部分積分法や置換積分法を用いる必要のある複雑な積分も一発で求まる．\n",
    "```maple\n",
    "> eq:=sqrt(4-x^2);int(eq,x);\n",
    "```\n",
    "$$\n",
    "{\\it eq}\\, := \\, \\sqrt{4-{x}^{2}} \\notag \\\\\n",
    "\\frac{1}{2}\\,x \\sqrt{4-{x}^{2}}+2\\,\\arcsin \\left( 1/2\\,x \\right) \\notag\n",
    "$$\n",
    "数学の公式集に載っているような積分も同じコマンドで求まる．\n",
    "```maple\n",
    "> eq2:=exp(-x^2);int(eq2,x=0..zz);\n",
    "```\n",
    "$$\n",
    "{\\it eq2}\\, := \\,\\exp({-{x}^{2}}) \\notag \\\\\n",
    "\\frac{1}{2}\\, \\sqrt{\\pi }\\, \\mbox{erf} \\left(zz\\right) \\notag\n",
    "$$"
   ]
  },
  {
   "cell_type": "code",
   "execution_count": 27,
   "metadata": {},
   "outputs": [
    {
     "data": {
      "text/plain": [
       "x*sqrt(-x**2 + 4)/2 + 2*asin(x/2)"
      ]
     },
     "execution_count": 27,
     "metadata": {},
     "output_type": "execute_result"
    }
   ],
   "source": [
    "eq=sqrt(4-x**2)\n",
    "integrate(eq,x)"
   ]
  },
  {
   "cell_type": "code",
   "execution_count": 32,
   "metadata": {},
   "outputs": [
    {
     "data": {
      "text/plain": [
       "sqrt(pi)*erf(zz)/2"
      ]
     },
     "execution_count": 32,
     "metadata": {},
     "output_type": "execute_result"
    }
   ],
   "source": [
    "zz = symbols('zz')\n",
    "eq2=exp(-x**2)\n",
    "integrate(eq2, (x,0,zz))"
   ]
  },
  {
   "cell_type": "markdown",
   "metadata": {},
   "source": [
    "## Integralいろいろ"
   ]
  },
  {
   "cell_type": "markdown",
   "metadata": {},
   "source": [
    "ちょっとぐらい難しい積分も，Mapleは単純にintコマンドだけで実行してくれる．しかし，時には，途中の計算法である部分積分，置換積分，部分分数展開が必要になる．\n",
    "これらはIntegralというパッケージに幾つか用意されている．詳しくは[サイト](http://docs.sympy.org/latest/modules/integrals/integrals.html)を参照せよ．\n",
    "\n",
    "残念ながら部分積分(integration by parts)の途中を見るコマンドはなさそう．"
   ]
  },
  {
   "cell_type": "markdown",
   "metadata": {},
   "source": [
    "### 部分積分(integration by parts) "
   ]
  },
  {
   "cell_type": "markdown",
   "metadata": {},
   "source": [
    "```maple\n",
    "> intparts(Int(x*exp(x),x),x);\n",
    "```\n",
    "$$\n",
    "x\\exp(x)-\\int \\exp(x){dx}\n",
    "$$\n",
    "\n",
    "こいつはなさそう．"
   ]
  },
  {
   "cell_type": "markdown",
   "metadata": {},
   "source": [
    "## 置換(change of variables)による積分 "
   ]
  },
  {
   "cell_type": "markdown",
   "metadata": {},
   "source": [
    "```maple\n",
    "> Int((cos(x)+1)^3*sin(x), x);\n",
    "> changevar(cos(x)+1=u, Int((cos(x)+1)^3*sin(x), x=a..b), u);\n",
    "> changevar(cos(x)+1=u, int((cos(x)+1)^3*sin(x), x), u);\n",
    "```\n",
    "$$\n",
    "\\int \\left( \\cos \\left( x \\right) +1 \\right) ^{3}\\sin \\left( x \\right) {dx} \\notag \\\\\n",
    "\\int _{\\cos \\left( a \\right) +1}^{\\cos \\left( b \\right) +1}-{u}^{3}{du} \\notag \\\\\n",
    "-\\frac{1}{4}\\,{u}^{4} \\notag \\\\\n",
    "$$\n",
    "\n"
   ]
  },
  {
   "cell_type": "code",
   "execution_count": 53,
   "metadata": {},
   "outputs": [
    {
     "data": {
      "text/plain": [
       "Integral(-cos(u + 1)/2, (u, -1, -1 + pi**2))"
      ]
     },
     "execution_count": 53,
     "metadata": {},
     "output_type": "execute_result"
    }
   ],
   "source": [
    "a,b,u = symbols('a b u')\n",
    "\n",
    "i = Integral(x*(cos(x**2-pi)),(x,0,pi))\n",
    "i.transform(x**2-1,u)"
   ]
  },
  {
   "cell_type": "code",
   "execution_count": 54,
   "metadata": {},
   "outputs": [
    {
     "data": {
      "text/plain": [
       "-sin(pi**2)/2"
      ]
     },
     "execution_count": 54,
     "metadata": {},
     "output_type": "execute_result"
    }
   ],
   "source": [
    "integrate(x*(cos(x**2-pi)),(x,0,pi))"
   ]
  },
  {
   "cell_type": "markdown",
   "metadata": {},
   "source": [
    "#### 部分分数(partial fraction)展開による積分 \n"
   ]
  },
  {
   "cell_type": "markdown",
   "metadata": {},
   "source": [
    "部分分数(partial fraction)展開による積分では，convertコマンドを用いる．\n",
    "```maple\n",
    "> pf1:=convert(1/(1+x^3),parfrac,x);\n",
    "  int(pf1,x);\n",
    "```\n",
    "$$\n",
    "{\\it pf1}\\, := \\frac{1}{3}\\,{\\frac {-x+2}{{x}^{2}-x+1}}+ \\frac{1}{3\\,\\left( x+1 \\right) } \\notag \\\\\n",
    "-\\frac{1}{6}\\,\\ln  \\left( {x}^{2}-x+1 \\right) +\\frac{1}{3}\\, \\sqrt{3}\\arctan \\left( 1/3\\, \\left( 2\\,x-1 \\right)  \\sqrt{3} \\right) +\\frac{1}{3}\\,\\ln  \\left( x+1 \\right) \\notag\n",
    "$$"
   ]
  },
  {
   "cell_type": "code",
   "execution_count": 58,
   "metadata": {
    "scrolled": true
   },
   "outputs": [
    {
     "name": "stdout",
     "output_type": "stream",
     "text": [
      "      x - 2            1    \n",
      "- ────────────── + ─────────\n",
      "    ⎛ 2        ⎞   3⋅(x + 1)\n",
      "  3⋅⎝x  - x + 1⎠            \n",
      "                                      ⎛2⋅√3⋅x   √3⎞\n",
      "                ⎛ 2        ⎞   √3⋅atan⎜────── - ──⎟\n",
      "log(x + 1)   log⎝x  - x + 1⎠          ⎝  3      3 ⎠\n",
      "────────── - ─────────────── + ────────────────────\n",
      "    3               6                   3          \n"
     ]
    }
   ],
   "source": [
    "eq = 1/(1+x**3)\n",
    "pprint(apart(eq))\n",
    "\n",
    "pprint(integrate(apart(eq),x))"
   ]
  },
  {
   "cell_type": "markdown",
   "metadata": {},
   "source": [
    "## 課題"
   ]
  },
  {
   "cell_type": "markdown",
   "metadata": {},
   "source": [
    "###  不定積分\n",
    "\n",
    "次の不定積分を求めよ．\n",
    "1. $\\int 4\\,x+3{dx}$\n",
    "1. $ \\int  \\frac{1}{ 1+\\mbox{e}^{x} }{dx}$\n",
    "1. $ \\int  \\frac{1}{ \\mbox{e}^{-x}+\\mbox{e}^{x} }{dx}$\n",
    "1. $ \\int  \\sqrt{1-{x}^{2}}{dx}$"
   ]
  },
  {
   "cell_type": "markdown",
   "metadata": {},
   "source": [
    "### 定積分:次の定積分を求めよ．\n",
    "\n",
    "1. $ \\int _{0}^{\\pi } \\sin x{dx}$\n",
    "1. $ \\int _{0}^{1} \\arctan x{dx}$\n",
    "1. $ \\int _{-2}^{2} \\frac{1}{ \\sqrt{4-{x}^{2}} }{dx}$\n",
    "1. $ \\int _{0}^{1} \\frac{1}{ {x}^{2}+x+1 }{dx}$"
   ]
  },
  {
   "cell_type": "markdown",
   "metadata": {},
   "source": [
    "###  (発展課題，重積分）次の2重積分を求めよ．\n",
    "\n",
    "$$\n",
    "\\int \\int_{D} \\sqrt{x^2+y^2}dxdy\\,\\, D:0\\leq y \\leq x \\leq 1\n",
    "$$"
   ]
  },
  {
   "cell_type": "markdown",
   "metadata": {},
   "source": [
    "### 解答例"
   ]
  },
  {
   "cell_type": "markdown",
   "metadata": {},
   "source": [
    "1.  \n",
    "```maple\n",
    "> int(4*x+3,x);\n",
    "> int( 1/(1+exp(x)),x);\n",
    "> int(1/(exp(-x)+exp(x)),x);\n",
    "> int(sqrt(1-x^2),x);\n",
    "```\n",
    "$$\n",
    "2\\,{x}^{2}+3\\,x  \\notag \\\\\n",
    "-\\ln  \\left( 1+ \\mbox{e}^x \\right) +\\ln  \\left( \\mbox{e}^x \\right)  \\notag \\\\\n",
    "\\arctan \\left( \\mbox{e}^x \\right)  \\notag \\\\\n",
    "\\frac{1}{2}\\,x \\sqrt{1-{x}^{2}}+\\frac{1}{2}\\,\\arcsin \\left( x \\right)  \\notag\n",
    "$$\n",
    "\n"
   ]
  },
  {
   "cell_type": "code",
   "execution_count": 67,
   "metadata": {},
   "outputs": [
    {
     "name": "stdout",
     "output_type": "stream",
     "text": [
      "   2      \n",
      "2⋅x  + 3⋅x\n",
      "       ⎛ x    ⎞\n",
      "x - log⎝ℯ  + 1⎠\n",
      "   1    \n",
      "────────\n",
      " x    -x\n",
      "ℯ  + ℯ  \n",
      "       ⎛   2               ⎛       x⎞⎞\n",
      "RootSum⎝4⋅z  + 1, i ↦ i⋅log⎝2⋅i + ℯ ⎠⎠\n",
      "     __________          \n",
      "    ╱    2               \n",
      "x⋅╲╱  - x  + 1    asin(x)\n",
      "─────────────── + ───────\n",
      "       2             2   \n"
     ]
    }
   ],
   "source": [
    "from sympy import *\n",
    "x = symbols('x')\n",
    "\n",
    "pprint(integrate(4*x+3,x))\n",
    "pprint(integrate(1/(1+exp(x)),x))\n",
    "pprint(1/(exp(-x)+exp(x)))\n",
    "pprint(integrate(1/(exp(-x)+exp(x)),x))\n",
    "pprint(integrate(sqrt(1-x**2),x))"
   ]
  },
  {
   "cell_type": "markdown",
   "metadata": {},
   "source": [
    "1. \n",
    "```maple\n",
    "> int(sin(x),x=0..Pi);\n",
    "> int(arctan(x),x=0..1);\n",
    "> int(1/(sqrt(4-x^(2))),x=-2..2);\n",
    "> int(1/(x^2+x+1),x=0..1);\n",
    "```\n",
    "$$\n",
    "2   \\notag \\\\\n",
    "\\frac{1}{4}\\,\\pi -\\frac{1}{2}\\,\\ln  \\left( 2 \\right)   \\notag \\\\\n",
    "\\pi   \\notag \\\\\n",
    "\\frac{1}{9}\\,\\pi \\, \\sqrt{3}  \\notag\n",
    "$$"
   ]
  },
  {
   "cell_type": "code",
   "execution_count": 81,
   "metadata": {},
   "outputs": [
    {
     "name": "stdout",
     "output_type": "stream",
     "text": [
      "2\n",
      "  log(2)   π\n",
      "- ────── + ─\n",
      "    2      4\n",
      "π\n",
      "√3⋅π\n",
      "────\n",
      " 9  \n"
     ]
    }
   ],
   "source": [
    "pprint(integrate(sin(x),(x,0,pi)))\n",
    "pprint(integrate(atan(x),(x,0,1)))\n",
    "pprint(integrate(1/sqrt(4-x**2),(x,-2,2)))\n",
    "pprint(integrate(1/(x**2+x+1),(x,0,1)))"
   ]
  },
  {
   "cell_type": "markdown",
   "metadata": {},
   "source": [
    "こいつの表示はまだわからん．\n",
    "```maple\n",
    "> with(plots):\n",
    "> inequal({x-y>=0,x>=0,x<=1,y>=0},x=-0.5..1.5,y=-0.5..1.5,optionsexcluded=(color=white));\n",
    "```\n",
    "\n",
    "![](./figs/Intplot2d1.png)"
   ]
  },
  {
   "cell_type": "code",
   "execution_count": 82,
   "metadata": {
    "collapsed": true
   },
   "outputs": [],
   "source": [
    "f = sqrt(x**2+y**2)"
   ]
  },
  {
   "cell_type": "code",
   "execution_count": 84,
   "metadata": {},
   "outputs": [
    {
     "data": {
      "text/plain": [
       "log(1 + sqrt(2))/6 + sqrt(2)/6"
      ]
     },
     "execution_count": 84,
     "metadata": {},
     "output_type": "execute_result"
    }
   ],
   "source": [
    "integrate(integrate(f,(y,0,x)),(x,0,1))"
   ]
  },
  {
   "cell_type": "code",
   "execution_count": 1,
   "metadata": {},
   "outputs": [
    {
     "data": {
      "image/png": "[encoded data removed]",
      "text/plain": [
       "<matplotlib.figure.Figure at 0x1191350f0>"
      ]
     },
     "metadata": {},
     "output_type": "display_data"
    }
   ],
   "source": [
    "# example in https://stackoverflow.com/questions/17576508/python-matplotlib-drawing-linear-inequality-functions\n",
    "import numpy as np\n",
    "import matplotlib.pyplot as plt\n",
    "from sympy.solvers import solve\n",
    "from sympy import Symbol\n",
    "\n",
    "def f1(x):\n",
    "    return 4.0*x-2.0\n",
    "def f2(x):\n",
    "    return 0.5*x+2.0\n",
    "def f3(x):\n",
    "    return -0.3*x+7.0\n",
    "\n",
    "x = Symbol('x')\n",
    "x1, =  solve(f1(x)-f2(x))\n",
    "x2, =  solve(f1(x)-f3(x))\n",
    "x3, =  solve(f2(x)-f3(x))\n",
    "\n",
    "y1 = f1(x1)\n",
    "y2 = f1(x2)\n",
    "y3 = f2(x3)\n",
    "\n",
    "plt.plot(x1,f1(x1),'go',markersize=10)\n",
    "plt.plot(x2,f1(x2),'go',markersize=10)\n",
    "plt.plot(x3,f2(x3),'go',markersize=10)\n",
    "\n",
    "plt.fill([x1,x2,x3,x1],[y1,y2,y3,y1],'red',alpha=0.5)\n",
    "\n",
    "xr = np.linspace(0.5,7.5,100)\n",
    "y1r = f1(xr)\n",
    "y2r = f2(xr)\n",
    "y3r = f3(xr)\n",
    "\n",
    "plt.plot(xr,y1r,'k--')\n",
    "plt.plot(xr,y2r,'k--')\n",
    "plt.plot(xr,y3r,'k--')\n",
    "\n",
    "plt.xlim(0.5,7)\n",
    "plt.ylim(2,8)\n",
    "\n",
    "plt.show()"
   ]
  },
  {
   "cell_type": "markdown",
   "metadata": {},
   "source": [
    "fillplotsというのがあるようだが，python3で動かすとエラーが出る．"
   ]
  },
  {
   "cell_type": "code",
   "execution_count": null,
   "metadata": {
    "collapsed": true
   },
   "outputs": [],
   "source": []
  }
 ],
 "metadata": {
  "kernelspec": {
   "display_name": "Python 3",
   "language": "python",
   "name": "python3"
  },
  "language_info": {
   "codemirror_mode": {
    "name": "ipython",
    "version": 3
   },
   "file_extension": ".py",
   "mimetype": "text/x-python",
   "name": "python",
   "nbconvert_exporter": "python",
   "pygments_lexer": "ipython3",
   "version": "3.6.1"
  },
  "latex_envs": {
   "LaTeX_envs_menu_present": true,
   "autocomplete": true,
   "bibliofile": "biblio.bib",
   "cite_by": "apalike",
   "current_citInitial": 1,
   "eqLabelWithNumbers": true,
   "eqNumInitial": 1,
   "hotkeys": {
    "equation": "Ctrl-E",
    "itemize": "Ctrl-I"
   },
   "labels_anchors": false,
   "latex_user_defs": false,
   "report_style_numbering": false,
   "user_envs_cfg": false
  },
  "toc": {
   "colors": {
    "hover_highlight": "#DAA520",
    "navigate_num": "#000000",
    "navigate_text": "#333333",
    "running_highlight": "#FF0000",
    "selected_highlight": "#FFD700",
    "sidebar_border": "#EEEEEE",
    "wrapper_background": "#FFFFFF"
   },
   "moveMenuLeft": true,
   "nav_menu": {
    "height": "12px",
    "width": "252px"
   },
   "navigate_menu": true,
   "number_sections": true,
   "sideBar": true,
   "threshold": 4,
   "toc_cell": true,
   "toc_section_display": "block",
   "toc_window_display": true,
   "widenNotebook": false
  }
 },
 "nbformat": 4,
 "nbformat_minor": 2
}
