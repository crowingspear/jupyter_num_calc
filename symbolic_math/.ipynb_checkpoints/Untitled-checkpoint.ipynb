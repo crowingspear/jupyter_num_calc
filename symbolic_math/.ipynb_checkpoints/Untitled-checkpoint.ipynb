{
 "cells": [
  {
   "cell_type": "markdown",
   "metadata": {
    "toc": "true"
   },
   "source": [
    "# Table of Contents\n",
    " <p><div class=\"lev1 toc-item\"><a href=\"#関数の概念\" data-toc-modified-id=\"関数の概念-1\"><span class=\"toc-item-num\">1&nbsp;&nbsp;</span>関数の概念</a></div><div class=\"lev2 toc-item\"><a href=\"#定数，変数，助変数\" data-toc-modified-id=\"定数，変数，助変数-11\"><span class=\"toc-item-num\">1.1&nbsp;&nbsp;</span>定数，変数，助変数</a></div><div class=\"lev3 toc-item\"><a href=\"#数値\" data-toc-modified-id=\"数値-111\"><span class=\"toc-item-num\">1.1.1&nbsp;&nbsp;</span>数値</a></div><div class=\"lev3 toc-item\"><a href=\"#関数\" data-toc-modified-id=\"関数-112\"><span class=\"toc-item-num\">1.1.2&nbsp;&nbsp;</span>関数</a></div><div class=\"lev3 toc-item\"><a href=\"#グラフ\" data-toc-modified-id=\"グラフ-113\"><span class=\"toc-item-num\">1.1.3&nbsp;&nbsp;</span>グラフ</a></div><div class=\"lev3 toc-item\"><a href=\"#方程式\" data-toc-modified-id=\"方程式-114\"><span class=\"toc-item-num\">1.1.4&nbsp;&nbsp;</span>方程式</a></div><div class=\"lev3 toc-item\"><a href=\"#その他の用語\" data-toc-modified-id=\"その他の用語-115\"><span class=\"toc-item-num\">1.1.5&nbsp;&nbsp;</span>その他の用語</a></div><div class=\"lev4 toc-item\"><a href=\"#関数と逆関数\" data-toc-modified-id=\"関数と逆関数-1151\"><span class=\"toc-item-num\">1.1.5.1&nbsp;&nbsp;</span>関数と逆関数</a></div><div class=\"lev4 toc-item\"><a href=\"#単値関数と多値関数\" data-toc-modified-id=\"単値関数と多値関数-1152\"><span class=\"toc-item-num\">1.1.5.2&nbsp;&nbsp;</span>単値関数と多値関数</a></div><div class=\"lev4 toc-item\"><a href=\"#陽関数と陰関数\" data-toc-modified-id=\"陽関数と陰関数-1153\"><span class=\"toc-item-num\">1.1.5.3&nbsp;&nbsp;</span>陽関数と陰関数</a></div><div class=\"lev1 toc-item\"><a href=\"#問1.\" data-toc-modified-id=\"問1.-2\"><span class=\"toc-item-num\">2&nbsp;&nbsp;</span>問1.</a></div><div class=\"lev1 toc-item\"><a href=\"#問2.\" data-toc-modified-id=\"問2.-3\"><span class=\"toc-item-num\">3&nbsp;&nbsp;</span>問2.</a></div><div class=\"lev1 toc-item\"><a href=\"#問3.\" data-toc-modified-id=\"問3.-4\"><span class=\"toc-item-num\">4&nbsp;&nbsp;</span>問3.</a></div><div class=\"lev1 toc-item\"><a href=\"#問4.\" data-toc-modified-id=\"問4.-5\"><span class=\"toc-item-num\">5&nbsp;&nbsp;</span>問4.</a></div><div class=\"lev1 toc-item\"><a href=\"#問5.\" data-toc-modified-id=\"問5.-6\"><span class=\"toc-item-num\">6&nbsp;&nbsp;</span>問5.</a></div><div class=\"lev1 toc-item\"><a href=\"#問6.\" data-toc-modified-id=\"問6.-7\"><span class=\"toc-item-num\">7&nbsp;&nbsp;</span>問6.</a></div>"
   ]
  },
  {
   "cell_type": "markdown",
   "metadata": {},
   "source": [
    "<br />\n",
    "\n",
    "<div style=\"text-align: center;\">\n",
    "<font size=\"7\">数式処理group work-2(関数と微分)</font>\n",
    "</div>\n",
    "<br />\n",
    "<div style=\"text-align: right;\">\n",
    "<font size=\"4\">file:/~/python/doing_math_with_python/symbolic_math/group_works/group_work_II.ipynb</font>\n",
    "<br />\n",
    "<font size=\"4\">cc by Shigeto R. Nishitani 2009-2018  </font>\n",
    "</div> \n",
    "\n"
   ]
  },
  {
   "cell_type": "markdown",
   "metadata": {},
   "source": [
    "# 関数の概念\n",
    "関数の概念を復習しておきます．中学以来のおつきあいですが，今一度（難しいけど理解できる）概念として見直してください．"
   ]
  },
  {
   "cell_type": "markdown",
   "metadata": {},
   "source": [
    "## 定数，変数，助変数\n",
    "\n",
    "数学では定数，変数，助変数という語がよく使われる．\n",
    "ある１つの事柄を論じている間，\n",
    "- 一定不変の数を表す文字を**定数**（または**常数**）といい，\n",
    "- ２つ以上の数のいずれをも表す文字（または記号）を**変数**という．\n",
    "- また，定数ではあるがその値が定まっていない場合にこの定数を**助変数**（または**parameter**）という．"
   ]
  },
  {
   "cell_type": "markdown",
   "metadata": {},
   "source": [
    "具体例：\n",
    "> 方程式$2x-3y = a$\n",
    "\n",
    "- $a$は定数で，$x$および$y$は変数である．\n",
    "\n",
    "具体例：\n",
    "> 点$P(x_1, y_1)$を通る直線群の方程式$y-y_1= m(x-x_1)$\n",
    "\n",
    "- $x_1$および$y_1$は点$P$の座標であって定まった値をとるから定数であり，\n",
    "- $x$および$y$は直線上の任意の点（すなわち動点）の座標であってその値は定まっていない．すなわち，変数である．\n",
    "- 勾配$m$は1本の直線に対しては一定の値をとるから定数であるにかかわらず，$P$を通る直線は無数であるので$m$の値は一定していない．すなわち値の定まらない定数であって，いわゆる助変数（すなわちparameter）である．\n",
    "\n",
    "数式の記号として，\n",
    "- 定数はアルファベットの初めの方の文字($a,b,c$)を用いて表し，\n",
    "- 変数はその終わりの方の文字($x,y,z$)を用いて表すけれども，\n",
    "- 必ずしもこの約束をふむにおよばない．\n",
    "- 助変数はいろいろの文字で表される．"
   ]
  },
  {
   "cell_type": "markdown",
   "metadata": {},
   "source": [
    "### 数値\n",
    "変数の表すべき個々の数をこの変数の**数値**（または**値**）という．"
   ]
  },
  {
   "cell_type": "markdown",
   "metadata": {},
   "source": [
    "### 関数\n",
    "2つの変数$x, y$があり，$x$の数値を定めると，\n",
    "それにつれて$y$の数値もまた定まるという場合,\n",
    "$y$は$x$の関数であるといい，たとえば$y =f(x)$としるす．\n",
    "このとき，$x$を**独立変数**，$y$を**従属変数**といって区別する．\n",
    "\n",
    "具体例：\n",
    "> $y = \\sqrt{-x^2+1}$では，$x$は独立変数で，$y$は従属変数である．\n",
    "\n",
    "- この例の$y$は$-1 \\leq x \\, \\&\\,  x \\leq 1$において実数値を持つ．\n",
    "- 値は$0 \\leq y \\, \\&\\,  y \\leq 1$である．\n",
    "\n",
    "これを略して\n",
    "\n",
    "- $y$の定義域は $-1 \\leq x \\leq 1$，\n",
    "- $y$の値域は$0 \\leq y \\leq 1$\n",
    "\n",
    "という．\n",
    "\n",
    "$y = f(x)$において$y$の定義域の1点を$\\alpha$とし，\n",
    "$\\alpha$における$f(x)$の値を$f(\\alpha)$と書く．"
   ]
  },
  {
   "cell_type": "markdown",
   "metadata": {},
   "source": [
    "### グラフ\n",
    "$x$のある区間において定義された**関数** $y =f(x)$ を与え，\n",
    "- 直交座標軸の横軸に沿って**独立変数**$x$の値を示し，\n",
    "- 縦軸に沿って**従属変数**$y$の値を求め，\n",
    "- $x$および$y$の対応した値の組を$(x,y)$とし，\n",
    "- これを座標に持つ点の集合を考えるならば，\n",
    "\n",
    "1つ以上の線が描かれる．\n",
    "\n",
    "この線のことを関数$y = f(x)$の**グラフ**という．"
   ]
  },
  {
   "cell_type": "markdown",
   "metadata": {},
   "source": [
    "### 方程式\n",
    "2つの変数$x, y$に関する**方程式**$F(x, y) =0$が与えられたとする．\n",
    "- ある点の座標がこの方程式を満足するとき，その点はこの**方程式を満足する**という．\n",
    "- 一般に1つの方程式を満足する点は無数にあって，それらの点の集まりは1つの**図形**を表している．\n",
    "   -ここに図形とは直線，曲線，またはそれらの集まりのことである．\n",
    "- この図形を方程式$F(x, y) =0$を満足する点の**軌跡**（または**グラフ**）といい，\n",
    "   - また，方程式$F(x, y) =0$は軌跡を表すといってもよい．\n",
    "- すなわち与えられた方程式で表される幾何学的条件を満足する点の集まりがこの方程式の軌跡である．\n",
    "   - もっと簡単に言うと，**方程式は軌跡を表している**．\n"
   ]
  },
  {
   "cell_type": "markdown",
   "metadata": {},
   "source": [
    "### その他の用語\n",
    "#### 関数と逆関数\n",
    "yがxの関数であるとき，逆にxがyの関数となることがある．すなわち，独立変数と従属変数とが交換できるときがある．このとき一方を他方の逆関数という．たとえば，y\n",
    "= f(x)の逆関数はx = g(y)である．したがって，独立変数の区間と従属変数の値域とが全く入れ替わる．y = f(x)の逆関数をx =\n",
    "1/f(y)と書くこともある．これはy = f(x)をxについて解いたという意味であって，x = 1/f(x)というのではない．\n",
    "逆関数の求め方\n",
    "一般にy = f(x)の逆関数を求めるには次の手順を踏む．\n",
    "１．定義域xと値域yを入れ替えx = f(y)という方程式をたてる．\n",
    "２．これをyについて解く．\n",
    "３．得られた関数y = g(x)がy = f(x)の逆関数である．\n",
    "２つの関数y = g(x)とy = f(x)とを同時にプロットすると直線y = xに関して線対称の一をとることがわかる．\n",
    "> eq1:=x=exp(y); eq2:=solve(eq1,y);\n",
    "                                  x = exp(y)\n",
    "                                    ln(x)\n",
    "> plot([exp(x),eq2,x],x=-4..4,y=-4..4);\n",
    "\n",
    "> solve(x=sin(y),y); plot([sin(x),arcsin(x),x],x=-5..5);\n",
    "                                  arcsin(x)\n",
    "\n",
    "#### 単値関数と多値関数\n",
    "y =\n",
    "f(x)を定義するxの区間の1つの値に対するyの値がただ1つであるとき，yをxの単値関数（または一価関数）といい，yの値が2つ以上ある場合に，yをxの多値関数（\n",
    "または多価関数）という．\n",
    "\n",
    "多値関数は多くの単値関数の集まりであると考えるとき，その各単値関数をもとの多値関数の枝ということがある．ときとして枝の中の1つを主枝（または主値）と名付けること\n",
    "がある．\n",
    "#### 陽関数と陰関数\n",
    "xの関数yが直接にxで表されているとき，yはxの陽関数であるといい，yが間接にしかxで表されていない場合に，yはxの陰関数であるという．したがって，陽関数はy\n",
    "= f(x)の形をとるが，陰関数yは例えばphi(x, y) = 0の形をとっている．しかも，陰関数yを定義するxの区間は容易に見つけにくいのが普通である．"
   ]
  },
  {
   "cell_type": "markdown",
   "metadata": {},
   "source": [
    "# 問1.\n",
    "次の関数\n",
    "f(x) = 2^x\n",
    "に関して，次の表を埋めよ．また，関数をプロットして確認せよ．\n",
    " x    -2 -1 0 1 2 \n",
    " f(x)             "
   ]
  },
  {
   "cell_type": "markdown",
   "metadata": {},
   "source": [
    "# 問2.\n",
    "問1.の関数に対して，x=0..2およびx=0..1の平均変化率\n",
    "dq(x, h) = (f(x+h)-f(x))/(x+h-x)\n",
    "を表す直線の方程式を求め，同時にプロットせよ．x=0..2では下記の通りになる．"
   ]
  },
  {
   "cell_type": "markdown",
   "metadata": {},
   "source": [
    "# 問3.\n",
    "1. 問1.の関数に対して，x=0における接線の方程式を求め，同時にプロットせよ．\n",
    "2. 問2.で作成したプロットをx=0..0.01に対して行い,1.で作成した関数と同時プロットして比較せよ．\n",
    "3. また，x=1における接線に対しても同じ操作を行え．"
   ]
  },
  {
   "cell_type": "markdown",
   "metadata": {},
   "source": [
    "# 問4.\n",
    "問1.の関数とその一次導関数を同時にプロットせよ．一次導関数の意味を言葉で述べよ．"
   ]
  },
  {
   "cell_type": "markdown",
   "metadata": {},
   "source": [
    "# 問5.\n",
    "関数f1(x) =\n",
    "-x/(x^2-2*x+4)を積分した関数f2(x)を求めよ．また，関数f1(x)の１次導関数を求め，３つの関数を同時にプロットせよ．このf2関数のピーク，変曲\n",
    "点のx座標をグラフから求めよ．また，このf2関数の増減表を作れ．"
   ]
  },
  {
   "cell_type": "markdown",
   "metadata": {},
   "source": [
    "# 問6.\n",
    "関数\n",
    "f(x) = b^x, 2 < b and b < 3\n",
    "とその一次導関数が恒等的にほぼ一致するbをヤマカンで求めよ．\n",
    "解答例\n",
    "問7.\n",
    "1.問6で求めた数は自然対数の底e(ネイピア数)のオイラーによる定義である．問2.の平均変化率の定義から変形することによって，\n",
    "f(b, h) = (b^h-1)/h\n",
    "としたときに，f(e, h)に対してproc (h) options operator, arrow; 0 end procで収束する値を求めよ．\n",
    "2.また，\n",
    "> plot([f(2,h),f(exp(1),h),f(3,h)],h=-2..2);\n",
    "で結果を確かめよ． 3.ネイピア数の定義を，この導出にしたがって，言葉で述べよ．\n",
    "解答例"
   ]
  },
  {
   "cell_type": "code",
   "execution_count": null,
   "metadata": {
    "collapsed": true
   },
   "outputs": [],
   "source": []
  }
 ],
 "metadata": {
  "kernelspec": {
   "display_name": "Python 3",
   "language": "python",
   "name": "python3"
  },
  "language_info": {
   "codemirror_mode": {
    "name": "ipython",
    "version": 3
   },
   "file_extension": ".py",
   "mimetype": "text/x-python",
   "name": "python",
   "nbconvert_exporter": "python",
   "pygments_lexer": "ipython3",
   "version": "3.6.1"
  },
  "latex_envs": {
   "LaTeX_envs_menu_present": true,
   "autocomplete": false,
   "bibliofile": "biblio.bib",
   "cite_by": "apalike",
   "current_citInitial": 1,
   "eqLabelWithNumbers": true,
   "eqNumInitial": 1,
   "hotkeys": {
    "equation": "Ctrl-E",
    "itemize": "Ctrl-I"
   },
   "labels_anchors": false,
   "latex_user_defs": false,
   "report_style_numbering": false,
   "user_envs_cfg": false
  },
  "toc": {
   "colors": {
    "hover_highlight": "#DAA520",
    "navigate_num": "#000000",
    "navigate_text": "#333333",
    "running_highlight": "#FF0000",
    "selected_highlight": "#FFD700",
    "sidebar_border": "#EEEEEE",
    "wrapper_background": "#FFFFFF"
   },
   "moveMenuLeft": true,
   "nav_menu": {
    "height": "13px",
    "width": "253px"
   },
   "navigate_menu": true,
   "number_sections": true,
   "sideBar": true,
   "threshold": 4,
   "toc_cell": true,
   "toc_section_display": "block",
   "toc_window_display": true,
   "widenNotebook": false
  }
 },
 "nbformat": 4,
 "nbformat_minor": 2
}
