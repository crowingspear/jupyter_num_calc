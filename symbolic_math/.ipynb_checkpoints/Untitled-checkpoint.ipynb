{
 "cells": [
  {
   "cell_type": "markdown",
   "metadata": {},
   "source": [
    "<div style=\"text-align: center;\">\n",
    "  <font size=\"5\"> 線形代数(Linear algebra) </font>\n",
    "</div>\n",
    "<div style=\"text-align: right;\">\n",
    "  <font size=\"3\"> cc by Shigeto R. Nishitani, 2017-10-31 </font>\n",
    "</div>\n",
    "* file: /Users/bob/python/doing_math_with_python/linear_algebra.ipynb"
   ]
  },
  {
   "cell_type": "markdown",
   "metadata": {
    "toc": "true"
   },
   "source": [
    "# Table of Contents\n",
    " <p><div class=\"lev1 toc-item\"><a href=\"#行列，ベクトルの生成\" data-toc-modified-id=\"行列，ベクトルの生成-1\"><span class=\"toc-item-num\">1&nbsp;&nbsp;</span>行列，ベクトルの生成</a></div><div class=\"lev1 toc-item\"><a href=\"#ゼロ行列，単位行列\" data-toc-modified-id=\"ゼロ行列，単位行列-2\"><span class=\"toc-item-num\">2&nbsp;&nbsp;</span>ゼロ行列，単位行列</a></div><div class=\"lev1 toc-item\"><a href=\"#転置(transpose)\" data-toc-modified-id=\"転置(transpose)-3\"><span class=\"toc-item-num\">3&nbsp;&nbsp;</span>転置(transpose)</a></div><div class=\"lev1 toc-item\"><a href=\"#ドット積\" data-toc-modified-id=\"ドット積-4\"><span class=\"toc-item-num\">4&nbsp;&nbsp;</span>ドット積</a></div><div class=\"lev1 toc-item\"><a href=\"#外積，outer,-cross\" data-toc-modified-id=\"外積，outer,-cross-5\"><span class=\"toc-item-num\">5&nbsp;&nbsp;</span>外積，outer, cross</a></div><div class=\"lev1 toc-item\"><a href=\"#スカラー三重積\" data-toc-modified-id=\"スカラー三重積-6\"><span class=\"toc-item-num\">6&nbsp;&nbsp;</span>スカラー三重積</a></div><div class=\"lev1 toc-item\"><a href=\"#行列要素のとりだし，追加\" data-toc-modified-id=\"行列要素のとりだし，追加-7\"><span class=\"toc-item-num\">7&nbsp;&nbsp;</span>行列要素のとりだし，追加</a></div><div class=\"lev1 toc-item\"><a href=\"#掃き出し\" data-toc-modified-id=\"掃き出し-8\"><span class=\"toc-item-num\">8&nbsp;&nbsp;</span>掃き出し</a></div><div class=\"lev1 toc-item\"><a href=\"#LU分解\" data-toc-modified-id=\"LU分解-9\"><span class=\"toc-item-num\">9&nbsp;&nbsp;</span>LU分解</a></div><div class=\"lev1 toc-item\"><a href=\"#階数\" data-toc-modified-id=\"階数-10\"><span class=\"toc-item-num\">10&nbsp;&nbsp;</span>階数</a></div><div class=\"lev1 toc-item\"><a href=\"#行列式\" data-toc-modified-id=\"行列式-11\"><span class=\"toc-item-num\">11&nbsp;&nbsp;</span>行列式</a></div><div class=\"lev1 toc-item\"><a href=\"#逆行列\" data-toc-modified-id=\"逆行列-12\"><span class=\"toc-item-num\">12&nbsp;&nbsp;</span>逆行列</a></div><div class=\"lev1 toc-item\"><a href=\"#固有値，固有ベクトル\" data-toc-modified-id=\"固有値，固有ベクトル-13\"><span class=\"toc-item-num\">13&nbsp;&nbsp;</span>固有値，固有ベクトル</a></div><div class=\"lev1 toc-item\"><a href=\"#ベクトルの規格化\" data-toc-modified-id=\"ベクトルの規格化-14\"><span class=\"toc-item-num\">14&nbsp;&nbsp;</span>ベクトルの規格化</a></div><div class=\"lev1 toc-item\"><a href=\"#対角化\" data-toc-modified-id=\"対角化-15\"><span class=\"toc-item-num\">15&nbsp;&nbsp;</span>対角化</a></div>"
   ]
  },
  {
   "cell_type": "markdown",
   "metadata": {},
   "source": [
    "# 行列，ベクトルの生成"
   ]
  },
  {
   "cell_type": "code",
   "execution_count": 2,
   "metadata": {},
   "outputs": [
    {
     "name": "stdout",
     "output_type": "stream",
     "text": [
      "[[1 2]\n",
      " [3 4]]\n"
     ]
    }
   ],
   "source": [
    "import numpy as np\n",
    "list_a = [1,2]\n",
    "list_b = [3,4]\n",
    "a = np.array([list_a, list_b])\n",
    "print(a)"
   ]
  },
  {
   "cell_type": "code",
   "execution_count": 3,
   "metadata": {},
   "outputs": [
    {
     "name": "stdout",
     "output_type": "stream",
     "text": [
      "[x y]\n"
     ]
    }
   ],
   "source": [
    "from  sympy import *\n",
    "x,y = symbols('x,y')\n",
    "v1=np.array([x,y])\n",
    "print(v1)"
   ]
  },
  {
   "cell_type": "markdown",
   "metadata": {},
   "source": [
    "# ゼロ行列，単位行列"
   ]
  },
  {
   "cell_type": "code",
   "execution_count": 50,
   "metadata": {},
   "outputs": [
    {
     "data": {
      "text/plain": [
       "array([[ 0.,  0.,  0.],\n",
       "       [ 0.,  0.,  0.],\n",
       "       [ 0.,  0.,  0.]])"
      ]
     },
     "execution_count": 50,
     "metadata": {},
     "output_type": "execute_result"
    }
   ],
   "source": [
    "np.zeros((3,3))"
   ]
  },
  {
   "cell_type": "code",
   "execution_count": 52,
   "metadata": {},
   "outputs": [
    {
     "data": {
      "text/plain": [
       "array([[1, 0, 0],\n",
       "       [0, 2, 0],\n",
       "       [0, 0, 3]])"
      ]
     },
     "execution_count": 52,
     "metadata": {},
     "output_type": "execute_result"
    }
   ],
   "source": [
    "np.diag([1,2,3])"
   ]
  },
  {
   "cell_type": "code",
   "execution_count": 53,
   "metadata": {},
   "outputs": [
    {
     "data": {
      "text/plain": [
       "array([[ 1.,  0.,  0.],\n",
       "       [ 0.,  1.,  0.],\n",
       "       [ 0.,  0.,  1.]])"
      ]
     },
     "execution_count": 53,
     "metadata": {},
     "output_type": "execute_result"
    }
   ],
   "source": [
    "np.identity(3)"
   ]
  },
  {
   "cell_type": "markdown",
   "metadata": {},
   "source": [
    "# 転置(transpose)"
   ]
  },
  {
   "cell_type": "code",
   "execution_count": 54,
   "metadata": {},
   "outputs": [
    {
     "name": "stdout",
     "output_type": "stream",
     "text": [
      "[[1 3]\n",
      " [2 4]]\n"
     ]
    }
   ],
   "source": [
    "print(a.transpose())"
   ]
  },
  {
   "cell_type": "code",
   "execution_count": 55,
   "metadata": {},
   "outputs": [
    {
     "data": {
      "text/plain": [
       "array([x, y], dtype=object)"
      ]
     },
     "execution_count": 55,
     "metadata": {},
     "output_type": "execute_result"
    }
   ],
   "source": [
    "v1.transpose()\n",
    "# これは意味がなさそう．"
   ]
  },
  {
   "cell_type": "markdown",
   "metadata": {},
   "source": [
    "ベクトルの転置ができないようなので，\n",
    "行x列=値，列x行=行列ってのはできないのかな．．．\n",
    "後者は使う場面がないんで用意していないのかも．\n",
    "それよりもどんなときにもベクトル同士の掛け算はドット積で値が得られるというのがいいのかも．"
   ]
  },
  {
   "cell_type": "markdown",
   "metadata": {},
   "source": [
    "# ドット積"
   ]
  },
  {
   "cell_type": "code",
   "execution_count": 29,
   "metadata": {},
   "outputs": [
    {
     "data": {
      "text/plain": [
       "array([x + 2*y, 3*x + 4*y], dtype=object)"
      ]
     },
     "execution_count": 29,
     "metadata": {},
     "output_type": "execute_result"
    }
   ],
   "source": [
    "np.dot(a,v1)"
   ]
  },
  {
   "cell_type": "code",
   "execution_count": 30,
   "metadata": {},
   "outputs": [
    {
     "data": {
      "text/plain": [
       "array([x + 2*y, 3*x + 4*y], dtype=object)"
      ]
     },
     "execution_count": 30,
     "metadata": {},
     "output_type": "execute_result"
    }
   ],
   "source": [
    "a.dot(v1)"
   ]
  },
  {
   "cell_type": "code",
   "execution_count": 33,
   "metadata": {},
   "outputs": [
    {
     "data": {
      "text/plain": [
       "array([x + 3*y, 2*x + 4*y], dtype=object)"
      ]
     },
     "execution_count": 33,
     "metadata": {},
     "output_type": "execute_result"
    }
   ],
   "source": [
    "v1.dot(a)\n",
    "# 結果は違うがこれもOK, ここらは初学者は混乱するかも．．．"
   ]
  },
  {
   "cell_type": "markdown",
   "metadata": {},
   "source": [
    "# 外積，outer, cross"
   ]
  },
  {
   "cell_type": "code",
   "execution_count": 4,
   "metadata": {
    "collapsed": true
   },
   "outputs": [],
   "source": [
    "v1 = np.array([1,1,3])\n",
    "v2 = np.array([1,2,-1])"
   ]
  },
  {
   "cell_type": "code",
   "execution_count": 5,
   "metadata": {},
   "outputs": [
    {
     "data": {
      "text/plain": [
       "array([[ 1,  2, -1],\n",
       "       [ 1,  2, -1],\n",
       "       [ 3,  6, -3]])"
      ]
     },
     "execution_count": 5,
     "metadata": {},
     "output_type": "execute_result"
    }
   ],
   "source": [
    "np.outer(v1,v2)"
   ]
  },
  {
   "cell_type": "code",
   "execution_count": 6,
   "metadata": {},
   "outputs": [
    {
     "data": {
      "text/plain": [
       "array([-7,  4,  1])"
      ]
     },
     "execution_count": 6,
     "metadata": {},
     "output_type": "execute_result"
    }
   ],
   "source": [
    "np.cross(v1,v2)"
   ]
  },
  {
   "cell_type": "markdown",
   "metadata": {},
   "source": [
    "# スカラー三重積"
   ]
  },
  {
   "cell_type": "code",
   "execution_count": 7,
   "metadata": {},
   "outputs": [
    {
     "data": {
      "text/plain": [
       "16"
      ]
     },
     "execution_count": 7,
     "metadata": {},
     "output_type": "execute_result"
    }
   ],
   "source": [
    "v3 = np.array([-1,2,1])\n",
    "np.dot(np.cross(v1,v2),v3)"
   ]
  },
  {
   "cell_type": "markdown",
   "metadata": {},
   "source": [
    "# 行列要素のとりだし，追加"
   ]
  },
  {
   "cell_type": "code",
   "execution_count": 27,
   "metadata": {},
   "outputs": [
    {
     "data": {
      "text/plain": [
       "5"
      ]
     },
     "execution_count": 27,
     "metadata": {},
     "output_type": "execute_result"
    }
   ],
   "source": [
    "a=np.array([[1,2,3],[4,5,6],[7,8,9]])\n",
    "# i行j列の要素の取り出し\n",
    "a[1,1]"
   ]
  },
  {
   "cell_type": "code",
   "execution_count": 28,
   "metadata": {},
   "outputs": [
    {
     "data": {
      "text/plain": [
       "array([[2, 3],\n",
       "       [5, 6]])"
      ]
     },
     "execution_count": 28,
     "metadata": {},
     "output_type": "execute_result"
    }
   ],
   "source": [
    "a[:2,1:4]"
   ]
  },
  {
   "cell_type": "code",
   "execution_count": 31,
   "metadata": {},
   "outputs": [
    {
     "name": "stdout",
     "output_type": "stream",
     "text": [
      "[1 4 7]\n"
     ]
    }
   ],
   "source": [
    "col_0 = a[:,0]\n",
    "print(col_0)"
   ]
  },
  {
   "cell_type": "code",
   "execution_count": 30,
   "metadata": {},
   "outputs": [
    {
     "name": "stdout",
     "output_type": "stream",
     "text": [
      "[4 5 6]\n"
     ]
    }
   ],
   "source": [
    "row_1 = a[1,:]\n",
    "print(row_1)"
   ]
  },
  {
   "cell_type": "markdown",
   "metadata": {},
   "source": [
    "# 掃き出し"
   ]
  },
  {
   "cell_type": "markdown",
   "metadata": {},
   "source": [
    "# LU分解"
   ]
  },
  {
   "cell_type": "markdown",
   "metadata": {},
   "source": [
    "# 階数"
   ]
  },
  {
   "cell_type": "markdown",
   "metadata": {},
   "source": [
    "# 行列式"
   ]
  },
  {
   "cell_type": "markdown",
   "metadata": {},
   "source": [
    "# 逆行列"
   ]
  },
  {
   "cell_type": "markdown",
   "metadata": {},
   "source": [
    "# 固有値，固有ベクトル"
   ]
  },
  {
   "cell_type": "markdown",
   "metadata": {},
   "source": [
    "# ベクトルの規格化"
   ]
  },
  {
   "cell_type": "markdown",
   "metadata": {
    "collapsed": true
   },
   "source": [
    "# 対角化"
   ]
  }
 ],
 "metadata": {
  "kernelspec": {
   "display_name": "Python 3",
   "language": "python",
   "name": "python3"
  },
  "language_info": {
   "codemirror_mode": {
    "name": "ipython",
    "version": 3
   },
   "file_extension": ".py",
   "mimetype": "text/x-python",
   "name": "python",
   "nbconvert_exporter": "python",
   "pygments_lexer": "ipython3",
   "version": "3.6.1"
  },
  "latex_envs": {
   "LaTeX_envs_menu_present": true,
   "autocomplete": true,
   "bibliofile": "biblio.bib",
   "cite_by": "apalike",
   "current_citInitial": 1,
   "eqLabelWithNumbers": true,
   "eqNumInitial": 1,
   "hotkeys": {
    "equation": "Ctrl-E",
    "itemize": "Ctrl-I"
   },
   "labels_anchors": false,
   "latex_user_defs": false,
   "report_style_numbering": false,
   "user_envs_cfg": false
  },
  "toc": {
   "colors": {
    "hover_highlight": "#DAA520",
    "navigate_num": "#000000",
    "navigate_text": "#333333",
    "running_highlight": "#FF0000",
    "selected_highlight": "#FFD700",
    "sidebar_border": "#EEEEEE",
    "wrapper_background": "#FFFFFF"
   },
   "moveMenuLeft": true,
   "nav_menu": {
    "height": "84px",
    "width": "252px"
   },
   "navigate_menu": true,
   "number_sections": true,
   "sideBar": true,
   "threshold": 4,
   "toc_cell": true,
   "toc_section_display": "block",
   "toc_window_display": true,
   "widenNotebook": false
  }
 },
 "nbformat": 4,
 "nbformat_minor": 2
}
