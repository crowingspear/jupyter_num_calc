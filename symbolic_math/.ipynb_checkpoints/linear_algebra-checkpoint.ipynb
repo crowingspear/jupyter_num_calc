{
 "cells": [
  {
   "cell_type": "markdown",
   "metadata": {},
   "source": [
    "<div style=\"text-align: center;\">\n",
    "  <font size=\"5\"> 線形代数(Linear algebra) </font>\n",
    "</div>\n",
    "<div style=\"text-align: right;\">\n",
    "  <font size=\"3\"> cc by Shigeto R. Nishitani, 2017-10-31 </font>\n",
    "</div>\n",
    "* file: /Users/bob/python/doing_math_with_python/linear_algebra.ipynb"
   ]
  },
  {
   "cell_type": "markdown",
   "metadata": {
    "toc": "true"
   },
   "source": [
    "# Table of Contents\n",
    " <p><div class=\"lev1 toc-item\"><a href=\"#行列，ベクトルの生成\" data-toc-modified-id=\"行列，ベクトルの生成-1\"><span class=\"toc-item-num\">1&nbsp;&nbsp;</span>行列，ベクトルの生成</a></div><div class=\"lev1 toc-item\"><a href=\"#ゼロ行列，単位行列\" data-toc-modified-id=\"ゼロ行列，単位行列-2\"><span class=\"toc-item-num\">2&nbsp;&nbsp;</span>ゼロ行列，単位行列</a></div><div class=\"lev1 toc-item\"><a href=\"#転置(transpose)\" data-toc-modified-id=\"転置(transpose)-3\"><span class=\"toc-item-num\">3&nbsp;&nbsp;</span>転置(transpose)</a></div><div class=\"lev1 toc-item\"><a href=\"#ドット積\" data-toc-modified-id=\"ドット積-4\"><span class=\"toc-item-num\">4&nbsp;&nbsp;</span>ドット積</a></div><div class=\"lev1 toc-item\"><a href=\"#外積，outer,-cross\" data-toc-modified-id=\"外積，outer,-cross-5\"><span class=\"toc-item-num\">5&nbsp;&nbsp;</span>外積，outer, cross</a></div><div class=\"lev1 toc-item\"><a href=\"#スカラー三重積\" data-toc-modified-id=\"スカラー三重積-6\"><span class=\"toc-item-num\">6&nbsp;&nbsp;</span>スカラー三重積</a></div><div class=\"lev1 toc-item\"><a href=\"#行列要素のとりだし，追加\" data-toc-modified-id=\"行列要素のとりだし，追加-7\"><span class=\"toc-item-num\">7&nbsp;&nbsp;</span>行列要素のとりだし，追加</a></div><div class=\"lev1 toc-item\"><a href=\"#掃き出し,-LU分解\" data-toc-modified-id=\"掃き出し,-LU分解-8\"><span class=\"toc-item-num\">8&nbsp;&nbsp;</span>掃き出し, LU分解</a></div><div class=\"lev1 toc-item\"><a href=\"#階数\" data-toc-modified-id=\"階数-9\"><span class=\"toc-item-num\">9&nbsp;&nbsp;</span>階数</a></div><div class=\"lev1 toc-item\"><a href=\"#行列式\" data-toc-modified-id=\"行列式-10\"><span class=\"toc-item-num\">10&nbsp;&nbsp;</span>行列式</a></div><div class=\"lev1 toc-item\"><a href=\"#逆行列\" data-toc-modified-id=\"逆行列-11\"><span class=\"toc-item-num\">11&nbsp;&nbsp;</span>逆行列</a></div><div class=\"lev2 toc-item\"><a href=\"#課題\" data-toc-modified-id=\"課題-111\"><span class=\"toc-item-num\">11.1&nbsp;&nbsp;</span>課題</a></div><div class=\"lev1 toc-item\"><a href=\"#固有値，固有ベクトル\" data-toc-modified-id=\"固有値，固有ベクトル-12\"><span class=\"toc-item-num\">12&nbsp;&nbsp;</span>固有値，固有ベクトル</a></div><div class=\"lev1 toc-item\"><a href=\"#ベクトルの規格化\" data-toc-modified-id=\"ベクトルの規格化-13\"><span class=\"toc-item-num\">13&nbsp;&nbsp;</span>ベクトルの規格化</a></div><div class=\"lev1 toc-item\"><a href=\"#対角化\" data-toc-modified-id=\"対角化-14\"><span class=\"toc-item-num\">14&nbsp;&nbsp;</span>対角化</a></div><div class=\"lev2 toc-item\"><a href=\"#課題\" data-toc-modified-id=\"課題-141\"><span class=\"toc-item-num\">14.1&nbsp;&nbsp;</span>課題</a></div>"
   ]
  },
  {
   "cell_type": "markdown",
   "metadata": {},
   "source": [
    "# 行列，ベクトルの生成"
   ]
  },
  {
   "cell_type": "code",
   "execution_count": 1,
   "metadata": {},
   "outputs": [
    {
     "name": "stdout",
     "output_type": "stream",
     "text": [
      "[[1 2]\n",
      " [3 4]]\n"
     ]
    }
   ],
   "source": [
    "import numpy as np\n",
    "list_a = [1,2]\n",
    "list_b = [3,4]\n",
    "a = np.array([list_a, list_b])\n",
    "print(a)"
   ]
  },
  {
   "cell_type": "code",
   "execution_count": 2,
   "metadata": {},
   "outputs": [
    {
     "name": "stdout",
     "output_type": "stream",
     "text": [
      "[x y]\n"
     ]
    }
   ],
   "source": [
    "from  sympy import *\n",
    "x,y = symbols('x,y')\n",
    "v1=np.array([x,y])\n",
    "print(v1)"
   ]
  },
  {
   "cell_type": "markdown",
   "metadata": {},
   "source": [
    "# ゼロ行列，単位行列"
   ]
  },
  {
   "cell_type": "code",
   "execution_count": 3,
   "metadata": {},
   "outputs": [
    {
     "data": {
      "text/plain": [
       "array([[ 0.,  0.,  0.],\n",
       "       [ 0.,  0.,  0.],\n",
       "       [ 0.,  0.,  0.]])"
      ]
     },
     "execution_count": 3,
     "metadata": {},
     "output_type": "execute_result"
    }
   ],
   "source": [
    "np.zeros((3,3))"
   ]
  },
  {
   "cell_type": "code",
   "execution_count": 4,
   "metadata": {},
   "outputs": [
    {
     "data": {
      "text/plain": [
       "array([[1, 0, 0],\n",
       "       [0, 2, 0],\n",
       "       [0, 0, 3]])"
      ]
     },
     "execution_count": 4,
     "metadata": {},
     "output_type": "execute_result"
    }
   ],
   "source": [
    "np.diag([1,2,3])"
   ]
  },
  {
   "cell_type": "code",
   "execution_count": 5,
   "metadata": {},
   "outputs": [
    {
     "data": {
      "text/plain": [
       "array([[ 1.,  0.,  0.],\n",
       "       [ 0.,  1.,  0.],\n",
       "       [ 0.,  0.,  1.]])"
      ]
     },
     "execution_count": 5,
     "metadata": {},
     "output_type": "execute_result"
    }
   ],
   "source": [
    "np.identity(3)"
   ]
  },
  {
   "cell_type": "markdown",
   "metadata": {},
   "source": [
    "# 転置(transpose)"
   ]
  },
  {
   "cell_type": "code",
   "execution_count": 6,
   "metadata": {},
   "outputs": [
    {
     "name": "stdout",
     "output_type": "stream",
     "text": [
      "[[1 3]\n",
      " [2 4]]\n"
     ]
    }
   ],
   "source": [
    "print(a.transpose())"
   ]
  },
  {
   "cell_type": "code",
   "execution_count": 7,
   "metadata": {},
   "outputs": [
    {
     "data": {
      "text/plain": [
       "array([x, y], dtype=object)"
      ]
     },
     "execution_count": 7,
     "metadata": {},
     "output_type": "execute_result"
    }
   ],
   "source": [
    "v1.transpose()\n",
    "# これは意味がなさそう．"
   ]
  },
  {
   "cell_type": "markdown",
   "metadata": {},
   "source": [
    "ベクトルの転置ができないようなので，\n",
    "行x列=値，列x行=行列ってのはできないのかな．．．\n",
    "後者は使う場面がないんで用意していないのかも．\n",
    "それよりもどんなときにもベクトル同士の掛け算はドット積で値が得られるというのがいいのかも．"
   ]
  },
  {
   "cell_type": "markdown",
   "metadata": {},
   "source": [
    "# ドット積"
   ]
  },
  {
   "cell_type": "code",
   "execution_count": 8,
   "metadata": {},
   "outputs": [
    {
     "data": {
      "text/plain": [
       "array([x + 2*y, 3*x + 4*y], dtype=object)"
      ]
     },
     "execution_count": 8,
     "metadata": {},
     "output_type": "execute_result"
    }
   ],
   "source": [
    "np.dot(a,v1)"
   ]
  },
  {
   "cell_type": "code",
   "execution_count": 9,
   "metadata": {},
   "outputs": [
    {
     "data": {
      "text/plain": [
       "array([x + 2*y, 3*x + 4*y], dtype=object)"
      ]
     },
     "execution_count": 9,
     "metadata": {},
     "output_type": "execute_result"
    }
   ],
   "source": [
    "a.dot(v1)"
   ]
  },
  {
   "cell_type": "code",
   "execution_count": 10,
   "metadata": {},
   "outputs": [
    {
     "data": {
      "text/plain": [
       "array([x + 3*y, 2*x + 4*y], dtype=object)"
      ]
     },
     "execution_count": 10,
     "metadata": {},
     "output_type": "execute_result"
    }
   ],
   "source": [
    "v1.dot(a)\n",
    "# 結果は違うがこれもOK, ここらは初学者は混乱するかも．．．"
   ]
  },
  {
   "cell_type": "markdown",
   "metadata": {},
   "source": [
    "# 外積，outer, cross"
   ]
  },
  {
   "cell_type": "code",
   "execution_count": 11,
   "metadata": {
    "collapsed": true
   },
   "outputs": [],
   "source": [
    "v1 = np.array([1,1,3])\n",
    "v2 = np.array([1,2,-1])"
   ]
  },
  {
   "cell_type": "code",
   "execution_count": 12,
   "metadata": {},
   "outputs": [
    {
     "data": {
      "text/plain": [
       "array([[ 1,  2, -1],\n",
       "       [ 1,  2, -1],\n",
       "       [ 3,  6, -3]])"
      ]
     },
     "execution_count": 12,
     "metadata": {},
     "output_type": "execute_result"
    }
   ],
   "source": [
    "np.outer(v1,v2)"
   ]
  },
  {
   "cell_type": "code",
   "execution_count": 13,
   "metadata": {},
   "outputs": [
    {
     "data": {
      "text/plain": [
       "array([-7,  4,  1])"
      ]
     },
     "execution_count": 13,
     "metadata": {},
     "output_type": "execute_result"
    }
   ],
   "source": [
    "np.cross(v1,v2)"
   ]
  },
  {
   "cell_type": "markdown",
   "metadata": {},
   "source": [
    "# スカラー三重積"
   ]
  },
  {
   "cell_type": "code",
   "execution_count": 14,
   "metadata": {},
   "outputs": [
    {
     "data": {
      "text/plain": [
       "16"
      ]
     },
     "execution_count": 14,
     "metadata": {},
     "output_type": "execute_result"
    }
   ],
   "source": [
    "v3 = np.array([-1,2,1])\n",
    "np.dot(np.cross(v1,v2),v3)"
   ]
  },
  {
   "cell_type": "markdown",
   "metadata": {},
   "source": [
    "# 行列要素のとりだし，追加"
   ]
  },
  {
   "cell_type": "code",
   "execution_count": 91,
   "metadata": {},
   "outputs": [
    {
     "data": {
      "text/plain": [
       "5"
      ]
     },
     "execution_count": 91,
     "metadata": {},
     "output_type": "execute_result"
    }
   ],
   "source": [
    "a=np.array([[1,2,3],[4,5,6],[7,8,9]])\n",
    "# i行j列の要素の取り出し\n",
    "a[1,1]"
   ]
  },
  {
   "cell_type": "code",
   "execution_count": 92,
   "metadata": {},
   "outputs": [
    {
     "data": {
      "text/plain": [
       "array([[2, 3],\n",
       "       [5, 6]])"
      ]
     },
     "execution_count": 92,
     "metadata": {},
     "output_type": "execute_result"
    }
   ],
   "source": [
    "a[:2,1:4]"
   ]
  },
  {
   "cell_type": "code",
   "execution_count": 93,
   "metadata": {},
   "outputs": [
    {
     "name": "stdout",
     "output_type": "stream",
     "text": [
      "[1 4 7]\n"
     ]
    }
   ],
   "source": [
    "col_0 = a[:,0]\n",
    "print(col_0)"
   ]
  },
  {
   "cell_type": "code",
   "execution_count": 94,
   "metadata": {},
   "outputs": [
    {
     "name": "stdout",
     "output_type": "stream",
     "text": [
      "[4 5 6]\n"
     ]
    }
   ],
   "source": [
    "row_1 = a[1,:]\n",
    "print(row_1)"
   ]
  },
  {
   "cell_type": "code",
   "execution_count": 95,
   "metadata": {},
   "outputs": [
    {
     "data": {
      "text/plain": [
       "array([[1, 2, 3],\n",
       "       [4, 5, 6],\n",
       "       [7, 8, 9],\n",
       "       [1, 2, 3]])"
      ]
     },
     "execution_count": 95,
     "metadata": {},
     "output_type": "execute_result"
    }
   ],
   "source": [
    "b = np.array([1,2,3])\n",
    "np.vstack((a,b))"
   ]
  },
  {
   "cell_type": "markdown",
   "metadata": {},
   "source": [
    "hstackはa,bが同じ次元でないとダメとのお達し．拡大係数行列を手軽に作れるわけではなさそう．column_stackを使うとできた．"
   ]
  },
  {
   "cell_type": "code",
   "execution_count": 96,
   "metadata": {},
   "outputs": [
    {
     "data": {
      "text/plain": [
       "array([[1, 2, 3, 1],\n",
       "       [4, 5, 6, 2],\n",
       "       [7, 8, 9, 3]])"
      ]
     },
     "execution_count": 96,
     "metadata": {},
     "output_type": "execute_result"
    }
   ],
   "source": [
    "np.column_stack((a,b))"
   ]
  },
  {
   "cell_type": "code",
   "execution_count": null,
   "metadata": {
    "collapsed": true
   },
   "outputs": [],
   "source": []
  },
  {
   "cell_type": "markdown",
   "metadata": {},
   "source": [
    "# 掃き出し, LU分解"
   ]
  },
  {
   "cell_type": "code",
   "execution_count": 41,
   "metadata": {},
   "outputs": [
    {
     "name": "stdout",
     "output_type": "stream",
     "text": [
      "[[ 0.  1.  0.]\n",
      " [ 0.  0.  1.]\n",
      " [ 1.  0.  0.]]\n",
      "[[ 1.          0.          0.        ]\n",
      " [ 0.14285714  1.          0.        ]\n",
      " [ 0.57142857  0.5         1.        ]]\n",
      "[[  7.00000000e+00   8.00000000e+00   9.00000000e+00]\n",
      " [  0.00000000e+00   8.57142857e-01   1.71428571e+00]\n",
      " [  0.00000000e+00   0.00000000e+00  -1.58603289e-16]]\n"
     ]
    }
   ],
   "source": [
    "import scipy.linalg\n",
    "\n",
    "P, L, U = scipy.linalg.lu(a)\n",
    "print(P)\n",
    "print(L)\n",
    "print(U)"
   ]
  },
  {
   "cell_type": "code",
   "execution_count": 98,
   "metadata": {},
   "outputs": [
    {
     "name": "stdout",
     "output_type": "stream",
     "text": [
      "[[ 0.  1.  0.]\n",
      " [ 0.  0.  1.]\n",
      " [ 1.  0.  0.]]\n",
      "[[ 1.          0.          0.        ]\n",
      " [ 0.14285714  1.          0.        ]\n",
      " [ 0.57142857  0.5         1.        ]]\n",
      "[[  7.00000000e+00   8.00000000e+00   9.00000000e+00   3.00000000e+00]\n",
      " [  0.00000000e+00   8.57142857e-01   1.71428571e+00   5.71428571e-01]\n",
      " [  0.00000000e+00   0.00000000e+00  -1.58603289e-16  -1.58603289e-17]]\n"
     ]
    }
   ],
   "source": [
    "ab = np.column_stack((a,b))\n",
    "P, L, U = scipy.linalg.lu(ab)\n",
    "print(P)\n",
    "print(L)\n",
    "print(U)"
   ]
  },
  {
   "cell_type": "markdown",
   "metadata": {},
   "source": [
    "# 階数"
   ]
  },
  {
   "cell_type": "code",
   "execution_count": 46,
   "metadata": {},
   "outputs": [
    {
     "name": "stdout",
     "output_type": "stream",
     "text": [
      "[[1 2 3]\n",
      " [4 5 6]\n",
      " [7 8 9]]\n",
      "2\n",
      "2\n"
     ]
    },
    {
     "name": "stderr",
     "output_type": "stream",
     "text": [
      "/Users/bob/anaconda3/lib/python3.6/site-packages/ipykernel_launcher.py:4: VisibleDeprecationWarning: `rank` is deprecated; use the `ndim` attribute or function instead. To find the rank of a matrix see `numpy.linalg.matrix_rank`.\n",
      "  after removing the cwd from sys.path.\n"
     ]
    }
   ],
   "source": [
    "print(a)\n",
    "\n",
    "print(np.linalg.matrix_rank(a))\n",
    "print(np.rank(a)) #deprecatedなんでやめろって，\n",
    "# 関数名とかlibの区分けに統一性がないよね．．．\n"
   ]
  },
  {
   "cell_type": "markdown",
   "metadata": {},
   "source": [
    "# 行列式"
   ]
  },
  {
   "cell_type": "code",
   "execution_count": 77,
   "metadata": {},
   "outputs": [
    {
     "name": "stdout",
     "output_type": "stream",
     "text": [
      "1.0\n"
     ]
    },
    {
     "data": {
      "text/plain": [
       "-2.0"
      ]
     },
     "execution_count": 77,
     "metadata": {},
     "output_type": "execute_result"
    }
   ],
   "source": [
    "c = np.array([[1,1],[1,2]])\n",
    "print(np.linalg.det(c))\n",
    "\n",
    "a = np.array([[1,2],[3,4]])\n",
    "scipy.linalg.det(a)"
   ]
  },
  {
   "cell_type": "markdown",
   "metadata": {},
   "source": [
    "# 逆行列"
   ]
  },
  {
   "cell_type": "code",
   "execution_count": 101,
   "metadata": {},
   "outputs": [
    {
     "data": {
      "text/plain": [
       "array([[-2. ,  1. ],\n",
       "       [ 1.5, -0.5]])"
      ]
     },
     "execution_count": 101,
     "metadata": {},
     "output_type": "execute_result"
    }
   ],
   "source": [
    "a = np.array([[1,2],[3,4]])\n",
    "scipy.linalg.inv(a)"
   ]
  },
  {
   "cell_type": "markdown",
   "metadata": {},
   "source": [
    "## 課題\n",
    "次の連立方程式を解け．\n",
    "$$ \n",
    "\\left\\{\n",
    "\\begin {array}{cl} \n",
    "x+y+z&=0\\\\\n",
    "ax+by+cz&=0\\\\\n",
    "bcx+cay+abz&=(a-b)(b-c)(c-a)\n",
    "\\end {array} \\right.\n",
    "$$\n"
   ]
  },
  {
   "cell_type": "code",
   "execution_count": 156,
   "metadata": {},
   "outputs": [
    {
     "name": "stdout",
     "output_type": "stream",
     "text": [
      "Matrix([[1, 1, 1], [a, b, c], [b*c, a*c, a*b]])\n",
      "Matrix([[0], [0], [(-a + c)*(a - b)*(b - c)]])\n",
      "-b + c\n",
      "a - c\n",
      "-a + b\n"
     ]
    }
   ],
   "source": [
    "from pprint import pprint\n",
    "from sympy import *\n",
    "a,b,c,x,y,z = symbols('a b c x y z')\n",
    "\n",
    "A = Matrix([[1,1,1],[a,b,c],[b*c,c*a,a*b]])\n",
    "bb = Matrix([0,0,(a-b)*(b-c)*(c-a)])\n",
    "print(A)\n",
    "print(bb)\n",
    "Ainv = A.inv()\n",
    "res = Ainv * bb\n",
    "pprint(simplify(res[0]))\n",
    "pprint(simplify(res[1]))\n",
    "pprint(simplify(res[2]))"
   ]
  },
  {
   "cell_type": "markdown",
   "metadata": {},
   "source": [
    "# 固有値，固有ベクトル"
   ]
  },
  {
   "cell_type": "code",
   "execution_count": 118,
   "metadata": {},
   "outputs": [
    {
     "name": "stdout",
     "output_type": "stream",
     "text": [
      "[-0.37228132+0.j  5.37228132+0.j]\n",
      "[[-0.82456484 -0.41597356]\n",
      " [ 0.56576746 -0.90937671]]\n"
     ]
    }
   ],
   "source": [
    "a = np.array([[1,2],[3,4]])\n",
    "l, P = scipy.linalg.eig(a)\n",
    "print(l)\n",
    "print(P)"
   ]
  },
  {
   "cell_type": "markdown",
   "metadata": {},
   "source": [
    "# ベクトルの規格化"
   ]
  },
  {
   "cell_type": "code",
   "execution_count": 103,
   "metadata": {},
   "outputs": [
    {
     "data": {
      "text/plain": [
       "1.0"
      ]
     },
     "execution_count": 103,
     "metadata": {},
     "output_type": "execute_result"
    }
   ],
   "source": [
    "# eigの固有ベクトルは規格化されている\n",
    "np.linalg.norm(P[:,1])"
   ]
  },
  {
   "cell_type": "markdown",
   "metadata": {
    "collapsed": true
   },
   "source": [
    "# 対角化"
   ]
  },
  {
   "cell_type": "code",
   "execution_count": 107,
   "metadata": {},
   "outputs": [
    {
     "data": {
      "text/plain": [
       "array([[ -3.72281323e-01,   6.10622664e-16],\n",
       "       [  4.44089210e-16,   5.37228132e+00]])"
      ]
     },
     "execution_count": 107,
     "metadata": {},
     "output_type": "execute_result"
    }
   ],
   "source": [
    "np.dot(np.dot(np.linalg.inv(P),a),P)"
   ]
  },
  {
   "cell_type": "markdown",
   "metadata": {},
   "source": [
    "## 課題\n",
    "行列\n",
    "$$\n",
    "A\\, := \\, \\left[\n",
    "\\begin {array}{ccc} \n",
    "2&0&1\\\\\n",
    "0&3&0\\\\\n",
    "1&0&2\n",
    "\\end {array} \\right]\n",
    "$$\n",
    "\n",
    "を対角化する変換行列$P$を求め，対角化せよ．"
   ]
  },
  {
   "cell_type": "code",
   "execution_count": 117,
   "metadata": {},
   "outputs": [
    {
     "name": "stdout",
     "output_type": "stream",
     "text": [
      "[ 3.  1.  3.]\n",
      "[[ 0.70710678 -0.70710678  0.        ]\n",
      " [ 0.          0.          1.        ]\n",
      " [ 0.70710678  0.70710678  0.        ]]\n"
     ]
    },
    {
     "data": {
      "text/plain": [
       "array([[  3.00000000e+00,   4.80650139e-17,   0.00000000e+00],\n",
       "       [ -1.01465364e-17,   1.00000000e+00,   0.00000000e+00],\n",
       "       [  0.00000000e+00,   0.00000000e+00,   3.00000000e+00]])"
      ]
     },
     "execution_count": 117,
     "metadata": {},
     "output_type": "execute_result"
    }
   ],
   "source": [
    "import numpy as np\n",
    "\n",
    "A = np.array([[2,0,1],[0,3,0],[1,0,2]])\n",
    "l, P = np.linalg.eig(A)\n",
    "print(l)\n",
    "print(P)\n",
    "\n",
    "np.dot(np.dot(np.linalg.inv(P),A),P)"
   ]
  },
  {
   "cell_type": "code",
   "execution_count": null,
   "metadata": {
    "collapsed": true
   },
   "outputs": [],
   "source": []
  }
 ],
 "metadata": {
  "kernelspec": {
   "display_name": "Python 3",
   "language": "python",
   "name": "python3"
  },
  "language_info": {
   "codemirror_mode": {
    "name": "ipython",
    "version": 3
   },
   "file_extension": ".py",
   "mimetype": "text/x-python",
   "name": "python",
   "nbconvert_exporter": "python",
   "pygments_lexer": "ipython3",
   "version": "3.6.1"
  },
  "latex_envs": {
   "LaTeX_envs_menu_present": true,
   "autocomplete": true,
   "bibliofile": "biblio.bib",
   "cite_by": "apalike",
   "current_citInitial": 1,
   "eqLabelWithNumbers": true,
   "eqNumInitial": 1,
   "hotkeys": {
    "equation": "Ctrl-E",
    "itemize": "Ctrl-I"
   },
   "labels_anchors": false,
   "latex_user_defs": false,
   "report_style_numbering": false,
   "user_envs_cfg": false
  },
  "toc": {
   "colors": {
    "hover_highlight": "#DAA520",
    "navigate_num": "#000000",
    "navigate_text": "#333333",
    "running_highlight": "#FF0000",
    "selected_highlight": "#FFD700",
    "sidebar_border": "#EEEEEE",
    "wrapper_background": "#FFFFFF"
   },
   "moveMenuLeft": true,
   "nav_menu": {
    "height": "84px",
    "width": "252px"
   },
   "navigate_menu": true,
   "number_sections": true,
   "sideBar": true,
   "threshold": 4,
   "toc_cell": true,
   "toc_section_display": "block",
   "toc_window_display": true,
   "widenNotebook": false
  }
 },
 "nbformat": 4,
 "nbformat_minor": 2
}
