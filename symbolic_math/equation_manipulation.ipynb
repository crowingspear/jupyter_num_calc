{
 "cells": [
  {
   "cell_type": "markdown",
   "metadata": {
    "toc": "true"
   },
   "source": [
    "# Table of Contents\n",
    " <p><div class=\"lev1 toc-item\"><a href=\"#数式処理コマンドの分類(EquationManipulationTable)\" data-toc-modified-id=\"数式処理コマンドの分類(EquationManipulationTable)-1\"><span class=\"toc-item-num\">1&nbsp;&nbsp;</span>数式処理コマンドの分類(EquationManipulationTable)</a></div><div class=\"lev3 toc-item\"><a href=\"#caption:数式処理で頻繁に使うコマンド．\" data-toc-modified-id=\"caption:数式処理で頻繁に使うコマンド．-101\"><span class=\"toc-item-num\">1.0.1&nbsp;&nbsp;</span>caption:数式処理で頻繁に使うコマンド．</a></div><div class=\"lev1 toc-item\"><a href=\"#式の変形に関連したコマンド(Simplify)\" data-toc-modified-id=\"式の変形に関連したコマンド(Simplify)-2\"><span class=\"toc-item-num\">2&nbsp;&nbsp;</span>式の変形に関連したコマンド(Simplify)</a></div><div class=\"lev2 toc-item\"><a href=\"#簡単化(simplify)\" data-toc-modified-id=\"簡単化(simplify)-21\"><span class=\"toc-item-num\">2.1&nbsp;&nbsp;</span>簡単化(simplify)</a></div><div class=\"lev2 toc-item\"><a href=\"#展開(expand)\" data-toc-modified-id=\"展開(expand)-22\"><span class=\"toc-item-num\">2.2&nbsp;&nbsp;</span>展開(expand)</a></div><div class=\"lev2 toc-item\"><a href=\"#因数分解(factor)\" data-toc-modified-id=\"因数分解(factor)-23\"><span class=\"toc-item-num\">2.3&nbsp;&nbsp;</span>因数分解(factor)</a></div><div class=\"lev2 toc-item\"><a href=\"#約分・通分(normal)\" data-toc-modified-id=\"約分・通分(normal)-24\"><span class=\"toc-item-num\">2.4&nbsp;&nbsp;</span>約分・通分(normal)</a></div><div class=\"lev2 toc-item\"><a href=\"#項を変数でまとめる(collect)\" data-toc-modified-id=\"項を変数でまとめる(collect)-25\"><span class=\"toc-item-num\">2.5&nbsp;&nbsp;</span>項を変数でまとめる(collect)</a></div><div class=\"lev1 toc-item\"><a href=\"#式の分割抽出(convert)\" data-toc-modified-id=\"式の分割抽出(convert)-3\"><span class=\"toc-item-num\">3&nbsp;&nbsp;</span>式の分割抽出(convert)</a></div><div class=\"lev2 toc-item\"><a href=\"#形式の変換(convert(exp1,opt))\" data-toc-modified-id=\"形式の変換(convert(exp1,opt))-31\"><span class=\"toc-item-num\">3.1&nbsp;&nbsp;</span>形式の変換(convert(exp1,opt))</a></div><div class=\"lev2 toc-item\"><a href=\"#分母，分子(denom,numer)\" data-toc-modified-id=\"分母，分子(denom,numer)-32\"><span class=\"toc-item-num\">3.2&nbsp;&nbsp;</span>分母，分子(denom,numer)</a></div><div class=\"lev2 toc-item\"><a href=\"#係数(coeff)\" data-toc-modified-id=\"係数(coeff)-33\"><span class=\"toc-item-num\">3.3&nbsp;&nbsp;</span>係数(coeff)</a></div><div class=\"lev2 toc-item\"><a href=\"#課題\" data-toc-modified-id=\"課題-34\"><span class=\"toc-item-num\">3.4&nbsp;&nbsp;</span>課題</a></div><div class=\"lev2 toc-item\"><a href=\"#解答例\" data-toc-modified-id=\"解答例-35\"><span class=\"toc-item-num\">3.5&nbsp;&nbsp;</span>解答例</a></div><div class=\"lev1 toc-item\"><a href=\"#式の変形の基本(BottomLine)\" data-toc-modified-id=\"式の変形の基本(BottomLine)-4\"><span class=\"toc-item-num\">4&nbsp;&nbsp;</span>式の変形の基本(BottomLine)</a></div><div class=\"lev2 toc-item\"><a href=\"#鉄則\" data-toc-modified-id=\"鉄則-41\"><span class=\"toc-item-num\">4.1&nbsp;&nbsp;</span>鉄則</a></div><div class=\"lev2 toc-item\"><a href=\"#具体例：無限積分\" data-toc-modified-id=\"具体例：無限積分-42\"><span class=\"toc-item-num\">4.2&nbsp;&nbsp;</span>具体例：無限積分</a></div><div class=\"lev2 toc-item\"><a href=\"#式のフォローのデフォルト\" data-toc-modified-id=\"式のフォローのデフォルト-43\"><span class=\"toc-item-num\">4.3&nbsp;&nbsp;</span>式のフォローのデフォルト</a></div><div class=\"lev1 toc-item\"><a href=\"#センター試験I(CenterExamI)\" data-toc-modified-id=\"センター試験I(CenterExamI)-5\"><span class=\"toc-item-num\">5&nbsp;&nbsp;</span>センター試験I(CenterExamI)</a></div><div class=\"lev2 toc-item\"><a href=\"#数式変形実践課題（大学入試センター試験の解法を通して）\" data-toc-modified-id=\"数式変形実践課題（大学入試センター試験の解法を通して）-51\"><span class=\"toc-item-num\">5.1&nbsp;&nbsp;</span>数式変形実践課題（大学入試センター試験の解法を通して）</a></div><div class=\"lev2 toc-item\"><a href=\"#例題1:2次関数の頂点\" data-toc-modified-id=\"例題1:2次関数の頂点-52\"><span class=\"toc-item-num\">5.2&nbsp;&nbsp;</span>例題1:2次関数の頂点</a></div><div class=\"lev3 toc-item\"><a href=\"#解答例\" data-toc-modified-id=\"解答例-521\"><span class=\"toc-item-num\">5.2.1&nbsp;&nbsp;</span>解答例</a></div><div class=\"lev2 toc-item\"><a href=\"#課題\" data-toc-modified-id=\"課題-53\"><span class=\"toc-item-num\">5.3&nbsp;&nbsp;</span>課題</a></div><div class=\"lev3 toc-item\"><a href=\"#課題1\" data-toc-modified-id=\"課題1-531\"><span class=\"toc-item-num\">5.3.1&nbsp;&nbsp;</span>課題1</a></div><div class=\"lev3 toc-item\"><a href=\"#解答例\" data-toc-modified-id=\"解答例-532\"><span class=\"toc-item-num\">5.3.2&nbsp;&nbsp;</span>解答例</a></div><div class=\"lev3 toc-item\"><a href=\"#課題2\" data-toc-modified-id=\"課題2-533\"><span class=\"toc-item-num\">5.3.3&nbsp;&nbsp;</span>課題2</a></div><div class=\"lev3 toc-item\"><a href=\"#解答例\" data-toc-modified-id=\"解答例-534\"><span class=\"toc-item-num\">5.3.4&nbsp;&nbsp;</span>解答例</a></div>"
   ]
  },
  {
   "cell_type": "markdown",
   "metadata": {},
   "source": [
    "<br />\n",
    "\n",
    "<div style=\"text-align: center;\">\n",
    "<font size=\"7\">式変形(equation manipulation)</font>\n",
    "</div>\n",
    "<br />\n",
    "<div style=\"text-align: right;\">\n",
    "<font size=\"4\">file:/~/python/doing_math_with_python/equation_manipulation.ipynb</font>\n",
    "<br />\n",
    "<font size=\"4\">cc by Shigeto R. Nishitani 2017 </font>\n",
    "</div>"
   ]
  },
  {
   "cell_type": "markdown",
   "metadata": {},
   "source": [
    "# 数式処理コマンドの分類(EquationManipulationTable)\n"
   ]
  },
  {
   "cell_type": "markdown",
   "metadata": {},
   "source": [
    "\n",
    "数式の変形は，手で直すほうが圧倒的に早くきれいになる場合が多い．しかし，テイラー展開や，複雑な積分公式，三角関数とexp関数の変換などの手間がかかるところを，Mapleは間違いなく変形してくれる．ここで示すコマンドを全て覚える必要は全くない．というか忘れるもの．ここでは，できるだけコンパクトにまとめて，悩んだときに参照できるようにする．初めての人は，ざっと眺めた後，鉄則からじっくりフォローせよ．\n",
    "\n"
   ]
  },
  {
   "cell_type": "markdown",
   "metadata": {},
   "source": [
    "### caption:数式処理で頻繁に使うコマンド．\n"
   ]
  },
  {
   "cell_type": "markdown",
   "metadata": {},
   "source": [
    "\n",
    "|式の変形|式の分割抽出|省略操作，その他 |代入，置換，仮定|\n",
    "|:----|:----|:----|:----|\n",
    "|simplify:簡単化 |lhs, rhs:左辺，右辺\t|｜｜:連結作用素 |subs:一時的代入\t|\n",
    "|expand:展開\t\t|numer, denom:分子，分母|seq:for-loopの簡易表記|restart,a:='a':初期化|\n",
    "|factor:因数分解\t|coeff:係数\t\t\t\t|map:関数の要素への適用|assume:仮定\t\t\t|\n",
    "|normal:約分・通分 |nops, op\t\t\t\t|add,mul:単純な和，積|assuming:一時的仮定|\n",
    "|combine:公式でまとめる|\t\t\t\t\t|sum,product:数式に対応した和，積|assign:値の確定\t|\n",
    "|collect:次数でまとめる|\t\t\t\t\t|limit:極限|about:仮定の中身\t|\n",
    "|sort:昇べき，降べき|\t\t\t\t\t|\t|anames('user'):使用変数名|\n",
    "|rationalize:分母の有理化|\n",
    "|convert:形式の変換|\n",
    "\n",
    "\n",
    "このほかにも，solve(解), diff(微分), int(積分)，series(級数展開)等は頻繁に数式の導出・変形に登場する．\n",
    "\n",
    "\n",
    "\n",
    "\n",
    "\n",
    "\n",
    "\n"
   ]
  },
  {
   "cell_type": "markdown",
   "metadata": {},
   "source": [
    "# 式の変形に関連したコマンド"
   ]
  },
  {
   "cell_type": "markdown",
   "metadata": {},
   "source": [
    "\n",
    "\n"
   ]
  },
  {
   "cell_type": "markdown",
   "metadata": {},
   "source": [
    "## 簡単化(simplify) \n"
   ]
  },
  {
   "cell_type": "code",
   "execution_count": 18,
   "metadata": {},
   "outputs": [
    {
     "data": {
      "text/plain": [
       "7*x + 2*y"
      ]
     },
     "execution_count": 18,
     "metadata": {},
     "output_type": "execute_result"
    }
   ],
   "source": [
    "from sympy import *\n",
    "x,y=symbols('x y')\n",
    "simplify(3*x+4*x+2*y)"
   ]
  },
  {
   "cell_type": "code",
   "execution_count": 5,
   "metadata": {},
   "outputs": [
    {
     "data": {
      "text/plain": [
       "4*sin(x)**3 - sin(x)"
      ]
     },
     "execution_count": 5,
     "metadata": {},
     "output_type": "execute_result"
    }
   ],
   "source": [
    "exp1=3*sin(x)**3-sin(x)*cos(x)**2\n",
    "simplify(exp1)"
   ]
  },
  {
   "cell_type": "markdown",
   "metadata": {},
   "source": [
    "## 展開(expand) \n"
   ]
  },
  {
   "cell_type": "code",
   "execution_count": 6,
   "metadata": {},
   "outputs": [
    {
     "data": {
      "text/plain": [
       "x**2 + 2*x*y + y**2"
      ]
     },
     "execution_count": 6,
     "metadata": {},
     "output_type": "execute_result"
    }
   ],
   "source": [
    "expand((x+y)**2)"
   ]
  },
  {
   "cell_type": "markdown",
   "metadata": {},
   "source": [
    "## 因数分解(factor) \n"
   ]
  },
  {
   "cell_type": "code",
   "execution_count": 7,
   "metadata": {},
   "outputs": [
    {
     "data": {
      "text/plain": [
       "2*(x - y)*(2*x - y)"
      ]
     },
     "execution_count": 7,
     "metadata": {},
     "output_type": "execute_result"
    }
   ],
   "source": [
    "factor(4*x**2-6*x*y+2*y**2)"
   ]
  },
  {
   "cell_type": "markdown",
   "metadata": {},
   "source": [
    "## 約分・通分(normal) \n"
   ]
  },
  {
   "cell_type": "code",
   "execution_count": 11,
   "metadata": {},
   "outputs": [
    {
     "data": {
      "text/plain": [
       "1/(x - 4*y)"
      ]
     },
     "execution_count": 11,
     "metadata": {},
     "output_type": "execute_result"
    }
   ],
   "source": [
    "simplify((x+y)/(x**2-3*x*y-4*y**2))"
   ]
  },
  {
   "cell_type": "code",
   "execution_count": 19,
   "metadata": {},
   "outputs": [
    {
     "data": {
      "text/plain": [
       "(x + y)/(x*y)"
      ]
     },
     "execution_count": 19,
     "metadata": {},
     "output_type": "execute_result"
    }
   ],
   "source": [
    "together(1/x+1/y)"
   ]
  },
  {
   "cell_type": "code",
   "execution_count": 21,
   "metadata": {
    "collapsed": true
   },
   "outputs": [],
   "source": [
    "?sqrtdenest"
   ]
  },
  {
   "cell_type": "markdown",
   "metadata": {},
   "source": [
    "## 項を変数でまとめる(collect) \n"
   ]
  },
  {
   "cell_type": "code",
   "execution_count": 18,
   "metadata": {},
   "outputs": [
    {
     "data": {
      "text/plain": [
       "4*a*x**2 + y**2*(2 - 3/x) + y*(6*b*x + 3*c)"
      ]
     },
     "execution_count": 18,
     "metadata": {},
     "output_type": "execute_result"
    }
   ],
   "source": [
    "a,b,c = symbols('a b c')\n",
    "collect(4*a*x**2-3*y**2/x+6*b*x*y+3*c*y+2*y**2,y)"
   ]
  },
  {
   "cell_type": "markdown",
   "metadata": {},
   "source": [
    "# 式の分割抽出(convert)\n"
   ]
  },
  {
   "cell_type": "markdown",
   "metadata": {},
   "source": [
    "\n",
    "\n"
   ]
  },
  {
   "cell_type": "markdown",
   "metadata": {},
   "source": [
    "## 形式の変換(convert(exp1,opt)) \n"
   ]
  },
  {
   "cell_type": "markdown",
   "metadata": {},
   "source": [
    "## 分母，分子(denom,numer) \n"
   ]
  },
  {
   "cell_type": "markdown",
   "metadata": {},
   "source": [
    "それぞれ，分母，分子を意味するdenominator, numeratorの略\n",
    "```maple\n",
    "> numer(a*x/(x+y)^3);\n",
    "> denom(a*x/(x+y)^3);\n",
    "```\n",
    "$$\n",
    "ax \\notag \\\\\n",
    "\\left( x+y \\right) ^{3} \\notag\n",
    "$$\n",
    "\n",
    "\n"
   ]
  },
  {
   "cell_type": "markdown",
   "metadata": {},
   "source": [
    "## 係数(coeff) \n"
   ]
  },
  {
   "cell_type": "markdown",
   "metadata": {},
   "source": [
    "```maple\n",
    "> coeff(4*a*x^2-3*y^2/x+6*b*x*y+3*c*y+2*y^2,y^2);\n",
    "```\n",
    "$$\n",
    "-\\frac{3}{x}+2\n",
    "$$\n",
    "\n",
    "\n"
   ]
  },
  {
   "cell_type": "markdown",
   "metadata": {},
   "source": [
    "## 課題\n",
    "1.  以下の関数をx0まわりで3次までテイラー展開し，得られた関数ともとの関数をプロットせよ．さらに高次まで展開した場合はどう変化するか．\n",
    "\n",
    "i) $y =\\cos \\left(x \\right),{\\it x0} =0$, ii) $y =\\ln\\left(x \\right),{\\it x0} =1$, iii) $y =\\exp \\left(-x \\right),{\\it x0} =0$\n",
    "1.  $ \\frac{x+1}{(x-1)(x^2+1)^2}$を部分分数に展開せよ．\n",
    "1.  $ \\frac{1}{1-x^4} = \\frac{a}{x^2+1}+\\frac{b}{x+1}+\\frac{c}{x-1}$が常に成立する$a, b, c$を定めよ．\n",
    "1.  $ \\frac{8}{3-\\sqrt{5}}-\\frac{2}{2+\\sqrt{5}}$を簡単化せよ．\n",
    "1.  $ x^2+2kx+5-k=0$が重根をもつように$k$を定めよ．\n",
    "\n",
    "## 解答例\n",
    "1.  seriesでTaylor展開した後，convertで多項式(polynom)に変換する．\n",
    "```maple\n",
    "> convert(series(cos(x),x),polynom);\n",
    "```\n",
    "$$\n",
    "1-\\frac{1}{2}\\,{x}^{2}+\\frac{1}{24}\\,{x}^{4}\n",
    "$$\n",
    "\n",
    "```maple\n",
    "> plot([convert(series(cos(x),x),polynom),cos(x)],x=-Pi..Pi);\n",
    "```\n",
    "$$\n",
    "1-\\frac{1}{2}\\,{x}^{2}+\\frac{1}{24}\\,{x}^{4}-{\\frac {1}{720}}\\,{x}^{6}+{\\frac {1}{40320}}\\,{x}^{8}\n",
    "$$\n",
    "\n",
    "|{{attach_view(EqManip3plot2d1.png,)}}|\n",
    "|:----|\n",
    "\n",
    "高次展開する場合には，seriesの最後の引数に次数を指定する．デフォルトは6次．関数の一致具合が向上していることに注目．\n",
    "```maple\n",
    "convert(series(cos(x),x,9),polynom);\n",
    "plot([convert(series(cos(x),x,9),polynom),cos(x)],x=-Pi..Pi);\n",
    "```\n",
    "\n",
    "|{{attach_view(EqManip3plot2d2.png,)}}|\n",
    "|:----|\n",
    "\n",
    "\n",
    "seriesでの展開で，x=1とするとその周りでの展開になる．\n",
    "```maple\n",
    "> convert(series(ln(x),x=1),polynom);\n",
    "```\n",
    "$$\n",
    "x-1-\\frac{1}{2}\\, \\left( x-1 \\right) ^{2}+\\frac{1}{3}\\, \\left( x-1 \\right) ^{3}-\\frac{1}{4}\\, \\left( x-1 \\right) ^{4}+\\frac{1}{5}\\, \\left( x-1 \\right) ^{5}\n",
    "$$\n",
    "\n",
    "```maple\n",
    "> plot([convert(series(ln(x),x=1),polynom),ln(x)],x=0..2);\n",
    "```\n",
    "\n",
    "|{{attach_view(EqManip3plot2d3.png,)}}|\n",
    "|:----|\n",
    "\n",
    "\n",
    "```maple\n",
    "> convert(series(exp(-x),x),polynom);\n",
    "```\n",
    "$$\n",
    "1-x+\\frac{1}{2}\\,{x}^{2}-\\frac{1}{6}\\,{x}^{3}+\\frac{1}{24}\\,{x}^{4}-{\\frac {1}{120}}\\,{x}^{5}\n",
    "$$\n",
    "\n",
    "```maple\n",
    "> plot([convert(series(exp(-x),x),polynom),exp(-x)],x=0..2);\n",
    "```\n",
    "\n",
    "|{{attach_view(EqManip3plot2d4.png,)}}|\n",
    "|:----|\n",
    "\n",
    "\n",
    "1. \n",
    "```maple\n",
    "> restart; eq1:=(x+1)/((x-1)*(x^2+1)^2);\n",
    "```\n",
    "$$\n",
    "{\\it eq1}\\, := \\,{\\frac {x+1}{ \\left( x-1 \\right)  \\left( {x}^{2}+1 \\right) ^{2}}}\n",
    "$$\n",
    "\n",
    "```maple\n",
    "> convert(eq1,parfrac);\n",
    "```\n",
    "$$\n",
    "\\frac{1}{2 \\left(x-1 \\right) }-{\\frac {x}{ \\left( {x}^{2}+1 \\right) ^{2}}}+\\frac{1}{2}\\,{\\frac {-x-1}{{x}^{2}+1}}\n",
    "$$\n",
    "\n",
    "1. \n",
    "```maple\n",
    "> convert(1/(1-x^4),parfrac);\n",
    "```\n",
    "$$\n",
    "- \\frac{1}{4 \\left( x-1 \\right)}+ \\frac{1}{ 4\\,\\left(x+1 \\right) }+ \\frac{1}{2\\,\\left( {x}^{2}+1 \\right)}\n",
    "$$\n",
    "\n",
    "1. \n",
    "```maple\n",
    "> eq2:=8/(3-sqrt(5))-2/(2+sqrt(5));\n",
    "```\n",
    "$$\n",
    "{\\it eq2}\\, := \\frac{8}{3- \\sqrt{5}}-\\frac{2}{2+ \\sqrt{5}}\n",
    "$$\n",
    "まずはデフォルトの簡単化(simplify)．\n",
    "```maple\n",
    "> simplify(eq2); #res: 10\n",
    "```\n",
    "\n",
    "1. \n",
    "方程式をたてる．\n",
    "```maple\n",
    "> eq3:=x^2+2*k*x+(5-k);\n",
    "```\n",
    "$$\n",
    "{\\it eq3}\\, := \\,{x}^{2}+2\\,kx+5-k\n",
    "$$\n",
    "単純に解を求めて，\n",
    "```maple\n",
    "> sol1:=solve(eq3=0,x);\n",
    "```\n",
    "$$\n",
    "{\\it sol1}\\, := \\,-k+ \\sqrt{{k}^{2}-5+k},\\,-k- \\sqrt{{k}^{2}-5+k}\n",
    "$$\n",
    "それが一致する場合のkを解く．\n",
    "```maple\n",
    "> solve(sol1[1]=sol1[2],k);\n",
    "```\n",
    "$$\n",
    "-\\frac{1}{2}+\\frac{1}{2}\\, \\sqrt{21},\\,-\\frac{1}{2}-\\frac{1}{2}\\, \\sqrt{21}\n",
    "$$\n",
    "別解．まず，係数をcoeffで取り出す．\n",
    "```maple\n",
    "> aa:=coeff(eq3,x^2); #res:1\n",
    "> bb:=coeff(eq3,x);   #res: 2 k\n",
    "> cc:=coeff(eq3,x,0); #res: 5 - k\n",
    "```\n",
    "判別式$D=b^2-4ac$を計算して，$=0$とおいてkについて解く．\n",
    "```maple\n",
    "> solve(bb^2-4*aa*cc=0,k);\n",
    "```\n",
    "$$\n",
    "-\\frac{1}{2}+\\frac{1}{2}\\, \\sqrt{21},\\,-\\frac{1}{2}-\\frac{1}{2}\\, \\sqrt{21}\n",
    "$$"
   ]
  },
  {
   "cell_type": "markdown",
   "metadata": {},
   "source": [
    "# 式の変形の基本(BottomLine)\n"
   ]
  },
  {
   "cell_type": "markdown",
   "metadata": {},
   "source": [
    "\n",
    "どうしても解かなければならない課題を前にコマンドリファレンスのあちこちを参照しながら解いていくのが数式処理を修得する最速法である．とびかかる前にちょっとした共通\n",
    "のコツがある．それをここでは示す．数式処理ソフトでの数式処理とは，数式処理ソフトが『自動的にやって』くれるのではなく，実際に紙と鉛筆で解いていく手順を数式処理ソ\n",
    "フトに『やらせる』ことであることを肝に銘じよ．\n",
    "\n",
    "\n"
   ]
  },
  {
   "cell_type": "markdown",
   "metadata": {},
   "source": [
    "## 鉄則 \n"
   ]
  },
  {
   "cell_type": "markdown",
   "metadata": {},
   "source": [
    "数式処理ソフトの習得にあたって初心者がつまづく共通の過ちを回避する鉄則がある．\n",
    "\n",
    "<dl>\n",
    "<dt>鉄則０：restart をかける</dt><dd></dd>\n",
    "</dl>\n",
    "続けて入力すると前の入力が生きている．違う問題へ移るときや，もう一度入力をし直すときには，Kernel->Restartを押して初期状態からはじめる．入力した順番が狂っている場合もある．頭から順にshift-returnをやり直す．\n",
    "<dl>\n",
    "<dt>鉄則１：出力してみる</dt><dd></dd>\n",
    "</dl>\n",
    "テキストではページ数の関係で出力を抑止しているが，初心者が問題を解いていく段階ではデータやグラフをできるだけ多く出力する．途中の結果を明示するためにpprint文を入れる．\n",
    "<dl>\n",
    "<dt>鉄則２：関数に値を代入してみる</dt><dd></dd>\n",
    "</dl>\n",
    "数値が返ってくるべき時に変数があればどこかで入力をミスっている．plotで以下のようなエラーが出た場合にチェック．\n",
    "```　python\n",
    "ValueError: The same variable should be used in all univariate expressions being plotted.\n",
    "```\n",
    "<dl>\n",
    "<dt>鉄則３：内側から順に入力する</dt><dd></dd>\n",
    "</dl>\n",
    "長い入力やfor-loopを頭から打ち込んではいけない！！　内側から順に何をしているか解読・確認しながら打ち込む．括弧が合わなかったり，読み飛ばしていたりというエラーが回避できる．\n",
    "\n",
    "\n"
   ]
  },
  {
   "cell_type": "markdown",
   "metadata": {},
   "source": [
    "## 具体例：無限積分 \n"
   ]
  },
  {
   "cell_type": "markdown",
   "metadata": {},
   "source": [
    "以下に示す積分を実行せよ．\n",
    "\n",
    "$$\n",
    "\\int _{-\\infty }^{\\infty }x \\exp(-\\beta c\\,{x}^{2}) \\left( 1+\\beta g\\,{x}^{3} \\right) {dx}\n",
    "$$\n",
    "最新版のMapleでは改良が施されていて，このような複雑な積分も一発で求まる．\n",
    "\n",
    "```maple\n",
    "> int(f1(x),x=-infinity..infinity);\n",
    "```\n",
    "$$\n",
    "\\left\\{\\, \\begin {array}{cc} { \\frac{3}{4}\\,\\frac {g \\sqrt{\\pi }}{\\beta\\,{c}^{2} \\sqrt{c\\beta}}}&csgn \\left( c\\beta \\right) =1\\\\  \\infty&otherwise\\end {array} \\right.\n",
    "$$\n",
    "ここでは，$c \\beta$が正の場合(csgn(beta c)=1)とそれ以外の場合(otherwise)に分けて答えを返している．しかしこのような意図したきれいな結果をいつもMapleが返してくれるとは限らない．これだけしか知らないと，なにかうまくいかないときにお手上げになってしまう．このようなきれいで簡単な結果に行き着く前の，裏でおこなういくつかの予備計算を省略せずに示そう．\n",
    "\n",
    "sympyではダメで，"
   ]
  },
  {
   "cell_type": "code",
   "execution_count": 11,
   "metadata": {},
   "outputs": [
    {
     "name": "stdout",
     "output_type": "stream",
     "text": [
      "                      2\n",
      "  ⎛     3    ⎞  -β⋅c⋅x \n",
      "x⋅⎝β⋅g⋅x  + 1⎠⋅ℯ       \n",
      "⎧                3⋅√π⋅g                                                       \n",
      "⎪─────────────────────────────────────  for │periodic_argument(polar_lift(β)⋅p\n",
      "⎪              3/2              3/2                                           \n",
      "⎪4⋅c⋅polar_lift   (β)⋅polar_lift   (c)                                        \n",
      "⎪                                                                             \n",
      "⎪    ∞                                                                        \n",
      "⎨    ⌠                                                                        \n",
      "⎪    ⎮                        2                                               \n",
      "⎪    ⎮    ⎛     3    ⎞  -β⋅c⋅x                                                \n",
      "⎪    ⎮  x⋅⎝β⋅g⋅x  + 1⎠⋅ℯ        dx                               otherwise    \n",
      "⎪    ⌡                                                                        \n",
      "⎪    -∞                                                                       \n",
      "⎩                                                                             \n",
      "\n",
      "                    π\n",
      "olar_lift(c), ∞)│ < ─\n",
      "                    2\n",
      "                     \n",
      "                     \n",
      "                     \n",
      "                     \n",
      "                     \n",
      "                     \n",
      "                     \n",
      "                     \n",
      "                     \n",
      "                     \n"
     ]
    }
   ],
   "source": [
    "from sympy import *\n",
    "init_printing()\n",
    "\n",
    "x,beta,c,g = symbols('x beta c g')\n",
    "f1 = x*exp(-beta*c*x**2)*(1+beta*g*x**3)\n",
    "\n",
    "pprint(f1)\n",
    "pprint(integrate(f1,(x,-oo,oo)))"
   ]
  },
  {
   "cell_type": "markdown",
   "metadata": {},
   "source": [
    "この辺りの記述をやり直したけど，\n",
    "assumeのためにassumpitons moduleを使ってやったんだけど，\n",
    "どうもうまくいかない．\n",
    "``` python\n",
    "assumes = Q.positive(beta), Q.positive(c)\n",
    "with assuming(*assumes):\n",
    "    print ask(beta*c, positive)\n",
    "```\n",
    "とかは通るけど，integrateの結果は変わらない．\n",
    "結局，symbols('x',positive = True)とかで初めに指定するとすっと通る．\n",
    "\n"
   ]
  },
  {
   "cell_type": "markdown",
   "metadata": {},
   "source": [
    "## 式のフォローのデフォルト \n"
   ]
  },
  {
   "cell_type": "markdown",
   "metadata": {},
   "source": [
    "Mapleで実際に数式をいじる状況というのは，ほとんどの場合が既知の数式変形のフォローだろう．例えば，論文で「(1)式から(2)式への変形は自明である」とかいう\n",
    "文章で済ましている変形が本当にあっているのかを確かめたい時．一番単純なやり方は自明と言われた前後の式が一致していることを確かめるだけで十分である．\n",
    "最も単純な確認法は以下の通り，変形の前後の式を手入力してその差をexpandした結果が0か否かでする．\n"
   ]
  },
  {
   "cell_type": "code",
   "execution_count": 12,
   "metadata": {},
   "outputs": [
    {
     "data": {
      "text/plain": [
       "True"
      ]
     },
     "execution_count": 12,
     "metadata": {},
     "output_type": "execute_result"
    }
   ],
   "source": [
    "from sympy import *\n",
    "x = symbols('x')\n",
    "\n",
    "ex1=(x-3)**4\n",
    "ex2 = x**4-12*x**3+54*x**2-108*x+81\n",
    "\n",
    "expand(ex1-ex2)==0"
   ]
  },
  {
   "cell_type": "markdown",
   "metadata": {},
   "source": [
    "0ならば式の変形は保証されているので，その導出が間違いでなく誤植などもないことが確認できる．ただ，これだけでは変形の哲学や技法が身に付くわけではない．あくまでも\n",
    "苦し紛れのデフォルトであることは心に留めておくように．\n",
    "論理値として確かめたいときには，==0で出てくる．"
   ]
  },
  {
   "cell_type": "markdown",
   "metadata": {},
   "source": [
    "# センター試験I(CenterExamI)\n"
   ]
  },
  {
   "cell_type": "markdown",
   "metadata": {},
   "source": [
    "\n",
    "\n"
   ]
  },
  {
   "cell_type": "markdown",
   "metadata": {},
   "source": [
    "## 数式変形実践課題（大学入試センター試験の解法を通して） \n"
   ]
  },
  {
   "cell_type": "markdown",
   "metadata": {},
   "source": [
    "今まで出てきたコマンドを使えば，典型的なセンター試験の問題を解くのも容易である．以下の例題を参照して課題を解いてみよ．使うコマンドは，unapply, solve, diff, expand(展開), factor(因数分解)とsubs(一時的代入)である．\n"
   ]
  },
  {
   "cell_type": "markdown",
   "metadata": {},
   "source": [
    "## 例題1:2次関数の頂点 \n"
   ]
  },
  {
   "cell_type": "markdown",
   "metadata": {},
   "source": [
    "$a,b$を定数とし, $a \\neq 0$とする．2次関数\n",
    "\n",
    "$$\n",
    "y = a\\,x^2-b\\,x-a+b\\,\\cdots(1)\n",
    "$$\n",
    "のグラフが点 $(-2, 6)$ を通るとする．このとき\n",
    "\n",
    "$$\n",
    "b = -a+\\fbox{ ア }\n",
    "$$\n",
    "であり，グラフの頂点の座標を$a$を用いて表すと\n",
    "\n",
    "$$\n",
    "\\left(\\frac{-a+\\fbox{ イ }}{\\fbox{ ウ }\\,a}, -\\frac{(\\fbox{ エ }\\,a- \\fbox{ オ })^2}{\\fbox{ カ }\\,a}\\right)\n",
    "$$\n",
    "である (2008 年度大学入試センター試験数学 I 第2問より抜粋)．\n",
    "\n",
    "\n"
   ]
  },
  {
   "cell_type": "markdown",
   "metadata": {},
   "source": [
    "### 解答例 \n"
   ]
  },
  {
   "cell_type": "code",
   "execution_count": 1,
   "metadata": {},
   "outputs": [
    {
     "name": "stdout",
     "output_type": "stream",
     "text": [
      "-a + 2\n"
     ]
    }
   ],
   "source": [
    "from sympy import *\n",
    "a,b,x = symbols('a b x')\n",
    "f = a*x**2-b*x-a+b   # 与えられた2次関数を$f(x)$で定義する\n",
    "\n",
    "eq1 = f.subs({x:-2})  # 与えられた点の座標を関数に入れる\n",
    "bb = solve(eq1-6,b)[0] # これをbについて解く\n",
    "pprint(bb)          # こいつが「ア」\n"
   ]
  },
  {
   "cell_type": "code",
   "execution_count": 2,
   "metadata": {},
   "outputs": [
    {
     "name": "stdout",
     "output_type": "stream",
     "text": [
      "b/(2*a)\n",
      "-a + 2\n",
      "──────\n",
      " 2⋅a  \n"
     ]
    }
   ],
   "source": [
    "## 頂点の座標で傾きが0になることを用いて解いていく\n",
    "s_x = solve(diff(f,x),x)[0]\n",
    "print(s_x)\n",
    "x0 = simplify(s_x.subs({b:bb})) # s_bで求まっているbを代入(subs)\n",
    "pprint(x0)"
   ]
  },
  {
   "cell_type": "code",
   "execution_count": 3,
   "metadata": {},
   "outputs": [
    {
     "name": "stdout",
     "output_type": "stream",
     "text": [
      "a*x**2 - a - b*x + b\n",
      "-a + b - b*(-a + 2)/(2*a) + (-a + 2)**2/(4*a)\n",
      "-2*a + 2 - (-a + 2)**2/(4*a)\n"
     ]
    }
   ],
   "source": [
    "print(f)\n",
    "print(f.subs({x:x0}))    # fにx=x0, bbを代入していく\n",
    "y0 = f.subs({x:x0}).subs({b:bb})\n",
    "print(y0)"
   ]
  },
  {
   "cell_type": "code",
   "execution_count": 4,
   "metadata": {},
   "outputs": [
    {
     "data": {
      "text/plain": [
       "-(3*a - 2)**2/(4*a)"
      ]
     },
     "execution_count": 4,
     "metadata": {},
     "output_type": "execute_result"
    }
   ],
   "source": [
    "factor(y0) # simplifyではうまくいかないので，因数分解と明示"
   ]
  },
  {
   "cell_type": "markdown",
   "metadata": {},
   "source": [
    "## 課題"
   ]
  },
  {
   "cell_type": "markdown",
   "metadata": {},
   "source": [
    "### 課題1\n",
    "\n",
    "（例題1に続いて)\n",
    "\n",
    "さらに，2次関数(1)のグラフの頂点の$y$座標が-2であるとする．このとき，$a$は\n",
    "\\begin{equation*}\n",
    "\\fbox{ キ }\\,a^2-\\fbox{ クケ }\\,a+\\fbox{ コ } = 0\n",
    "\\end{equation*}\n",
    "を満たす．これより，$a$の値は\n",
    "\\begin{equation*}\n",
    "a = \\fbox{ サ }, \\frac{\\fbox{ シ }}{\\fbox{ ス }}\n",
    "\\end{equation*}\n",
    "である．\n",
    "以下，$a = \\frac{\\fbox{ シ }}{\\fbox{ ス }}$であるとする．\n",
    "\n",
    "このとき，2次関数(1)のグラフの頂点のx座標は$\\fbox{ セ }$であり，(1)のグラフと$x$軸の2交点の$x$座標は$\\fbox{ ソ },\\fbox{ タ }$である．\n",
    "\n",
    "また，関数(1)は$0 \\leqq x \\leqq 9$において\n",
    "\n",
    "$x = \\fbox{ チ }$のとき，最小値$\\fbox{ ツテ }$をとり，\n",
    "\n",
    "$x = \\fbox{ ト }$のとき，最大値$\\frac{\\fbox{ ナニ }}{\\fbox{ ヌ }}$をとる．\n",
    "\n",
    "\n",
    "(2008 年度大学入試センター試験数学 I より抜粋).\n"
   ]
  },
  {
   "cell_type": "markdown",
   "metadata": {
    "heading_collapsed": true
   },
   "source": [
    "### 解答例"
   ]
  },
  {
   "cell_type": "code",
   "execution_count": 5,
   "metadata": {
    "hidden": true
   },
   "outputs": [
    {
     "name": "stdout",
     "output_type": "stream",
     "text": [
      "   2           \n",
      "9⋅a  - 20⋅a + 4\n",
      "[2/9, 2]\n",
      "2/9\n",
      "4\n",
      "[1, 7]\n"
     ]
    }
   ],
   "source": [
    "eq2 = expand((y0 +2)*(-4*a)) # -4aをかけて，展開\n",
    "pprint(eq2)    # キクケコ\n",
    "s_a=solve(eq2,a)  # 方程式を解く\n",
    "pprint(s_a)    # サシス\n",
    "aa = min(s_a)  #二つの解の小さい方が題意，シス\n",
    "pprint(aa)\n",
    "\n",
    "pprint(x0.subs({a:aa})) # セ\n",
    "eq3 = f.subs({b:bb}).subs({a:aa}) # fに得られたa,bを代入\n",
    "pprint(solve(eq3,x))    # そいつを解いてx軸との交点を，ソタ"
   ]
  },
  {
   "cell_type": "code",
   "execution_count": 6,
   "metadata": {
    "hidden": true
   },
   "outputs": [
    {
     "data": {
      "image/png": "[encoded data removed]",
      "text/plain": [
       "<matplotlib.figure.Figure at 0x10854fa20>"
      ]
     },
     "metadata": {},
     "output_type": "display_data"
    },
    {
     "data": {
      "text/plain": [
       "<sympy.plotting.plot.Plot at 0x10854fa90>"
      ]
     },
     "execution_count": 6,
     "metadata": {},
     "output_type": "execute_result"
    }
   ],
   "source": [
    "plot(eq3, (x,0,9))  # 得られたeq3をplot"
   ]
  },
  {
   "cell_type": "code",
   "execution_count": 7,
   "metadata": {
    "hidden": true
   },
   "outputs": [
    {
     "name": "stdout",
     "output_type": "stream",
     "text": [
      "-2\n",
      "32/9\n"
     ]
    }
   ],
   "source": [
    "print(eq3.subs({x:4}))  # min at x=4\n",
    "print(eq3.subs({x:9}))  # 目視でmax at x=9"
   ]
  },
  {
   "cell_type": "markdown",
   "metadata": {},
   "source": [
    "### 課題2\n",
    "$P = x(x+3)(2x-3)$とする．\n",
    "また，$a$を定数とする．\n",
    "$x = a+1$のときの\n",
    "$P$の値は\n",
    "\\begin{equation*}\n",
    "2a^3+\\fbox{  ア  }a^2+\\fbox{  イ  }a-\\fbox{  ウ  }\n",
    "\\end{equation*}\n",
    "である．\n",
    "\n",
    "$x=a+1$のときの$P$の値と，$x=a$のときの$P$の値が等しいとする．このとき，$a$は\n",
    "\\begin{equation*}\n",
    "3a^2+\\fbox{ エ }a-\\fbox{ オ } = 0\n",
    "\\end{equation*}\n",
    "を満たす．したがって\n",
    "\\begin{equation*}\n",
    "a = \\frac{\\fbox{ カキ }\\pm \\sqrt{\\fbox{ クケ }}}{\\fbox{ コ }}\n",
    "\\end{equation*}\n",
    "である.\n",
    "\n",
    " (2008 年度大学入試センター試験数学 I 第4問より抜粋)"
   ]
  },
  {
   "cell_type": "markdown",
   "metadata": {},
   "source": [
    "### 解答例 "
   ]
  },
  {
   "cell_type": "code",
   "execution_count": 8,
   "metadata": {
    "scrolled": true
   },
   "outputs": [
    {
     "name": "stdout",
     "output_type": "stream",
     "text": [
      "   3      2          \n",
      "2⋅a  + 9⋅a  + 3⋅a - 4\n",
      "   2          \n",
      "3⋅a  + 6⋅a - 2\n",
      "⎡     √15    √15    ⎤\n",
      "⎢-1 + ───, - ─── - 1⎥\n",
      "⎣      3      3     ⎦\n"
     ]
    }
   ],
   "source": [
    "from sympy import *\n",
    "a,b,x = symbols('a b x')\n",
    "P = x*(x+3)*(2*x-3)   # $P$を$x$の関数として定義\n",
    "\n",
    "pprint(expand(P.subs({x:a+1}))) # $$P(a)$を形式的に出してみる．\n",
    "eq1 = expand(P.subs({x:a+1}) - P.subs({x:a})) #2式を差し引く\n",
    "pprint(eq1/2)         # 出題にそろえるため2で割っている．\n",
    "pprint(solve(eq1,a))          # eq1=0をaについて解く(solve)"
   ]
  },
  {
   "cell_type": "code",
   "execution_count": null,
   "metadata": {
    "collapsed": true
   },
   "outputs": [],
   "source": []
  }
 ],
 "metadata": {
  "kernelspec": {
   "display_name": "Python 3",
   "language": "python",
   "name": "python3"
  },
  "language_info": {
   "codemirror_mode": {
    "name": "ipython",
    "version": 3
   },
   "file_extension": ".py",
   "mimetype": "text/x-python",
   "name": "python",
   "nbconvert_exporter": "python",
   "pygments_lexer": "ipython3",
   "version": "3.6.1"
  },
  "latex_envs": {
   "LaTeX_envs_menu_present": true,
   "autocomplete": true,
   "bibliofile": "biblio.bib",
   "cite_by": "apalike",
   "current_citInitial": 1,
   "eqLabelWithNumbers": true,
   "eqNumInitial": 1,
   "hotkeys": {
    "equation": "Ctrl-E",
    "itemize": "Ctrl-I"
   },
   "labels_anchors": false,
   "latex_user_defs": false,
   "report_style_numbering": false,
   "user_envs_cfg": false
  },
  "toc": {
   "colors": {
    "hover_highlight": "#DAA520",
    "navigate_num": "#000000",
    "navigate_text": "#333333",
    "running_highlight": "#FF0000",
    "selected_highlight": "#FFD700",
    "sidebar_border": "#EEEEEE",
    "wrapper_background": "#FFFFFF"
   },
   "moveMenuLeft": true,
   "nav_menu": {
    "height": "12px",
    "width": "252px"
   },
   "navigate_menu": true,
   "number_sections": true,
   "sideBar": true,
   "threshold": 4,
   "toc_cell": true,
   "toc_section_display": "block",
   "toc_window_display": true,
   "widenNotebook": false
  }
 },
 "nbformat": 4,
 "nbformat_minor": 2
}
