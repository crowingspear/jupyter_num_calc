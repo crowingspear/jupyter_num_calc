{
 "cells": [
  {
   "cell_type": "markdown",
   "metadata": {
    "toc": "true"
   },
   "source": [
    "# Table of Contents\n",
    " <p><div class=\"lev1 toc-item\"><a href=\"#CG(ComputerGraphics)\" data-toc-modified-id=\"CG(ComputerGraphics)-1\"><span class=\"toc-item-num\">1&nbsp;&nbsp;</span>CG(ComputerGraphics)</a></div><div class=\"lev2 toc-item\"><a href=\"#listplot,-pointplot\" data-toc-modified-id=\"listplot,-pointplot-11\"><span class=\"toc-item-num\">1.1&nbsp;&nbsp;</span>listplot, pointplot</a></div><div class=\"lev2 toc-item\"><a href=\"#写像の表示\" data-toc-modified-id=\"写像の表示-12\"><span class=\"toc-item-num\">1.2&nbsp;&nbsp;</span>写像の表示</a></div><div class=\"lev2 toc-item\"><a href=\"#回転写像\" data-toc-modified-id=\"回転写像-13\"><span class=\"toc-item-num\">1.3&nbsp;&nbsp;</span>回転写像</a></div><div class=\"lev2 toc-item\"><a href=\"#平行投影図の作成\" data-toc-modified-id=\"平行投影図の作成-14\"><span class=\"toc-item-num\">1.4&nbsp;&nbsp;</span>平行投影図の作成</a></div><div class=\"lev2 toc-item\"><a href=\"#透視図\" data-toc-modified-id=\"透視図-15\"><span class=\"toc-item-num\">1.5&nbsp;&nbsp;</span>透視図</a></div><div class=\"lev2 toc-item\"><a href=\"#Mapleの描画関数の覚書\" data-toc-modified-id=\"Mapleの描画関数の覚書-16\"><span class=\"toc-item-num\">1.6&nbsp;&nbsp;</span>Mapleの描画関数の覚書</a></div><div class=\"lev1 toc-item\"><a href=\"#動画(Animation)\" data-toc-modified-id=\"動画(Animation)-2\"><span class=\"toc-item-num\">2&nbsp;&nbsp;</span>動画(Animation)</a></div><div class=\"lev2 toc-item\"><a href=\"#animate関数\" data-toc-modified-id=\"animate関数-21\"><span class=\"toc-item-num\">2.1&nbsp;&nbsp;</span>animate関数</a></div><div class=\"lev2 toc-item\"><a href=\"#リストに貯めて，display表示\" data-toc-modified-id=\"リストに貯めて，display表示-22\"><span class=\"toc-item-num\">2.2&nbsp;&nbsp;</span>リストに貯めて，display表示</a></div><div class=\"lev2 toc-item\"><a href=\"#凝った例\" data-toc-modified-id=\"凝った例-23\"><span class=\"toc-item-num\">2.3&nbsp;&nbsp;</span>凝った例</a></div><div class=\"lev2 toc-item\"><a href=\"#ファイルへの保存\" data-toc-modified-id=\"ファイルへの保存-24\"><span class=\"toc-item-num\">2.4&nbsp;&nbsp;</span>ファイルへの保存</a></div>"
   ]
  },
  {
   "cell_type": "markdown",
   "metadata": {},
   "source": [
    "<br />\n",
    "\n",
    "<div style=\"text-align: center;\">\n",
    "<font size=\"7\">描画(CG)</font>\n",
    "</div>\n",
    "<br />\n",
    "<div style=\"text-align: right;\">\n",
    "<font size=\"4\">file:/~/python/doing_math_with_python/cg.ipynb</font>\n",
    "<br />\n",
    "<font size=\"4\">cc by Shigeto R. Nishitani 2017 </font>\n",
    "</div>"
   ]
  },
  {
   "cell_type": "markdown",
   "metadata": {},
   "source": [
    "# CG(ComputerGraphics)"
   ]
  },
  {
   "cell_type": "markdown",
   "metadata": {},
   "source": [
    "## listplot, pointplot \n"
   ]
  },
  {
   "cell_type": "markdown",
   "metadata": {},
   "source": [
    "リスト構造にある離散的なデータはlistplotで表示してくれる．listplotは受け取ったlistの要素をy値に，1から始まる添字をx値にして，デフォルトで\n",
    "は線でグラフを書く．\n",
    "```maple\n",
    "> T:=[seq(exp(-i),i=0..5)]; \n",
    "> listplot(T);\n",
    "```\n",
    "$$\n",
    "T\\, := \\,[1,\\exp(-1),\\exp(-2),\\exp(-3),\\exp(-4),\\exp(-5)]\n",
    "$$\n",
    "\n",
    "|{{attach_view(MapleCGplot2d1.png,)}}|\n",
    "|:----|\n",
    "\n",
    "\n",
    "以下のようにoptionをつけるとpointで描く．\n",
    "```maple\n",
    "> listplot(T,style=point):\n",
    "```\n",
    "\n",
    "それぞれの値の横軸xが1,2,3,..では不都合なときには，2次元のlistlist構造を用意し，[x[i],y[i]]を入れてpointplot関数で表示する\n",
    "．\n",
    "```maple\n",
    "> T:=[seq([i/2,exp(-i/2)],i=0..6)]; \n",
    "> pointplot(T,symbol=circle,symbolsize=20);\n",
    "```\n",
    "$$\n",
    "T\\, := \\,[[0,1],[1/2,\\exp(-1/2)],[1,\\exp(-1)],[3/2,\\exp(-3/2)], \\notag \\\\\n",
    "[2,\\exp(-2)],[5/2,\\exp(-5/2)],[3,\\exp(-3)]]\n",
    "$$\n",
    "\n",
    "|{{attach_view(MapleCGplot2d2.png,)}}|\n",
    "|:----|\n",
    "\n",
    "\n",
    "\n",
    "listplotのように線でつなぎたい時には，以下のようにoptionをつける．\n",
    "```maple\n",
    "> pointplot(T,connect=true):\n",
    "```\n",
    "\n",
    "\n"
   ]
  },
  {
   "cell_type": "markdown",
   "metadata": {},
   "source": [
    "## 写像の表示 \n"
   ]
  },
  {
   "cell_type": "markdown",
   "metadata": {},
   "source": [
    "ある行列によって点を移動させる写像の様子を示すスクリプトを通して，plottoolsが提供するdisk, arrowの使い方を示す．先ず描画に必要なライブラリーパッケージ(plotsおよびplottools)をwithで読み込んでおく．\n",
    "```maple\n",
    "> restart; with(plots):with(plottools):\n",
    "```\n",
    "$$\n",
    "$$\n",
    "行列$A= \\left[ \\begin {array}{cc} 1&2\\\\ 2&1\\end {array} \\right]$\n",
    "によって点$a_0$(1, 2)が$a_1$(5, 4)に移動するとする(LinearAlgebra参照）．\n",
    "```maple\n",
    "> with(LinearAlgebra): A:=Matrix([[1,2],[2,1]]): a0:=Vector([1,2]): a1:=A.a0;\n",
    "```\n",
    "$$\n",
    "{\\it a1}\\, := \\, \\left[ \\begin {array}{c} 5\\\\ 4\\end {array} \\right]\n",
    "$$\n",
    "ベクトルが位置座標を意味するようにlistへ変換(convert)する．\n",
    "```maple\n",
    "> p0:=convert(a0,list):p1:=convert(a1,list):\n",
    "```\n",
    "位置p0に円(disk)を半径0.2,赤色で描く．同じように位置p1に半径0.2，青色でdiskを描く．\n",
    "```maple\n",
    "> point1:=[disk(p0,0.2,color=red),disk(p1,0.2,color=blue)]:\n",
    "```\n",
    "もう一つ，p0からp1に向かう矢印(arrow)を適当な大きさで描く．後ろの数字をいじると線の幅や矢印の大きさが変わる．\n",
    "```maple\n",
    "> line1:=arrow(p0,p1,0.05,0.3,0.1):\n",
    "```\n",
    "これらをまとめて表示(display)．このとき，表示範囲を0..6,0..6とする．\n",
    "```maple\n",
    "> display(point1,line1,view=[0..6,0..6],gridlines=true);\n",
    "```\n",
    "\n",
    "|{{attach_view(MapleCGplot2d3.png,)}}|\n",
    "|:----|\n",
    "\n",
    "$a_0$(1, 2)の赤点が，$a_1$(5, 4)の青点へ移動していることを示している．\n",
    "\n",
    "\n"
   ]
  },
  {
   "cell_type": "markdown",
   "metadata": {},
   "source": [
    "## 回転写像 \n"
   ]
  },
  {
   "cell_type": "markdown",
   "metadata": {},
   "source": [
    "次に原点周りでの回転の様子を示す．回転の行列．\n",
    "```maple\n",
    "> Matrix([[cos(theta),sin(theta)],[-sin(theta),cos(theta)]]);\n",
    "```\n",
    "$$\n",
    "\\left[ \\begin {array}{cc} \\cos \\left( \\theta \\right) &\\sin \\left( \\theta \\right) \\\\ -\\sin \\left( \\theta \\right) &\\cos \\left( \\theta \\right) \\end {array} \\right]\n",
    "$$\n",
    "これを関数のように定義している．\n",
    "```maple\n",
    "> A:=t->Matrix([[cos(t),sin(t)],[-sin(t),cos(t)]]);\n",
    "```\n",
    "$$\n",
    "A\\, := \\,t\\mapsto  \\left[ \\begin {array}{cc} \\cos \\left( t \\right) &\\sin \\left( t \\right) \\\\ -\\sin \\left( t \\right) &\\cos \\left( t \\right) \\end {array} \\right]\n",
    "$$\n",
    "tに回転角(Pi/3)を入れている．\n",
    "```maple\n",
    "> a0:=Vector([3,0]);\n",
    "> a1:=A(Pi/3).a0;\n",
    "```\n",
    "$$\n",
    "{\\it a0}\\, := \\, \\left[ \\begin {array}{c} 3\\\\ 0\\end {array} \\right] \\notag \\\\\n",
    "{\\it a1}\\, := \\, \\left[ \\begin {array}{c} 3/2\\\\ -3/2\\,\\sqrt {3}\\end {array} \\right] \\notag\n",
    "$$\n",
    "表示の仕方は，前節と同じ．\n",
    "```maple\n",
    "> p0:=convert(a0,list):p1:=convert(a1,list):\n",
    "> point1:=[disk(p0,0.2,color=red),disk(p1,0.2,color=blue)]:\n",
    "> line1:=arrow(p0,p1,0.05,0.3,0.1):\n",
    "> display(point1,line1,view=[-4..4,-4..4],gridlines=true);\n",
    "```\n",
    "\n",
    "|{{attach_view(MapleCGplot2d4.png,)}}|\n",
    "|:----|\n",
    "\n",
    "\n",
    "\n"
   ]
  },
  {
   "cell_type": "markdown",
   "metadata": {},
   "source": [
    "## 平行投影図の作成 \n"
   ]
  },
  {
   "cell_type": "markdown",
   "metadata": {},
   "source": [
    "もう少し複雑な対象物として，ここでは立方体の表示を考える．まず３次元座標を打ち込む．\n",
    "```maple\n",
    "> restart; with(plots): with(plottools): \n",
    "  p:=[[0,0,0],[1,0,0],[1,1,0],[0,1,0],\n",
    "  [0,0,1],[1,0,1],[1,1,1],[0,1,1]]:\n",
    "```\n",
    "$$\n",
    "$$\n",
    "次にこれをpointplot3dで簡便に表示．\n",
    "```maple\n",
    "> points:= { seq(p[i],i=1..8) }:\n",
    "> pointplot3d(points,symbol=circle,symbolsize=40,color=black);\n",
    "```\n",
    "\n",
    "|{{attach_view(MapleCGplot3d5.png,)}}|\n",
    "|:----|\n",
    "\n",
    "もうすこし見やすいように頂点を結んでおく．たとえば，p[1]とp[2]との間を線で結ぶには，\n",
    "\n",
    "```maple\n",
    "> line(p[1],p[2]);\n",
    "```\n",
    "とする．それをseqで複数の点間に対して施す．\n",
    "\n",
    "```maple\n",
    "> ll:=[[1,2],[2,3],[3,4],[4,1],[1,5],[2,6],[3,7],[4,8],\n",
    "> [5,6],[6,7],[7,8],[8,5]]:\n",
    "> lines:=[seq(line(p[ll[i][1]],p[ll[i][2]]),i=1..nops(ll))]:\n",
    "> display(lines,scaling=constrained,color=black);\n",
    "```\n",
    "\n",
    "|{{attach_view(MapleCGplot3d6.png,)}}|\n",
    "|:----|\n",
    "\n",
    "\n",
    "```maple\n",
    "> l3:=display(lines,scaling=constrained,color=black):\n",
    "> p3:=pointplot3d(p,symbol=circle,symbolsize=40,color=black):\n",
    "> display([p3,l3],scaling=constrained,color=black);\n",
    "```\n",
    "\n",
    "|{{attach_view(MapleCGplot3d7.png,)}}|\n",
    "|:----|\n",
    "\n",
    "\n",
    "\n",
    "画像をつまんでぐるぐる回してみよ．Mapleではこんな操作は簡単にできるが，よく見ればわかるように，この3次元表示では透視図ではなく，平行投影図といわれるものを書いている．\n",
    "\n",
    "\n"
   ]
  },
  {
   "cell_type": "markdown",
   "metadata": {},
   "source": [
    "## 透視図 \n"
   ]
  },
  {
   "cell_type": "markdown",
   "metadata": {},
   "source": [
    "透視図のもっとも簡単な変換法は\n",
    "```maple\n",
    "> proj2d:=proc(x,z) \n",
    "    local x1,y1; \n",
    "    x1:=x[1]*z/(z-x[3]); \n",
    "    y1:=x[2]*z/(z-x[3]);\n",
    "    return [x1,y1]; \n",
    "  end proc:\n",
    "```\n",
    "$$\n",
    "$$\n",
    "zに視点の距離を入れて，xで座標を受け取って変換した結果を[x1,y1]として返している．この関数を前の表示と組み合わせれば透視図の描画ができる．\n",
    "```maple\n",
    "> z_p:=-8:\n",
    "  lines:=[seq(line(proj2d(p[ll[i][1]],z_p), proj2d(p[ll[i][2]],z_p)), i=1..nops(ll))]:\n",
    "  display(lines);\n",
    "```\n",
    "\n",
    "|{{attach_view(MapleCGplot2d8.png,)}}|\n",
    "|:----|\n",
    "\n",
    "\n",
    "\n"
   ]
  },
  {
   "cell_type": "markdown",
   "metadata": {},
   "source": [
    "## Mapleの描画関数の覚書 \n"
   ]
  },
  {
   "cell_type": "markdown",
   "metadata": {},
   "source": [
    "mapleにはいくつかの描画レベルに合わせた関数が用意されている．どのような目的にどの関数（パッケージ）を使うかの選択指針として，それぞれがどのような意図で作ら\n",
    "れ，それらの依存関係は以下の通り．\n",
    "<dl>\n",
    "<dt>描画の下位関数</dt><dd></dd>\n",
    "</dl>\n",
    "plot[structure]にあるPLOT,PLOT3Dデータ構造が一番下でCURVES,POINTS,POLYGONS,TEXTデータを元に絵を描く．\n",
    "<dl>\n",
    "<dt>plottoolsパッケージ</dt><dd></dd>\n",
    "</dl>\n",
    "PLOTよりもう少し上位で，グラフィックスの基本形状を生成してくれる関数群．arc, arrow, circle, curve, line, point,sphereなどの関数があり，PLOT構造を吐く．表示にはplots[display]を使う．\n",
    "<dl>\n",
    "<dt>plotsパッケージ</dt><dd></dd>\n",
    "</dl>\n",
    "簡単にグラフを書くための道具．たとえばlistplotは，listデータを簡易に表示する事を目的としている．\n",
    "\n",
    "\n"
   ]
  },
  {
   "cell_type": "markdown",
   "metadata": {},
   "source": [
    "# 動画(Animation)\n"
   ]
  },
  {
   "cell_type": "markdown",
   "metadata": {},
   "source": [
    "\n",
    "\n"
   ]
  },
  {
   "cell_type": "markdown",
   "metadata": {},
   "source": [
    "## animate関数 \n"
   ]
  },
  {
   "cell_type": "markdown",
   "metadata": {},
   "source": [
    "plotsパッケージにあるanimate関数を使う．構文は以下の通りで，[]内に動画にしたい関数を定義し，tで時間を変えていく．\n",
    "```maple\n",
    "> with(plots): animate(plot, [sin(x-t),x=0..5*Pi], t=0..10);\n",
    "```\n",
    "\n",
    "|{{attach_view(MapleCGplot2d9.png,)}}|\n",
    "|:----|\n",
    "\n",
    "\n",
    "\n"
   ]
  },
  {
   "cell_type": "markdown",
   "metadata": {},
   "source": [
    "## リストに貯めて，display表示 \n"
   ]
  },
  {
   "cell_type": "markdown",
   "metadata": {},
   "source": [
    "おなじ動作を，display関数でオプションとしてinsequence=trueとしても可能．この場合は第一引数に入れるリスト([])に一連の画像を用意し，コマ\n",
    "送りで表示させる．\n",
    "```maple\n",
    "> tmp:=[]: n:=10: for i from 0 to n do t:=i; tmp:=[op(tmp),\n",
    "> plot(sin(x-t)+sin(x+t),x=0..5*Pi)]; end do:\n",
    "> display(tmp,insequence=true);\n",
    "```\n",
    "\n",
    "|{{attach_view(MapleCGplot2d10.png,)}}|\n",
    "|:----|\n",
    "\n",
    "\n",
    "\n"
   ]
  },
  {
   "cell_type": "markdown",
   "metadata": {},
   "source": [
    "## 凝った例 \n"
   ]
  },
  {
   "cell_type": "markdown",
   "metadata": {},
   "source": [
    "ヘルプにある凝った例．Fという動画のコマを吐く関数を用意する．これを，animate関数から適当な変数を入れて呼び出す．backgroundには動かない絵を指定\n",
    "することができる．\n",
    "```maple\n",
    "> with(plottools,line): F := proc(t) plots[display](\n",
    "> line([-2,0],[cos(t)-2,sin(t)],color=blue),\n",
    "> line([cos(t)-2,sin(t)],[t,sin(t)],color=blue),\n",
    "> plot(sin(x),x=0..t,view=[-3..7,-5..5]) ); end:\n",
    "> animate(F,[theta],theta=0..2*Pi, background=plot([cos(t)-2,sin(t),t=0..2*Pi]),\n",
    "> scaling=constrained,axes=none);\n",
    "```\n",
    "$$\n",
    "$$\n",
    "\n",
    "|{{attach_view(MapleCGplot2d11.png,)}}|\n",
    "|:----|\n",
    "\n",
    "\n",
    "\n"
   ]
  },
  {
   "cell_type": "markdown",
   "metadata": {},
   "source": [
    "## ファイルへの保存 \n"
   ]
  },
  {
   "cell_type": "markdown",
   "metadata": {},
   "source": [
    "animationなどのgif形式のplotを外部ファイルへ出力して表示させるには，以下の一連のコマンドのようにする．\n",
    "```maple\n",
    "> plotsetup(gif,plotoutput=file2): display(tmp,insequence=true);\n",
    "> plotsetup(default):\n",
    "```\n",
    "こいつをquicktimeなどに食わせれば，Maple以外のソフトで動画表示が可能となる．3次元図形の標準規格であるvrmlも同じようにして作成することが可能(?vrml;参照)．\n"
   ]
  }
 ],
 "metadata": {
  "kernelspec": {
   "display_name": "Python 3",
   "language": "python",
   "name": "python3"
  },
  "language_info": {
   "codemirror_mode": {
    "name": "ipython",
    "version": 3
   },
   "file_extension": ".py",
   "mimetype": "text/x-python",
   "name": "python",
   "nbconvert_exporter": "python",
   "pygments_lexer": "ipython3",
   "version": "3.6.1"
  },
  "latex_envs": {
   "LaTeX_envs_menu_present": true,
   "autocomplete": true,
   "bibliofile": "biblio.bib",
   "cite_by": "apalike",
   "current_citInitial": 1,
   "eqLabelWithNumbers": true,
   "eqNumInitial": 1,
   "hotkeys": {
    "equation": "Ctrl-E",
    "itemize": "Ctrl-I"
   },
   "labels_anchors": false,
   "latex_user_defs": false,
   "report_style_numbering": false,
   "user_envs_cfg": false
  },
  "toc": {
   "colors": {
    "hover_highlight": "#DAA520",
    "navigate_num": "#000000",
    "navigate_text": "#333333",
    "running_highlight": "#FF0000",
    "selected_highlight": "#FFD700",
    "sidebar_border": "#EEEEEE",
    "wrapper_background": "#FFFFFF"
   },
   "moveMenuLeft": true,
   "nav_menu": {
    "height": "12px",
    "width": "252px"
   },
   "navigate_menu": true,
   "number_sections": true,
   "sideBar": true,
   "threshold": 4,
   "toc_cell": true,
   "toc_section_display": "block",
   "toc_window_display": true,
   "widenNotebook": false
  }
 },
 "nbformat": 4,
 "nbformat_minor": 2
}
