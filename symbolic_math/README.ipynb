{
 "cells": [
  {
   "cell_type": "markdown",
   "metadata": {
    "toc": "true"
   },
   "source": [
    "# Table of Contents\n",
    " <p><div class=\"lev1 toc-item\"><a href=\"#基礎\" data-toc-modified-id=\"基礎-1\"><span class=\"toc-item-num\">1&nbsp;&nbsp;</span>基礎</a></div><div class=\"lev1 toc-item\"><a href=\"#応用\" data-toc-modified-id=\"応用-2\"><span class=\"toc-item-num\">2&nbsp;&nbsp;</span>応用</a></div><div class=\"lev1 toc-item\"><a href=\"#発展\" data-toc-modified-id=\"発展-3\"><span class=\"toc-item-num\">3&nbsp;&nbsp;</span>発展</a></div>"
   ]
  },
  {
   "cell_type": "markdown",
   "metadata": {},
   "source": [
    "   <div style=\"text-align: center;\">\n",
    "      <font size=\"5\"> Pythonで数式処理 </font>\n",
    "    </div>\n",
    "      <div style=\"text-align: right;\">\n",
    "      <font size=\"3\"> cc by Shigeto R. Nishitani, 2017-10-31 </font>\n",
    "    </div>\n",
    "* file: /Users/bob/python/doing_math_with_python/symbolic_math/README.ipynb"
   ]
  },
  {
   "cell_type": "markdown",
   "metadata": {},
   "source": [
    "# 基礎\n",
    "\n",
    "数式処理の基本的な操作をsympyでどう記述するかを紹介しています．\n",
    "とにかく，importだらけで何が効いているのか分かりにくくなります．まだ未熟なんではっきりしたことは言えませんが，restartとおなじimportコメンドでも忘れず書いておくことがコツのようです．\n",
    "  1. [基本操作(first_leaf)](./first_leaf.ipynb) (2/27記述, windowsチェック完了)\n",
    "  1. [初等関数とそのほかの関数(functions)](./functions.ipynb) (2/27記述, windowsチェック完了)\n",
    "  1. [等号(equals)](./equals.ipynb) (2/27記述チェック完了)\n",
    "\n",
    "# 応用\n",
    "\n",
    "線形代数は数値計算や判別器作成で多用する必要があります．pythonではシンボリック(代数)な場合とニューメリック(数値)な場合で使うpackageを変える必要があるようです．そのうち自動判別できるようになるでしょうが，今は意識して使用しましょう．\n",
    "  1. [線形代数(linear algebra), sympy](./linear_algebra_sympy.ipynb)(2/27記述チェック完了)\n",
    "  1. [線形代数(linear algebra), scipy](./linear_algebra_scipy.ipynb)(2/27記述チェック完了)\n",
    "  1. [微分(differential)](./differential.ipynb)(2/9記述チェック完了)\n",
    "  1. [積分(integral)](./integral.ipynb)(2/27記述チェック完了)\n",
    "\n",
    "# 発展\n",
    "  1. [式変形(equation manipulation)](./equation_manipulation.ipynb)(2/27記述チェック完了)\n",
    "  1. [描画(CG)](./cg.ipynb)\n",
    "  1. [その他(miscellaneous)](./miscellaneous.ipynb)"
   ]
  },
  {
   "cell_type": "code",
   "execution_count": null,
   "metadata": {
    "collapsed": true
   },
   "outputs": [],
   "source": []
  }
 ],
 "metadata": {
  "kernelspec": {
   "display_name": "Python 3",
   "language": "python",
   "name": "python3"
  },
  "language_info": {
   "codemirror_mode": {
    "name": "ipython",
    "version": 3
   },
   "file_extension": ".py",
   "mimetype": "text/x-python",
   "name": "python",
   "nbconvert_exporter": "python",
   "pygments_lexer": "ipython3",
   "version": "3.6.1"
  },
  "latex_envs": {
   "LaTeX_envs_menu_present": true,
   "autocomplete": true,
   "bibliofile": "biblio.bib",
   "cite_by": "apalike",
   "current_citInitial": 1,
   "eqLabelWithNumbers": true,
   "eqNumInitial": 1,
   "hotkeys": {
    "equation": "Ctrl-E",
    "itemize": "Ctrl-I"
   },
   "labels_anchors": false,
   "latex_user_defs": false,
   "report_style_numbering": false,
   "user_envs_cfg": false
  },
  "toc": {
   "colors": {
    "hover_highlight": "#DAA520",
    "navigate_num": "#000000",
    "navigate_text": "#333333",
    "running_highlight": "#FF0000",
    "selected_highlight": "#FFD700",
    "sidebar_border": "#EEEEEE",
    "wrapper_background": "#FFFFFF"
   },
   "moveMenuLeft": true,
   "nav_menu": {
    "height": "12px",
    "width": "252px"
   },
   "navigate_menu": true,
   "number_sections": true,
   "sideBar": true,
   "threshold": 4,
   "toc_cell": true,
   "toc_section_display": "block",
   "toc_window_display": true,
   "widenNotebook": false
  }
 },
 "nbformat": 4,
 "nbformat_minor": 2
}
