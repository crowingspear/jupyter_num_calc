{
 "cells": [
  {
   "cell_type": "markdown",
   "metadata": {
    "toc": "true"
   },
   "source": [
    "# Table of Contents\n",
    " <p><div class=\"lev1 toc-item\"><a href=\"#固有値問題作成\" data-toc-modified-id=\"固有値問題作成-1\"><span class=\"toc-item-num\">1&nbsp;&nbsp;</span>固有値問題作成</a></div><div class=\"lev2 toc-item\"><a href=\"#python-codeの確認\" data-toc-modified-id=\"python-codeの確認-11\"><span class=\"toc-item-num\">1.1&nbsp;&nbsp;</span>python codeの確認</a></div><div class=\"lev2 toc-item\"><a href=\"#三次元での試作\" data-toc-modified-id=\"三次元での試作-12\"><span class=\"toc-item-num\">1.2&nbsp;&nbsp;</span>三次元での試作</a></div><div class=\"lev1 toc-item\"><a href=\"#同次連立一次方程式の基本解\" data-toc-modified-id=\"同次連立一次方程式の基本解-2\"><span class=\"toc-item-num\">2&nbsp;&nbsp;</span>同次連立一次方程式の基本解</a></div><div class=\"lev2 toc-item\"><a href=\"#写像のIm,-Ker\" data-toc-modified-id=\"写像のIm,-Ker-21\"><span class=\"toc-item-num\">2.1&nbsp;&nbsp;</span>写像のIm, Ker</a></div><div class=\"lev3 toc-item\"><a href=\"#問題作成\" data-toc-modified-id=\"問題作成-211\"><span class=\"toc-item-num\">2.1.1&nbsp;&nbsp;</span>問題作成</a></div>"
   ]
  },
  {
   "cell_type": "markdown",
   "metadata": {},
   "source": [
    "# 固有値問題作成"
   ]
  },
  {
   "cell_type": "markdown",
   "metadata": {},
   "source": [
    "## python codeの確認\n",
    "行列の固有値は以下の通り求められる．"
   ]
  },
  {
   "cell_type": "code",
   "execution_count": 23,
   "metadata": {},
   "outputs": [
    {
     "data": {
      "image/png": "[encoded data removed]",
      "text/latex": [
       "$$\\left[\\begin{matrix}1 & 2\\\\3 & 1\\end{matrix}\\right]$$"
      ],
      "text/plain": [
       "⎡1  2⎤\n",
       "⎢    ⎥\n",
       "⎣3  1⎦"
      ]
     },
     "execution_count": 23,
     "metadata": {},
     "output_type": "execute_result"
    }
   ],
   "source": [
    "from sympy import *\n",
    "\n",
    "#init_session()\n",
    "#init_printing(use_unicode=True)\n",
    "init_printing()\n",
    "list_a = [1,2]\n",
    "list_b = [3,1]\n",
    "A=Matrix([list_a, list_b])\n",
    "A"
   ]
  },
  {
   "cell_type": "code",
   "execution_count": 24,
   "metadata": {},
   "outputs": [
    {
     "data": {
      "image/png": "[encoded data removed]",
      "text/latex": [
       "$$\\left [ \\left ( 1 + \\sqrt{6}, \\quad 1, \\quad \\left [ \\left[\\begin{matrix}\\frac{\\sqrt{6}}{3}\\\\1\\end{matrix}\\right]\\right ]\\right ), \\quad \\left ( - \\sqrt{6} + 1, \\quad 1, \\quad \\left [ \\left[\\begin{matrix}- \\frac{\\sqrt{6}}{3}\\\\1\\end{matrix}\\right]\\right ]\\right )\\right ]$$"
      ],
      "text/plain": [
       "⎡⎛           ⎡⎡√6⎤⎤⎞  ⎛            ⎡⎡-√6 ⎤⎤⎞⎤\n",
       "⎢⎜1 + √6, 1, ⎢⎢──⎥⎥⎟, ⎜-√6 + 1, 1, ⎢⎢────⎥⎥⎟⎥\n",
       "⎢⎜           ⎢⎢3 ⎥⎥⎟  ⎜            ⎢⎢ 3  ⎥⎥⎟⎥\n",
       "⎢⎜           ⎢⎢  ⎥⎥⎟  ⎜            ⎢⎢    ⎥⎥⎟⎥\n",
       "⎣⎝           ⎣⎣1 ⎦⎦⎠  ⎝            ⎣⎣ 1  ⎦⎦⎠⎦"
      ]
     },
     "execution_count": 24,
     "metadata": {},
     "output_type": "execute_result"
    }
   ],
   "source": [
    "A.eigenvects()"
   ]
  },
  {
   "cell_type": "markdown",
   "metadata": {},
   "source": [
    "しかし，これでは複雑すぎて試験には向かない．\n",
    "行列の対角化を使えば，簡単に問題が作られる．\n",
    "ところで，pythonでは対角化行列を作るのに手間が\n",
    "かかる．そこでdiagonaizeを使う．"
   ]
  },
  {
   "cell_type": "code",
   "execution_count": 25,
   "metadata": {},
   "outputs": [
    {
     "data": {
      "image/png": "[encoded data removed]",
      "text/latex": [
       "$$\\left ( \\left[\\begin{matrix}\\sqrt{6} & - \\sqrt{6}\\\\3 & 3\\end{matrix}\\right], \\quad \\left[\\begin{matrix}1 + \\sqrt{6} & 0\\\\0 & - \\sqrt{6} + 1\\end{matrix}\\right]\\right )$$"
      ],
      "text/plain": [
       "⎛⎡√6  -√6⎤, ⎡1 + √6     0   ⎤⎞\n",
       "⎜⎢       ⎥  ⎢               ⎥⎟\n",
       "⎝⎣3    3 ⎦  ⎣  0     -√6 + 1⎦⎠"
      ]
     },
     "execution_count": 25,
     "metadata": {},
     "output_type": "execute_result"
    }
   ],
   "source": [
    "P, D =A.diagonalize()\n",
    "P, D"
   ]
  },
  {
   "cell_type": "code",
   "execution_count": 26,
   "metadata": {},
   "outputs": [
    {
     "data": {
      "image/png": "[encoded data removed]",
      "text/latex": [
       "$$\\left[\\begin{matrix}1 + \\sqrt{6} & 0\\\\0 & - \\sqrt{6} + 1\\end{matrix}\\right]$$"
      ],
      "text/plain": [
       "⎡1 + √6     0   ⎤\n",
       "⎢               ⎥\n",
       "⎣  0     -√6 + 1⎦"
      ]
     },
     "execution_count": 26,
     "metadata": {},
     "output_type": "execute_result"
    }
   ],
   "source": [
    "simplify(P.inv()*A*P)"
   ]
  },
  {
   "cell_type": "markdown",
   "metadata": {},
   "source": [
    "逆に対角行列から問題の行列を作るのは次の通り．"
   ]
  },
  {
   "cell_type": "code",
   "execution_count": 27,
   "metadata": {},
   "outputs": [
    {
     "data": {
      "image/png": "[encoded data removed]",
      "text/latex": [
       "$$\\left ( \\left[\\begin{matrix}1 & 1\\\\0 & 2\\end{matrix}\\right], \\quad \\left[\\begin{matrix}1 & 1\\\\0 & 1\\end{matrix}\\right], \\quad \\left[\\begin{matrix}1 & 0\\\\0 & 2\\end{matrix}\\right]\\right )$$"
      ],
      "text/plain": [
       "⎛⎡1  1⎤, ⎡1  1⎤, ⎡1  0⎤⎞\n",
       "⎜⎢    ⎥  ⎢    ⎥  ⎢    ⎥⎟\n",
       "⎝⎣0  2⎦  ⎣0  1⎦  ⎣0  2⎦⎠"
      ]
     },
     "execution_count": 27,
     "metadata": {},
     "output_type": "execute_result"
    }
   ],
   "source": [
    "D = diag(1,2)\n",
    "P = Matrix([[1,0],[1,1]]).T\n",
    "A = P*D*P.inv()\n",
    "A, P, D"
   ]
  },
  {
   "cell_type": "markdown",
   "metadata": {},
   "source": [
    "## 三次元での試作\n",
    "\n",
    "では作ってみましょう．"
   ]
  },
  {
   "cell_type": "code",
   "execution_count": 28,
   "metadata": {},
   "outputs": [
    {
     "data": {
      "image/png": "[encoded data removed]",
      "text/latex": [
       "$$\\left ( \\left[\\begin{matrix}0 & 1 & 2\\\\1 & 0 & -1\\\\0 & 0 & 2\\end{matrix}\\right], \\quad \\left[\\begin{matrix}1 & 1 & -1\\\\1 & 0 & 1\\\\0 & 1 & 0\\end{matrix}\\right], \\quad \\left[\\begin{matrix}1 & 0 & 0\\\\0 & 2 & 0\\\\0 & 0 & -1\\end{matrix}\\right]\\right )$$"
      ],
      "text/plain": [
       "⎛⎡0  1  2 ⎤, ⎡1  1  -1⎤, ⎡1  0  0 ⎤⎞\n",
       "⎜⎢        ⎥  ⎢        ⎥  ⎢        ⎥⎟\n",
       "⎜⎢1  0  -1⎥  ⎢1  0  1 ⎥  ⎢0  2  0 ⎥⎟\n",
       "⎜⎢        ⎥  ⎢        ⎥  ⎢        ⎥⎟\n",
       "⎝⎣0  0  2 ⎦  ⎣0  1  0 ⎦  ⎣0  0  -1⎦⎠"
      ]
     },
     "execution_count": 28,
     "metadata": {},
     "output_type": "execute_result"
    }
   ],
   "source": [
    "D = diag(1,2,-1)\n",
    "P = Matrix([[1,1,0],[1,0,1],[-1,1,0]]).T\n",
    "A = P*D*P.inv()\n",
    "A, P, D"
   ]
  },
  {
   "cell_type": "markdown",
   "metadata": {},
   "source": [
    "ゼロが多すぎて，簡単すぎるね．"
   ]
  },
  {
   "cell_type": "code",
   "execution_count": 40,
   "metadata": {},
   "outputs": [
    {
     "data": {
      "image/png": "[encoded data removed]",
      "text/latex": [
       "$$\\left ( \\left[\\begin{matrix}-1 & -3 & 3\\\\2 & 3 & -2\\\\2 & 1 & 0\\end{matrix}\\right], \\quad \\left[\\begin{matrix}0 & 1 & -1\\\\1 & 0 & 1\\\\1 & 1 & 1\\end{matrix}\\right], \\quad \\left[\\begin{matrix}1 & 0 & 0\\\\0 & 2 & 0\\\\0 & 0 & -1\\end{matrix}\\right]\\right )$$"
      ],
      "text/plain": [
       "⎛⎡-1  -3  3 ⎤, ⎡0  1  -1⎤, ⎡1  0  0 ⎤⎞\n",
       "⎜⎢          ⎥  ⎢        ⎥  ⎢        ⎥⎟\n",
       "⎜⎢2   3   -2⎥  ⎢1  0  1 ⎥  ⎢0  2  0 ⎥⎟\n",
       "⎜⎢          ⎥  ⎢        ⎥  ⎢        ⎥⎟\n",
       "⎝⎣2   1   0 ⎦  ⎣1  1  1 ⎦  ⎣0  0  -1⎦⎠"
      ]
     },
     "execution_count": 40,
     "metadata": {},
     "output_type": "execute_result"
    }
   ],
   "source": [
    "D = diag(1,2,-1)\n",
    "P = Matrix([[0,1,1],[1,0,1],[-1,1,1]]).T\n",
    "A = P*D*P.inv()\n",
    "A, P, D"
   ]
  },
  {
   "cell_type": "markdown",
   "metadata": {},
   "source": [
    "- ベクトルをいくつか入れ替えて出力を見ながら．．．\n",
    "- 分数が要素に出てきた時は，diagを調整．\n",
    "- 非対角要素に同じ数が二組出てくると簡単"
   ]
  },
  {
   "cell_type": "code",
   "execution_count": 42,
   "metadata": {},
   "outputs": [
    {
     "data": {
      "image/png": "[encoded data removed]",
      "text/latex": [
       "$$\\left[\\begin{matrix}-1 & -3 & 3\\\\2 & 3 & -2\\\\2 & 1 & 0\\end{matrix}\\right]$$"
      ],
      "text/plain": [
       "⎡-1  -3  3 ⎤\n",
       "⎢          ⎥\n",
       "⎢2   3   -2⎥\n",
       "⎢          ⎥\n",
       "⎣2   1   0 ⎦"
      ]
     },
     "execution_count": 42,
     "metadata": {},
     "output_type": "execute_result"
    }
   ],
   "source": [
    "A"
   ]
  },
  {
   "cell_type": "markdown",
   "metadata": {},
   "source": [
    "出力を右クリックして，Show Math AsでTeX Commandsを選択すると\n",
    "``` latex\n",
    "    \\left[\n",
    "    \\begin{matrix}\n",
    "      -1 & -3 & 3\\\\\n",
    "      2 & 3 & -2\\\\\n",
    "      2 & 1 & 0\n",
    "    \\end{matrix}\n",
    "    \\right]\n",
    "```\n",
    "とlatexで得られる．"
   ]
  },
  {
   "cell_type": "markdown",
   "metadata": {},
   "source": [
    "# 同次連立一次方程式の基本解\n",
    "\n",
    "echelon formから初めて，それらの線型結合で行列を作り，そこから確認する．"
   ]
  },
  {
   "cell_type": "code",
   "execution_count": 59,
   "metadata": {},
   "outputs": [
    {
     "name": "stdout",
     "output_type": "stream",
     "text": [
      "IPython console for SymPy 1.0 (Python 3.6.1-64-bit) (ground types: python)\n",
      "\n",
      "These commands were executed:\n",
      ">>> from __future__ import division\n",
      ">>> from sympy import *\n",
      ">>> x, y, z, t = symbols('x y z t')\n",
      ">>> k, m, n = symbols('k m n', integer=True)\n",
      ">>> f, g, h = symbols('f g h', cls=Function)\n",
      ">>> init_printing()\n",
      "\n",
      "Documentation can be found at http://docs.sympy.org/1.0/\n"
     ]
    }
   ],
   "source": [
    "from sympy import *\n",
    "\n",
    "init_session()\n",
    "#init_printing(use_unicode=True)\n",
    "#init_printing()\n",
    "y1=Matrix([1,0,0,-5,5,2])\n",
    "y2=Matrix([0,1,0,-3,2,0])\n",
    "y3=Matrix([0,0,1,0,2,3])"
   ]
  },
  {
   "cell_type": "code",
   "execution_count": 60,
   "metadata": {
    "collapsed": true
   },
   "outputs": [],
   "source": [
    "z3=-2*y3-y2+y1\n",
    "z2=y3+2*y2-y1\n",
    "z1=y3+y2-y1\n"
   ]
  },
  {
   "cell_type": "code",
   "execution_count": 66,
   "metadata": {},
   "outputs": [],
   "source": [
    "B=z1"
   ]
  },
  {
   "cell_type": "code",
   "execution_count": 72,
   "metadata": {},
   "outputs": [],
   "source": [
    "BB=B.col_insert(1,z2).col_insert(2,z3).transpose()"
   ]
  },
  {
   "cell_type": "code",
   "execution_count": 73,
   "metadata": {},
   "outputs": [
    {
     "data": {
      "image/png": "[encoded data removed]",
      "text/latex": [
       "$$\\left[\\begin{matrix}-1 & 1 & 1 & 2 & -1 & 1\\\\-1 & 2 & 1 & -1 & 1 & 1\\\\1 & -1 & -2 & -2 & -1 & -4\\end{matrix}\\right]$$"
      ],
      "text/plain": [
       "⎡-1  1   1   2   -1  1 ⎤\n",
       "⎢                      ⎥\n",
       "⎢-1  2   1   -1  1   1 ⎥\n",
       "⎢                      ⎥\n",
       "⎣1   -1  -2  -2  -1  -4⎦"
      ]
     },
     "execution_count": 73,
     "metadata": {},
     "output_type": "execute_result"
    }
   ],
   "source": [
    "BB"
   ]
  },
  {
   "cell_type": "code",
   "execution_count": 74,
   "metadata": {},
   "outputs": [
    {
     "data": {
      "image/png": "[encoded data removed]",
      "text/latex": [
       "$$\\left ( \\left[\\begin{matrix}1 & 0 & 0 & -5 & 5 & 2\\\\0 & 1 & 0 & -3 & 2 & 0\\\\0 & 0 & 1 & 0 & 2 & 3\\end{matrix}\\right], \\quad \\left [ 0, \\quad 1, \\quad 2\\right ]\\right )$$"
      ],
      "text/plain": [
       "⎛⎡1  0  0  -5  5  2⎤, [0, 1, 2]⎞\n",
       "⎜⎢                 ⎥           ⎟\n",
       "⎜⎢0  1  0  -3  2  0⎥           ⎟\n",
       "⎜⎢                 ⎥           ⎟\n",
       "⎝⎣0  0  1  0   2  3⎦           ⎠"
      ]
     },
     "execution_count": 74,
     "metadata": {},
     "output_type": "execute_result"
    }
   ],
   "source": [
    "BB.rref()"
   ]
  },
  {
   "cell_type": "code",
   "execution_count": 75,
   "metadata": {},
   "outputs": [
    {
     "data": {
      "image/png": "[encoded data removed]",
      "text/latex": [
       "$$3$$"
      ],
      "text/plain": [
       "3"
      ]
     },
     "execution_count": 75,
     "metadata": {},
     "output_type": "execute_result"
    }
   ],
   "source": [
    "BB.rank()"
   ]
  },
  {
   "cell_type": "markdown",
   "metadata": {},
   "source": [
    "## 写像のIm, Ker\n",
    "\n",
    "写像の変換行列が与えられた時，Imは`column space()`, Kerは`null space()`で容易に求められる．"
   ]
  },
  {
   "cell_type": "code",
   "execution_count": 79,
   "metadata": {},
   "outputs": [
    {
     "name": "stdout",
     "output_type": "stream",
     "text": [
      "IPython console for SymPy 1.0 (Python 3.6.1-64-bit) (ground types: python)\n",
      "\n",
      "These commands were executed:\n",
      ">>> from __future__ import division\n",
      ">>> from sympy import *\n",
      ">>> x, y, z, t = symbols('x y z t')\n",
      ">>> k, m, n = symbols('k m n', integer=True)\n",
      ">>> f, g, h = symbols('f g h', cls=Function)\n",
      ">>> init_printing()\n",
      "\n",
      "Documentation can be found at http://docs.sympy.org/1.0/\n"
     ]
    }
   ],
   "source": [
    "from sympy import *\n",
    "\n",
    "init_session()\n",
    "#init_printing(use_unicode=True)\n",
    "#init_printing()\n",
    "AA= Matrix([[1,0,-1,1],\n",
    "[2,-1,-1,3],\n",
    "[-1,-1,2,0]])"
   ]
  },
  {
   "cell_type": "code",
   "execution_count": 80,
   "metadata": {},
   "outputs": [
    {
     "data": {
      "image/png": "[encoded data removed]",
      "text/latex": [
       "$$\\left[\\begin{matrix}1 & 0 & -1 & 1\\\\2 & -1 & -1 & 3\\\\-1 & -1 & 2 & 0\\end{matrix}\\right]$$"
      ],
      "text/plain": [
       "⎡1   0   -1  1⎤\n",
       "⎢             ⎥\n",
       "⎢2   -1  -1  3⎥\n",
       "⎢             ⎥\n",
       "⎣-1  -1  2   0⎦"
      ]
     },
     "execution_count": 80,
     "metadata": {},
     "output_type": "execute_result"
    }
   ],
   "source": [
    "AA"
   ]
  },
  {
   "cell_type": "code",
   "execution_count": 81,
   "metadata": {},
   "outputs": [
    {
     "data": {
      "image/png": "[encoded data removed]",
      "text/latex": [
       "$$\\left ( \\left[\\begin{matrix}1 & 0 & -1 & 1\\\\0 & 1 & -1 & -1\\\\0 & 0 & 0 & 0\\end{matrix}\\right], \\quad \\left [ 0, \\quad 1\\right ]\\right )$$"
      ],
      "text/plain": [
       "⎛⎡1  0  -1  1 ⎤, [0, 1]⎞\n",
       "⎜⎢            ⎥        ⎟\n",
       "⎜⎢0  1  -1  -1⎥        ⎟\n",
       "⎜⎢            ⎥        ⎟\n",
       "⎝⎣0  0  0   0 ⎦        ⎠"
      ]
     },
     "execution_count": 81,
     "metadata": {},
     "output_type": "execute_result"
    }
   ],
   "source": [
    "AA.rref()"
   ]
  },
  {
   "cell_type": "code",
   "execution_count": 83,
   "metadata": {},
   "outputs": [
    {
     "data": {
      "image/png": "[encoded data removed]",
      "text/latex": [
       "$$\\left [ \\left[\\begin{matrix}1\\\\1\\\\1\\\\0\\end{matrix}\\right], \\quad \\left[\\begin{matrix}-1\\\\1\\\\0\\\\1\\end{matrix}\\right]\\right ]$$"
      ],
      "text/plain": [
       "⎡⎡1⎤, ⎡-1⎤⎤\n",
       "⎢⎢ ⎥  ⎢  ⎥⎥\n",
       "⎢⎢1⎥  ⎢1 ⎥⎥\n",
       "⎢⎢ ⎥  ⎢  ⎥⎥\n",
       "⎢⎢1⎥  ⎢0 ⎥⎥\n",
       "⎢⎢ ⎥  ⎢  ⎥⎥\n",
       "⎣⎣0⎦  ⎣1 ⎦⎦"
      ]
     },
     "execution_count": 83,
     "metadata": {},
     "output_type": "execute_result"
    }
   ],
   "source": [
    "AA.nullspace()"
   ]
  },
  {
   "cell_type": "code",
   "execution_count": 84,
   "metadata": {},
   "outputs": [
    {
     "data": {
      "image/png": "[encoded data removed]",
      "text/latex": [
       "$$\\left [ \\left[\\begin{matrix}1\\\\2\\\\-1\\end{matrix}\\right], \\quad \\left[\\begin{matrix}0\\\\-1\\\\-1\\end{matrix}\\right]\\right ]$$"
      ],
      "text/plain": [
       "⎡⎡1 ⎤, ⎡0 ⎤⎤\n",
       "⎢⎢  ⎥  ⎢  ⎥⎥\n",
       "⎢⎢2 ⎥  ⎢-1⎥⎥\n",
       "⎢⎢  ⎥  ⎢  ⎥⎥\n",
       "⎣⎣-1⎦  ⎣-1⎦⎦"
      ]
     },
     "execution_count": 84,
     "metadata": {},
     "output_type": "execute_result"
    }
   ],
   "source": [
    "AA.columnspace()"
   ]
  },
  {
   "cell_type": "markdown",
   "metadata": {},
   "source": [
    "### 問題作成\n",
    "\n",
    "17-2r3.mwを変換すればよい．\n",
    "\n",
    "ただし，変換の行列を求めさせるために，写像前後の座標を与えた場合，null spaceはバレバレなんで，あらかじめ線型結合で隠しておく必要がある．\n",
    "\n"
   ]
  },
  {
   "cell_type": "code",
   "execution_count": 85,
   "metadata": {
    "collapsed": true
   },
   "outputs": [],
   "source": [
    "BB=Matrix([1,1,4])"
   ]
  },
  {
   "cell_type": "code",
   "execution_count": 90,
   "metadata": {},
   "outputs": [
    {
     "data": {
      "image/png": "[encoded data removed]",
      "text/latex": [
       "$$\\left [ \\left[\\begin{matrix}1\\\\1\\\\4\\end{matrix}\\right]\\right ]$$"
      ],
      "text/plain": [
       "⎡⎡1⎤⎤\n",
       "⎢⎢ ⎥⎥\n",
       "⎢⎢1⎥⎥\n",
       "⎢⎢ ⎥⎥\n",
       "⎣⎣4⎦⎦"
      ]
     },
     "execution_count": 90,
     "metadata": {},
     "output_type": "execute_result"
    }
   ],
   "source": [
    "BB.columnspace()"
   ]
  },
  {
   "cell_type": "code",
   "execution_count": 88,
   "metadata": {},
   "outputs": [
    {
     "data": {
      "image/png": "[encoded data removed]",
      "text/latex": [
       "$$\\left[\\begin{matrix}1\\\\1\\\\4\\end{matrix}\\right]$$"
      ],
      "text/plain": [
       "⎡1⎤\n",
       "⎢ ⎥\n",
       "⎢1⎥\n",
       "⎢ ⎥\n",
       "⎣4⎦"
      ]
     },
     "execution_count": 88,
     "metadata": {},
     "output_type": "execute_result"
    }
   ],
   "source": [
    "BB"
   ]
  },
  {
   "cell_type": "code",
   "execution_count": null,
   "metadata": {
    "collapsed": true
   },
   "outputs": [],
   "source": []
  }
 ],
 "metadata": {
  "kernelspec": {
   "display_name": "Python 3",
   "language": "python",
   "name": "python3"
  },
  "language_info": {
   "codemirror_mode": {
    "name": "ipython",
    "version": 3
   },
   "file_extension": ".py",
   "mimetype": "text/x-python",
   "name": "python",
   "nbconvert_exporter": "python",
   "pygments_lexer": "ipython3",
   "version": "3.6.1"
  },
  "latex_envs": {
   "LaTeX_envs_menu_present": true,
   "autocomplete": true,
   "bibliofile": "biblio.bib",
   "cite_by": "apalike",
   "current_citInitial": 1,
   "eqLabelWithNumbers": true,
   "eqNumInitial": 1,
   "hotkeys": {
    "equation": "Ctrl-E",
    "itemize": "Ctrl-I"
   },
   "labels_anchors": false,
   "latex_user_defs": false,
   "report_style_numbering": false,
   "user_envs_cfg": false
  },
  "toc": {
   "colors": {
    "hover_highlight": "#DAA520",
    "navigate_num": "#000000",
    "navigate_text": "#333333",
    "running_highlight": "#FF0000",
    "selected_highlight": "#FFD700",
    "sidebar_border": "#EEEEEE",
    "wrapper_background": "#FFFFFF"
   },
   "moveMenuLeft": true,
   "nav_menu": {
    "height": "12px",
    "width": "252px"
   },
   "navigate_menu": true,
   "number_sections": true,
   "sideBar": true,
   "threshold": 4,
   "toc_cell": true,
   "toc_section_display": "block",
   "toc_window_display": false,
   "widenNotebook": false
  }
 },
 "nbformat": 4,
 "nbformat_minor": 2
}
