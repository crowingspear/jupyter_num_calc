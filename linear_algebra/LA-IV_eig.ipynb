{
 "cells": [
  {
   "cell_type": "markdown",
   "metadata": {},
   "source": [
    "<div style=\"text-align: center;\">\n",
    "   <font size=\"5\"> 線形代数(Linear Algebra IV)固有値 </font>\n",
    "</div>\n",
    "   <div style=\"text-align: right;\">\n",
    "   <font size=\"3\"> cc by Shigeto R. Nishitani, 2018-03-18 </font>\n",
    "</div>\n",
    "\n",
    "* file: /Users/bob/python/doing_math_with_python/linear_algebra/LA-I.ipynb"
   ]
  },
  {
   "cell_type": "markdown",
   "metadata": {
    "toc": "true"
   },
   "source": [
    "# Table of Contents\n",
    " <p><div class=\"lev1 toc-item\"><a href=\"#固有値\" data-toc-modified-id=\"固有値-1\"><span class=\"toc-item-num\">1&nbsp;&nbsp;</span>固有値</a></div><div class=\"lev2 toc-item\"><a href=\"#固有値・固有ベクトル\" data-toc-modified-id=\"固有値・固有ベクトル-11\"><span class=\"toc-item-num\">1.1&nbsp;&nbsp;</span>固有値・固有ベクトル</a></div><div class=\"lev2 toc-item\"><a href=\"#固有空間\" data-toc-modified-id=\"固有空間-12\"><span class=\"toc-item-num\">1.2&nbsp;&nbsp;</span>固有空間</a></div><div class=\"lev1 toc-item\"><a href=\"#一般固有空間\" data-toc-modified-id=\"一般固有空間-2\"><span class=\"toc-item-num\">2&nbsp;&nbsp;</span>一般固有空間</a></div><div class=\"lev1 toc-item\"><a href=\"#紙\" data-toc-modified-id=\"紙-3\"><span class=\"toc-item-num\">3&nbsp;&nbsp;</span>紙</a></div><div class=\"lev1 toc-item\"><a href=\"#python-code\" data-toc-modified-id=\"python-code-4\"><span class=\"toc-item-num\">4&nbsp;&nbsp;</span>python code</a></div>"
   ]
  },
  {
   "cell_type": "markdown",
   "metadata": {},
   "source": [
    "# 固有値\n",
    "\n",
    "## 固有値・固有ベクトル\n",
    "\n",
    "$A=[a_ij]$を$n$次正方行列とする．\n",
    "$$\n",
    "A \\boldsymbol{x} = \\lambda \\boldsymbol{x}, \\, \\boldsymbol{x}\\ne 0\n",
    "$$\n",
    "をみたす$n$次元列ベクトル$\\boldsymbol{x}$が存在するような$\\lambda$を$A$の**固有値**, $\\boldsymbol{x}$を$\\lambda$に対する(関する，属する)**固有ベクトル**という．\n",
    "\n",
    "* **固有多項式，固有方程式**\n",
    "$n$次多項式\n",
    "$$\n",
    "\\phi(t) =\\left| A- tE \\right|\n",
    "=\\left| \n",
    "\\begin{array}{cccc}\n",
    "a_{11}-t & a_{12} & \\cdots & a_{1n} \\\\\n",
    "a_{21} & a_{22}-t & \\cdots & a_{2n} \\\\\n",
    "\\vdots & \\vdots & \\ddots & \\vdots \\\\\n",
    "a_{n1} & a_{n2} & \\cdots & a_{nn}-t \\\\\n",
    "\\end{array}\n",
    "\\right|\n",
    "$$\n",
    "を$A$の**固有多項式**，$\\phi(t)=0$を**固有方程式**という．\n",
    "* **固有値**は固有方程式の根である．\n",
    "* 各固有値$\\lambda_i$に対する**固有ベクトル**は同次連立一次方程式$(A-\\lambda_i E)\\boldsymbol{x}=\\boldsymbol{0}$の非自明解を求めればよい．"
   ]
  },
  {
   "cell_type": "markdown",
   "metadata": {},
   "source": [
    "## 固有空間\n",
    "$V=\\{\\boldsymbol{x}; A\\boldsymbol{x} = \\lambda\\boldsymbol{x} \\}$を固有値$\\lambda$に対する**固有空間**という．\n",
    "\n",
    "* 同次連立一次方程式$(A - \\lambda\\boldsymbol{x} ) = \\boldsymbol{0}\\}$の解空間で，$\\lambda$に\n",
    "対する固有ベクトル全体に零ベクトル$\\boldsymbol{0}$を付け加えて得られるベクトル空間である．\n",
    "\n",
    "* 幾何的重複度，代数的重複度\n",
    "\n",
    "# 一般固有空間\n",
    "* 標数，ケーリーハミルトンの定理\n",
    "\n",
    "* 冪0行列の対角化\n",
    "* ジョルダンの標準形\n",
    "* 指数行列"
   ]
  },
  {
   "cell_type": "markdown",
   "metadata": {},
   "source": [
    "# 紙\n",
    "\n",
    "![LA-IV](./figs/LinearAlgebra-IV.png)"
   ]
  },
  {
   "cell_type": "markdown",
   "metadata": {},
   "source": [
    "# python code"
   ]
  },
  {
   "cell_type": "code",
   "execution_count": 12,
   "metadata": {},
   "outputs": [
    {
     "name": "stdout",
     "output_type": "stream",
     "text": [
      "array([ 4.,  1.])\n",
      "array([[ 0.707, -0.447],\n",
      "       [ 0.707,  0.894]])\n",
      "array([ 0.707,  0.707])\n",
      "array([-0.447,  0.894])\n"
     ]
    }
   ],
   "source": [
    "import numpy as np\n",
    "from pprint import pprint\n",
    "import scipy.linalg as linalg\n",
    "\n",
    "np.set_printoptions(precision=3, suppress=True)\n",
    "\n",
    "a = np.array([[3,1], [2,2]])\n",
    "# a = np.array([[2,1], [1,2]])\n",
    "\n",
    "l,P = np.linalg.eig(a)\n",
    "pprint(l)\n",
    "pprint(P)\n",
    "\n",
    "v0 = P[:,0]\n",
    "v1 = P[:,1]\n",
    "pprint(v0)\n",
    "pprint(v1)"
   ]
  },
  {
   "cell_type": "code",
   "execution_count": 13,
   "metadata": {},
   "outputs": [
    {
     "data": {
      "image/png": "[encoded data removed]",
      "text/plain": [
       "<matplotlib.figure.Figure at 0x110341518>"
      ]
     },
     "metadata": {},
     "output_type": "display_data"
    }
   ],
   "source": [
    "import matplotlib.pyplot as plt\n",
    "\n",
    "div = 32\n",
    "for i in range(0,div):\n",
    "    theta = 2*np.pi/div*i\n",
    "    x = np.sin(theta)\n",
    "    y = np.cos(theta)\n",
    "    # print('%10.5f-%10.5f' % (x,y))\n",
    "    plt.plot(x,y,'o',color='r')\n",
    "    p0 = np.array([x,y])\n",
    "    p1 = np.dot(a,p0)\n",
    "    plt.plot(p1[0],p1[1],'o',color='b')\n",
    "    plt.plot([x, p1[0]], [y,p1[1]], color='k', linestyle='-', linewidth=1)\n",
    "\n",
    "x_m = 7\n",
    "y_m = 5\n",
    "plt.hlines(0, -x_m, x_m, color='k', linestyle='-', linewidth=1)\n",
    "plt.vlines(0, -y_m, y_m, color='k', linestyle='-', linewidth=1)\n",
    "\n",
    "t=x_m\n",
    "plt.plot([-t*v0[0],t*v0[0]], [-t*v0[1],t*v0[1]], color='g', linestyle='-', linewidth=2)\n",
    "t=y_m\n",
    "plt.plot([-t*v1[0],t*v1[0]], [-t*v1[1],t*v1[1]], color='g', linestyle='-', linewidth=2)\n",
    "\n",
    "\n",
    "plt.axes().set_aspect('equal', 'datalim')\n",
    "plt.show()"
   ]
  },
  {
   "cell_type": "code",
   "execution_count": null,
   "metadata": {
    "collapsed": true
   },
   "outputs": [],
   "source": []
  }
 ],
 "metadata": {
  "kernelspec": {
   "display_name": "Python 3",
   "language": "python",
   "name": "python3"
  },
  "language_info": {
   "codemirror_mode": {
    "name": "ipython",
    "version": 3
   },
   "file_extension": ".py",
   "mimetype": "text/x-python",
   "name": "python",
   "nbconvert_exporter": "python",
   "pygments_lexer": "ipython3",
   "version": "3.6.1"
  },
  "latex_envs": {
   "LaTeX_envs_menu_present": true,
   "autocomplete": true,
   "bibliofile": "biblio.bib",
   "cite_by": "apalike",
   "current_citInitial": 1,
   "eqLabelWithNumbers": true,
   "eqNumInitial": 1,
   "hotkeys": {
    "equation": "Ctrl-E",
    "itemize": "Ctrl-I"
   },
   "labels_anchors": false,
   "latex_user_defs": false,
   "report_style_numbering": false,
   "user_envs_cfg": false
  },
  "toc": {
   "colors": {
    "hover_highlight": "#DAA520",
    "navigate_num": "#000000",
    "navigate_text": "#333333",
    "running_highlight": "#FF0000",
    "selected_highlight": "#FFD700",
    "sidebar_border": "#EEEEEE",
    "wrapper_background": "#FFFFFF"
   },
   "moveMenuLeft": true,
   "nav_menu": {
    "height": "12px",
    "width": "252px"
   },
   "navigate_menu": true,
   "number_sections": true,
   "sideBar": true,
   "threshold": 4,
   "toc_cell": true,
   "toc_section_display": "block",
   "toc_window_display": false,
   "widenNotebook": false
  }
 },
 "nbformat": 4,
 "nbformat_minor": 2
}
