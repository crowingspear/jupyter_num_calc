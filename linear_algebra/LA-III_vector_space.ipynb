{
 "cells": [
  {
   "cell_type": "markdown",
   "metadata": {},
   "source": [
    "<div style=\"text-align: center;\">\n",
    "   <font size=\"5\"> 線形代数(Linear Algebra III) ベクトル空間 </font>\n",
    "</div>\n",
    "   <div style=\"text-align: right;\">\n",
    "   <font size=\"3\"> cc by Shigeto R. Nishitani, 2018-03-16 </font>\n",
    "</div>\n",
    "\n",
    "* file: /Users/bob/python/doing_math_with_python/linear_algebra/LA-III_vector_space.ipynb"
   ]
  },
  {
   "cell_type": "markdown",
   "metadata": {
    "toc": "true"
   },
   "source": [
    "# Table of Contents\n",
    " <p><div class=\"lev1 toc-item\"><a href=\"#ベクトル空間\" data-toc-modified-id=\"ベクトル空間-1\"><span class=\"toc-item-num\">1&nbsp;&nbsp;</span>ベクトル空間</a></div><div class=\"lev1 toc-item\"><a href=\"#行列式\" data-toc-modified-id=\"行列式-2\"><span class=\"toc-item-num\">2&nbsp;&nbsp;</span>行列式</a></div><div class=\"lev1 toc-item\"><a href=\"#ベクトル空間\" data-toc-modified-id=\"ベクトル空間-3\"><span class=\"toc-item-num\">3&nbsp;&nbsp;</span>ベクトル空間</a></div>"
   ]
  },
  {
   "cell_type": "markdown",
   "metadata": {},
   "source": [
    "# ベクトル空間\n",
    "\n",
    "* **実数上の$n$次(元)数ベクトル空間**\n",
    "実数の$n$個の組の全体\n",
    "$$\n",
    "\\boldsymbol{R}^n = \\{ (a_1,a_2,\\ldots,a_n); a_1, a_2, \\ldots, a_n \\in \\boldsymbol{R} \\}\n",
    "$$\n",
    "\n",
    "* **基底，次元，成分**\n",
    "\n",
    "* **部分空間**\n",
    "   * 数ベクトル空間$\\boldsymbol{R}^n$の部分集合$V(\\neq 0)$が和とスカラー倍に閉じているとき，$\\boldsymbol{R}^n$の**部分空間**という．\n",
    "\n",
    "   * **同次連立一次方程式の解空間**:$A$を$m \\times n$行列とする．\n",
    "同次連立一次方程式$A\\boldsymbol{x} = \\boldsymbol{0}$の解全体\n",
    "$\\{\\boldsymbol{x} \\in \\boldsymbol{R}^n; A\\boldsymbol{x} = \\boldsymbol{0}\\}$\n",
    "は$ \\boldsymbol{R}^n$の部分空間をなす．\n",
    "これを$A\\boldsymbol{x} = \\boldsymbol{0}$の解空間という．\n",
    "$$\n",
    "{\\rm dim}\\{\\boldsymbol{x} \\in \\boldsymbol{R}^n; A\\boldsymbol{x} = \\boldsymbol{0}\\}\n",
    "= n -{\\rm rank}A\n",
    "$$\n",
    "であり，基本解は1組の基底である．\n",
    "\n",
    "* 計量ベクトル空間\n",
    "  * 内積を考えているとき$V$を計量ベクトル空間または内積空間という．\n",
    "\n",
    "* 直交基底\n",
    "   * グラム・シュミットの直交化法\n",
    "\n",
    "* 直交補空間\n",
    "\n"
   ]
  },
  {
   "cell_type": "markdown",
   "metadata": {},
   "source": [
    "# ベクトル空間\n",
    "\n",
    "![LA-II](./figs/LinearAlgebra-III.png)\n"
   ]
  },
  {
   "cell_type": "code",
   "execution_count": 3,
   "metadata": {},
   "outputs": [
    {
     "data": {
      "text/plain": [
       "-2.0"
      ]
     },
     "execution_count": 3,
     "metadata": {},
     "output_type": "execute_result"
    }
   ],
   "source": [
    "import numpy as np\n",
    "from pprint import pprint\n",
    "import scipy.linalg as linalg\n",
    "\n",
    "np.set_printoptions(precision=3, suppress=True)\n",
    "\n",
    "a = np.array([[1,2],[3,4]])\n",
    "linalg.det(a)"
   ]
  },
  {
   "cell_type": "code",
   "execution_count": 4,
   "metadata": {},
   "outputs": [
    {
     "data": {
      "text/plain": [
       "array([[-2. ,  1. ],\n",
       "       [ 1.5, -0.5]])"
      ]
     },
     "execution_count": 4,
     "metadata": {},
     "output_type": "execute_result"
    }
   ],
   "source": [
    "linalg.inv(a)"
   ]
  },
  {
   "cell_type": "code",
   "execution_count": 9,
   "metadata": {},
   "outputs": [
    {
     "name": "stdout",
     "output_type": "stream",
     "text": [
      "-9.62193288008469e-16\n",
      "array([[  1.892e+16,  -5.404e+15,  -2.702e+15],\n",
      "       [  3.783e+16,  -1.081e+16,  -5.404e+15],\n",
      "       [  1.892e+16,  -5.404e+15,  -2.702e+15]])\n"
     ]
    }
   ],
   "source": [
    "a = np.array([[1,-2,3],[2,-3,4],[3,-8,13]])\n",
    "pprint(linalg.det(a))\n",
    "pprint(linalg.inv(a))"
   ]
  },
  {
   "cell_type": "code",
   "execution_count": 10,
   "metadata": {},
   "outputs": [
    {
     "name": "stdout",
     "output_type": "stream",
     "text": [
      "8.0\n",
      "array([[ 0.125, -0.125,  0.375],\n",
      "       [ 0.625,  0.375, -0.125],\n",
      "       [ 0.375,  0.625,  0.125]])\n"
     ]
    }
   ],
   "source": [
    "a = np.array([[1,2,-1],[-1,-1,2],[2,-1,1]])\n",
    "pprint(linalg.det(a))\n",
    "pprint(linalg.inv(a))"
   ]
  },
  {
   "cell_type": "code",
   "execution_count": null,
   "metadata": {
    "collapsed": true
   },
   "outputs": [],
   "source": []
  }
 ],
 "metadata": {
  "kernelspec": {
   "display_name": "Python 3",
   "language": "python",
   "name": "python3"
  },
  "language_info": {
   "codemirror_mode": {
    "name": "ipython",
    "version": 3
   },
   "file_extension": ".py",
   "mimetype": "text/x-python",
   "name": "python",
   "nbconvert_exporter": "python",
   "pygments_lexer": "ipython3",
   "version": "3.6.1"
  },
  "latex_envs": {
   "LaTeX_envs_menu_present": true,
   "autocomplete": true,
   "bibliofile": "biblio.bib",
   "cite_by": "apalike",
   "current_citInitial": 1,
   "eqLabelWithNumbers": true,
   "eqNumInitial": 1,
   "hotkeys": {
    "equation": "Ctrl-E",
    "itemize": "Ctrl-I"
   },
   "labels_anchors": false,
   "latex_user_defs": false,
   "report_style_numbering": false,
   "user_envs_cfg": false
  },
  "toc": {
   "colors": {
    "hover_highlight": "#DAA520",
    "navigate_num": "#000000",
    "navigate_text": "#333333",
    "running_highlight": "#FF0000",
    "selected_highlight": "#FFD700",
    "sidebar_border": "#EEEEEE",
    "wrapper_background": "#FFFFFF"
   },
   "moveMenuLeft": true,
   "nav_menu": {
    "height": "12px",
    "width": "252px"
   },
   "navigate_menu": true,
   "number_sections": true,
   "sideBar": true,
   "threshold": 4,
   "toc_cell": true,
   "toc_section_display": "block",
   "toc_window_display": false,
   "widenNotebook": false
  }
 },
 "nbformat": 4,
 "nbformat_minor": 2
}
