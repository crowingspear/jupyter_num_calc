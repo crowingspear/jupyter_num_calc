{
 "cells": [
  {
   "cell_type": "markdown",
   "metadata": {},
   "source": [
    "<div style=\"text-align: center;\">\n",
    "   <font size=\"5\"> pythonで線形代数(Linear Algebra) </font>\n",
    "</div>\n",
    "   <div style=\"text-align: right;\">\n",
    "   <font size=\"3\"> cc by Shigeto R. Nishitani, 2018-03-15 </font>\n",
    "</div>\n",
    "\n",
    "* file: /Users/bob/python/doing_math_with_python/linear_algebra/LA-I.ipynb"
   ]
  },
  {
   "cell_type": "markdown",
   "metadata": {
    "toc": "true"
   },
   "source": [
    "# Table of Contents\n",
    " <p><div class=\"lev1 toc-item\"><a href=\"#どんな資料にする？\" data-toc-modified-id=\"どんな資料にする？-1\"><span class=\"toc-item-num\">1&nbsp;&nbsp;</span>どんな資料にする？</a></div>"
   ]
  },
  {
   "cell_type": "markdown",
   "metadata": {},
   "source": [
    "# どんな資料にする？<a id=\"sec-1\" name=\"sec-1\"></a>\n",
    "\n",
    "2次元は紙にかけるので，3次元以上をpythonで．\n",
    "graph, 計算コマンドを表示．\n",
    "\n",
    "応用例として，それぞれの重要なものがあればいいが．．．\n",
    "例えば，直交についてのBreast cancerみたいに，わかりやすい例があるといい．\n",
    "Deep learningから取ってくる．．．\n",
    "線形計画？\n",
    "\n",
    "逆行列の存在がone to oneだから．．．とか．ああ腹減った．"
   ]
  },
  {
   "cell_type": "markdown",
   "metadata": {
    "collapsed": true
   },
   "source": [
    "1.  [lu分解](./LA-I_lu.ipynb)\n",
    "    1.  掃き出し\n",
    "    2.  3次元でのグラフ解\n",
    "2.  [行列式](./LA-II_det.ipynb)\n",
    "    1.  行列とベクトルの積\n",
    "    2.  行列式\n",
    "    3.  代数への応用があるが，あまり内容はない．\n",
    "3.  [ベクトル空間](./LA-III_vector_space.ipynb)\n",
    "    1.  基底\n",
    "    2. 線形従属，独立\n",
    "    3. \n",
    "    4.　直交補空間\n",
    "4.  [固有値](./LA-IV_eig.ipynb)\n",
    "    1.  写像のgraph\n",
    "    2.  固有値のgraph\n",
    "5.  [線形写像](./LA-V_map.ipynb)\n",
    "    1.  像と核，null space\n",
    "    2.  全射onto と単射one to one⏎        "
   ]
  },
  {
   "cell_type": "code",
   "execution_count": null,
   "metadata": {
    "collapsed": true
   },
   "outputs": [],
   "source": []
  }
 ],
 "metadata": {
  "kernelspec": {
   "display_name": "Python 3",
   "language": "python",
   "name": "python3"
  },
  "language_info": {
   "codemirror_mode": {
    "name": "ipython",
    "version": 3
   },
   "file_extension": ".py",
   "mimetype": "text/x-python",
   "name": "python",
   "nbconvert_exporter": "python",
   "pygments_lexer": "ipython3",
   "version": "3.6.1"
  },
  "latex_envs": {
   "LaTeX_envs_menu_present": true,
   "autocomplete": true,
   "bibliofile": "biblio.bib",
   "cite_by": "apalike",
   "current_citInitial": 1,
   "eqLabelWithNumbers": true,
   "eqNumInitial": 1,
   "hotkeys": {
    "equation": "Ctrl-E",
    "itemize": "Ctrl-I"
   },
   "labels_anchors": false,
   "latex_user_defs": false,
   "report_style_numbering": false,
   "user_envs_cfg": false
  },
  "toc": {
   "colors": {
    "hover_highlight": "#DAA520",
    "navigate_num": "#000000",
    "navigate_text": "#333333",
    "running_highlight": "#FF0000",
    "selected_highlight": "#FFD700",
    "sidebar_border": "#EEEEEE",
    "wrapper_background": "#FFFFFF"
   },
   "moveMenuLeft": true,
   "nav_menu": {
    "height": "12px",
    "width": "252px"
   },
   "navigate_menu": true,
   "number_sections": true,
   "sideBar": true,
   "threshold": 4,
   "toc_cell": true,
   "toc_section_display": "block",
   "toc_window_display": false,
   "widenNotebook": false
  }
 },
 "nbformat": 4,
 "nbformat_minor": 2
}
