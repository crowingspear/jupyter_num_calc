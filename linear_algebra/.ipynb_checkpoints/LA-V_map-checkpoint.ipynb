{
 "cells": [
  {
   "cell_type": "markdown",
   "metadata": {},
   "source": [
    "<div style=\"text-align: center;\">\n",
    "   <font size=\"5\"> 線形代数(Linear Algebra IV)写像 </font>\n",
    "</div>\n",
    "   <div style=\"text-align: right;\">\n",
    "   <font size=\"3\"> cc by Shigeto R. Nishitani, 2018-03-19 </font>\n",
    "</div>\n",
    "\n",
    "* file: /Users/bob/python/doing_math_with_python/linear_algebra/LA-V_map.ipynb"
   ]
  },
  {
   "cell_type": "markdown",
   "metadata": {
    "toc": "true"
   },
   "source": [
    "# Table of Contents\n",
    " <p><div class=\"lev1 toc-item\"><a href=\"#写像\" data-toc-modified-id=\"写像-1\"><span class=\"toc-item-num\">1&nbsp;&nbsp;</span>写像</a></div><div class=\"lev2 toc-item\"><a href=\"#線形写像\" data-toc-modified-id=\"線形写像-11\"><span class=\"toc-item-num\">1.1&nbsp;&nbsp;</span>線形写像</a></div><div class=\"lev2 toc-item\"><a href=\"#像と核\" data-toc-modified-id=\"像と核-12\"><span class=\"toc-item-num\">1.2&nbsp;&nbsp;</span>像と核</a></div><div class=\"lev2 toc-item\"><a href=\"#不変部分空間\" data-toc-modified-id=\"不変部分空間-13\"><span class=\"toc-item-num\">1.3&nbsp;&nbsp;</span>不変部分空間</a></div><div class=\"lev1 toc-item\"><a href=\"#紙\" data-toc-modified-id=\"紙-2\"><span class=\"toc-item-num\">2&nbsp;&nbsp;</span>紙</a></div><div class=\"lev1 toc-item\"><a href=\"#python-code\" data-toc-modified-id=\"python-code-3\"><span class=\"toc-item-num\">3&nbsp;&nbsp;</span>python code</a></div>"
   ]
  },
  {
   "cell_type": "markdown",
   "metadata": {},
   "source": [
    "# 写像\n",
    "\n",
    "## 線形写像\n",
    "* $n$次元数ベクトル空間$\\boldsymbol{R}^n$から$m$次元数ベクトル空間$\\boldsymbol{R}^m$への写像$f$が\n",
    "\n",
    "   1. $\\boldsymbol{R}^n$の任意のベクトル$ \\boldsymbol{a},  \\boldsymbol{b} $に対し，$f( \\boldsymbol{a} + \\boldsymbol{b} ) = f( \\boldsymbol{a} ) + f( \\boldsymbol{b} )$\n",
    "   1. $\\boldsymbol{R}^n$の任意のベクトル$ \\boldsymbol{a}$と任意の実数$\\lambda$に対し，$f(\\lambda \\boldsymbol{a} )=\\lambda f( \\boldsymbol{a} )$\n",
    "\n",
    "が成り立つとき，$f$を$\\boldsymbol{R}^n$から$\\boldsymbol{R}^m$への**線形写像**という．\n",
    "\n",
    "* 零ベクトルは零ベクトルへ写像される($f(\\boldsymbol{0})=\\boldsymbol{0}$)\n",
    "* $f(-\\boldsymbol{a})=-\\boldsymbol{a}$\n",
    "* 零写像や恒等写像も線形写像\n",
    "\n",
    "* **線形写像の表現行列**\n",
    "$\\boldsymbol{e}_1, \\boldsymbol{e}_2, \\ldots, \\boldsymbol{e}_n$を$R^n$の標準的な基底とする．\n",
    "$$\n",
    "f(\\boldsymbol{e}_j) = \\boldsymbol{a}_j = (\\boldsymbol{a}_{1j}, \\boldsymbol{a}_{2j},\\ldots,\\boldsymbol{a}_{mj})\\, (j=1,2,\\ldots,n)\n",
    "$$\n",
    "のときこれらを列ベクトルみなして,$m \\times n$行列\n",
    "$$\n",
    "A = [f(\\boldsymbol{e}_1)\\, f(\\boldsymbol{e}_2)\\, \\cdots\\, f(\\boldsymbol{e}_n)]=\n",
    "[a_1\\, a_2\\, \\cdots \\, a_n]=\n",
    "\\left(\n",
    "\\begin{array}{cccc}\n",
    "a_{11} & a_{12} & \\cdots & a_{1n} \\\\\n",
    "a_{21} & a_{22} & \\cdots & a_{2n} \\\\\n",
    "\\vdots & \\vdots & \\ddots & \\vdots \\\\\n",
    "a_{m1} & a_{m2} & \\cdots & a_{mn} \\\\\n",
    "\\end{array}\n",
    "\\right)\n",
    "$$\n",
    "を$f$の**(標準的な基底に関する)表現行列**という．\n",
    "\n",
    "* $\\boldsymbol{y}=f(\\boldsymbol{x})$の時，\n",
    "$$\n",
    "\\left(\n",
    "\\begin{array}{c}\n",
    "y_1 \\\\\n",
    "y_2 \\\\\n",
    "\\vdots \\\\\n",
    "y_m\n",
    "\\end{array}\n",
    "\\right)\n",
    "= A\n",
    "\\left(\n",
    "\\begin{array}{c}\n",
    "x_1 \\\\\n",
    "x_2 \\\\\n",
    "\\vdots \\\\\n",
    "x_n\n",
    "\\end{array}\n",
    "\\right)\n",
    "$$\n",
    "\n",
    "* $\\boldsymbol{R}^n$から$\\boldsymbol{R}^m$への写像\n",
    "$$\n",
    "(x_1,x_2,\\ldots,x_n) \\longmapsto (y_1,y_2,\\ldots,y_m)\n",
    "$$\n",
    "\n",
    "* $\\boldsymbol{x}\\in \\boldsymbol{R}^n$を列ベクトルとみなせば，\n",
    "$$\n",
    "f( \\boldsymbol{x} ) = A \\boldsymbol{x} \n",
    "$$\n",
    "が成り立つ．\n",
    "\n",
    "* 線形写像の和・実数倍・合成\n",
    "$$\n",
    "(f+g)(\\boldsymbol{x}) = f(\\boldsymbol{x}) + g(\\boldsymbol{x}) \\\\\n",
    "(\\lambda f) \\boldsymbol{x} = \\lambda f(\\boldsymbol{x}) \\\\\n",
    "(g \\circ f)(\\boldsymbol{x}) = g(f(\\boldsymbol{x}))\n",
    "$$\n",
    "$g \\circ f$を合成写像または積という．"
   ]
  },
  {
   "cell_type": "markdown",
   "metadata": {},
   "source": [
    "## 像と核\n",
    "$f$を$\\boldsymbol{R}^n$から$\\boldsymbol{R}^m$への線形写像とする．\n",
    "*  **像(Im)**\n",
    "${\\rm Im\\,}f = \\{f( \\boldsymbol{x} ); \\boldsymbol{x} \\in \\boldsymbol{R}^n\\}$は$\\boldsymbol{R}^m$の部分空間でこれを**像(空間)**という．\n",
    "$f$の表現行列を$A=[\\boldsymbol{a}_1\\, \\boldsymbol{a}_2\\, \\cdots\\, \\boldsymbol{a}_n]$とする時，\n",
    "   * ${\\rm Im\\,}f =L\\{\\boldsymbol{a}_1,\\boldsymbol{a}_2,\\ldots,\\boldsymbol{a}_n\\}$($\\boldsymbol{a}_1,\\boldsymbol{a}_2,\\ldots,\\boldsymbol{a}_n$で生成される部分空間)\n",
    "   * ${\\rm dim\\,}({\\rm Im\\,}f) = {\\rm rank\\,} A = {\\rm rank\\,}[[\\boldsymbol{a}_1\\,\\boldsymbol{a}_2\\,\\cdots\\,\\boldsymbol{a}_n]$\n",
    "   * $\\boldsymbol{y}\\in {\\rm Im}f \\iff\n",
    "{\\rm rank\\,}[\\boldsymbol{a}_1\\,\\boldsymbol{a}_2\\,\\cdots\\,\\boldsymbol{a}_n]=\n",
    "{\\rm rank\\,}[\\boldsymbol{a}_1\\,\\boldsymbol{a}_2\\,\\cdots\\,\\boldsymbol{a}_n \\boldsymbol{y}]\n",
    "$\n",
    "\n",
    "* **全射(onto mapping)**\n",
    "${\\rm Im\\,}f = \\boldsymbol{R}^m$が全射であるとは，\n",
    "   * $すべての\\boldsymbol{y}\\in \\boldsymbol{R}^m \\Longrightarrow \n",
    "f( \\boldsymbol{x} ) = \\boldsymbol{y} なる \\boldsymbol{x} \\in R^n が存在する$\n",
    "   * $fが全射 \\iff {\\rm rank\\,}A = m$\n",
    "* **核(Ker)**\n",
    "${\\rm Ker\\,}f = \\{\\boldsymbol{x}\\in \\boldsymbol{R}^n; f( \\boldsymbol{x} )= \\boldsymbol{0} \\}$は$\\boldsymbol{R}^n$の部分空間であってこれを**核(空間)**という.\n",
    "   * ${\\rm Ker\\,}f=\\{\\boldsymbol{x};A \\boldsymbol{x} = \\boldsymbol{0} \\}$:同次連立一次方程式$A \\boldsymbol{x} = \\boldsymbol{0}$の解空間\n",
    "   * ${\\rm dim\\,}({\\rm Ker\\,} f)=n -{\\rm rank\\,} A$\n",
    "* **単射(one to one mapping)**\n",
    "${\\rm Ker\\,}f=\\{\\boldsymbol{0}\\}$のとき$f$を**単射**であるという．このとき，\n",
    "   * $f(\\boldsymbol{x}_1)=f(\\boldsymbol{x}_2) \\Longrightarrow\n",
    "\\boldsymbol{x}_1 = \\boldsymbol{x}_2$\n",
    "   * $fが単射 \\iff {\\rm rank\\,} A = n$\n",
    "* **次元定理**\n",
    "$ {\\rm dim\\,}({\\rm Im\\,}f)+{\\rm dim\\,}({\\rm Ker\\,}f) = n$"
   ]
  },
  {
   "cell_type": "markdown",
   "metadata": {},
   "source": [
    "## 不変部分空間\n",
    "\n",
    "$f$を$\\boldsymbol{R}^n$上の線形変換とする．$\\boldsymbol{R}^n$の部分空間$V$が\n",
    "$$\n",
    "f(V) \\subset V\n",
    "$$\n",
    "をみたすとき，$V$を$f$に関する**不変部分空間**という．\n",
    "\n",
    "* 例\n",
    "   * 核${\\rm Ker\\,}f$: $\\boldsymbol{x} \\in {\\rm Ker\\,}f \\Rightarrow f(\\boldsymbol{x})=\\boldsymbol{0} \\in {\\rm Ker\\,} fよってf({\\rm Ker\\,} f)\\subset {\\rm Ker\\,}f$\n",
    "   * 像${\\rm Im\\,}f$: $\\boldsymbol{x} \\in {\\rm Im\\,}f \\Rightarrow f(\\boldsymbol{x}) \\in {\\rm Im\\,} fよってf({\\rm Im\\,} f)\\subset {\\rm Im\\,}f$\n",
    "   * 同次連立一次方程式の解空間: $\\{\\boldsymbol{x}\\in \\boldsymbol{R}^m; A\\boldsymbol{x}=\\boldsymbol{0}\\}(= {\\rm Ker\\,} f)$\n",
    "   * 固有値$\\lambda$に対する固有空間: $\\{\\boldsymbol{x}\\in\\boldsymbol{R}^n;(A-\\lambda E)\\boldsymbol{x}=\\boldsymbol{0}\\}$\n",
    "   * 固有値$\\lambda$に対する一般固有空間($k$は指標): $\\{\\boldsymbol{x}\\in\\boldsymbol{R}^n;(A-\\lambda E)^k\\boldsymbol{x}=\\boldsymbol{0}\\}$"
   ]
  },
  {
   "cell_type": "markdown",
   "metadata": {},
   "source": [
    "# 紙\n",
    "\n",
    "![LA-V](./figs/LinearAlgebra-V.png)"
   ]
  },
  {
   "cell_type": "markdown",
   "metadata": {},
   "source": [
    "# python code"
   ]
  },
  {
   "cell_type": "code",
   "execution_count": 1,
   "metadata": {},
   "outputs": [
    {
     "name": "stdout",
     "output_type": "stream",
     "text": [
      "array([ 4.,  0.])\n",
      "array([[ 0.447, -0.447],\n",
      "       [ 0.894,  0.894]])\n",
      "array([ 0.447,  0.894])\n",
      "array([-0.447,  0.894])\n"
     ]
    }
   ],
   "source": [
    "import numpy as np\n",
    "from pprint import pprint\n",
    "import scipy.linalg as linalg\n",
    "\n",
    "np.set_printoptions(precision=3, suppress=True)\n",
    "\n",
    "a = np.array([[2,1], [4,2]])\n",
    "# a = np.array([[2,1], [1,2]])\n",
    "\n",
    "l,P = np.linalg.eig(a)\n",
    "pprint(l)\n",
    "pprint(P)\n",
    "\n",
    "v0 = P[:,0]\n",
    "v1 = P[:,1]\n",
    "pprint(v0)\n",
    "pprint(v1)"
   ]
  },
  {
   "cell_type": "code",
   "execution_count": 5,
   "metadata": {},
   "outputs": [
    {
     "data": {
      "image/png": "[encoded data removed]",
      "text/plain": [
       "<matplotlib.figure.Figure at 0x1117ec940>"
      ]
     },
     "metadata": {},
     "output_type": "display_data"
    }
   ],
   "source": [
    "import matplotlib.pyplot as plt\n",
    "\n",
    "div = 32\n",
    "for i in range(0,div):\n",
    "    theta = 2*np.pi/div*i\n",
    "    x = np.sin(theta)\n",
    "    y = np.cos(theta)\n",
    "    # print('%10.5f-%10.5f' % (x,y))\n",
    "    plt.plot(x,y,'o',color='r')\n",
    "    p0 = np.array([x,y])\n",
    "    p1 = np.dot(a,p0)\n",
    "    plt.plot(p1[0],p1[1],'o',color='b')\n",
    "    plt.plot([x, p1[0]], [y,p1[1]], color='k', linestyle='-', linewidth=1)\n",
    "\n",
    "x_m = 6\n",
    "y_m = 6\n",
    "plt.hlines(0, -x_m, x_m, color='k', linestyle='-', linewidth=1)\n",
    "plt.vlines(0, -y_m, y_m, color='k', linestyle='-', linewidth=1)\n",
    "\n",
    "t=x_m\n",
    "plt.plot([-t*v0[0],t*v0[0]], [-t*v0[1],t*v0[1]], color='g', linestyle='-', linewidth=2)\n",
    "t=y_m\n",
    "plt.plot([-t*v1[0],t*v1[0]], [-t*v1[1],t*v1[1]], color='g', linestyle='-', linewidth=2)\n",
    "\n",
    "\n",
    "plt.axes().set_aspect('equal', 'datalim')\n",
    "plt.show()"
   ]
  },
  {
   "cell_type": "code",
   "execution_count": null,
   "metadata": {
    "collapsed": true
   },
   "outputs": [],
   "source": []
  }
 ],
 "metadata": {
  "kernelspec": {
   "display_name": "Python 3",
   "language": "python",
   "name": "python3"
  },
  "language_info": {
   "codemirror_mode": {
    "name": "ipython",
    "version": 3
   },
   "file_extension": ".py",
   "mimetype": "text/x-python",
   "name": "python",
   "nbconvert_exporter": "python",
   "pygments_lexer": "ipython3",
   "version": "3.6.1"
  },
  "latex_envs": {
   "LaTeX_envs_menu_present": true,
   "autocomplete": true,
   "bibliofile": "biblio.bib",
   "cite_by": "apalike",
   "current_citInitial": 1,
   "eqLabelWithNumbers": true,
   "eqNumInitial": 1,
   "hotkeys": {
    "equation": "Ctrl-E",
    "itemize": "Ctrl-I"
   },
   "labels_anchors": false,
   "latex_user_defs": false,
   "report_style_numbering": false,
   "user_envs_cfg": false
  },
  "toc": {
   "colors": {
    "hover_highlight": "#DAA520",
    "navigate_num": "#000000",
    "navigate_text": "#333333",
    "running_highlight": "#FF0000",
    "selected_highlight": "#FFD700",
    "sidebar_border": "#EEEEEE",
    "wrapper_background": "#FFFFFF"
   },
   "moveMenuLeft": true,
   "nav_menu": {
    "height": "12px",
    "width": "252px"
   },
   "navigate_menu": true,
   "number_sections": true,
   "sideBar": true,
   "threshold": 4,
   "toc_cell": true,
   "toc_section_display": "block",
   "toc_window_display": false,
   "widenNotebook": false
  }
 },
 "nbformat": 4,
 "nbformat_minor": 2
}
