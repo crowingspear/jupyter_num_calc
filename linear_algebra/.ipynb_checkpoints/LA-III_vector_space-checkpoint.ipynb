{
 "cells": [
  {
   "cell_type": "markdown",
   "metadata": {},
   "source": [
    "<div style=\"text-align: center;\">\n",
    "   <font size=\"5\"> 線形代数(Linear Algebra III) ベクトル空間 </font>\n",
    "</div>\n",
    "   <div style=\"text-align: right;\">\n",
    "   <font size=\"3\"> cc by Shigeto R. Nishitani, 2018-03-16 </font>\n",
    "</div>\n",
    "\n",
    "* file: /Users/bob/python/doing_math_with_python/linear_algebra/LA-III_vector_space.ipynb"
   ]
  },
  {
   "cell_type": "markdown",
   "metadata": {
    "toc": "true"
   },
   "source": [
    "# Table of Contents\n",
    " <p><div class=\"lev1 toc-item\"><a href=\"#定義と解説\" data-toc-modified-id=\"定義と解説-1\"><span class=\"toc-item-num\">1&nbsp;&nbsp;</span>定義と解説</a></div><div class=\"lev1 toc-item\"><a href=\"#紙\" data-toc-modified-id=\"紙-2\"><span class=\"toc-item-num\">2&nbsp;&nbsp;</span>紙</a></div><div class=\"lev1 toc-item\"><a href=\"#python\" data-toc-modified-id=\"python-3\"><span class=\"toc-item-num\">3&nbsp;&nbsp;</span>python</a></div>"
   ]
  },
  {
   "cell_type": "markdown",
   "metadata": {},
   "source": [
    "# 定義と解説\n",
    "\n",
    "* **実数上の$n$次(元)数ベクトル空間**\n",
    "実数の$n$個の組の全体\n",
    "$$\n",
    "\\boldsymbol{R}^n = \\{ (a_1,a_2,\\ldots,a_n); a_1, a_2, \\ldots, a_n \\in \\boldsymbol{R} \\}\n",
    "$$\n",
    "\n",
    "  * 定義\n",
    "$\\boldsymbol{a}=(a_1,a_2,\\ldots,a_n), \\boldsymbol{b}=(b_1,b_2,\\ldots,b_n) \\in \\boldsymbol{R}^n$に対して，\n",
    "    * **相等**  $\\boldsymbol{a}=\\boldsymbol{b} \\iff a_1=b_1, a_2=b_2, \\ldots , a_n = b_n$\n",
    "    * **和**  $\\boldsymbol{a}+\\boldsymbol{b} =( a_1+b_1, a_2+b_2, \\ldots , a_n + b_n)$\n",
    "    * **スカラー倍**  $\\lambda\\boldsymbol{a}= (\\lambda a_1, \\lambda a_2, \\ldots , \\lambda a_n)$\n",
    "\n",
    "  * 数ベクトル空間の要素を**数ベクトル**あるいは単に**ベクトル**という．\n",
    "  * 数ベクトル$\\boldsymbol{a}$は$n$次元行ベクトルと見なせるし，\n",
    "$$\n",
    "\\boldsymbol{a} = \\left(\\begin{array}{c}\n",
    "a_1 \\\\\n",
    "a_2 \\\\\n",
    "\\vdots \\\\\n",
    "a_n\n",
    "\\end{array}\\right)\n",
    "$$\n",
    "の$n$次元列ベクトルとも見なせる．"
   ]
  },
  {
   "cell_type": "markdown",
   "metadata": {},
   "source": [
    "* **線形結合**\n",
    "$m$個の$n$次元数ベクトル$\\boldsymbol{a}_1, \\boldsymbol{a}_1, \\ldots,\\boldsymbol{a}_m$\n",
    "に対して，\n",
    "$$\n",
    "x_1 \\boldsymbol{a}_1 + x_2 \\boldsymbol{a}_2 + \\cdots + x_m \\boldsymbol{a}_m,\\,\n",
    "x_1, x_2, \\ldots, x_m \\in \\boldsymbol{R}\n",
    "$$\n",
    "を$\\boldsymbol{a}_1, \\boldsymbol{a}_2, \\ldots,\\boldsymbol{a}_m$の**線形結合(linear combination,一次結合，一次和)**という．\n",
    "\n",
    "  * **一次独立, 一次従属**\n",
    "$x_1 \\boldsymbol{a}_1 + x_2 \\boldsymbol{a}_2 + \\cdots + x_m \\boldsymbol{a}_m = \\boldsymbol{0} $となるのが，\n",
    "$$\n",
    "\\begin{array}{rcl}\n",
    "x_1 = x_2 = \\cdots = x_m =0 以外に起こり得ない &\\iff &\\boldsymbol{a}_1, \\boldsymbol{a}_2, \\ldots,\\boldsymbol{a}_m が一次独立 \\\\\n",
    "x_1 = x_2 = \\cdots = x_m =0 以外にもあり得る &\\iff &\\boldsymbol{a}_1, \\boldsymbol{a}_2, \\ldots,\\boldsymbol{a}_m が一次従属\n",
    "\\end{array}\n",
    "$$\n",
    "\n",
    "  * 一次独立性と階数\n",
    "数ベクトルを列ベクトルで表して$A=[\\boldsymbol{a}_1, \\boldsymbol{a}_2, \\ldots,\\boldsymbol{a}_m]$を$n \\times m $行列とすると\n",
    "$$\n",
    "\\begin{array}{rcl}\n",
    "\\boldsymbol{a}_1, \\boldsymbol{a}_2, \\ldots,\\boldsymbol{a}_m が一次独立 &\\iff & {\\rm rank}A = m\\\\\n",
    "\\boldsymbol{a}_1, \\boldsymbol{a}_2, \\ldots,\\boldsymbol{a}_m が一次従属 &\\iff & {\\rm rank}A < m\n",
    "\\end{array}\n",
    "$$"
   ]
  },
  {
   "cell_type": "markdown",
   "metadata": {},
   "source": [
    "* **基底，次元，要素**\n",
    "  * **基底** $n$次元数ベクトル空間$\\boldsymbol{R}^n$の$n$個の一次独立なベクトル\n",
    "$\\boldsymbol{a}_1, \\boldsymbol{a}_2, \\ldots,\\boldsymbol{a}_n$を\n",
    "$\\boldsymbol{R}^n$の**基底**という\n",
    "  * **標準的な基底** \n",
    "$\\boldsymbol{e}_1=(1,0,\\ldots,0),\n",
    " \\boldsymbol{e}_2=(0,1,\\ldots,0), \\ldots,\n",
    " \\boldsymbol{e}_n=(0,0,\\ldots,1)$は$\\boldsymbol{R}^n$の基底で，\n",
    "**$\\boldsymbol{R}^n$の標準的な基底**という．\n",
    "  * **次元** 基底を構成する個数を**次元**といい，dimで表す．${\\rm dim}\\boldsymbol{R}^n=n$である．\n",
    "  * **成分** \n",
    "    * $\\mathfrak{B}=\\{\\boldsymbol{a}_1, \\boldsymbol{a}_2, \\ldots,\\boldsymbol{a}_n\\}$\n",
    "を$\\boldsymbol{R}^n$の基底とする．$\\boldsymbol{R}^n$のベクトル$\\boldsymbol{a}=\n",
    "(a_1, a_2, \\ldots, a_n)$は\n",
    "$$\n",
    "\\boldsymbol{a} = x_1\\boldsymbol{a}_1+ x_2 \\boldsymbol{a}_2+ \\ldots + x_n\\boldsymbol{a}_n\n",
    "$$\n",
    "と一意的に表される．\n",
    "    * この実数の組$(x_1,x_2,\\ldots,x_n)$を$\\boldsymbol{a}$の基底\n",
    "$\\mathfrak{B}=\\{\\boldsymbol{a}_1, \\boldsymbol{a}_2, \\ldots,\\boldsymbol{a}_n\\}$に関する**成分**といい，\n",
    "$$\n",
    "\\boldsymbol{a} = (x_1, x_2,\\ldots,x_n)_{\\mathfrak{B}}\n",
    "$$\n",
    "とかく．\n",
    "    * この$(a_1, a_2, \\ldots, a_n)$は$\\boldsymbol{a}$の標準的な基底$\\boldsymbol{e}_1, \\boldsymbol{e}_2, \\ldots,\\boldsymbol{e}_n$に関する成分である．"
   ]
  },
  {
   "cell_type": "markdown",
   "metadata": {},
   "source": [
    "* **部分空間**\n",
    "   * 数ベクトル空間$\\boldsymbol{R}^n$の部分集合$V(\\neq 0)$が和とスカラー倍に閉じているとき，$\\boldsymbol{R}^n$の**部分空間**という．\n",
    "\n",
    "   * **同次連立一次方程式の解空間**:$A$を$m \\times n$行列とする．\n",
    "同次連立一次方程式$A\\boldsymbol{x} = \\boldsymbol{0}$の解全体\n",
    "$\\{\\boldsymbol{x} \\in \\boldsymbol{R}^n; A\\boldsymbol{x} = \\boldsymbol{0}\\}$\n",
    "は$ \\boldsymbol{R}^n$の部分空間をなす．\n",
    "これを$A\\boldsymbol{x} = \\boldsymbol{0}$の解空間という．\n",
    "$$\n",
    "{\\rm dim}\\{\\boldsymbol{x} \\in \\boldsymbol{R}^n; A\\boldsymbol{x} = \\boldsymbol{0}\\}\n",
    "= n -{\\rm rank}A\n",
    "$$\n",
    "であり，基本解は1組の基底である．\n",
    "\n",
    "* 計量ベクトル空間\n",
    "  * 内積を考えているとき$V$を計量ベクトル空間または内積空間という．\n",
    "\n",
    "* 直交基底\n",
    "   * グラム・シュミットの直交化法\n",
    "\n",
    "* 直交補空間"
   ]
  },
  {
   "cell_type": "markdown",
   "metadata": {},
   "source": [
    "# 紙\n",
    "\n",
    "![LA-II](./figs/LinearAlgebra-III.png)\n"
   ]
  },
  {
   "cell_type": "markdown",
   "metadata": {},
   "source": [
    "# python"
   ]
  },
  {
   "cell_type": "code",
   "execution_count": 3,
   "metadata": {},
   "outputs": [
    {
     "data": {
      "text/plain": [
       "-2.0"
      ]
     },
     "execution_count": 3,
     "metadata": {},
     "output_type": "execute_result"
    }
   ],
   "source": [
    "import numpy as np\n",
    "from pprint import pprint\n",
    "import scipy.linalg as linalg\n",
    "\n",
    "np.set_printoptions(precision=3, suppress=True)\n",
    "\n",
    "a = np.array([[1,2],[3,4]])\n",
    "linalg.det(a)"
   ]
  },
  {
   "cell_type": "code",
   "execution_count": 4,
   "metadata": {},
   "outputs": [
    {
     "data": {
      "text/plain": [
       "array([[-2. ,  1. ],\n",
       "       [ 1.5, -0.5]])"
      ]
     },
     "execution_count": 4,
     "metadata": {},
     "output_type": "execute_result"
    }
   ],
   "source": [
    "linalg.inv(a)"
   ]
  },
  {
   "cell_type": "code",
   "execution_count": 9,
   "metadata": {},
   "outputs": [
    {
     "name": "stdout",
     "output_type": "stream",
     "text": [
      "-9.62193288008469e-16\n",
      "array([[  1.892e+16,  -5.404e+15,  -2.702e+15],\n",
      "       [  3.783e+16,  -1.081e+16,  -5.404e+15],\n",
      "       [  1.892e+16,  -5.404e+15,  -2.702e+15]])\n"
     ]
    }
   ],
   "source": [
    "a = np.array([[1,-2,3],[2,-3,4],[3,-8,13]])\n",
    "pprint(linalg.det(a))\n",
    "pprint(linalg.inv(a))"
   ]
  },
  {
   "cell_type": "code",
   "execution_count": 10,
   "metadata": {},
   "outputs": [
    {
     "name": "stdout",
     "output_type": "stream",
     "text": [
      "8.0\n",
      "array([[ 0.125, -0.125,  0.375],\n",
      "       [ 0.625,  0.375, -0.125],\n",
      "       [ 0.375,  0.625,  0.125]])\n"
     ]
    }
   ],
   "source": [
    "a = np.array([[1,2,-1],[-1,-1,2],[2,-1,1]])\n",
    "pprint(linalg.det(a))\n",
    "pprint(linalg.inv(a))"
   ]
  },
  {
   "cell_type": "code",
   "execution_count": null,
   "metadata": {
    "collapsed": true
   },
   "outputs": [],
   "source": []
  }
 ],
 "metadata": {
  "kernelspec": {
   "display_name": "Python 3",
   "language": "python",
   "name": "python3"
  },
  "language_info": {
   "codemirror_mode": {
    "name": "ipython",
    "version": 3
   },
   "file_extension": ".py",
   "mimetype": "text/x-python",
   "name": "python",
   "nbconvert_exporter": "python",
   "pygments_lexer": "ipython3",
   "version": "3.6.1"
  },
  "latex_envs": {
   "LaTeX_envs_menu_present": true,
   "autocomplete": true,
   "bibliofile": "biblio.bib",
   "cite_by": "apalike",
   "current_citInitial": 1,
   "eqLabelWithNumbers": true,
   "eqNumInitial": 1,
   "hotkeys": {
    "equation": "Ctrl-E",
    "itemize": "Ctrl-I"
   },
   "labels_anchors": false,
   "latex_user_defs": false,
   "report_style_numbering": false,
   "user_envs_cfg": false
  },
  "toc": {
   "colors": {
    "hover_highlight": "#DAA520",
    "navigate_num": "#000000",
    "navigate_text": "#333333",
    "running_highlight": "#FF0000",
    "selected_highlight": "#FFD700",
    "sidebar_border": "#EEEEEE",
    "wrapper_background": "#FFFFFF"
   },
   "moveMenuLeft": true,
   "nav_menu": {
    "height": "12px",
    "width": "252px"
   },
   "navigate_menu": true,
   "number_sections": true,
   "sideBar": true,
   "threshold": 4,
   "toc_cell": true,
   "toc_section_display": "block",
   "toc_window_display": false,
   "widenNotebook": false
  }
 },
 "nbformat": 4,
 "nbformat_minor": 2
}
