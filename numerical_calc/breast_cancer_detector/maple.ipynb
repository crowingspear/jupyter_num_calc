{
 "cells": [
  {
   "cell_type": "markdown",
   "metadata": {},
   "source": [
    "<div style=\"text-align: center;\">\n",
    "  <font size=\"5\">乳がんの組織検査の自動判定器</font>\n",
    "</div>\n",
    "<div style=\"text-align: right;\">\n",
    "  <font size=\"3\">cc by Shigeto R. Nishitani</font>\n",
    "</div>\n",
    "\n",
    "* 2017-11-17 関西学院大学，理工学部，数値計算\n",
    "* /Users/bob/Github/TeamNishitani/coding_the_matrix/c8_breast_cancer_maple.ipynb\n",
    "\n"
   ]
  },
  {
   "cell_type": "markdown",
   "metadata": {
    "toc": "true"
   },
   "source": [
    "# Table of Contents\n",
    " <p><div class=\"lev1 toc-item\"><a href=\"#Breast-Cancer-Wisconsin-(Diagnostic)-Data-Set\" data-toc-modified-id=\"Breast-Cancer-Wisconsin-(Diagnostic)-Data-Set-1\"><span class=\"toc-item-num\">1&nbsp;&nbsp;</span>Breast Cancer Wisconsin (Diagnostic) Data Set</a></div><div class=\"lev2 toc-item\"><a href=\"#Attribute-Information:\" data-toc-modified-id=\"Attribute-Information:-11\"><span class=\"toc-item-num\">1.1&nbsp;&nbsp;</span>Attribute Information:</a></div><div class=\"lev2 toc-item\"><a href=\"#分類器\" data-toc-modified-id=\"分類器-12\"><span class=\"toc-item-num\">1.2&nbsp;&nbsp;</span>分類器</a></div><div class=\"lev2 toc-item\"><a href=\"#仮説クラス\" data-toc-modified-id=\"仮説クラス-13\"><span class=\"toc-item-num\">1.3&nbsp;&nbsp;</span>仮説クラス</a></div><div class=\"lev1 toc-item\"><a href=\"#最急降下法\" data-toc-modified-id=\"最急降下法-2\"><span class=\"toc-item-num\">2&nbsp;&nbsp;</span>最急降下法</a></div><div class=\"lev1 toc-item\"><a href=\"#maple-code\" data-toc-modified-id=\"maple-code-3\"><span class=\"toc-item-num\">3&nbsp;&nbsp;</span>maple code</a></div><div class=\"lev2 toc-item\"><a href=\"#show_vector\" data-toc-modified-id=\"show_vector-31\"><span class=\"toc-item-num\">3.1&nbsp;&nbsp;</span>show_vector</a></div><div class=\"lev2 toc-item\"><a href=\"#データ読み込み\" data-toc-modified-id=\"データ読み込み-32\"><span class=\"toc-item-num\">3.2&nbsp;&nbsp;</span>データ読み込み</a></div><div class=\"lev2 toc-item\"><a href=\"#wの初期化と最小化\" data-toc-modified-id=\"wの初期化と最小化-33\"><span class=\"toc-item-num\">3.3&nbsp;&nbsp;</span>wの初期化と最小化</a></div><div class=\"lev1 toc-item\"><a href=\"#結果\" data-toc-modified-id=\"結果-4\"><span class=\"toc-item-num\">4&nbsp;&nbsp;</span>結果</a></div><div class=\"lev2 toc-item\"><a href=\"#評価(1)\" data-toc-modified-id=\"評価(1)-41\"><span class=\"toc-item-num\">4.1&nbsp;&nbsp;</span>評価(1)</a></div><div class=\"lev2 toc-item\"><a href=\"#評価(2)-validate.data\" data-toc-modified-id=\"評価(2)-validate.data-42\"><span class=\"toc-item-num\">4.2&nbsp;&nbsp;</span>評価(2) validate.data</a></div>"
   ]
  },
  {
   "cell_type": "markdown",
   "metadata": {},
   "source": [
    "# Breast Cancer Wisconsin (Diagnostic) Data Set\n",
    "\n",
    "<https://archive.ics.uci.edu/ml/datasets/breast+cancer+wisconsin+(diagnostic)>\n",
    "\n",
    "## Attribute Information:\n",
    "\n",
    "1. ID number \n",
    "1. Diagnosis (M = malignant, B = benign) M:悪性，B:良性\n",
    "1. 3-32\n",
    "\n",
    "Ten real-valued features are computed for each cell nucleus: \n",
    "\n",
    "* 半径radius (mean of distances from center to points on the perimeter) \n",
    "* テクスチャtexture (standard deviation of gray-scale values) \n",
    "* 境界の長さperimeter \n",
    "* 面積area \n",
    "* なめらかさsmoothness (local variation in radius lengths) \n",
    "* コンパクトさcompactness (perimeter^2 / area - 1.0) \n",
    "* くぼみ度合いconcavity (severity of concave portions of the contour) \n",
    "* くぼみの数concave points (number of concave portions of the contour) \n",
    "* 対称性symmetry \n",
    "* フラクタル次元fractal dimension (\"coastline approximation\" - 1)\n",
    "\n",
    "http://people.idsia.ch/~juergen/deeplearningwinsMICCAIgrandchallenge.html\n",
    "\n",
    "## 分類器\n",
    "与えられた特徴ベクトル$\\boldsymbol{a}$に対し，\n",
    "細胞組織が悪性か良性かを分類する関数$C(\\boldsymbol{y})$を選び出すプログラムを作成しよう．"
   ]
  },
  {
   "cell_type": "markdown",
   "metadata": {},
   "source": [
    "## 仮説クラス\n",
    "分類器は可能な分類器の集合(**仮説クラス**)から選ばれる．この場合，仮説クラスとは特徴ベクトルの空間$\\mathbb{R}^D$から$\\mathbb{R}$への線形関数$h(\\cdot)$である．すると分類器は次のような関数として定義される．\n",
    "\n",
    "$$\n",
    "C(\\boldsymbol{y}) = \n",
    "\\left\\{ \\begin{array}{ccc}\n",
    "+1 &  {\\rm when} & h(\\boldsymbol{y})\\geq 0\\\\\n",
    "-1 &  {\\rm when} & h(\\boldsymbol{y})<0\n",
    "\\end{array} \\right.\n",
    "$$\n",
    "\n",
    "各線形関数$h:\\mathbb{R}^D \\rightarrow \\mathbb{R}$に対して，\n",
    "次のような$D$ベクトル$\\boldsymbol{w}$が存在する．\n",
    "$$\n",
    "h(\\boldsymbol{y}) = \\boldsymbol{w}\\cdot \\boldsymbol{y}\n",
    "$$\n",
    "したがって，そのような線形関数を選ぶことは，結局$D$ベクトル$\\boldsymbol{w}$を\n",
    "選ぶことに等しい．特に，$\\boldsymbol{w}$を選ぶことは，仮説クラス$h$を\n",
    "選ぶことと等価なので，$\\boldsymbol{w}$を**仮説ベクトル**と呼ぶ．\n",
    "\n",
    "単に，ベクトルの掛け算で分類器はできそう．問題はどうやってこの仮説ベクトルを決定するか？ですよね．\n"
   ]
  },
  {
   "cell_type": "markdown",
   "metadata": {},
   "source": [
    "# 最急降下法\n",
    "\n",
    "損失関数に\n",
    "$$\n",
    "L(w)=\\sum_{i=1}^m (a_i \\cdot w - b_i)^2\n",
    "$$\n",
    "を選ぶと\n",
    "$$\n",
    "\\begin{aligned}\n",
    "\\frac{\\partial L}{\\partial w_j} &= \n",
    "\\sum_{i=1}^m \\frac{\\partial}{\\partial w_j}(a_i \\cdot w -b_i)^2 \\\\\n",
    "&= \\sum_{i=1}^m 2(a_i \\cdot w -b_i) a_{ij}\n",
    "\\end{aligned}\n",
    "$$\n",
    "となる．\n",
    "ここで，$a_{ij}$は$a_i$の$j$番目の要素です．\n",
    "こいつを勾配として，local minimumを求める．\n",
    "\n",
    "このsumはiのmまでの集計と記述していますが，テキストではデータ数の和を意図しています．jはベクトル$w$の要素となります．"
   ]
  },
  {
   "cell_type": "markdown",
   "metadata": {},
   "source": [
    "# maple code\n",
    "\n",
    "* file:/Users/bob/Github/TeamNishitani/coding_the_matrix/codes/my_cancer_detector.mw"
   ]
  },
  {
   "cell_type": "markdown",
   "metadata": {},
   "source": [
    "## show_vector\n",
    "``` octave\n",
    "restart;\n",
    "with(LinearAlgebra):\n",
    "show_vector:=proc(v)\n",
    "  local params,i,j;s\n",
    "  params := [\"radius\", \"texture\", \"perimeter\",\"area\",\n",
    "    \"smoothness\",\"compactness\",\"concavity\",\n",
    "    \"concave points\",\"symmetry\",\"fractal dimension\"];\n",
    "  printf(\"     (params)     : \");\n",
    "  printf(\"     (mean)    (stderr)     (worst)\");\n",
    "  for j from 1 to 10 do\n",
    "    printf(\"\\n%17s :\",params[j]);\n",
    "    for i from 1 to 3 do \n",
    "      printf(\"%12.8f\", v[j*3+i-3]); \n",
    "    end;\n",
    "  end;\n",
    "end:\n",
    "```"
   ]
  },
  {
   "cell_type": "markdown",
   "metadata": {
    "heading_collapsed": true
   },
   "source": [
    "## データ読み込み\n",
    "\n",
    "``` octave\n",
    "A := ImportMatrix(\"./train_A.data\"):\n",
    "b := ImportVector(\"./train_b.data\"):\n",
    "```"
   ]
  },
  {
   "cell_type": "markdown",
   "metadata": {},
   "source": [
    "## wの初期化と最小化\n",
    "``` octave\n",
    "w := Vector(30,0.0001):\n",
    "res:=A.w-b;\n",
    "sigma:=2.0*10^(-9);\n",
    "for i from 1 to 3000 do\n",
    "  res:=A.w-b;\n",
    "  dLw:=sigma*(res.A);\n",
    "  w:=w-Transpose(dLw);\n",
    "end:\n",
    "```"
   ]
  },
  {
   "cell_type": "markdown",
   "metadata": {},
   "source": [
    "``` octave\n",
    "> show_vector(w);\n",
    "     (params)     :      (mean)    (stderr)     (worst)\n",
    "           radius :  0.00143827  0.00207065  0.00759660\n",
    "          texture :  0.00025364  0.00011450  0.00008829\n",
    "        perimeter :  0.00007122  0.00008563  0.00012780\n",
    "             area :  0.00011216  0.00011144  0.00035082\n",
    "       smoothness :  0.00007817 -0.00095866  0.00010154\n",
    "      compactness :  0.00009903  0.00010026  0.00010009\n",
    "        concavity :  0.00010414  0.00010054  0.00131594\n",
    "   concave points :  0.00222308  0.00631956 -0.00184204\n",
    "         symmetry :  0.00011618  0.00004085  0.00001965\n",
    "fractal dimension :  0.00007506  0.00012514  0.00010802\n",
    "```"
   ]
  },
  {
   "cell_type": "markdown",
   "metadata": {},
   "source": [
    "# 結果"
   ]
  },
  {
   "cell_type": "markdown",
   "metadata": {},
   "source": [
    "## 評価(1)\n",
    "\n",
    "``` octave\n",
    "show_correct_error:=proc(A, b, w)\n",
    "# Diagnosis (M = malignant, B = benign) M:悪性(-1)，B:良性(1)\n",
    "local correct, safe_error, critical_error,\n",
    "      predict, bias, n, i;\n",
    "correct,safe_error,critical_error:=0,0,0;\n",
    "predict := A.w:\n",
    "bias := 0.0;\n",
    "n := Dimension(b);\n",
    "for i from 1 to n do\n",
    "  if (predict[i]-bias)*b[i]>0 then\n",
    "    correct := correct+1;\n",
    "  elif (predict[i]-bias)<0 and b[i]>0 then\n",
    "    safe_error:= safe_error+1;\n",
    "  elif (predict[i]-bias)>0 and b[i]<0 then\n",
    "    critical_error:= critical_error+1;\n",
    "  end;\n",
    "end;\n",
    "printf(\"       correct: %4d/%4d\\n\",correct,n);\n",
    "printf(\"    safe error: %4d\\n\",safe_error);\n",
    "printf(\"critical error: %4d\",critical_error);\n",
    "end:\n",
    "```\n",
    "\n",
    "```octave\n",
    "> show_correct_error(A, b, w);\n",
    "       correct:  261/ 300\n",
    "    safe error:    0\n",
    "critical error:   39\n",
    "```"
   ]
  },
  {
   "cell_type": "markdown",
   "metadata": {},
   "source": [
    "## 評価(2) validate.data\n",
    "\n",
    "``` octave\n",
    "> A := ImportMatrix(\"./validate_A.data\"):\n",
    "> b := ImportVector(\"./validate_b.data\"):\n",
    "> show_correct_error(A, b, w);\n",
    "       correct:  247/ 260\n",
    "    safe error:    1\n",
    "critical error:   12\n",
    "```"
   ]
  },
  {
   "cell_type": "code",
   "execution_count": null,
   "metadata": {
    "collapsed": true
   },
   "outputs": [],
   "source": []
  }
 ],
 "metadata": {
  "kernelspec": {
   "display_name": "Ruby 2.2.2",
   "language": "ruby",
   "name": "ruby"
  },
  "language_info": {
   "file_extension": ".rb",
   "mimetype": "application/x-ruby",
   "name": "ruby",
   "version": "2.2.2"
  },
  "latex_envs": {
   "LaTeX_envs_menu_present": true,
   "autocomplete": true,
   "bibliofile": "biblio.bib",
   "cite_by": "apalike",
   "current_citInitial": 1,
   "eqLabelWithNumbers": true,
   "eqNumInitial": 1,
   "hotkeys": {
    "equation": "Ctrl-E",
    "itemize": "Ctrl-I"
   },
   "labels_anchors": false,
   "latex_user_defs": false,
   "report_style_numbering": false,
   "user_envs_cfg": false
  },
  "toc": {
   "colors": {
    "hover_highlight": "#DAA520",
    "navigate_num": "#000000",
    "navigate_text": "#333333",
    "running_highlight": "#FF0000",
    "selected_highlight": "#FFD700",
    "sidebar_border": "#EEEEEE",
    "wrapper_background": "#FFFFFF"
   },
   "moveMenuLeft": true,
   "nav_menu": {
    "height": "12px",
    "width": "252px"
   },
   "navigate_menu": true,
   "number_sections": true,
   "sideBar": true,
   "threshold": 4,
   "toc_cell": true,
   "toc_section_display": "block",
   "toc_window_display": true,
   "widenNotebook": false
  }
 },
 "nbformat": 4,
 "nbformat_minor": 2
}
