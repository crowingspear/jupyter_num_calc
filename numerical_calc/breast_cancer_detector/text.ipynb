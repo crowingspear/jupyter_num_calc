{
 "cells": [
  {
   "cell_type": "markdown",
   "metadata": {
    "toc": "true"
   },
   "source": [
    "# Table of Contents\n",
    " <p><div class=\"lev1 toc-item\"><a href=\"#Breast-Cancer-Wisconsin-(Diagnostic)-Data-Set\" data-toc-modified-id=\"Breast-Cancer-Wisconsin-(Diagnostic)-Data-Set-1\"><span class=\"toc-item-num\">1&nbsp;&nbsp;</span>Breast Cancer Wisconsin (Diagnostic) Data Set</a></div><div class=\"lev2 toc-item\"><a href=\"#Attribute-Information:\" data-toc-modified-id=\"Attribute-Information:-11\"><span class=\"toc-item-num\">1.1&nbsp;&nbsp;</span>Attribute Information:</a></div><div class=\"lev2 toc-item\"><a href=\"#分類器\" data-toc-modified-id=\"分類器-12\"><span class=\"toc-item-num\">1.2&nbsp;&nbsp;</span>分類器</a></div><div class=\"lev2 toc-item\"><a href=\"#仮説クラス\" data-toc-modified-id=\"仮説クラス-13\"><span class=\"toc-item-num\">1.3&nbsp;&nbsp;</span>仮説クラス</a></div><div class=\"lev1 toc-item\"><a href=\"#最急降下法\" data-toc-modified-id=\"最急降下法-2\"><span class=\"toc-item-num\">2&nbsp;&nbsp;</span>最急降下法</a></div><div class=\"lev1 toc-item\"><a href=\"#最適化条件の違い\" data-toc-modified-id=\"最適化条件の違い-3\"><span class=\"toc-item-num\">3&nbsp;&nbsp;</span>最適化条件の違い</a></div><div class=\"lev2 toc-item\"><a href=\"#L(w)の出力\" data-toc-modified-id=\"L(w)の出力-31\"><span class=\"toc-item-num\">3.1&nbsp;&nbsp;</span>L(w)の出力</a></div><div class=\"lev3 toc-item\"><a href=\"#step-function(-1,1)を使った場合\" data-toc-modified-id=\"step-function(-1,1)を使った場合-311\"><span class=\"toc-item-num\">3.1.1&nbsp;&nbsp;</span>step function(-1,1)を使った場合</a></div><div class=\"lev3 toc-item\"><a href=\"#そのまま使った場合\" data-toc-modified-id=\"そのまま使った場合-312\"><span class=\"toc-item-num\">3.1.2&nbsp;&nbsp;</span>そのまま使った場合</a></div><div class=\"lev2 toc-item\"><a href=\"#初期値による違い\" data-toc-modified-id=\"初期値による違い-32\"><span class=\"toc-item-num\">3.2&nbsp;&nbsp;</span>初期値による違い</a></div><div class=\"lev3 toc-item\"><a href=\"#0.0--&gt;-1.0\" data-toc-modified-id=\"0.0-->-1.0-321\"><span class=\"toc-item-num\">3.2.1&nbsp;&nbsp;</span>0.0 -&gt; 1.0</a></div><div class=\"lev3 toc-item\"><a href=\"#dataの平均の逆数\" data-toc-modified-id=\"dataの平均の逆数-322\"><span class=\"toc-item-num\">3.2.2&nbsp;&nbsp;</span>dataの平均の逆数</a></div><div class=\"lev3 toc-item\"><a href=\"#直交ベクトル\" data-toc-modified-id=\"直交ベクトル-323\"><span class=\"toc-item-num\">3.2.3&nbsp;&nbsp;</span>直交ベクトル</a></div>"
   ]
  },
  {
   "cell_type": "markdown",
   "metadata": {},
   "source": [
    "# Breast Cancer Wisconsin (Diagnostic) Data Set\n",
    "\n",
    "<https://archive.ics.uci.edu/ml/datasets/breast+cancer+wisconsin+(diagnostic)>\n",
    "\n",
    "## Attribute Information:\n",
    "\n",
    "1. ID number \n",
    "1. Diagnosis (M = malignant, B = benign) M:悪性，B:良性\n",
    "1. 3-32\n",
    "\n",
    "Ten real-valued features are computed for each cell nucleus: \n",
    "\n",
    "* 半径radius (mean of distances from center to points on the perimeter) \n",
    "* テクスチャtexture (standard deviation of gray-scale values) \n",
    "* 境界の長さperimeter \n",
    "* 面積area \n",
    "* なめらかさsmoothness (local variation in radius lengths) \n",
    "* コンパクトさcompactness (perimeter^2 / area - 1.0) \n",
    "* くぼみ度合いconcavity (severity of concave portions of the contour) \n",
    "* くぼみの数concave points (number of concave portions of the contour) \n",
    "* 対称性symmetry \n",
    "* フラクタル次元fractal dimension (\"coastline approximation\" - 1)\n",
    "\n",
    "http://people.idsia.ch/~juergen/deeplearningwinsMICCAIgrandchallenge.html\n",
    "\n",
    "## 分類器\n",
    "与えられた特徴ベクトル$\\boldsymbol{a}$に対し，\n",
    "細胞組織が悪性か良性かを分類する関数$C(\\boldsymbol{y})$を選び出すプログラムを作成しよう．"
   ]
  },
  {
   "cell_type": "markdown",
   "metadata": {},
   "source": [
    "## 仮説クラス\n",
    "分類器は可能な分類器の集合(**仮説クラス**)から選ばれる．この場合，仮説クラスとは特徴ベクトルの空間$\\mathbb{R}^D$から$\\mathbb{R}$への線形関数$h(\\cdot)$である．すると分類器は次のような関数として定義される．\n",
    "\n",
    "$$\n",
    "C(\\boldsymbol{y}) = \n",
    "\\left\\{ \\begin{array}{ccc}\n",
    "+1 &  {\\rm when} & h(\\boldsymbol{y})\\geq 0\\\\\n",
    "-1 &  {\\rm when} & h(\\boldsymbol{y})<0\n",
    "\\end{array} \\right.\n",
    "$$\n",
    "\n",
    "各線形関数$h:\\mathbb{R}^D \\rightarrow \\mathbb{R}$に対して，\n",
    "次のような$D$ベクトル$\\boldsymbol{w}$が存在する．\n",
    "$$\n",
    "h(\\boldsymbol{y}) = \\boldsymbol{w}\\cdot \\boldsymbol{y}\n",
    "$$\n",
    "したがって，そのような線形関数を選ぶことは，結局$D$ベクトル$\\boldsymbol{w}$を\n",
    "選ぶことに等しい．特に，$\\boldsymbol{w}$を選ぶことは，仮説クラス$h$を\n",
    "選ぶことと等価なので，$\\boldsymbol{w}$を**仮説ベクトル**と呼ぶ．\n",
    "\n",
    "単に，ベクトルの掛け算で分類器はできそう．問題はどうやってこの仮説ベクトルを決定するか？ですよね．\n"
   ]
  },
  {
   "cell_type": "markdown",
   "metadata": {},
   "source": [
    "# 最急降下法\n",
    "\n",
    "損失関数に\n",
    "$$\n",
    "L(x)=\\sum_{i=1}^m (a_i \\cdot w - b_i)^2\n",
    "$$\n",
    "を選ぶと\n",
    "$$\n",
    "\\begin{aligned}\n",
    "\\frac{\\partial L}{\\partial w_j} &= \n",
    "\\sum_{i=1}^m \\frac{\\partial}{\\partial w_j}(a_i \\cdot w -b_i)^2 \\\\\n",
    "&= \\sum_{i=1}^m 2(a_i \\cdot w -b_i) a_{ij}\n",
    "\\end{aligned}\n",
    "$$\n",
    "となる．\n",
    "ここで，$a_{ij}$は$a_i$の$j$番目の要素です．\n",
    "こいつを勾配として，local minimumを求める．\n",
    "\n",
    "このsumはiのmまでの集計と記述していますが，テキストではデータ数の和を意図しています．jはベクトル$w$の要素となります．"
   ]
  },
  {
   "cell_type": "code",
   "execution_count": null,
   "metadata": {
    "collapsed": true
   },
   "outputs": [],
   "source": []
  }
 ],
 "metadata": {
  "kernelspec": {
   "display_name": "Ruby 2.2.2",
   "language": "ruby",
   "name": "ruby"
  },
  "language_info": {
   "file_extension": ".rb",
   "mimetype": "application/x-ruby",
   "name": "ruby",
   "version": "2.2.2"
  },
  "latex_envs": {
   "LaTeX_envs_menu_present": true,
   "autocomplete": true,
   "bibliofile": "biblio.bib",
   "cite_by": "apalike",
   "current_citInitial": 1,
   "eqLabelWithNumbers": true,
   "eqNumInitial": 1,
   "hotkeys": {
    "equation": "Ctrl-E",
    "itemize": "Ctrl-I"
   },
   "labels_anchors": false,
   "latex_user_defs": false,
   "report_style_numbering": false,
   "user_envs_cfg": false
  },
  "toc": {
   "colors": {
    "hover_highlight": "#DAA520",
    "navigate_num": "#000000",
    "navigate_text": "#333333",
    "running_highlight": "#FF0000",
    "selected_highlight": "#FFD700",
    "sidebar_border": "#EEEEEE",
    "wrapper_background": "#FFFFFF"
   },
   "moveMenuLeft": true,
   "nav_menu": {
    "height": "12px",
    "width": "252px"
   },
   "navigate_menu": true,
   "number_sections": true,
   "sideBar": true,
   "threshold": 4,
   "toc_cell": true,
   "toc_section_display": "block",
   "toc_window_display": true,
   "widenNotebook": false
  }
 },
 "nbformat": 4,
 "nbformat_minor": 2
}
