{
 "cells": [
  {
   "cell_type": "markdown",
   "metadata": {
    "toc": "true"
   },
   "source": [
    "# Table of Contents\n",
    " <p><div class=\"lev1 toc-item\"><a href=\"#Breast-Cancer-Wisconsin-(Diagnostic)-Data-Set\" data-toc-modified-id=\"Breast-Cancer-Wisconsin-(Diagnostic)-Data-Set-1\"><span class=\"toc-item-num\">1&nbsp;&nbsp;</span>Breast Cancer Wisconsin (Diagnostic) Data Set</a></div><div class=\"lev2 toc-item\"><a href=\"#Attribute-Information:\" data-toc-modified-id=\"Attribute-Information:-11\"><span class=\"toc-item-num\">1.1&nbsp;&nbsp;</span>Attribute Information:</a></div><div class=\"lev2 toc-item\"><a href=\"#分類器\" data-toc-modified-id=\"分類器-12\"><span class=\"toc-item-num\">1.2&nbsp;&nbsp;</span>分類器</a></div><div class=\"lev2 toc-item\"><a href=\"#仮説クラス\" data-toc-modified-id=\"仮説クラス-13\"><span class=\"toc-item-num\">1.3&nbsp;&nbsp;</span>仮説クラス</a></div><div class=\"lev1 toc-item\"><a href=\"#最急降下法\" data-toc-modified-id=\"最急降下法-2\"><span class=\"toc-item-num\">2&nbsp;&nbsp;</span>最急降下法</a></div><div class=\"lev1 toc-item\"><a href=\"#code(ruby)\" data-toc-modified-id=\"code(ruby)-3\"><span class=\"toc-item-num\">3&nbsp;&nbsp;</span>code(ruby)</a></div><div class=\"lev3 toc-item\"><a href=\"#直交ベクトル\" data-toc-modified-id=\"直交ベクトル-301\"><span class=\"toc-item-num\">3.0.1&nbsp;&nbsp;</span>直交ベクトル</a></div>"
   ]
  },
  {
   "cell_type": "markdown",
   "metadata": {},
   "source": [
    "# Breast Cancer Wisconsin (Diagnostic) Data Set\n",
    "\n",
    "<https://archive.ics.uci.edu/ml/datasets/breast+cancer+wisconsin+(diagnostic)>\n",
    "\n",
    "## Attribute Information:\n",
    "\n",
    "1. ID number \n",
    "1. Diagnosis (M = malignant, B = benign) M:悪性，B:良性\n",
    "1. 3-32\n",
    "\n",
    "Ten real-valued features are computed for each cell nucleus: \n",
    "\n",
    "* 半径radius (mean of distances from center to points on the perimeter) \n",
    "* テクスチャtexture (standard deviation of gray-scale values) \n",
    "* 境界の長さperimeter \n",
    "* 面積area \n",
    "* なめらかさsmoothness (local variation in radius lengths) \n",
    "* コンパクトさcompactness (perimeter^2 / area - 1.0) \n",
    "* くぼみ度合いconcavity (severity of concave portions of the contour) \n",
    "* くぼみの数concave points (number of concave portions of the contour) \n",
    "* 対称性symmetry \n",
    "* フラクタル次元fractal dimension (\"coastline approximation\" - 1)\n",
    "\n",
    "http://people.idsia.ch/~juergen/deeplearningwinsMICCAIgrandchallenge.html\n",
    "\n",
    "## 分類器\n",
    "与えられた特徴ベクトル$\\boldsymbol{a}$に対し，\n",
    "細胞組織が悪性か良性かを分類する関数$C(\\boldsymbol{y})$を選び出すプログラムを作成しよう．"
   ]
  },
  {
   "cell_type": "markdown",
   "metadata": {},
   "source": [
    "## 仮説クラス\n",
    "分類器は可能な分類器の集合(**仮説クラス**)から選ばれる．この場合，仮説クラスとは特徴ベクトルの空間$\\mathbb{R}^D$から$\\mathbb{R}$への線形関数$h(\\cdot)$である．すると分類器は次のような関数として定義される．\n",
    "\n",
    "$$\n",
    "C(\\boldsymbol{y}) = \n",
    "\\left\\{ \\begin{array}{ccc}\n",
    "+1 &  {\\rm when} & h(\\boldsymbol{y})\\geq 0\\\\\n",
    "-1 &  {\\rm when} & h(\\boldsymbol{y})<0\n",
    "\\end{array} \\right.\n",
    "$$\n",
    "\n",
    "各線形関数$h:\\mathbb{R}^D \\rightarrow \\mathbb{R}$に対して，\n",
    "次のような$D$ベクトル$\\boldsymbol{w}$が存在する．\n",
    "$$\n",
    "h(\\boldsymbol{y}) = \\boldsymbol{w}\\cdot \\boldsymbol{y}\n",
    "$$\n",
    "したがって，そのような線形関数を選ぶことは，結局$D$ベクトル$\\boldsymbol{w}$を\n",
    "選ぶことに等しい．特に，$\\boldsymbol{w}$を選ぶことは，仮説クラス$h$を\n",
    "選ぶことと等価なので，$\\boldsymbol{w}$を**仮説ベクトル**と呼ぶ．\n",
    "\n",
    "単に，ベクトルの掛け算で分類器はできそう．問題はどうやってこの仮説ベクトルを決定するか？ですよね．\n"
   ]
  },
  {
   "cell_type": "markdown",
   "metadata": {},
   "source": [
    "# 最急降下法\n",
    "\n",
    "損失関数に\n",
    "$$\n",
    "L(w)=\\sum_{i=1}^m (a_i \\cdot w - b_i)^2\n",
    "$$\n",
    "を選ぶと\n",
    "$$\n",
    "\\begin{aligned}\n",
    "\\frac{\\partial L}{\\partial w_j} &= \n",
    "\\sum_{i=1}^m \\frac{\\partial}{\\partial w_j}(a_i \\cdot w -b_i)^2 \\\\\n",
    "&= \\sum_{i=1}^m 2(a_i \\cdot w -b_i) a_{ij}\n",
    "\\end{aligned}\n",
    "$$\n",
    "となる．\n",
    "ここで，$a_{ij}$は$a_i$の$j$番目の要素です．\n",
    "こいつを勾配として，local minimumを求める．\n",
    "\n",
    "このsumはiのmまでの集計と記述していますが，テキストではデータ数の和を意図しています．jはベクトル$w$の要素となります．"
   ]
  },
  {
   "cell_type": "markdown",
   "metadata": {},
   "source": [
    "# code(ruby)\n",
    "\n",
    "* file:/Users/bob/Github/TeamNishitani/coding_the_matrix/codes/my_cancer_detector.rb\n"
   ]
  },
  {
   "cell_type": "code",
   "execution_count": 7,
   "metadata": {},
   "outputs": [
    {
     "name": "stdout",
     "output_type": "stream",
     "text": [
      "300\n",
      "30\n"
     ]
    },
    {
     "data": {
      "text/plain": [
       "30"
      ]
     },
     "execution_count": 7,
     "metadata": {},
     "output_type": "execute_result"
    }
   ],
   "source": [
    "require 'narray'\n",
    "\n",
    "# initial set ups\n",
    "lines_A = File.readlines('./codes/train_A.data')\n",
    "lines_b = File.readlines('./codes/train_b.data')\n",
    "\n",
    "p n = lines_A.size\n",
    "p m = lines_A[0].split(\"\\t\").size\n",
    "matrix_A = NMatrix.sfloat(m,n)\n",
    "vector_b = NVector.sfloat(n)\n",
    "vector_w = NVector.sfloat(m)\n",
    "vector_dLw = NVector.sfloat(m)\n",
    "\n",
    "n.times do |i|\n",
    "  lines_A[i].split(\"\\t\").each_with_index do |v,j|\n",
    "    matrix_A[j,i] = v.to_f\n",
    "  end\n",
    "  vector_b[i] = lines_b[i].to_f\n",
    "end\n",
    "\n",
    "m.times{|i| vector_w[i]=0.0001}"
   ]
  },
  {
   "cell_type": "code",
   "execution_count": 2,
   "metadata": {},
   "outputs": [
    {
     "data": {
      "text/plain": [
       ":print_w"
      ]
     },
     "execution_count": 2,
     "metadata": {},
     "output_type": "execute_result"
    }
   ],
   "source": [
    "def print_w(vector_w)\n",
    "  params = [\"radius\", \"texture\",\"perimeter\",\"area\",\n",
    "    \"smoothness\",\"compactness\",\"concavity\",\"concave points\",\n",
    "    \"symmetry\",\"fractal dimension\"];\n",
    "  print(\"    (params)      :\")\n",
    "  print(\"    (mean)    (stderr)     (worst)\")\n",
    "  params.each_with_index do |param, i|\n",
    "    printf(\"\\n%17s :\",param)\n",
    "    3.times{|j| printf(\"%12.8f\", vector_w[i*3+j])}\n",
    "  end\n",
    "end"
   ]
  },
  {
   "cell_type": "code",
   "execution_count": 3,
   "metadata": {},
   "outputs": [
    {
     "name": "stdout",
     "output_type": "stream",
     "text": [
      "    (params)      :    (mean)    (stderr)     (worst)\n",
      "           radius :  0.00052012  0.00082878  0.00260480\n",
      "          texture :  0.00165763  0.00010463  0.00010006\n",
      "        perimeter :  0.00009600  0.00009791  0.00010882\n",
      "             area :  0.00010355  0.00010234  0.00016925\n",
      "       smoothness :  0.00009954 -0.00079295  0.00010042\n",
      "      compactness :  0.00010042  0.00010070  0.00010026\n",
      "        concavity :  0.00010118  0.00010019  0.00050416\n",
      "   concave points :  0.00100466  0.00244736 -0.00193280\n",
      "         symmetry :  0.00010583  0.00009609  0.00009172\n",
      "fractal dimension :  0.00009761  0.00011135  0.00010346"
     ]
    },
    {
     "data": {
      "text/plain": [
       "[\"radius\", \"texture\", \"perimeter\", \"area\", \"smoothness\", \"compactness\", \"concavity\", \"concave points\", \"symmetry\", \"fractal dimension\"]"
      ]
     },
     "execution_count": 3,
     "metadata": {},
     "output_type": "execute_result"
    }
   ],
   "source": [
    "loop, sigma = 300, 3.0*10**(-9)\n",
    "loop.times do |l|\n",
    "  vector_dLw = matrix_A*vector_w - vector_b\n",
    "  vector_w = vector_w - vector_dLw*matrix_A*sigma\n",
    "end\n",
    "\n",
    "print_w(vector_w)"
   ]
  },
  {
   "cell_type": "code",
   "execution_count": 4,
   "metadata": {},
   "outputs": [
    {
     "data": {
      "text/plain": [
       ":show_correct_error"
      ]
     },
     "execution_count": 4,
     "metadata": {},
     "output_type": "execute_result"
    }
   ],
   "source": [
    "def show_correct_error(mA, vb, vw)\n",
    "  # Diagnosis (M = malignant, B = benign) M:悪性(-1)，B:良性(1)\n",
    "  correct,safe_error,critical_error=0,0,0\n",
    "  predict = mA*vw\n",
    "  p n = vb.size\n",
    "  n.times do |i|\n",
    "    if predict[i]*vb[i]>0 then\n",
    "      correct += 1\n",
    "    elsif (predict[i]<0 && vb[i]>0) then\n",
    "      safe_error += 1\n",
    "    elsif (predict[i]>0 && vb[i]<0) then\n",
    "      critical_error += 1\n",
    "    end\n",
    "  end\n",
    "  printf(\"       correct: %4d/%4d\\n\",correct,n);\n",
    "  printf(\"    safe error: %4d\\n\",safe_error);\n",
    "  printf(\"critical error: %4d\",critical_error);\n",
    "end"
   ]
  },
  {
   "cell_type": "code",
   "execution_count": 5,
   "metadata": {},
   "outputs": [
    {
     "name": "stdout",
     "output_type": "stream",
     "text": [
      "300\n",
      "       correct:  274/ 300\n",
      "    safe error:    5\n",
      "critical error:   21"
     ]
    }
   ],
   "source": [
    "show_correct_error(matrix_A, vector_b, vector_w)"
   ]
  },
  {
   "cell_type": "code",
   "execution_count": 6,
   "metadata": {},
   "outputs": [
    {
     "name": "stdout",
     "output_type": "stream",
     "text": [
      "260\n",
      "30\n",
      "260\n",
      "       correct:  240/ 260\n",
      "    safe error:    9\n",
      "critical error:   11"
     ]
    }
   ],
   "source": [
    "require 'narray'\n",
    "\n",
    "# initial set ups\n",
    "lines_A = File.readlines('./codes/validate_A.data')\n",
    "lines_b = File.readlines('./codes/validate_b.data')\n",
    "\n",
    "p n = lines_A.size\n",
    "p m = lines_A[0].split(\"\\t\").size\n",
    "\n",
    "matrix_A = NMatrix.sfloat(m,n)\n",
    "vector_b = NVector.sfloat(n)\n",
    "\n",
    "n.times do |i|\n",
    "  lines_A[i].split(\"\\t\").each_with_index do |v,j|\n",
    "    matrix_A[j,i] = v.to_f\n",
    "  end\n",
    "  vector_b[i] = lines_b[i].to_f\n",
    "end\n",
    "\n",
    "show_correct_error(matrix_A, vector_b, vector_w)"
   ]
  },
  {
   "cell_type": "markdown",
   "metadata": {
    "collapsed": true
   },
   "source": [
    "### 直交ベクトル\n",
    "でも0に近い値から始めたほうがいいか．．．\n",
    "つまり直交ベクトルからか．．．なんかreasonable...\n"
   ]
  },
  {
   "cell_type": "code",
   "execution_count": 8,
   "metadata": {},
   "outputs": [
    {
     "ename": "LoadError",
     "evalue": "cannot load such file -- lapacke",
     "output_type": "error",
     "traceback": [
      "\u001b[31mLoadError\u001b[0m: cannot load such file -- lapacke",
      "\u001b[37m/usr/local/lib/ruby/site_ruby/2.2.0/rubygems/core_ext/kernel_require.rb:59:in `require'\u001b[0m",
      "\u001b[37m/usr/local/lib/ruby/site_ruby/2.2.0/rubygems/core_ext/kernel_require.rb:59:in `require'\u001b[0m",
      "\u001b[37m(pry):100:in `<main>'\u001b[0m",
      "\u001b[37m/usr/local/lib/ruby/gems/2.2.0/gems/pry-0.11.2/lib/pry/pry_instance.rb:355:in `eval'\u001b[0m",
      "\u001b[37m/usr/local/lib/ruby/gems/2.2.0/gems/pry-0.11.2/lib/pry/pry_instance.rb:355:in `evaluate_ruby'\u001b[0m",
      "\u001b[37m/usr/local/lib/ruby/gems/2.2.0/gems/pry-0.11.2/lib/pry/pry_instance.rb:323:in `handle_line'\u001b[0m",
      "\u001b[37m/usr/local/lib/ruby/gems/2.2.0/gems/pry-0.11.2/lib/pry/pry_instance.rb:243:in `block (2 levels) in eval'\u001b[0m",
      "\u001b[37m/usr/local/lib/ruby/gems/2.2.0/gems/pry-0.11.2/lib/pry/pry_instance.rb:242:in `catch'\u001b[0m",
      "\u001b[37m/usr/local/lib/ruby/gems/2.2.0/gems/pry-0.11.2/lib/pry/pry_instance.rb:242:in `block in eval'\u001b[0m",
      "\u001b[37m/usr/local/lib/ruby/gems/2.2.0/gems/pry-0.11.2/lib/pry/pry_instance.rb:241:in `catch'\u001b[0m",
      "\u001b[37m/usr/local/lib/ruby/gems/2.2.0/gems/pry-0.11.2/lib/pry/pry_instance.rb:241:in `eval'\u001b[0m",
      "\u001b[37m/usr/local/lib/ruby/gems/2.2.0/gems/iruby-0.3/lib/iruby/backend.rb:66:in `eval'\u001b[0m",
      "\u001b[37m/usr/local/lib/ruby/gems/2.2.0/gems/iruby-0.3/lib/iruby/backend.rb:12:in `eval'\u001b[0m",
      "\u001b[37m/usr/local/lib/ruby/gems/2.2.0/gems/iruby-0.3/lib/iruby/kernel.rb:87:in `execute_request'\u001b[0m",
      "\u001b[37m/usr/local/lib/ruby/gems/2.2.0/gems/iruby-0.3/lib/iruby/kernel.rb:47:in `dispatch'\u001b[0m",
      "\u001b[37m/usr/local/lib/ruby/gems/2.2.0/gems/iruby-0.3/lib/iruby/kernel.rb:37:in `run'\u001b[0m",
      "\u001b[37m/usr/local/lib/ruby/gems/2.2.0/gems/iruby-0.3/lib/iruby/command.rb:70:in `run_kernel'\u001b[0m",
      "\u001b[37m/usr/local/lib/ruby/gems/2.2.0/gems/iruby-0.3/lib/iruby/command.rb:34:in `run'\u001b[0m",
      "\u001b[37m/usr/local/lib/ruby/gems/2.2.0/gems/iruby-0.3/bin/iruby:5:in `<top (required)>'\u001b[0m",
      "\u001b[37m/usr/local/bin/iruby:23:in `load'\u001b[0m",
      "\u001b[37m/usr/local/bin/iruby:23:in `<main>'\u001b[0m"
     ]
    }
   ],
   "source": [
    "require 'lapacke'"
   ]
  },
  {
   "cell_type": "code",
   "execution_count": null,
   "metadata": {
    "collapsed": true
   },
   "outputs": [],
   "source": []
  }
 ],
 "metadata": {
  "kernelspec": {
   "display_name": "Ruby 2.2.2",
   "language": "ruby",
   "name": "ruby"
  },
  "language_info": {
   "file_extension": ".rb",
   "mimetype": "application/x-ruby",
   "name": "ruby",
   "version": "2.2.2"
  },
  "latex_envs": {
   "LaTeX_envs_menu_present": true,
   "autocomplete": true,
   "bibliofile": "biblio.bib",
   "cite_by": "apalike",
   "current_citInitial": 1,
   "eqLabelWithNumbers": true,
   "eqNumInitial": 1,
   "hotkeys": {
    "equation": "Ctrl-E",
    "itemize": "Ctrl-I"
   },
   "labels_anchors": false,
   "latex_user_defs": false,
   "report_style_numbering": false,
   "user_envs_cfg": false
  },
  "toc": {
   "colors": {
    "hover_highlight": "#DAA520",
    "navigate_num": "#000000",
    "navigate_text": "#333333",
    "running_highlight": "#FF0000",
    "selected_highlight": "#FFD700",
    "sidebar_border": "#EEEEEE",
    "wrapper_background": "#FFFFFF"
   },
   "moveMenuLeft": true,
   "nav_menu": {
    "height": "12px",
    "width": "252px"
   },
   "navigate_menu": true,
   "number_sections": true,
   "sideBar": true,
   "threshold": 4,
   "toc_cell": true,
   "toc_section_display": "block",
   "toc_window_display": true,
   "widenNotebook": false
  }
 },
 "nbformat": 4,
 "nbformat_minor": 2
}
