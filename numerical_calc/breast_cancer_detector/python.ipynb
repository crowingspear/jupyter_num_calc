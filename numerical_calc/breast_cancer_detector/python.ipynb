{
 "cells": [
  {
   "cell_type": "markdown",
   "metadata": {
    "toc": "true"
   },
   "source": [
    "# Table of Contents\n",
    " <p><div class=\"lev1 toc-item\"><a href=\"#Breast-Cancer-Wisconsin-(Diagnostic)-Data-Set\" data-toc-modified-id=\"Breast-Cancer-Wisconsin-(Diagnostic)-Data-Set-1\"><span class=\"toc-item-num\">1&nbsp;&nbsp;</span>Breast Cancer Wisconsin (Diagnostic) Data Set</a></div><div class=\"lev2 toc-item\"><a href=\"#Attribute-Information:\" data-toc-modified-id=\"Attribute-Information:-11\"><span class=\"toc-item-num\">1.1&nbsp;&nbsp;</span>Attribute Information:</a></div><div class=\"lev2 toc-item\"><a href=\"#分類器\" data-toc-modified-id=\"分類器-12\"><span class=\"toc-item-num\">1.2&nbsp;&nbsp;</span>分類器</a></div><div class=\"lev2 toc-item\"><a href=\"#仮説クラス\" data-toc-modified-id=\"仮説クラス-13\"><span class=\"toc-item-num\">1.3&nbsp;&nbsp;</span>仮説クラス</a></div><div class=\"lev1 toc-item\"><a href=\"#最急降下法\" data-toc-modified-id=\"最急降下法-2\"><span class=\"toc-item-num\">2&nbsp;&nbsp;</span>最急降下法</a></div><div class=\"lev1 toc-item\"><a href=\"#code(python)\" data-toc-modified-id=\"code(python)-3\"><span class=\"toc-item-num\">3&nbsp;&nbsp;</span>code(python)</a></div><div class=\"lev2 toc-item\"><a href=\"#wをprint\" data-toc-modified-id=\"wをprint-31\"><span class=\"toc-item-num\">3.1&nbsp;&nbsp;</span>wをprint</a></div><div class=\"lev1 toc-item\"><a href=\"#結果\" data-toc-modified-id=\"結果-4\"><span class=\"toc-item-num\">4&nbsp;&nbsp;</span>結果</a></div>"
   ]
  },
  {
   "cell_type": "markdown",
   "metadata": {},
   "source": [
    "# Breast Cancer Wisconsin (Diagnostic) Data Set"
   ]
  },
  {
   "cell_type": "markdown",
   "metadata": {},
   "source": [
    "<https://archive.ics.uci.edu/ml/datasets/breast+cancer+wisconsin+(diagnostic)>\n",
    "\n",
    "## Attribute Information:\n",
    "\n",
    "1. ID number \n",
    "1. Diagnosis (M = malignant, B = benign) M:悪性，B:良性\n",
    "1. 3-32\n",
    "\n",
    "Ten real-valued features are computed for each cell nucleus: \n",
    "\n",
    "* 半径radius (mean of distances from center to points on the perimeter) \n",
    "* テクスチャtexture (standard deviation of gray-scale values) \n",
    "* 境界の長さperimeter \n",
    "* 面積area \n",
    "* なめらかさsmoothness (local variation in radius lengths) \n",
    "* コンパクトさcompactness (perimeter^2 / area - 1.0) \n",
    "* くぼみ度合いconcavity (severity of concave portions of the contour) \n",
    "* くぼみの数concave points (number of concave portions of the contour) \n",
    "* 対称性symmetry \n",
    "* フラクタル次元fractal dimension (\"coastline approximation\" - 1)\n",
    "\n",
    "http://people.idsia.ch/~juergen/deeplearningwinsMICCAIgrandchallenge.html\n",
    "\n",
    "## 分類器\n",
    "与えられた特徴ベクトル$\\boldsymbol{a}$に対し，\n",
    "細胞組織が悪性か良性かを分類する関数$C(\\boldsymbol{y})$を選び出すプログラムを作成しよう．"
   ]
  },
  {
   "cell_type": "markdown",
   "metadata": {},
   "source": [
    "## 仮説クラス\n",
    "分類器は可能な分類器の集合(**仮説クラス**)から選ばれる．この場合，仮説クラスとは特徴ベクトルの空間$\\mathbb{R}^D$から$\\mathbb{R}$への線形関数$h(\\cdot)$である．すると分類器は次のような関数として定義される．\n",
    "\n",
    "$$\n",
    "C(\\boldsymbol{y}) = \n",
    "\\left\\{ \\begin{array}{ccc}\n",
    "+1 &  {\\rm when} & h(\\boldsymbol{y})\\geq 0\\\\\n",
    "-1 &  {\\rm when} & h(\\boldsymbol{y})<0\n",
    "\\end{array} \\right.\n",
    "$$\n",
    "\n",
    "各線形関数$h:\\mathbb{R}^D \\rightarrow \\mathbb{R}$に対して，\n",
    "次のような$D$ベクトル$\\boldsymbol{w}$が存在する．\n",
    "$$\n",
    "h(\\boldsymbol{y}) = \\boldsymbol{w}\\cdot \\boldsymbol{y}\n",
    "$$\n",
    "したがって，そのような線形関数を選ぶことは，結局$D$ベクトル$\\boldsymbol{w}$を\n",
    "選ぶことに等しい．特に，$\\boldsymbol{w}$を選ぶことは，仮説クラス$h$を\n",
    "選ぶことと等価なので，$\\boldsymbol{w}$を**仮説ベクトル**と呼ぶ．\n",
    "\n",
    "単に，ベクトルの掛け算で分類器はできそう．問題はどうやってこの仮説ベクトルを決定するか？ですよね．\n"
   ]
  },
  {
   "cell_type": "markdown",
   "metadata": {},
   "source": [
    "# 最急降下法\n",
    "\n",
    "損失関数に\n",
    "$$\n",
    "L(w)=\\sum_{i=1}^m (a_i \\cdot w - b_i)^2\n",
    "$$\n",
    "を選ぶと\n",
    "$$\n",
    "\\begin{aligned}\n",
    "\\frac{\\partial L}{\\partial w_j} &= \n",
    "\\sum_{i=1}^m \\frac{\\partial}{\\partial w_j}(a_i \\cdot w -b_i)^2 \\\\\n",
    "&= \\sum_{i=1}^m 2(a_i \\cdot w -b_i) a_{ij}\n",
    "\\end{aligned}\n",
    "$$\n",
    "となる．\n",
    "ここで，$a_{ij}$は$a_i$の$j$番目の要素です．\n",
    "こいつを勾配として，local minimumを求める．\n",
    "\n",
    "このsumはiのmまでの集計と記述していますが，テキストではデータ数の和を意図しています．jはベクトル$w$の要素となります．"
   ]
  },
  {
   "cell_type": "markdown",
   "metadata": {},
   "source": [
    "# code(python)\n",
    "\n",
    "* file:/Users/bob/Github/TeamNishitani/coding_the_matrix/codes/my_cancer_detector.py\n"
   ]
  },
  {
   "cell_type": "markdown",
   "metadata": {},
   "source": [
    "## wをprint"
   ]
  },
  {
   "cell_type": "code",
   "execution_count": 1,
   "metadata": {
    "collapsed": true
   },
   "outputs": [],
   "source": [
    "def print_w(w):\n",
    "  params = [\"radius\", \"texture\",\"perimeter\",\"area\",\n",
    "    \"smoothness\",\"compactness\",\"concavity\",\"concave points\",\n",
    "    \"symmetry\",\"fractal dimension\"];\n",
    "  print(\"    (params)      :    (mean)    (stderr)     (worst)\")\n",
    "  for i, param in enumerate(params):\n",
    "    print(\"%18s:\" %param, end=\"\")\n",
    "    for j in range(3):\n",
    "        print(\"%12.8f\" % w[i*3+j], end=\"\")\n",
    "    print()"
   ]
  },
  {
   "cell_type": "code",
   "execution_count": 2,
   "metadata": {
    "collapsed": true
   },
   "outputs": [],
   "source": [
    "import numpy as np\n",
    "tmp = np.fromfile('./codes/train_A.data', np.float64, -1, \" \")\n",
    "A = tmp.reshape(300,30)\n",
    "tmp = np.fromfile('./codes/train_b.data', np.float64, -1, \" \")\n",
    "b = tmp.reshape(300,1)\n",
    "w = np.zeros(30).reshape(30,1)\n",
    "for i in range(30):\n",
    "    w[i] = 0"
   ]
  },
  {
   "cell_type": "code",
   "execution_count": 3,
   "metadata": {},
   "outputs": [
    {
     "name": "stdout",
     "output_type": "stream",
     "text": [
      "    (params)      :    (mean)    (stderr)     (worst)\n",
      "            radius:  0.00042700  0.00074182  0.00254888\n",
      "           texture:  0.00168795  0.00000471  0.00000013\n",
      "         perimeter: -0.00000397 -0.00000208  0.00000895\n",
      "              area:  0.00000360  0.00000257  0.00007032\n",
      "        smoothness:  0.00000114 -0.00088178  0.00000043\n",
      "       compactness:  0.00000044  0.00000072  0.00000027\n",
      "         concavity:  0.00000120  0.00000019  0.00041150\n",
      "    concave points:  0.00092197  0.00239514 -0.00193279\n",
      "          symmetry:  0.00000593 -0.00000375 -0.00000815\n",
      " fractal dimension: -0.00000234  0.00001156  0.00000352\n"
     ]
    }
   ],
   "source": [
    "loop, sigma = 300, 3.0*10**(-9)\n",
    "for i in range(loop):\n",
    "  dLw = A.dot(w)-b\n",
    "  w = w - (dLw.transpose().dot(A)).transpose()*sigma\n",
    "\n",
    "print_w(w)"
   ]
  },
  {
   "cell_type": "markdown",
   "metadata": {},
   "source": [
    "# 結果"
   ]
  },
  {
   "cell_type": "code",
   "execution_count": 4,
   "metadata": {
    "collapsed": true
   },
   "outputs": [],
   "source": [
    "def show_correct_error(mA, vb, vw):\n",
    "    # Diagnosis (M = malignant, B = benign) M:悪性(-1)，B:良性(1)\n",
    "    correct,safe_error,critical_error=0,0,0\n",
    "    predict = mA.dot(vw)\n",
    "    n = vb.size\n",
    "    for i in range(n):\n",
    "        if predict[i]*vb[i]>0:\n",
    "            correct += 1\n",
    "        elif (predict[i]<0 and vb[i]>0):\n",
    "            safe_error += 1\n",
    "        elif (predict[i]>0 and vb[i]<0):\n",
    "            critical_error += 1\n",
    "    print(\"       correct: %4d/%4d\" % (correct,n))\n",
    "    print(\"    safe error: %4d\" % safe_error)\n",
    "    print(\"critical error: %4d\" % critical_error)\n"
   ]
  },
  {
   "cell_type": "code",
   "execution_count": 5,
   "metadata": {},
   "outputs": [
    {
     "name": "stdout",
     "output_type": "stream",
     "text": [
      "       correct:  274/ 300\n",
      "    safe error:    5\n",
      "critical error:   21\n"
     ]
    }
   ],
   "source": [
    "show_correct_error(A, b, w)"
   ]
  },
  {
   "cell_type": "code",
   "execution_count": 6,
   "metadata": {},
   "outputs": [
    {
     "name": "stdout",
     "output_type": "stream",
     "text": [
      "       correct:  240/ 260\n",
      "    safe error:   10\n",
      "critical error:   10\n"
     ]
    }
   ],
   "source": [
    "tmp = np.fromfile('./codes/validate_A.data', np.float64, -1, \" \")\n",
    "A = tmp.reshape(260,30)\n",
    "tmp = np.fromfile('./codes/validate_b.data', np.float64, -1, \" \")\n",
    "b = tmp.reshape(260,1)\n",
    "\n",
    "show_correct_error(A, b, w)"
   ]
  },
  {
   "cell_type": "code",
   "execution_count": null,
   "metadata": {
    "collapsed": true
   },
   "outputs": [],
   "source": []
  },
  {
   "cell_type": "code",
   "execution_count": null,
   "metadata": {
    "collapsed": true
   },
   "outputs": [],
   "source": []
  }
 ],
 "metadata": {
  "kernelspec": {
   "display_name": "Python 3",
   "language": "python",
   "name": "python3"
  },
  "language_info": {
   "codemirror_mode": {
    "name": "ipython",
    "version": 3
   },
   "file_extension": ".py",
   "mimetype": "text/x-python",
   "name": "python",
   "nbconvert_exporter": "python",
   "pygments_lexer": "ipython3",
   "version": "3.6.1"
  },
  "latex_envs": {
   "LaTeX_envs_menu_present": true,
   "autocomplete": true,
   "bibliofile": "biblio.bib",
   "cite_by": "apalike",
   "current_citInitial": 1,
   "eqLabelWithNumbers": true,
   "eqNumInitial": 1,
   "hotkeys": {
    "equation": "Ctrl-E",
    "itemize": "Ctrl-I"
   },
   "labels_anchors": false,
   "latex_user_defs": false,
   "report_style_numbering": false,
   "user_envs_cfg": false
  },
  "toc": {
   "colors": {
    "hover_highlight": "#DAA520",
    "navigate_num": "#000000",
    "navigate_text": "#333333",
    "running_highlight": "#FF0000",
    "selected_highlight": "#FFD700",
    "sidebar_border": "#EEEEEE",
    "wrapper_background": "#FFFFFF"
   },
   "moveMenuLeft": true,
   "nav_menu": {
    "height": "12px",
    "width": "252px"
   },
   "navigate_menu": true,
   "number_sections": true,
   "sideBar": true,
   "threshold": 4,
   "toc_cell": true,
   "toc_section_display": "block",
   "toc_window_display": true,
   "widenNotebook": false
  }
 },
 "nbformat": 4,
 "nbformat_minor": 2
}
