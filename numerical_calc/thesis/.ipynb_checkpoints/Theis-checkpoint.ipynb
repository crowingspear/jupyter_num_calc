{
 "cells": [
  {
   "cell_type": "markdown",
   "metadata": {},
   "source": [
    "卒業論文\n",
    "\n",
    "物理現象視覚化ソフトのライブラリ構築\n",
    "\n",
    "関西学院大学理工学部\n",
    "\n",
    "情報科学科西谷研究室\n",
    "\n",
    "1536 榊原　健\n",
    "\n",
    "2015 年3 月"
   ]
  },
  {
   "cell_type": "markdown",
   "metadata": {},
   "source": [
    "概要"
   ]
  },
  {
   "cell_type": "markdown",
   "metadata": {},
   "source": [
    "物理現象を数式だけから理解するのは非常に困難である．例えば，粒子の運動を解析する\n",
    "分子動力学法(MD) では，ニュートンの運動方程式に従って粒子の運動を数値的に決定し\n",
    "ていく．しかし，数値を直接追いかけるだけでは，直感的な理解が得られない．この際，\n",
    "実際に粒子の運動を視覚化することによって直感的な理解を深め，学習を促進することが\n",
    "できると考えられる．本研究ではWeb 上でInteractive な操作が可能で，MDの深い理解\n",
    "の助けとなるツールの作成を目的とする．今回は，Processing 言語を用いて，MDにおけ\n",
    "る粒子の運動を操作・視覚化するプログラムを作成した．また，Web 上で動作させるた\n",
    "めに，作成したプログラムをJavaScript 言語に変換した．JavaScript は動的なWeb サイ\n",
    "ト構築に有効な言語の一つである．視覚表示を容易に実現するProcessing 言語において\n",
    "は，JavaScript 言語への自動変換が組み込まれおり，Processing 言語で作成したプログラ\n",
    "ムを，ブラウザ上で動作させることができる．この自動変換には問題点があり，それらの\n",
    "洗い出しと解決策を検討した．プログラムを作成した結果，クラスタや凝固による粒子の\n",
    "振る舞いを確認することができるようになった．また，ブラウザ上でInteractive な操作\n",
    "が可能なため手軽に扱うことができ，今後の学習教材としても有効なものとなった．そし\n",
    "て，ライブラリとしてプログラムの解説を行う事によって今後の継続的な発展に繋がるよ\n",
    "うにした．"
   ]
  },
  {
   "cell_type": "markdown",
   "metadata": {},
   "source": [
    "# 第1章　序論"
   ]
  },
  {
   "cell_type": "markdown",
   "metadata": {},
   "source": [
    "原子レベルの物理現象を数式だけから理解するのは非常に困難である．例えば，粒子の\n",
    "動きを解析する分子動力学法では，ニュートンの運動方程式に従い粒子の運動を決定する．\n",
    "それらは，数値の羅列で表され直感的な理解が得られない．学習において自分の頭の中で\n",
    "イメージを作ることは重要であり，理解を助長することができると考えられる．そこで，\n",
    "本研究ではグラフィック機能に特化したProcessing を用いて分子動力学法での粒子の振る\n",
    "舞いの視覚化を行い，Interactive な操作が可能なプログラムを作成する．また，それらを\n",
    "手軽に扱えるようにWeb ブラウザ上で動作可能なJavaScript への変換を行う．JavaScript\n",
    "への変換はProcessing 上で行う事ができるがそれには問題点があり，それらの洗い出し\n",
    "と解決策を検討する．さらに，作成したプログラムをライブラリ化し，解説を行うことで\n",
    "今後の継続的な発展に繋がると考えられる．"
   ]
  },
  {
   "cell_type": "markdown",
   "metadata": {},
   "source": [
    "# 第2章　物理的背景"
   ]
  },
  {
   "cell_type": "markdown",
   "metadata": {},
   "source": [
    "## 分子動力学法"
   ]
  },
  {
   "cell_type": "markdown",
   "metadata": {},
   "source": [
    "分子動力学法は運動方程式を解く事によって，粒子の振る舞いを解析する手法である\n",
    "[1]．ニュートンの運動方程式はエネルギー保存則を満たすため，エネルギーが保存される\n",
    "集団において用いられる．"
   ]
  },
  {
   "cell_type": "markdown",
   "metadata": {},
   "source": [
    "### Verlet 法"
   ]
  },
  {
   "cell_type": "markdown",
   "metadata": {},
   "source": [
    "Verlet 法は分子動力学法における粒子の座標を逐次的に求める方法であり，式(2.1) の\n",
    "ように表される．\n",
    "$$ r(t + h) = 2r(t) 􀀀 r(t 􀀀 h) +h2mf(t) $$\n",
    "\n",
    "ここで，r(t) は時刻t における粒子の座標，f(t) は時刻t における粒子に加わっている力，\n",
    "h は微小時間，mは粒子の質量を表している．式(2.1) は，時刻t における粒子の座標，時\n",
    "刻t 􀀀 h における粒子の座標，時刻t における粒子に加わっている力，粒子の質量の4 つ\n",
    "の要素から，時刻t + h における粒子の座標が求まることを表している．粒子に加わって\n",
    "いる力を常に決定することができれば，Verlet 法を継続的に用いることが可能であり，逐\n",
    "次的に粒子の座標を決定し続けることができる．また，粒子を動かすために速度が必要そ\n",
    "うだが，この手法では速度を必要としないという特徴がある．この手法はニュートンの運\n",
    "動方程式から導出されるため，エネルギーが保存される系で有効である．"
   ]
  },
  {
   "cell_type": "markdown",
   "metadata": {},
   "source": [
    "### 導出"
   ]
  },
  {
   "cell_type": "markdown",
   "metadata": {},
   "source": [
    "時刻t + h における粒子の座標r(t + h) にテイラー展開を行うと式(2.2) ができる．\n",
    "\n",
    "以下省略"
   ]
  },
  {
   "cell_type": "markdown",
   "metadata": {},
   "source": [
    "# 第3章　視覚化"
   ]
  },
  {
   "cell_type": "markdown",
   "metadata": {},
   "source": [
    "物理現象を数式から理解するのは困難である．視覚化を行うことによって理解の促進に\n",
    "繋がると考えられる．本章では視覚化に用いるプログラミング言語について記述する．"
   ]
  },
  {
   "cell_type": "markdown",
   "metadata": {},
   "source": [
    "## Processing"
   ]
  },
  {
   "cell_type": "markdown",
   "metadata": {},
   "source": [
    "Processing はグラフィック機能に特化したオープンソースのプログラミング言語である．\n",
    "文法はJava によく似ており，デフォルトでスケッチブックが用意されていて容易に図の\n",
    "描画を行う事ができる．また，Processing にはJavaScript への自動変換機能が備わってい\n",
    "て，Processing で作成したプログラムをWeb 上で動作させる事が可能になる．この自動\n",
    "変換には問題点があり本研究で明らかになったものは3.3 節に記す．"
   ]
  },
  {
   "cell_type": "markdown",
   "metadata": {},
   "source": [
    "## JavaScript"
   ]
  },
  {
   "cell_type": "markdown",
   "metadata": {},
   "source": [
    "JavaScript は動的なWeb ページを作成するために開発されたプログラミング言語であ\n",
    "る．Java と名前が似ているが両者は全く別のものである．HTML 内にJavaScript のプロ\n",
    "グラムを埋め込むことにより，Web 上でそのプログラムを動かすことが可能である．"
   ]
  },
  {
   "cell_type": "markdown",
   "metadata": {},
   "source": [
    "## 変換の問題点"
   ]
  },
  {
   "cell_type": "markdown",
   "metadata": {},
   "source": [
    "本研究で明らかになったProcessing からJavaScript への変換により生じる問題点を以\n",
    "下に記す．"
   ]
  },
  {
   "cell_type": "markdown",
   "metadata": {},
   "source": [
    "以下省略"
   ]
  },
  {
   "cell_type": "markdown",
   "metadata": {},
   "source": [
    "# 第4章　結果"
   ]
  },
  {
   "cell_type": "markdown",
   "metadata": {},
   "source": [
    "本章では，分子動力学法を用い粒子の振る舞いをシミュレーションし視覚化するプログ\n",
    "ラムの実行結果を記述する．"
   ]
  },
  {
   "cell_type": "markdown",
   "metadata": {},
   "source": [
    "## 作成したプログラム"
   ]
  },
  {
   "cell_type": "markdown",
   "metadata": {},
   "source": [
    "図4.1 は本研究で作成したVerlet 法とLennard-Jones ポテンシャルを用いて粒子の振る\n",
    "舞いをシミュレーションし，視覚化を行うプログラムである．Processing で作成している\n",
    "が，JavaScript へ変換する事によってWeb ブラウザ上で動作させる事が可能である．左\n",
    "の枠内に複数の粒子モデルが描画され，それらが枠内を動き回る．また，粒子の色を速度\n",
    "によって青から赤に変化させてエネルギーの推移をわかりやすくし，マウスカーソルで粒\n",
    "子をクリックしドラッグする事によって好きな方向に力を加える事ができる．右側には2\n",
    "本のスライダーがあり，粒子の数とVerlet 法の時間刻みを調整できる．キー入力により\n",
    "状態を変更することができ，S キーで凝固状態，F キーで粒子に加わる力を視覚化した状\n",
    "態，R キーで粒子のリセットを行うことができる．"
   ]
  },
  {
   "cell_type": "markdown",
   "metadata": {},
   "source": [
    "# 第5章　総括"
   ]
  },
  {
   "cell_type": "markdown",
   "metadata": {},
   "source": [
    "本研究では，Web ブラウザ上でInteractive に操作可能な，分子動力学法による粒子の\n",
    "振る舞いを視覚化するプログラムを作成した．このプログラムによる成果を以下に記す．"
   ]
  },
  {
   "cell_type": "markdown",
   "metadata": {},
   "source": [
    "1. 分子動力学法による粒子の動きをシミュレーションし視覚化することによって，ク\n",
    "ラスタや凝固などの現象を視認することができ直感的な理解が可能となった．また，\n",
    "粒子をマウスで操作できるため，自分の好きなようにシミュレーションでき理解の\n",
    "向上に繋がると考えられる．"
   ]
  },
  {
   "cell_type": "markdown",
   "metadata": {},
   "source": [
    "2. プログラムのJavaScript 化を行いWeb ブラウザ上で動作が可能になり容易に公開，\n",
    "利用することができる．そのため，分子動力学法を学習する者が手軽に扱うことが\n",
    "でき，学習意欲，効率の向上に繋がると考えられる．"
   ]
  },
  {
   "cell_type": "markdown",
   "metadata": {},
   "source": [
    "3. 作成したプログラムをライブラリとして保存しプログラムの解説を行うことで，プ\n",
    "ログラムの継続的な発展を可能にした．また，今後シミュレーションプログラムを\n",
    "作成する際に今回のプログラムをライブラリとして利用し効率よく作成する事が可\n",
    "能である．"
   ]
  },
  {
   "cell_type": "code",
   "execution_count": null,
   "metadata": {},
   "outputs": [],
   "source": []
  }
 ],
 "metadata": {
  "kernelspec": {
   "display_name": "Ruby 2.4.1",
   "language": "ruby",
   "name": "ruby"
  },
  "language_info": {
   "file_extension": ".rb",
   "mimetype": "application/x-ruby",
   "name": "ruby",
   "version": "2.4.2"
  },
  "toc": {
   "nav_menu": {},
   "number_sections": true,
   "sideBar": true,
   "skip_h1_title": false,
   "toc_cell": false,
   "toc_position": {
    "height": "606px",
    "left": "0px",
    "right": "1070px",
    "top": "110px",
    "width": "210px"
   },
   "toc_section_display": "block",
   "toc_window_display": true
  }
 },
 "nbformat": 4,
 "nbformat_minor": 2
}
