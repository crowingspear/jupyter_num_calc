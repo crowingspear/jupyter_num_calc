{
 "cells": [
  {
   "cell_type": "markdown",
   "metadata": {
    "toc": "true"
   },
   "source": [
    "# Table of Contents\n",
    " <p><div class=\"lev1 toc-item\"><a href=\"#数値計算\" data-toc-modified-id=\"数値計算-1\"><span class=\"toc-item-num\">1&nbsp;&nbsp;</span>数値計算</a></div><div class=\"lev1 toc-item\"><a href=\"#目次\" data-toc-modified-id=\"目次-2\"><span class=\"toc-item-num\">2&nbsp;&nbsp;</span>目次</a></div>"
   ]
  },
  {
   "cell_type": "markdown",
   "metadata": {},
   "source": [
    "# 数値計算\n",
    "\n",
    "* mapleで作っていたテキストをpythonに書き換えてみた．\n",
    "* rubyのほうがやりたいけど．．．\n",
    "* emacs keybindが使えるぜ．\n",
    "* [hikiのformatからの変換コードと手順](md_ipynb_conv/md_to_ipynb.ipynb)"
   ]
  },
  {
   "cell_type": "markdown",
   "metadata": {},
   "source": [
    "# 目次\n",
    "* [fsolve](./fsolve.ipynb)\n",
    "* [error](./error.ipynb)\n",
    "* [LA fundamentals](./la_fundamentals.ipynb)\n",
    "  * [LA fundamentals](./la_fundamentals_ex1.ipynb)\n",
    "* [LA matrix inverse](./la_matrix_inverse.ipynb)\n",
    "* [LA eigenvectors](./la_eigen_vectors.ipynb)\n",
    "  * [LA speed race](./la_speed_race.ipynb)\n",
    "* [least square fit](./least_square_fit.ipynb)\n",
    "  * [breast cancer detector](breast_cancer_detetor/python.ipynb)\n",
    "* [Interpolation and integrations](./interpolation_integral.ipynb)\n",
    "* [nonlinear fit](./nonlinear_fit.ipynb)\n",
    "* [fft](./fft.ipynb)\n",
    "\n"
   ]
  },
  {
   "cell_type": "code",
   "execution_count": null,
   "metadata": {
    "collapsed": true
   },
   "outputs": [],
   "source": []
  }
 ],
 "metadata": {
  "kernelspec": {
   "display_name": "Ruby 2.2.2",
   "language": "ruby",
   "name": "ruby"
  },
  "language_info": {
   "file_extension": ".rb",
   "mimetype": "application/x-ruby",
   "name": "ruby",
   "version": "2.2.2"
  },
  "latex_envs": {
   "LaTeX_envs_menu_present": true,
   "autocomplete": true,
   "bibliofile": "biblio.bib",
   "cite_by": "apalike",
   "current_citInitial": 1,
   "eqLabelWithNumbers": true,
   "eqNumInitial": 1,
   "hotkeys": {
    "equation": "Ctrl-E",
    "itemize": "Ctrl-I"
   },
   "labels_anchors": false,
   "latex_user_defs": false,
   "report_style_numbering": false,
   "user_envs_cfg": false
  },
  "toc": {
   "colors": {
    "hover_highlight": "#DAA520",
    "navigate_num": "#000000",
    "navigate_text": "#333333",
    "running_highlight": "#FF0000",
    "selected_highlight": "#FFD700",
    "sidebar_border": "#EEEEEE",
    "wrapper_background": "#FFFFFF"
   },
   "moveMenuLeft": true,
   "nav_menu": {
    "height": "12px",
    "width": "252px"
   },
   "navigate_menu": true,
   "number_sections": true,
   "sideBar": true,
   "threshold": 4,
   "toc_cell": true,
   "toc_section_display": "block",
   "toc_window_display": true,
   "widenNotebook": false
  }
 },
 "nbformat": 4,
 "nbformat_minor": 2
}
