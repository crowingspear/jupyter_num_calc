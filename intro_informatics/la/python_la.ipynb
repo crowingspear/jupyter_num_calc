{
 "cells": [
  {
   "cell_type": "markdown",
   "metadata": {
    "slideshow": {
     "slide_type": "slide"
    }
   },
   "source": [
    "<div style=\"text-align: center;\">\n",
    "  <font size=\"5\">線形代数の使いどころ</font>\n",
    "</div>\n",
    "<div style=\"text-align: right;\">\n",
    "  <font size=\"3\">cc by Shigeto R. Nishitani</font>\n",
    "</div>\n",
    "\n"
   ]
  },
  {
   "cell_type": "markdown",
   "metadata": {
    "heading_collapsed": true,
    "slideshow": {
     "slide_type": "slide"
    },
    "toc": "true"
   },
   "source": [
    "# Table of Contents\n",
    " <p><div class=\"lev1 toc-item\"><a href=\"#線形代数\" data-toc-modified-id=\"線形代数-1\"><span class=\"toc-item-num\">1&nbsp;&nbsp;</span>線形代数</a></div><div class=\"lev1 toc-item\"><a href=\"#エラー訂正符号\" data-toc-modified-id=\"エラー訂正符号-2\"><span class=\"toc-item-num\">2&nbsp;&nbsp;</span>エラー訂正符号</a></div><div class=\"lev2 toc-item\"><a href=\"#チェック行列\" data-toc-modified-id=\"チェック行列-21\"><span class=\"toc-item-num\">2.1&nbsp;&nbsp;</span>チェック行列</a></div><div class=\"lev2 toc-item\"><a href=\"#エラー検出の原理\" data-toc-modified-id=\"エラー検出の原理-22\"><span class=\"toc-item-num\">2.2&nbsp;&nbsp;</span>エラー検出の原理</a></div><div class=\"lev2 toc-item\"><a href=\"#Hammingの生成行列(generator-matrix)\" data-toc-modified-id=\"Hammingの生成行列(generator-matrix)-23\"><span class=\"toc-item-num\">2.3&nbsp;&nbsp;</span>Hammingの生成行列(generator matrix)</a></div><div class=\"lev2 toc-item\"><a href=\"#GF(2)\" data-toc-modified-id=\"GF(2)-24\"><span class=\"toc-item-num\">2.4&nbsp;&nbsp;</span>GF(2)</a></div><div class=\"lev1 toc-item\"><a href=\"#Deep-Learning\" data-toc-modified-id=\"Deep-Learning-3\"><span class=\"toc-item-num\">3&nbsp;&nbsp;</span>Deep Learning</a></div><div class=\"lev2 toc-item\"><a href=\"#手書き数字認識(MNIST)\" data-toc-modified-id=\"手書き数字認識(MNIST)-31\"><span class=\"toc-item-num\">3.1&nbsp;&nbsp;</span>手書き数字認識(MNIST)</a></div><div class=\"lev2 toc-item\"><a href=\"#load_mnist\" data-toc-modified-id=\"load_mnist-32\"><span class=\"toc-item-num\">3.2&nbsp;&nbsp;</span>load_mnist</a></div><div class=\"lev2 toc-item\"><a href=\"#neuralnet_mnist\" data-toc-modified-id=\"neuralnet_mnist-33\"><span class=\"toc-item-num\">3.3&nbsp;&nbsp;</span>neuralnet_mnist</a></div>"
   ]
  },
  {
   "cell_type": "markdown",
   "metadata": {
    "hidden": true
   },
   "source": [
    "<div style=\"text-align: center;\">\n",
    "  <font size=\"5\">線形代数の使いどころ</font>\n",
    "</div>\n",
    "<div style=\"text-align: right;\">\n",
    "  <font size=\"3\">cc by Shigeto R. Nishitani</font>\n",
    "</div>\n",
    "\n"
   ]
  },
  {
   "cell_type": "markdown",
   "metadata": {},
   "source": [
    "# 線形代数\n",
    "\n",
    "この頃大学でしかやらない数学の領域の代表例が線形代数です．情報科学の多くの領域で，線形代数はその基本となる概念を提供してくれます．線形代数の概念が身につくと問題の見通しがよくなるんです．\n",
    "\n",
    "講義の内容としては，\n",
    "* 応用\n",
    "* 計算アルゴリズム\n",
    "* 概念\n",
    "\n",
    "というのが必要なのですが，ここでは，「応用例」と「\n",
    "概念を視覚化」する様子を紹介します．\n",
    "\n",
    "はじめに，エラー訂正符号の計算をして見ましょう．"
   ]
  },
  {
   "cell_type": "markdown",
   "metadata": {},
   "source": [
    "# エラー訂正符号\n",
    "## チェック行列\n",
    "\n",
    "次の計算をしてみてください．\n",
    "$$\n",
    "\\begin{align}\n",
    "H & = \n",
    "\\left(\\begin{matrix}0 & 0 & 0 & 1 & 1 & 1 & 1\\\\0 & 1 & 1 & 0 & 0 & 1 & 1\\\\1 & 0 & 1 & 0 & 1 & 0 & 1\\end{matrix}\\right)\n",
    "\\\\\n",
    "v_1 & = \\left( \\begin{matrix}0\\\\0\\\\1\\\\0\\\\0\\\\0\\\\0\\end{matrix}\\right)\n",
    "\\\\\n",
    "H.v_1 = ?\n",
    "\\end{align}\n",
    "$$\n"
   ]
  },
  {
   "cell_type": "code",
   "execution_count": 1,
   "metadata": {},
   "outputs": [
    {
     "data": {
      "image/png": "[encoded data removed]",
      "text/latex": [
       "$$\\left[\\begin{matrix}0 & 0 & 0 & 1 & 1 & 1 & 1\\\\0 & 1 & 1 & 0 & 0 & 1 & 1\\\\1 & 0 & 1 & 0 & 1 & 0 & 1\\end{matrix}\\right]$$"
      ],
      "text/plain": [
       "⎡0  0  0  1  1  1  1⎤\n",
       "⎢                   ⎥\n",
       "⎢0  1  1  0  0  1  1⎥\n",
       "⎢                   ⎥\n",
       "⎣1  0  1  0  1  0  1⎦"
      ]
     },
     "execution_count": 1,
     "metadata": {},
     "output_type": "execute_result"
    }
   ],
   "source": [
    "from sympy import *\n",
    "init_printing()\n",
    "\n",
    "H=Matrix([[0,0,0,1,1,1,1],[0,1,1,0,0,1,1],[1,0,1,0,1,0,1]])\n",
    "H"
   ]
  },
  {
   "cell_type": "code",
   "execution_count": 2,
   "metadata": {},
   "outputs": [
    {
     "data": {
      "image/png": "[encoded data removed]",
      "text/latex": [
       "$$\\left[\\begin{matrix}0\\\\0\\\\1\\\\0\\\\0\\\\0\\\\0\\end{matrix}\\right]$$"
      ],
      "text/plain": [
       "⎡0⎤\n",
       "⎢ ⎥\n",
       "⎢0⎥\n",
       "⎢ ⎥\n",
       "⎢1⎥\n",
       "⎢ ⎥\n",
       "⎢0⎥\n",
       "⎢ ⎥\n",
       "⎢0⎥\n",
       "⎢ ⎥\n",
       "⎢0⎥\n",
       "⎢ ⎥\n",
       "⎣0⎦"
      ]
     },
     "execution_count": 2,
     "metadata": {},
     "output_type": "execute_result"
    }
   ],
   "source": [
    "v_e=Matrix([0,0,1,0,0,0,0])\n",
    "v_e"
   ]
  },
  {
   "cell_type": "code",
   "execution_count": 3,
   "metadata": {},
   "outputs": [
    {
     "data": {
      "image/png": "[encoded data removed]",
      "text/latex": [
       "$$\\left [ 0, \\quad 1, \\quad 1\\right ]$$"
      ],
      "text/plain": [
       "[0, 1, 1]"
      ]
     },
     "execution_count": 3,
     "metadata": {},
     "output_type": "execute_result"
    }
   ],
   "source": [
    "H.dot(v_e)"
   ]
  },
  {
   "cell_type": "markdown",
   "metadata": {},
   "source": [
    "## エラー検出の原理\n",
    "\n",
    "これはハミングが見つけた，エラーを見つけるチェック行列と呼ばれています．\n",
    "\n",
    "例えばAからBへコードワード$v_{code}$を送った時に，仮に一箇所エラー$v_{error}$が入ったとします．Bが受け取る信号$v_{signal}$は\n",
    "$\n",
    "v_{signal} = v_{code} + v_{error}\n",
    "$\n",
    "となるわけですが，これを$H$に通すと自動的にその場所を特定してくれるわけです．\n",
    "\n",
    "その条件は\n",
    "> もし，$H.v_{code}=0$ならば\n",
    "\n",
    "です．\n"
   ]
  },
  {
   "cell_type": "markdown",
   "metadata": {},
   "source": [
    "## Hammingの生成行列(generator matrix)\n",
    "$H.v_{code}=0$となる$v_{code}$(コードワードと呼ばれます)を生成するHammingの生成行列(generator matrix)は\n",
    "$$\n",
    "G= \\left(\\begin{matrix}1 & 0 & 1 & 1\\\\1 & 1 & 0 & 1\\\\0 & 0 & 0 & 1\\\\1 & 1 & 1 & 0\\\\0 & 0 & 1 & 0\\\\0 & 1 & 0 & 0\\\\1 & 0 & 0 & 0\\end{matrix}\\right)\n",
    "$$\n",
    "\n",
    "です．例えば，送りたい信号\n",
    "$v_{orig}=[1,0,0,1]$だとすると，\n",
    "これを$G$に通して出てきたコードワード$v_{code}$を\n",
    "さらに$H$に通すと零ベクトルとなります．\n",
    "\n",
    "このようにある行列に作用させた時に零ベクトルとなる\n",
    "ベクトルの作る空間をヌルスペース(null space)と呼びます．"
   ]
  },
  {
   "cell_type": "code",
   "execution_count": 4,
   "metadata": {},
   "outputs": [
    {
     "data": {
      "image/png": "[encoded data removed]",
      "text/latex": [
       "$$\\left[\\begin{matrix}1 & 0 & 1 & 1\\\\1 & 1 & 0 & 1\\\\0 & 0 & 0 & 1\\\\1 & 1 & 1 & 0\\\\0 & 0 & 1 & 0\\\\0 & 1 & 0 & 0\\\\1 & 0 & 0 & 0\\end{matrix}\\right]$$"
      ],
      "text/plain": [
       "⎡1  0  1  1⎤\n",
       "⎢          ⎥\n",
       "⎢1  1  0  1⎥\n",
       "⎢          ⎥\n",
       "⎢0  0  0  1⎥\n",
       "⎢          ⎥\n",
       "⎢1  1  1  0⎥\n",
       "⎢          ⎥\n",
       "⎢0  0  1  0⎥\n",
       "⎢          ⎥\n",
       "⎢0  1  0  0⎥\n",
       "⎢          ⎥\n",
       "⎣1  0  0  0⎦"
      ]
     },
     "execution_count": 4,
     "metadata": {},
     "output_type": "execute_result"
    }
   ],
   "source": [
    "G=Matrix([[1,0,1,1],\n",
    "[1,1,0,1],\n",
    "[0,0,0,1],\n",
    "[1,1,1,0],\n",
    "[0,0,1,0],\n",
    "[0,1,0,0],\n",
    "[1,0,0,0]])\n",
    "G"
   ]
  },
  {
   "cell_type": "code",
   "execution_count": 5,
   "metadata": {},
   "outputs": [
    {
     "data": {
      "image/png": "[encoded data removed]",
      "text/latex": [
       "$$\\left[\\begin{matrix}1\\\\0\\\\0\\\\1\\end{matrix}\\right]$$"
      ],
      "text/plain": [
       "⎡1⎤\n",
       "⎢ ⎥\n",
       "⎢0⎥\n",
       "⎢ ⎥\n",
       "⎢0⎥\n",
       "⎢ ⎥\n",
       "⎣1⎦"
      ]
     },
     "execution_count": 5,
     "metadata": {},
     "output_type": "execute_result"
    }
   ],
   "source": [
    "v_1 = Matrix([1,0,0,1])\n",
    "v_1"
   ]
  },
  {
   "cell_type": "code",
   "execution_count": 6,
   "metadata": {},
   "outputs": [
    {
     "data": {
      "image/png": "[encoded data removed]",
      "text/latex": [
       "$$\\left [ 2, \\quad 2, \\quad 1, \\quad 1, \\quad 0, \\quad 0, \\quad 1\\right ]$$"
      ],
      "text/plain": [
       "[2, 2, 1, 1, 0, 0, 1]"
      ]
     },
     "execution_count": 6,
     "metadata": {},
     "output_type": "execute_result"
    }
   ],
   "source": [
    "G.dot(v_1)"
   ]
  },
  {
   "cell_type": "code",
   "execution_count": 7,
   "metadata": {},
   "outputs": [
    {
     "data": {
      "image/png": "[encoded data removed]",
      "text/latex": [
       "$$\\left[\\begin{matrix}2\\\\2\\\\1\\\\1\\\\0\\\\0\\\\1\\end{matrix}\\right]$$"
      ],
      "text/plain": [
       "⎡2⎤\n",
       "⎢ ⎥\n",
       "⎢2⎥\n",
       "⎢ ⎥\n",
       "⎢1⎥\n",
       "⎢ ⎥\n",
       "⎢1⎥\n",
       "⎢ ⎥\n",
       "⎢0⎥\n",
       "⎢ ⎥\n",
       "⎢0⎥\n",
       "⎢ ⎥\n",
       "⎣1⎦"
      ]
     },
     "execution_count": 7,
     "metadata": {},
     "output_type": "execute_result"
    }
   ],
   "source": [
    "Matrix([2,2,1,1,0,0,1])"
   ]
  },
  {
   "cell_type": "code",
   "execution_count": 8,
   "metadata": {},
   "outputs": [
    {
     "data": {
      "image/png": "[encoded data removed]",
      "text/latex": [
       "$$\\left [ 2, \\quad 2, \\quad 2\\right ]$$"
      ],
      "text/plain": [
       "[2, 2, 2]"
      ]
     },
     "execution_count": 8,
     "metadata": {},
     "output_type": "execute_result"
    }
   ],
   "source": [
    "H.dot(Matrix([0,0,1,1,0,0,1]))"
   ]
  },
  {
   "cell_type": "markdown",
   "metadata": {},
   "source": [
    "## GF(2)\n",
    "おっと，一つ計算上のルールを忘れていました．\n",
    "ここの計算では$GF(2)$上の算術とします．\n",
    "$GF(2)$での算術をまとめると\n",
    "\n",
    "|$\\times$|0|1|\n",
    "|:----:|:---:|:---:|\n",
    "|0| 0| 0|\n",
    "|1| 0| 1|\n",
    "\n",
    "|$+$|0|1|\n",
    "|:----:|:---:|:---:|\n",
    "|0| 0| 1|\n",
    "|1| 1| 0|\n",
    "\n",
    "となります．要素は0と1だけの体です．\n",
    "GF(2)は2元ガロア体(Galois Field 2)の略で，\n",
    "20歳で早世した抽象代数の基礎を築いたGaloisにちなんでいます．\n",
    "\n",
    "なので，上の行列計算で1以上が出た時には，2で割ってそのあまりを考えることになります．"
   ]
  },
  {
   "cell_type": "markdown",
   "metadata": {},
   "source": [
    "# Deep Learning\n",
    "深層学習という手法によって\n",
    "「AIが目を手に入れた」\n",
    "と評されています．\n",
    "\n",
    "画像認識のトライアルとしてよく例示される手書き数字認識で，deep learningで何をしているかを実感してもらおうと思います．ここでの記述と関数は「ゼロから作るDeep Learning――Pythonで学ぶディープラーニングの理論と実装」斎藤 康毅　著，(Oreilly Japan 2016)によります．\n",
    "\n",
    "## 手書き数字認識(MNIST)\n",
    "\n",
    "[mnist](http://yann.lecun.com/exdb/mnist/)によると，nistが提供していたhand writingのDBとしてspecial database 3とspecial database 1というのがあって，SD-3はCensus Bureauの雇用者からSD-1はJunior high schoolの学生からあつめたもので，そこには認識率におおきな差があったのだって．それらを混ぜ合わせた，training setとtest setとして新たに提供されたのが，mixing NIST's datasetsからこの呼び名がついたって．"
   ]
  },
  {
   "cell_type": "markdown",
   "metadata": {
    "collapsed": true
   },
   "source": [
    "## load_mnist"
   ]
  },
  {
   "cell_type": "code",
   "execution_count": 9,
   "metadata": {},
   "outputs": [
    {
     "name": "stdout",
     "output_type": "stream",
     "text": [
      "(60000, 784)\n"
     ]
    }
   ],
   "source": [
    "import sys, os\n",
    "sys.path.append(os.pardir)\n",
    "from dataset.mnist import load_mnist\n",
    "\n",
    "(x_train, t_train), (x_test, t_test) = \\\n",
    "    load_mnist(flatten=True, normalize=False)\n",
    "\n",
    "print(x_train.shape)"
   ]
  },
  {
   "cell_type": "markdown",
   "metadata": {},
   "source": [
    "本に書いてあるcodeではjupyterで表示しなかったので，\n",
    "http://biopython.seesaa.net/article/451770389.html\n",
    "に従って修正．"
   ]
  },
  {
   "cell_type": "code",
   "execution_count": 11,
   "metadata": {},
   "outputs": [
    {
     "name": "stdout",
     "output_type": "stream",
     "text": [
      "5\n"
     ]
    },
    {
     "data": {
      "image/png": "[encoded data removed]",
      "text/plain": [
       "<matplotlib.figure.Figure at 0x1203e3470>"
      ]
     },
     "metadata": {},
     "output_type": "display_data"
    }
   ],
   "source": [
    "# coding: utf-8\n",
    "%matplotlib inline\n",
    "\n",
    "import sys, os\n",
    "sys.path.append(os.pardir) \n",
    "import numpy as np\n",
    "from dataset.mnist import load_mnist\n",
    "from PIL import Image\n",
    "import matplotlib.pyplot as plt\n",
    "\n",
    "def img_show(img):\n",
    "    pil_img = Image.fromarray(np.uint8(img))\n",
    "    plt.imshow(np.array(pil_img))\n",
    "\n",
    "(x_train, t_train), (x_test, t_test) = load_mnist(flatten=True, normalize=False)\n",
    "\n",
    "for i in [8]:\n",
    "    img = x_test[i]\n",
    "    label = t_test[i]\n",
    "    print(label)\n",
    "    img = img.reshape(28, 28)\n",
    "    plt.imshow(img, cmap='gray')"
   ]
  },
  {
   "cell_type": "markdown",
   "metadata": {},
   "source": [
    "## neuralnet_mnist\n",
    "\n",
    "sample_weight.pklをch03からcpしておく必要あり．\n",
    "\n"
   ]
  },
  {
   "cell_type": "code",
   "execution_count": 12,
   "metadata": {},
   "outputs": [
    {
     "name": "stdout",
     "output_type": "stream",
     "text": [
      "Accuracy:0.9352\n"
     ]
    }
   ],
   "source": [
    "# coding: utf-8\n",
    "import sys, os\n",
    "sys.path.append(os.pardir)  # 親ディレクトリのファイルをインポートするための設定\n",
    "import numpy as np\n",
    "import pickle\n",
    "from dataset.mnist import load_mnist\n",
    "from common.functions import sigmoid, softmax\n",
    "\n",
    "\n",
    "def get_data():\n",
    "    (x_train, t_train), (x_test, t_test) = load_mnist(normalize=True, flatten=True, one_hot_label=False)\n",
    "    return x_test, t_test\n",
    "\n",
    "\n",
    "def init_network():\n",
    "    with open(\"sample_weight.pkl\", 'rb') as f:\n",
    "        network = pickle.load(f)\n",
    "    return network\n",
    "\n",
    "\n",
    "def predict(network, x):\n",
    "    W1, W2, W3 = network['W1'], network['W2'], network['W3']\n",
    "    b1, b2, b3 = network['b1'], network['b2'], network['b3']\n",
    "\n",
    "    a1 = np.dot(x, W1) + b1\n",
    "    z1 = sigmoid(a1)\n",
    "    a2 = np.dot(z1, W2) + b2\n",
    "    z2 = sigmoid(a2)\n",
    "    a3 = np.dot(z2, W3) + b3\n",
    "    y = softmax(a3)\n",
    "\n",
    "    return y\n",
    "\n",
    "\n",
    "x, t = get_data()\n",
    "network = init_network()\n",
    "accuracy_cnt = 0\n",
    "for i in range(len(x)):\n",
    "    y = predict(network, x[i])\n",
    "    p= np.argmax(y) # 最も確率の高い要素のインデックスを取得\n",
    "    if p == t[i]:\n",
    "        accuracy_cnt += 1\n",
    "\n",
    "print(\"Accuracy:\" + str(float(accuracy_cnt) / len(x)))\n",
    "\n"
   ]
  },
  {
   "cell_type": "markdown",
   "metadata": {},
   "source": [
    "何をするかをみるため，最後尾の駆動部を変更している．\n",
    "最初の10データに対して，それぞれ数字の確率と，実際の数字を表示している．\n",
    "\n",
    "例えば，一つ目のデータでは，7の確率が0.9971で，実際の字も7である．\n",
    "\n",
    "predictがやっていることを見ればいいが，単に行列の積を計算しているだけ．それで予測ができるとさ．だから，中間層を表す行列の要素さえただしく決定できればそれでニューラルネットは終わり！！"
   ]
  },
  {
   "cell_type": "code",
   "execution_count": 13,
   "metadata": {},
   "outputs": [
    {
     "name": "stdout",
     "output_type": "stream",
     "text": [
      "No:0, Ans:7\n",
      "Guess ['0.00', '0.00', '0.00', '0.00', '0.00', '0.00', '0.00', '1.00', '0.00', '0.00']\n",
      "No:1, Ans:2\n",
      "Guess ['0.00', '0.00', '0.94', '0.01', '0.00', '0.01', '0.03', '0.00', '0.00', '0.00']\n",
      "No:2, Ans:1\n",
      "Guess ['0.00', '0.99', '0.00', '0.00', '0.00', '0.00', '0.00', '0.00', '0.00', '0.00']\n",
      "No:3, Ans:0\n",
      "Guess ['0.99', '0.00', '0.00', '0.00', '0.00', '0.00', '0.00', '0.00', '0.00', '0.00']\n",
      "No:4, Ans:4\n",
      "Guess ['0.00', '0.00', '0.00', '0.00', '0.95', '0.00', '0.00', '0.01', '0.00', '0.03']\n",
      "No:5, Ans:1\n",
      "Guess ['0.00', '0.99', '0.00', '0.00', '0.00', '0.00', '0.00', '0.00', '0.00', '0.00']\n",
      "No:6, Ans:4\n",
      "Guess ['0.00', '0.00', '0.00', '0.00', '0.97', '0.01', '0.00', '0.00', '0.01', '0.01']\n",
      "No:7, Ans:9\n",
      "Guess ['0.00', '0.00', '0.00', '0.01', '0.02', '0.00', '0.00', '0.01', '0.01', '0.95']\n",
      "No:8, Ans:5\n",
      "Guess ['0.00', '0.00', '0.01', '0.00', '0.03', '0.01', '0.95', '0.00', '0.00', '0.00']\n",
      "No:9, Ans:9\n",
      "Guess ['0.00', '0.00', '0.00', '0.00', '0.04', '0.00', '0.00', '0.04', '0.00', '0.92']\n"
     ]
    }
   ],
   "source": [
    "x, t = get_data()\n",
    "network = init_network()\n",
    "accuracy_cnt = 0\n",
    "for i in range(10):\n",
    "    y = predict(network, x[i])\n",
    "    print(\"No:{}, Ans:{}\".format(i,t[i]))\n",
    "    print(\"Guess\",['{:.2f}'.format(n) for n in y])\n"
   ]
  },
  {
   "cell_type": "code",
   "execution_count": null,
   "metadata": {
    "collapsed": true
   },
   "outputs": [],
   "source": []
  }
 ],
 "metadata": {
  "kernelspec": {
   "display_name": "Python 3",
   "language": "python",
   "name": "python3"
  },
  "language_info": {
   "codemirror_mode": {
    "name": "ipython",
    "version": 3
   },
   "file_extension": ".py",
   "mimetype": "text/x-python",
   "name": "python",
   "nbconvert_exporter": "python",
   "pygments_lexer": "ipython3",
   "version": "3.6.1"
  },
  "latex_envs": {
   "LaTeX_envs_menu_present": true,
   "autocomplete": true,
   "bibliofile": "biblio.bib",
   "cite_by": "apalike",
   "current_citInitial": 1,
   "eqLabelWithNumbers": true,
   "eqNumInitial": 1,
   "hotkeys": {
    "equation": "Ctrl-E",
    "itemize": "Ctrl-I"
   },
   "labels_anchors": false,
   "latex_user_defs": false,
   "report_style_numbering": false,
   "user_envs_cfg": false
  },
  "toc": {
   "colors": {
    "hover_highlight": "#DAA520",
    "navigate_num": "#000000",
    "navigate_text": "#333333",
    "running_highlight": "#FF0000",
    "selected_highlight": "#FFD700",
    "sidebar_border": "#EEEEEE",
    "wrapper_background": "#FFFFFF"
   },
   "moveMenuLeft": true,
   "nav_menu": {
    "height": "12px",
    "width": "252px"
   },
   "navigate_menu": true,
   "number_sections": true,
   "sideBar": true,
   "threshold": 4,
   "toc_cell": true,
   "toc_section_display": "block",
   "toc_window_display": false,
   "widenNotebook": false
  }
 },
 "nbformat": 4,
 "nbformat_minor": 2
}
