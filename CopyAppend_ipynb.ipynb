{
 "cells": [
  {
   "cell_type": "markdown",
   "metadata": {
    "toc": "true"
   },
   "source": [
    "# Table of Contents\n",
    " <p><div class=\"lev1 toc-item\"><a href=\"#copy&amp;pasteの実装\" data-toc-modified-id=\"copy&amp;pasteの実装-1\"><span class=\"toc-item-num\">1&nbsp;&nbsp;</span>copy&amp;pasteの実装</a></div>"
   ]
  },
  {
   "cell_type": "markdown",
   "metadata": {},
   "source": [
    "# copy&pasteの実装\n",
    "\n",
    "ipynbではおなじsessionのなかではcopy&paseができるが，ファイルをまたいだcopy&pasteがないみたい．\n",
    "\n",
    "そこでrubyで実装した．\n",
    "targetsは\n",
    "```\n",
    "src = './numerical_calc/python_ode.ipynb'\n",
    "target = './symbolic_math/cg.ipynb'\n",
    "```\n",
    "\n",
    "1. 最初にjsonにより読み込む\n",
    "1. ipynbは'cells','metadata','nbformat','nbformat_minor'からなるhashであることを確認\n",
    "1. cell内のsourceで#から始めるものを表示\n",
    "1. src_s,src_fとしてその間をcopyに貯める\n",
    "1. targetのcellsの最後に追加．\n",
    "\n",
    "あとは，tmp.ipynbを開いて適当なところにcut&paste.\n",
    "\n"
   ]
  },
  {
   "cell_type": "code",
   "execution_count": 23,
   "metadata": {},
   "outputs": [
    {
     "name": "stdout",
     "output_type": "stream",
     "text": [
      "cells\n",
      "metadata\n",
      "nbformat\n",
      "nbformat_minor\n",
      "source\n",
      "\"# Table of Contents\"\n",
      "\"# Euler法による落下運動\"\n",
      "\"## Euler法\"\n",
      "\"## 空気抵抗がある水滴の落下\"\n",
      "\"# %notebook inline\"\n",
      "\"# 高精度計算\"\n",
      "\"## 2次のRunge-Kuttaの導出\"\n",
      "\"## Runge-Kutta2次公式\"\n",
      "\"## Runge-Kutta4次公式\"\n",
      "\"## 連立方程式にRunge-Kutta4次公式を\"\n",
      "\"# %notebook inline\"\n",
      "\"# RLC回路の応答\"\n",
      "\"# 課題\"\n",
      "\n"
     ]
    }
   ],
   "source": [
    "require 'json'\n",
    "require 'pp'\n",
    "j_src = open('./numerical_calc/python_ode.ipynb'){|file| JSON.load(file)}\n",
    "j_trg = open('./symbolic_math/cg.ipynb'){|file| JSON.load(file)}\n",
    "\n",
    "j_src.each_pair do |key, val|\n",
    "  puts key\n",
    "end\n",
    "print \"source\\n\"\n",
    "j_src['cells'].each do |val|\n",
    "  tmp = val['source'][0].chomp\n",
    "  p tmp if tmp.match(/^#/)\n",
    "end\n",
    "puts"
   ]
  },
  {
   "cell_type": "code",
   "execution_count": 20,
   "metadata": {},
   "outputs": [
    {
     "name": "stdout",
     "output_type": "stream",
     "text": [
      "source\n",
      "true\n",
      "false\n",
      "\n",
      "target\n",
      "\n",
      "modified target?\n",
      "# Table of Contents\n",
      "# CG(ComputerGraphics)\n",
      "## listplot, pointplot \n",
      "## 写像の表示 \n",
      "## 回転写像 \n",
      "## 平行投影図の作成 \n",
      "## 透視図 \n",
      "## Mapleの描画関数の覚書 \n",
      "# 動画(Animation)\n",
      "## matplotlibでanimation\n",
      "## plotの動画\n",
      "## animate関数 \n",
      "## リストに貯めて，display表示 \n",
      "## 凝った例 \n",
      "## ファイルへの保存 \n",
      "## Runge-Kutta4次公式\n",
      "## 連立方程式にRunge-Kutta4次公式を\n",
      "# %notebook inline\n",
      "\n"
     ]
    },
    {
     "data": {
      "text/plain": [
       "#<File:tmp.ipynb (closed)>"
      ]
     },
     "execution_count": 20,
     "metadata": {},
     "output_type": "execute_result"
    }
   ],
   "source": [
    "require 'json'\n",
    "require 'pp'\n",
    "j_src = open('./numerical_calc/python_ode.ipynb'){|i_f| JSON.load(i_f)}\n",
    "j_trg = open('./symbolic_math/cg.ipynb'){|i_f| JSON.load(i_f)}\n",
    "\n",
    "src_s = '## Runge-Kutta4次公式'\n",
    "src_f = '# RLC回路の応答'\n",
    "\n",
    "copy = []\n",
    "on_copy = false\n",
    "j_src['cells'].each do |val|\n",
    "  tmp = val['source'][0].chomp\n",
    "  case tmp\n",
    "  when src_s\n",
    "    on_copy=true\n",
    "  when src_f\n",
    "    on_copy=false\n",
    "  end\n",
    "  copy << val if on_copy\n",
    "end\n",
    "\n",
    "copy.each do |val|\n",
    "  j_trg['cells'] << val\n",
    "end\n",
    "\n",
    "print \"\\nmodified target?\\n\"\n",
    "j_trg['cells'].each do |val|\n",
    "  tmp = val['source'][0].chomp\n",
    "  p tmp if tmp.match(/^#/)\n",
    "end\n",
    "print \"\\n\"\n",
    "open('tmp.ipynb','w'){|o_f| JSON.dump(j_trg, o_f)}"
   ]
  },
  {
   "cell_type": "code",
   "execution_count": null,
   "metadata": {
    "collapsed": true
   },
   "outputs": [],
   "source": []
  }
 ],
 "metadata": {
  "kernelspec": {
   "display_name": "Ruby 2.2.2",
   "language": "ruby",
   "name": "ruby"
  },
  "language_info": {
   "file_extension": ".rb",
   "mimetype": "application/x-ruby",
   "name": "ruby",
   "version": "2.2.2"
  },
  "latex_envs": {
   "LaTeX_envs_menu_present": true,
   "autocomplete": true,
   "bibliofile": "biblio.bib",
   "cite_by": "apalike",
   "current_citInitial": 1,
   "eqLabelWithNumbers": true,
   "eqNumInitial": 1,
   "hotkeys": {
    "equation": "Ctrl-E",
    "itemize": "Ctrl-I"
   },
   "labels_anchors": false,
   "latex_user_defs": false,
   "report_style_numbering": false,
   "user_envs_cfg": false
  },
  "toc": {
   "colors": {
    "hover_highlight": "#DAA520",
    "navigate_num": "#000000",
    "navigate_text": "#333333",
    "running_highlight": "#FF0000",
    "selected_highlight": "#FFD700",
    "sidebar_border": "#EEEEEE",
    "wrapper_background": "#FFFFFF"
   },
   "moveMenuLeft": true,
   "nav_menu": {
    "height": "13px",
    "width": "253px"
   },
   "navigate_menu": true,
   "number_sections": true,
   "sideBar": true,
   "threshold": 4,
   "toc_cell": true,
   "toc_section_display": "block",
   "toc_window_display": false,
   "widenNotebook": false
  }
 },
 "nbformat": 4,
 "nbformat_minor": 2
}
