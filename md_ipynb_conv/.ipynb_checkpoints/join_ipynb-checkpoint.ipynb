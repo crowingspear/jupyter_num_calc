{
 "cells": [
  {
   "cell_type": "markdown",
   "metadata": {
    "toc": "true"
   },
   "source": [
    "# Table of Contents\n",
    " <p><div class=\"lev1 toc-item\"><a href=\"#join_ipynb.rb\" data-toc-modified-id=\"join_ipynb.rb-1\"><span class=\"toc-item-num\">1&nbsp;&nbsp;</span>join_ipynb.rb</a></div>"
   ]
  },
  {
   "cell_type": "markdown",
   "metadata": {},
   "source": [
    "# join_ipynb.rb\n",
    "\n",
    "> ipynb FILE0 FILE2 #join FILE0.ipynb FILE1.ipynb\n",
    "\n",
    "FILE0の内容をFILE1に追加する．逆がいいかも．\n",
    "\n",
    "``` ruby\n",
    "# join_ipynb.rb\n",
    "# join ipynbs \n",
    "\n",
    "require 'pp'\n",
    "require 'json'\n",
    "\n",
    "ipynb0 = JSON.load(File.read(ARGV[0]))\n",
    "ipynb1 = JSON.load(File.read(ARGV[1]))\n",
    "\n",
    "ipynb0[\"cells\"].each do |cell|\n",
    "  pp cell\n",
    "  ipynb1[\"cells\"] << cell\n",
    "end\n",
    "\n",
    "File.open('tmp.ipynb','w') do |target|\n",
    "  JSON.dump(ipynb1,target)\n",
    "end\n",
    "```\n",
    "\n"
   ]
  },
  {
   "cell_type": "code",
   "execution_count": null,
   "metadata": {
    "collapsed": true
   },
   "outputs": [],
   "source": []
  },
  {
   "cell_type": "code",
   "execution_count": null,
   "metadata": {
    "collapsed": true
   },
   "outputs": [],
   "source": []
  }
 ],
 "metadata": {
  "kernelspec": {
   "display_name": "Ruby 2.2.2",
   "language": "ruby",
   "name": "ruby"
  },
  "language_info": {
   "file_extension": ".rb",
   "mimetype": "application/x-ruby",
   "name": "ruby",
   "version": "2.2.2"
  },
  "latex_envs": {
   "LaTeX_envs_menu_present": true,
   "autocomplete": true,
   "bibliofile": "biblio.bib",
   "cite_by": "apalike",
   "current_citInitial": 1,
   "eqLabelWithNumbers": true,
   "eqNumInitial": 1,
   "hotkeys": {
    "equation": "Ctrl-E",
    "itemize": "Ctrl-I"
   },
   "labels_anchors": false,
   "latex_user_defs": false,
   "report_style_numbering": false,
   "user_envs_cfg": false
  },
  "toc": {
   "colors": {
    "hover_highlight": "#DAA520",
    "navigate_num": "#000000",
    "navigate_text": "#333333",
    "running_highlight": "#FF0000",
    "selected_highlight": "#FFD700",
    "sidebar_border": "#EEEEEE",
    "wrapper_background": "#FFFFFF"
   },
   "moveMenuLeft": true,
   "nav_menu": {
    "height": "30px",
    "width": "252px"
   },
   "navigate_menu": true,
   "number_sections": true,
   "sideBar": true,
   "threshold": 4,
   "toc_cell": true,
   "toc_section_display": "block",
   "toc_window_display": true,
   "widenNotebook": false
  }
 },
 "nbformat": 4,
 "nbformat_minor": 2
}
